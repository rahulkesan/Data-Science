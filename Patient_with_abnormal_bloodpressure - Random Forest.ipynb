{
 "cells": [
  {
   "cell_type": "code",
   "execution_count": 1,
   "id": "f1daa8b3",
   "metadata": {},
   "outputs": [],
   "source": [
    "import pandas as pd\n",
    "import numpy as np"
   ]
  },
  {
   "cell_type": "code",
   "execution_count": 3,
   "id": "8ba90148",
   "metadata": {},
   "outputs": [],
   "source": [
    "bp = pd.read_csv(r'C:\\Users\\RahulK\\Downloads\\Machine Learning By Pranjal Sir\\Decision Tree\\Patient_with_abnormal_bloodpressure.csv')"
   ]
  },
  {
   "cell_type": "code",
   "execution_count": 4,
   "id": "0e54f7d3",
   "metadata": {},
   "outputs": [
    {
     "data": {
      "text/html": [
       "<div>\n",
       "<style scoped>\n",
       "    .dataframe tbody tr th:only-of-type {\n",
       "        vertical-align: middle;\n",
       "    }\n",
       "\n",
       "    .dataframe tbody tr th {\n",
       "        vertical-align: top;\n",
       "    }\n",
       "\n",
       "    .dataframe thead th {\n",
       "        text-align: right;\n",
       "    }\n",
       "</style>\n",
       "<table border=\"1\" class=\"dataframe\">\n",
       "  <thead>\n",
       "    <tr style=\"text-align: right;\">\n",
       "      <th></th>\n",
       "      <th>Patient_Number</th>\n",
       "      <th>Blood_Pressure_Abnormality</th>\n",
       "      <th>Level_of_Hemoglobin</th>\n",
       "      <th>Genetic_Pedigree_Coefficient</th>\n",
       "      <th>Age</th>\n",
       "      <th>BMI</th>\n",
       "      <th>Sex</th>\n",
       "      <th>Pregnancy</th>\n",
       "      <th>Smoking</th>\n",
       "      <th>Physical_activity</th>\n",
       "      <th>salt_content_in_the_diet</th>\n",
       "      <th>alcohol_consumption_per_day</th>\n",
       "      <th>Level_of_Stress</th>\n",
       "      <th>Chronic_kidney_disease</th>\n",
       "      <th>Adrenal_and_thyroid_disorders</th>\n",
       "    </tr>\n",
       "  </thead>\n",
       "  <tbody>\n",
       "    <tr>\n",
       "      <th>0</th>\n",
       "      <td>1</td>\n",
       "      <td>1</td>\n",
       "      <td>11.28</td>\n",
       "      <td>0.90</td>\n",
       "      <td>34</td>\n",
       "      <td>23</td>\n",
       "      <td>1</td>\n",
       "      <td>1.0</td>\n",
       "      <td>0</td>\n",
       "      <td>45961</td>\n",
       "      <td>48071</td>\n",
       "      <td>NaN</td>\n",
       "      <td>2</td>\n",
       "      <td>1</td>\n",
       "      <td>1</td>\n",
       "    </tr>\n",
       "    <tr>\n",
       "      <th>1</th>\n",
       "      <td>2</td>\n",
       "      <td>0</td>\n",
       "      <td>9.75</td>\n",
       "      <td>0.23</td>\n",
       "      <td>54</td>\n",
       "      <td>33</td>\n",
       "      <td>1</td>\n",
       "      <td>NaN</td>\n",
       "      <td>0</td>\n",
       "      <td>26106</td>\n",
       "      <td>25333</td>\n",
       "      <td>205.0</td>\n",
       "      <td>3</td>\n",
       "      <td>0</td>\n",
       "      <td>0</td>\n",
       "    </tr>\n",
       "    <tr>\n",
       "      <th>2</th>\n",
       "      <td>3</td>\n",
       "      <td>1</td>\n",
       "      <td>10.79</td>\n",
       "      <td>0.91</td>\n",
       "      <td>70</td>\n",
       "      <td>49</td>\n",
       "      <td>0</td>\n",
       "      <td>NaN</td>\n",
       "      <td>0</td>\n",
       "      <td>9995</td>\n",
       "      <td>29465</td>\n",
       "      <td>67.0</td>\n",
       "      <td>2</td>\n",
       "      <td>1</td>\n",
       "      <td>0</td>\n",
       "    </tr>\n",
       "    <tr>\n",
       "      <th>3</th>\n",
       "      <td>4</td>\n",
       "      <td>0</td>\n",
       "      <td>11.00</td>\n",
       "      <td>0.43</td>\n",
       "      <td>71</td>\n",
       "      <td>50</td>\n",
       "      <td>0</td>\n",
       "      <td>NaN</td>\n",
       "      <td>0</td>\n",
       "      <td>10635</td>\n",
       "      <td>7439</td>\n",
       "      <td>242.0</td>\n",
       "      <td>1</td>\n",
       "      <td>1</td>\n",
       "      <td>0</td>\n",
       "    </tr>\n",
       "    <tr>\n",
       "      <th>4</th>\n",
       "      <td>5</td>\n",
       "      <td>1</td>\n",
       "      <td>14.17</td>\n",
       "      <td>0.83</td>\n",
       "      <td>52</td>\n",
       "      <td>19</td>\n",
       "      <td>0</td>\n",
       "      <td>NaN</td>\n",
       "      <td>0</td>\n",
       "      <td>15619</td>\n",
       "      <td>49644</td>\n",
       "      <td>397.0</td>\n",
       "      <td>2</td>\n",
       "      <td>0</td>\n",
       "      <td>0</td>\n",
       "    </tr>\n",
       "  </tbody>\n",
       "</table>\n",
       "</div>"
      ],
      "text/plain": [
       "   Patient_Number  Blood_Pressure_Abnormality  Level_of_Hemoglobin  \\\n",
       "0               1                           1                11.28   \n",
       "1               2                           0                 9.75   \n",
       "2               3                           1                10.79   \n",
       "3               4                           0                11.00   \n",
       "4               5                           1                14.17   \n",
       "\n",
       "   Genetic_Pedigree_Coefficient  Age  BMI  Sex  Pregnancy  Smoking  \\\n",
       "0                          0.90   34   23    1        1.0        0   \n",
       "1                          0.23   54   33    1        NaN        0   \n",
       "2                          0.91   70   49    0        NaN        0   \n",
       "3                          0.43   71   50    0        NaN        0   \n",
       "4                          0.83   52   19    0        NaN        0   \n",
       "\n",
       "   Physical_activity  salt_content_in_the_diet  alcohol_consumption_per_day  \\\n",
       "0              45961                     48071                          NaN   \n",
       "1              26106                     25333                        205.0   \n",
       "2               9995                     29465                         67.0   \n",
       "3              10635                      7439                        242.0   \n",
       "4              15619                     49644                        397.0   \n",
       "\n",
       "   Level_of_Stress  Chronic_kidney_disease  Adrenal_and_thyroid_disorders  \n",
       "0                2                       1                              1  \n",
       "1                3                       0                              0  \n",
       "2                2                       1                              0  \n",
       "3                1                       1                              0  \n",
       "4                2                       0                              0  "
      ]
     },
     "execution_count": 4,
     "metadata": {},
     "output_type": "execute_result"
    }
   ],
   "source": [
    "bp.head()"
   ]
  },
  {
   "cell_type": "code",
   "execution_count": 5,
   "id": "9d498b3e",
   "metadata": {},
   "outputs": [
    {
     "data": {
      "text/plain": [
       "Patient_Number                      0\n",
       "Blood_Pressure_Abnormality          0\n",
       "Level_of_Hemoglobin                 0\n",
       "Genetic_Pedigree_Coefficient       92\n",
       "Age                                 0\n",
       "BMI                                 0\n",
       "Sex                                 0\n",
       "Pregnancy                        1558\n",
       "Smoking                             0\n",
       "Physical_activity                   0\n",
       "salt_content_in_the_diet            0\n",
       "alcohol_consumption_per_day       242\n",
       "Level_of_Stress                     0\n",
       "Chronic_kidney_disease              0\n",
       "Adrenal_and_thyroid_disorders       0\n",
       "dtype: int64"
      ]
     },
     "execution_count": 5,
     "metadata": {},
     "output_type": "execute_result"
    }
   ],
   "source": [
    "bp.isnull().sum()"
   ]
  },
  {
   "cell_type": "code",
   "execution_count": 6,
   "id": "cf19909a",
   "metadata": {},
   "outputs": [],
   "source": [
    "bp.Genetic_Pedigree_Coefficient.fillna(bp.Genetic_Pedigree_Coefficient.mean(), inplace= True)\n",
    "bp.alcohol_consumption_per_day.fillna(bp.alcohol_consumption_per_day.mean(), inplace= True)"
   ]
  },
  {
   "cell_type": "code",
   "execution_count": 7,
   "id": "ff01c8ea",
   "metadata": {},
   "outputs": [],
   "source": [
    "bp1 = bp"
   ]
  },
  {
   "cell_type": "code",
   "execution_count": 8,
   "id": "da486bf1",
   "metadata": {},
   "outputs": [],
   "source": [
    "bp = bp.drop(['Patient_Number', 'Pregnancy'], axis=1)"
   ]
  },
  {
   "cell_type": "code",
   "execution_count": 9,
   "id": "5a83770c",
   "metadata": {},
   "outputs": [
    {
     "data": {
      "text/plain": [
       "Blood_Pressure_Abnormality       0\n",
       "Level_of_Hemoglobin              0\n",
       "Genetic_Pedigree_Coefficient     0\n",
       "Age                              0\n",
       "BMI                              0\n",
       "Sex                              0\n",
       "Smoking                          0\n",
       "Physical_activity                0\n",
       "salt_content_in_the_diet         0\n",
       "alcohol_consumption_per_day      0\n",
       "Level_of_Stress                  0\n",
       "Chronic_kidney_disease           0\n",
       "Adrenal_and_thyroid_disorders    0\n",
       "dtype: int64"
      ]
     },
     "execution_count": 9,
     "metadata": {},
     "output_type": "execute_result"
    }
   ],
   "source": [
    "bp.isnull().sum()"
   ]
  },
  {
   "cell_type": "code",
   "execution_count": 10,
   "id": "263d8ca1",
   "metadata": {},
   "outputs": [],
   "source": [
    "from sklearn.model_selection import train_test_split"
   ]
  },
  {
   "cell_type": "code",
   "execution_count": 11,
   "id": "71f26d6e",
   "metadata": {},
   "outputs": [],
   "source": [
    "bp_train, bp_test = train_test_split(bp, test_size= .2)"
   ]
  },
  {
   "cell_type": "code",
   "execution_count": 12,
   "id": "1c0478bb",
   "metadata": {},
   "outputs": [],
   "source": [
    "bp_train_x = bp_train.iloc[:, 1::]\n",
    "bp_train_y = bp_train.iloc[:, 0]\n",
    "\n",
    "bp_test_x = bp_test.iloc[:, 1::]\n",
    "bp_test_y = bp_test.iloc[:, 0]"
   ]
  },
  {
   "cell_type": "code",
   "execution_count": 14,
   "id": "99388e73",
   "metadata": {},
   "outputs": [],
   "source": [
    "from sklearn.ensemble import RandomForestClassifier"
   ]
  },
  {
   "cell_type": "code",
   "execution_count": 18,
   "id": "691628d0",
   "metadata": {},
   "outputs": [],
   "source": [
    "from sklearn.metrics import confusion_matrix, accuracy_score, recall_score, precision_score, f1_score"
   ]
  },
  {
   "cell_type": "code",
   "execution_count": 58,
   "id": "37056586",
   "metadata": {},
   "outputs": [],
   "source": [
    "rfc = RandomForestClassifier(n_estimators= 120)"
   ]
  },
  {
   "cell_type": "code",
   "execution_count": 59,
   "id": "34e2d063",
   "metadata": {},
   "outputs": [
    {
     "data": {
      "text/plain": [
       "RandomForestClassifier(n_estimators=120)"
      ]
     },
     "execution_count": 59,
     "metadata": {},
     "output_type": "execute_result"
    }
   ],
   "source": [
    "rfc.fit(bp_train_x, bp_train_y)"
   ]
  },
  {
   "cell_type": "code",
   "execution_count": 60,
   "id": "7d01d0f3",
   "metadata": {},
   "outputs": [],
   "source": [
    "pred_rfc = rfc.predict(bp_test_x)"
   ]
  },
  {
   "cell_type": "code",
   "execution_count": 61,
   "id": "0dcabae1",
   "metadata": {},
   "outputs": [
    {
     "data": {
      "text/plain": [
       "array([[192,  21],\n",
       "       [ 19, 168]], dtype=int64)"
      ]
     },
     "execution_count": 61,
     "metadata": {},
     "output_type": "execute_result"
    }
   ],
   "source": [
    "tab_rfc = confusion_matrix(bp_test_y, pred_rfc)\n",
    "tab_rfc"
   ]
  },
  {
   "cell_type": "code",
   "execution_count": 62,
   "id": "d6990673",
   "metadata": {},
   "outputs": [],
   "source": [
    "Accuracy = accuracy_score(bp_test_y, pred_rfc)\n",
    "Precision = precision_score(bp_test_y, pred_rfc)\n",
    "Recall = recall_score(bp_test_y, pred_rfc)\n",
    "F1_score  = f1_score(bp_test_y, pred_rfc)"
   ]
  },
  {
   "cell_type": "code",
   "execution_count": 63,
   "id": "22b18c61",
   "metadata": {},
   "outputs": [
    {
     "name": "stdout",
     "output_type": "stream",
     "text": [
      "Accuracy -- > 90.0\n",
      "Precision -- > 88.88888888888889\n",
      "Recall -- > 89.83957219251337\n",
      "F1_score -- > 89.36170212765958\n"
     ]
    }
   ],
   "source": [
    "print('Accuracy -- >' , Accuracy*100)\n",
    "print('Precision -- >' , Precision*100)\n",
    "print('Recall -- >' , Recall*100)\n",
    "print('F1_score -- >' , F1_score*100)\n",
    "# From GINI"
   ]
  },
  {
   "cell_type": "code",
   "execution_count": 27,
   "id": "7b483dfa",
   "metadata": {},
   "outputs": [
    {
     "name": "stdout",
     "output_type": "stream",
     "text": [
      "Accuracy -- > 89.25\n",
      "Precision -- > 89.13043478260869\n",
      "Recall -- > 87.70053475935828\n",
      "F1_score -- > 88.40970350404312\n"
     ]
    }
   ],
   "source": [
    "print('Accuracy -- >' , Accuracy*100)\n",
    "print('Precision -- >' , Precision*100)\n",
    "print('Recall -- >' , Recall*100)\n",
    "print('F1_score -- >' , F1_score*100)\n",
    "# From Entropy"
   ]
  },
  {
   "cell_type": "code",
   "execution_count": null,
   "id": "8356f13c",
   "metadata": {},
   "outputs": [],
   "source": [
    "# Hence we will take GINI as it gives better output"
   ]
  }
 ],
 "metadata": {
  "kernelspec": {
   "display_name": "Python 3 (ipykernel)",
   "language": "python",
   "name": "python3"
  },
  "language_info": {
   "codemirror_mode": {
    "name": "ipython",
    "version": 3
   },
   "file_extension": ".py",
   "mimetype": "text/x-python",
   "name": "python",
   "nbconvert_exporter": "python",
   "pygments_lexer": "ipython3",
   "version": "3.9.12"
  }
 },
 "nbformat": 4,
 "nbformat_minor": 5
}
