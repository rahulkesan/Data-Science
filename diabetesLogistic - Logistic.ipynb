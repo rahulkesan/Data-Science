{
 "cells": [
  {
   "cell_type": "code",
   "execution_count": 1,
   "id": "bb9df519",
   "metadata": {},
   "outputs": [],
   "source": [
    "import pandas as pd\n",
    "import numpy as np\n"
   ]
  },
  {
   "cell_type": "code",
   "execution_count": 2,
   "id": "2f9b3acf",
   "metadata": {},
   "outputs": [],
   "source": [
    "from sklearn.model_selection import train_test_split\n",
    "from sklearn.linear_model import LogisticRegression\n",
    "from sklearn.metrics import confusion_matrix, precision_score, recall_score, f1_score, roc_auc_score, roc_curve"
   ]
  },
  {
   "cell_type": "code",
   "execution_count": 4,
   "id": "ea22e9a7",
   "metadata": {},
   "outputs": [],
   "source": [
    "dl = pd.read_csv(r'C:\\Users\\RahulK\\Downloads\\Machine Learning By Pranjal Sir\\Regression\\Logistic\\diabetesLogistic.csv')"
   ]
  },
  {
   "cell_type": "code",
   "execution_count": 5,
   "id": "8d48aae6",
   "metadata": {},
   "outputs": [
    {
     "data": {
      "text/plain": [
       "(768, 9)"
      ]
     },
     "execution_count": 5,
     "metadata": {},
     "output_type": "execute_result"
    }
   ],
   "source": [
    "dl.shape"
   ]
  },
  {
   "cell_type": "code",
   "execution_count": 6,
   "id": "c50100a3",
   "metadata": {},
   "outputs": [
    {
     "data": {
      "text/html": [
       "<div>\n",
       "<style scoped>\n",
       "    .dataframe tbody tr th:only-of-type {\n",
       "        vertical-align: middle;\n",
       "    }\n",
       "\n",
       "    .dataframe tbody tr th {\n",
       "        vertical-align: top;\n",
       "    }\n",
       "\n",
       "    .dataframe thead th {\n",
       "        text-align: right;\n",
       "    }\n",
       "</style>\n",
       "<table border=\"1\" class=\"dataframe\">\n",
       "  <thead>\n",
       "    <tr style=\"text-align: right;\">\n",
       "      <th></th>\n",
       "      <th>Pregnancies</th>\n",
       "      <th>Glucose</th>\n",
       "      <th>BloodPressure</th>\n",
       "      <th>SkinThickness</th>\n",
       "      <th>Insulin</th>\n",
       "      <th>BMI</th>\n",
       "      <th>DiabetesPedigreeFunction</th>\n",
       "      <th>Age</th>\n",
       "      <th>Outcome</th>\n",
       "    </tr>\n",
       "  </thead>\n",
       "  <tbody>\n",
       "    <tr>\n",
       "      <th>0</th>\n",
       "      <td>6</td>\n",
       "      <td>148</td>\n",
       "      <td>72</td>\n",
       "      <td>35</td>\n",
       "      <td>0</td>\n",
       "      <td>33.6</td>\n",
       "      <td>0.627</td>\n",
       "      <td>50</td>\n",
       "      <td>1</td>\n",
       "    </tr>\n",
       "    <tr>\n",
       "      <th>1</th>\n",
       "      <td>1</td>\n",
       "      <td>85</td>\n",
       "      <td>66</td>\n",
       "      <td>29</td>\n",
       "      <td>0</td>\n",
       "      <td>26.6</td>\n",
       "      <td>0.351</td>\n",
       "      <td>31</td>\n",
       "      <td>0</td>\n",
       "    </tr>\n",
       "    <tr>\n",
       "      <th>2</th>\n",
       "      <td>8</td>\n",
       "      <td>183</td>\n",
       "      <td>64</td>\n",
       "      <td>0</td>\n",
       "      <td>0</td>\n",
       "      <td>23.3</td>\n",
       "      <td>0.672</td>\n",
       "      <td>32</td>\n",
       "      <td>1</td>\n",
       "    </tr>\n",
       "    <tr>\n",
       "      <th>3</th>\n",
       "      <td>1</td>\n",
       "      <td>89</td>\n",
       "      <td>66</td>\n",
       "      <td>23</td>\n",
       "      <td>94</td>\n",
       "      <td>28.1</td>\n",
       "      <td>0.167</td>\n",
       "      <td>21</td>\n",
       "      <td>0</td>\n",
       "    </tr>\n",
       "    <tr>\n",
       "      <th>4</th>\n",
       "      <td>0</td>\n",
       "      <td>137</td>\n",
       "      <td>40</td>\n",
       "      <td>35</td>\n",
       "      <td>168</td>\n",
       "      <td>43.1</td>\n",
       "      <td>2.288</td>\n",
       "      <td>33</td>\n",
       "      <td>1</td>\n",
       "    </tr>\n",
       "  </tbody>\n",
       "</table>\n",
       "</div>"
      ],
      "text/plain": [
       "   Pregnancies  Glucose  BloodPressure  SkinThickness  Insulin   BMI  \\\n",
       "0            6      148             72             35        0  33.6   \n",
       "1            1       85             66             29        0  26.6   \n",
       "2            8      183             64              0        0  23.3   \n",
       "3            1       89             66             23       94  28.1   \n",
       "4            0      137             40             35      168  43.1   \n",
       "\n",
       "   DiabetesPedigreeFunction  Age  Outcome  \n",
       "0                     0.627   50        1  \n",
       "1                     0.351   31        0  \n",
       "2                     0.672   32        1  \n",
       "3                     0.167   21        0  \n",
       "4                     2.288   33        1  "
      ]
     },
     "execution_count": 6,
     "metadata": {},
     "output_type": "execute_result"
    }
   ],
   "source": [
    "dl.head()"
   ]
  },
  {
   "cell_type": "code",
   "execution_count": 7,
   "id": "5e744c39",
   "metadata": {},
   "outputs": [
    {
     "data": {
      "text/plain": [
       "Pregnancies                 0\n",
       "Glucose                     0\n",
       "BloodPressure               0\n",
       "SkinThickness               0\n",
       "Insulin                     0\n",
       "BMI                         0\n",
       "DiabetesPedigreeFunction    0\n",
       "Age                         0\n",
       "Outcome                     0\n",
       "dtype: int64"
      ]
     },
     "execution_count": 7,
     "metadata": {},
     "output_type": "execute_result"
    }
   ],
   "source": [
    "dl.isnull().sum()"
   ]
  },
  {
   "cell_type": "code",
   "execution_count": 8,
   "id": "ff77187d",
   "metadata": {},
   "outputs": [
    {
     "name": "stdout",
     "output_type": "stream",
     "text": [
      "<class 'pandas.core.frame.DataFrame'>\n",
      "RangeIndex: 768 entries, 0 to 767\n",
      "Data columns (total 9 columns):\n",
      " #   Column                    Non-Null Count  Dtype  \n",
      "---  ------                    --------------  -----  \n",
      " 0   Pregnancies               768 non-null    int64  \n",
      " 1   Glucose                   768 non-null    int64  \n",
      " 2   BloodPressure             768 non-null    int64  \n",
      " 3   SkinThickness             768 non-null    int64  \n",
      " 4   Insulin                   768 non-null    int64  \n",
      " 5   BMI                       768 non-null    float64\n",
      " 6   DiabetesPedigreeFunction  768 non-null    float64\n",
      " 7   Age                       768 non-null    int64  \n",
      " 8   Outcome                   768 non-null    int64  \n",
      "dtypes: float64(2), int64(7)\n",
      "memory usage: 54.1 KB\n"
     ]
    }
   ],
   "source": [
    "dl.info()"
   ]
  },
  {
   "cell_type": "code",
   "execution_count": 9,
   "id": "d3496e9b",
   "metadata": {},
   "outputs": [],
   "source": [
    "dl_train, dl_test = train_test_split(dl, test_size=.2)"
   ]
  },
  {
   "cell_type": "code",
   "execution_count": 10,
   "id": "7efdc3d9",
   "metadata": {},
   "outputs": [],
   "source": [
    "dl_train_x = dl_train.iloc[:, 0:-1]\n",
    "dl_train_y = dl_train.iloc[:, -1]\n",
    "\n",
    "dl_test_x = dl_test.iloc[:, 0:-1]\n",
    "dl_test_y = dl_test.iloc[:, -1]"
   ]
  },
  {
   "cell_type": "code",
   "execution_count": 11,
   "id": "f9d56231",
   "metadata": {},
   "outputs": [
    {
     "data": {
      "text/html": [
       "<div>\n",
       "<style scoped>\n",
       "    .dataframe tbody tr th:only-of-type {\n",
       "        vertical-align: middle;\n",
       "    }\n",
       "\n",
       "    .dataframe tbody tr th {\n",
       "        vertical-align: top;\n",
       "    }\n",
       "\n",
       "    .dataframe thead th {\n",
       "        text-align: right;\n",
       "    }\n",
       "</style>\n",
       "<table border=\"1\" class=\"dataframe\">\n",
       "  <thead>\n",
       "    <tr style=\"text-align: right;\">\n",
       "      <th></th>\n",
       "      <th>Pregnancies</th>\n",
       "      <th>Glucose</th>\n",
       "      <th>BloodPressure</th>\n",
       "      <th>SkinThickness</th>\n",
       "      <th>Insulin</th>\n",
       "      <th>BMI</th>\n",
       "      <th>DiabetesPedigreeFunction</th>\n",
       "      <th>Age</th>\n",
       "    </tr>\n",
       "  </thead>\n",
       "  <tbody>\n",
       "    <tr>\n",
       "      <th>278</th>\n",
       "      <td>5</td>\n",
       "      <td>114</td>\n",
       "      <td>74</td>\n",
       "      <td>0</td>\n",
       "      <td>0</td>\n",
       "      <td>24.9</td>\n",
       "      <td>0.744</td>\n",
       "      <td>57</td>\n",
       "    </tr>\n",
       "    <tr>\n",
       "      <th>501</th>\n",
       "      <td>3</td>\n",
       "      <td>84</td>\n",
       "      <td>72</td>\n",
       "      <td>32</td>\n",
       "      <td>0</td>\n",
       "      <td>37.2</td>\n",
       "      <td>0.267</td>\n",
       "      <td>28</td>\n",
       "    </tr>\n",
       "    <tr>\n",
       "      <th>333</th>\n",
       "      <td>12</td>\n",
       "      <td>106</td>\n",
       "      <td>80</td>\n",
       "      <td>0</td>\n",
       "      <td>0</td>\n",
       "      <td>23.6</td>\n",
       "      <td>0.137</td>\n",
       "      <td>44</td>\n",
       "    </tr>\n",
       "    <tr>\n",
       "      <th>335</th>\n",
       "      <td>0</td>\n",
       "      <td>165</td>\n",
       "      <td>76</td>\n",
       "      <td>43</td>\n",
       "      <td>255</td>\n",
       "      <td>47.9</td>\n",
       "      <td>0.259</td>\n",
       "      <td>26</td>\n",
       "    </tr>\n",
       "    <tr>\n",
       "      <th>743</th>\n",
       "      <td>9</td>\n",
       "      <td>140</td>\n",
       "      <td>94</td>\n",
       "      <td>0</td>\n",
       "      <td>0</td>\n",
       "      <td>32.7</td>\n",
       "      <td>0.734</td>\n",
       "      <td>45</td>\n",
       "    </tr>\n",
       "  </tbody>\n",
       "</table>\n",
       "</div>"
      ],
      "text/plain": [
       "     Pregnancies  Glucose  BloodPressure  SkinThickness  Insulin   BMI  \\\n",
       "278            5      114             74              0        0  24.9   \n",
       "501            3       84             72             32        0  37.2   \n",
       "333           12      106             80              0        0  23.6   \n",
       "335            0      165             76             43      255  47.9   \n",
       "743            9      140             94              0        0  32.7   \n",
       "\n",
       "     DiabetesPedigreeFunction  Age  \n",
       "278                     0.744   57  \n",
       "501                     0.267   28  \n",
       "333                     0.137   44  \n",
       "335                     0.259   26  \n",
       "743                     0.734   45  "
      ]
     },
     "execution_count": 11,
     "metadata": {},
     "output_type": "execute_result"
    }
   ],
   "source": [
    "dl_train_x.head()"
   ]
  },
  {
   "cell_type": "code",
   "execution_count": 12,
   "id": "584c1981",
   "metadata": {},
   "outputs": [],
   "source": [
    "logreg = LogisticRegression()"
   ]
  },
  {
   "cell_type": "code",
   "execution_count": 13,
   "id": "b074b7f7",
   "metadata": {},
   "outputs": [
    {
     "name": "stderr",
     "output_type": "stream",
     "text": [
      "C:\\Users\\RahulK\\anaconda3\\lib\\site-packages\\sklearn\\linear_model\\_logistic.py:814: ConvergenceWarning: lbfgs failed to converge (status=1):\n",
      "STOP: TOTAL NO. of ITERATIONS REACHED LIMIT.\n",
      "\n",
      "Increase the number of iterations (max_iter) or scale the data as shown in:\n",
      "    https://scikit-learn.org/stable/modules/preprocessing.html\n",
      "Please also refer to the documentation for alternative solver options:\n",
      "    https://scikit-learn.org/stable/modules/linear_model.html#logistic-regression\n",
      "  n_iter_i = _check_optimize_result(\n"
     ]
    },
    {
     "data": {
      "text/plain": [
       "LogisticRegression()"
      ]
     },
     "execution_count": 13,
     "metadata": {},
     "output_type": "execute_result"
    }
   ],
   "source": [
    "logreg.fit(dl_train_x, dl_train_y)"
   ]
  },
  {
   "cell_type": "code",
   "execution_count": 14,
   "id": "d266bd13",
   "metadata": {},
   "outputs": [],
   "source": [
    "pred = logreg.predict(dl_test_x)"
   ]
  },
  {
   "cell_type": "code",
   "execution_count": 15,
   "id": "a13d3e41",
   "metadata": {},
   "outputs": [
    {
     "data": {
      "text/plain": [
       "array([[95, 10],\n",
       "       [26, 23]], dtype=int64)"
      ]
     },
     "execution_count": 15,
     "metadata": {},
     "output_type": "execute_result"
    }
   ],
   "source": [
    "tab1 = confusion_matrix(dl_test_y, pred)\n",
    "tab1"
   ]
  },
  {
   "cell_type": "code",
   "execution_count": 16,
   "id": "a3f6f18a",
   "metadata": {},
   "outputs": [
    {
     "data": {
      "text/plain": [
       "76.62337662337663"
      ]
     },
     "execution_count": 16,
     "metadata": {},
     "output_type": "execute_result"
    }
   ],
   "source": [
    "Accuracy = tab1.diagonal().sum()*100/tab1.sum()\n",
    "Accuracy"
   ]
  },
  {
   "cell_type": "code",
   "execution_count": 17,
   "id": "a2551ad2",
   "metadata": {},
   "outputs": [
    {
     "data": {
      "text/plain": [
       "9.523809523809524"
      ]
     },
     "execution_count": 17,
     "metadata": {},
     "output_type": "execute_result"
    }
   ],
   "source": [
    "FPR = tab1[0,1]*100/tab1[0].sum()\n",
    "FPR"
   ]
  },
  {
   "cell_type": "code",
   "execution_count": 19,
   "id": "0ea5f8e7",
   "metadata": {},
   "outputs": [
    {
     "data": {
      "text/plain": [
       "46.93877551020408"
      ]
     },
     "execution_count": 19,
     "metadata": {},
     "output_type": "execute_result"
    }
   ],
   "source": [
    "TPR = recall_score(dl_test_y, pred)*100\n",
    "TPR"
   ]
  },
  {
   "cell_type": "code",
   "execution_count": 20,
   "id": "ad6eed13",
   "metadata": {},
   "outputs": [
    {
     "data": {
      "text/plain": [
       "69.6969696969697"
      ]
     },
     "execution_count": 20,
     "metadata": {},
     "output_type": "execute_result"
    }
   ],
   "source": [
    "Precision = precision_score(dl_test_y, pred)*100\n",
    "Precision"
   ]
  },
  {
   "cell_type": "code",
   "execution_count": 21,
   "id": "4021b1d0",
   "metadata": {},
   "outputs": [
    {
     "data": {
      "text/plain": [
       "array([0, 1, 1, 1, 0, 0, 0, 0, 1, 1, 0, 0, 0, 0, 0, 0, 0, 1, 0, 0, 0, 0,\n",
       "       0, 0, 0, 0, 0, 1, 0, 1, 1, 0, 0, 1, 0, 1, 0, 0, 0, 0, 0, 0, 0, 0,\n",
       "       1, 1, 0, 1, 0, 0, 0, 1, 0, 1, 0, 0, 0, 1, 0, 0, 0, 0, 0, 0, 0, 0,\n",
       "       1, 0, 0, 0, 0, 0, 0, 0, 0, 0, 0, 0, 0, 0, 0, 1, 1, 0, 0, 0, 1, 1,\n",
       "       0, 1, 0, 0, 0, 0, 0, 0, 0, 1, 1, 0, 0, 0, 1, 0, 0, 0, 0, 0, 0, 0,\n",
       "       0, 0, 0, 1, 0, 1, 0, 0, 1, 1, 0, 0, 0, 0, 0, 0, 1, 0, 0, 0, 0, 0,\n",
       "       0, 0, 0, 0, 0, 0, 0, 0, 1, 0, 0, 0, 0, 0, 0, 0, 0, 0, 0, 0, 1, 0],\n",
       "      dtype=int64)"
      ]
     },
     "execution_count": 21,
     "metadata": {},
     "output_type": "execute_result"
    }
   ],
   "source": [
    "pred"
   ]
  },
  {
   "cell_type": "code",
   "execution_count": 22,
   "id": "8499164c",
   "metadata": {},
   "outputs": [
    {
     "data": {
      "text/plain": [
       "0.5609756097560976"
      ]
     },
     "execution_count": 22,
     "metadata": {},
     "output_type": "execute_result"
    }
   ],
   "source": [
    "F1 = f1_score(dl_test_y, pred)\n",
    "F1"
   ]
  },
  {
   "cell_type": "code",
   "execution_count": 23,
   "id": "761ee175",
   "metadata": {},
   "outputs": [
    {
     "data": {
      "text/plain": [
       "array([[0.92193264, 0.07806736],\n",
       "       [0.32486608, 0.67513392],\n",
       "       [0.20633582, 0.79366418],\n",
       "       [0.1807408 , 0.8192592 ],\n",
       "       [0.59104035, 0.40895965],\n",
       "       [0.74264161, 0.25735839],\n",
       "       [0.70416403, 0.29583597],\n",
       "       [0.78112928, 0.21887072],\n",
       "       [0.36374154, 0.63625846],\n",
       "       [0.27108908, 0.72891092],\n",
       "       [0.76648304, 0.23351696],\n",
       "       [0.91285516, 0.08714484],\n",
       "       [0.84563617, 0.15436383],\n",
       "       [0.92473317, 0.07526683],\n",
       "       [0.92963892, 0.07036108],\n",
       "       [0.96622711, 0.03377289],\n",
       "       [0.73932943, 0.26067057],\n",
       "       [0.31234866, 0.68765134],\n",
       "       [0.96608817, 0.03391183],\n",
       "       [0.73037254, 0.26962746],\n",
       "       [0.81295481, 0.18704519],\n",
       "       [0.78959658, 0.21040342],\n",
       "       [0.77854689, 0.22145311],\n",
       "       [0.99561712, 0.00438288],\n",
       "       [0.85662819, 0.14337181],\n",
       "       [0.87507644, 0.12492356],\n",
       "       [0.94910512, 0.05089488],\n",
       "       [0.39847508, 0.60152492],\n",
       "       [0.7689248 , 0.2310752 ],\n",
       "       [0.42736304, 0.57263696],\n",
       "       [0.02366171, 0.97633829],\n",
       "       [0.5771233 , 0.4228767 ],\n",
       "       [0.94259289, 0.05740711],\n",
       "       [0.34080234, 0.65919766],\n",
       "       [0.68058352, 0.31941648],\n",
       "       [0.05535446, 0.94464554],\n",
       "       [0.99072486, 0.00927514],\n",
       "       [0.70669576, 0.29330424],\n",
       "       [0.64844611, 0.35155389],\n",
       "       [0.81637493, 0.18362507],\n",
       "       [0.6930052 , 0.3069948 ],\n",
       "       [0.97266654, 0.02733346],\n",
       "       [0.76492955, 0.23507045],\n",
       "       [0.79900776, 0.20099224],\n",
       "       [0.31684834, 0.68315166],\n",
       "       [0.27898794, 0.72101206],\n",
       "       [0.61690572, 0.38309428],\n",
       "       [0.21337172, 0.78662828],\n",
       "       [0.94268935, 0.05731065],\n",
       "       [0.77381809, 0.22618191],\n",
       "       [0.78872258, 0.21127742],\n",
       "       [0.48044309, 0.51955691],\n",
       "       [0.94298941, 0.05701059],\n",
       "       [0.13535208, 0.86464792],\n",
       "       [0.73200124, 0.26799876],\n",
       "       [0.62858145, 0.37141855],\n",
       "       [0.85423485, 0.14576515],\n",
       "       [0.28007166, 0.71992834],\n",
       "       [0.63854625, 0.36145375],\n",
       "       [0.75301837, 0.24698163],\n",
       "       [0.87766077, 0.12233923],\n",
       "       [0.75577848, 0.24422152],\n",
       "       [0.89870485, 0.10129515],\n",
       "       [0.87382088, 0.12617912],\n",
       "       [0.71501539, 0.28498461],\n",
       "       [0.67968514, 0.32031486],\n",
       "       [0.41556543, 0.58443457],\n",
       "       [0.92648755, 0.07351245],\n",
       "       [0.9304995 , 0.0695005 ],\n",
       "       [0.80880213, 0.19119787],\n",
       "       [0.82739102, 0.17260898],\n",
       "       [0.88967819, 0.11032181],\n",
       "       [0.92694101, 0.07305899],\n",
       "       [0.9363237 , 0.0636763 ],\n",
       "       [0.96698607, 0.03301393],\n",
       "       [0.71694361, 0.28305639],\n",
       "       [0.87486101, 0.12513899],\n",
       "       [0.68546442, 0.31453558],\n",
       "       [0.86679451, 0.13320549],\n",
       "       [0.87596023, 0.12403977],\n",
       "       [0.97387499, 0.02612501],\n",
       "       [0.27443306, 0.72556694],\n",
       "       [0.35393971, 0.64606029],\n",
       "       [0.94744276, 0.05255724],\n",
       "       [0.7307726 , 0.2692274 ],\n",
       "       [0.87530102, 0.12469898],\n",
       "       [0.26100054, 0.73899946],\n",
       "       [0.25635501, 0.74364499],\n",
       "       [0.79785707, 0.20214293],\n",
       "       [0.4533627 , 0.5466373 ],\n",
       "       [0.55093981, 0.44906019],\n",
       "       [0.83725363, 0.16274637],\n",
       "       [0.50525405, 0.49474595],\n",
       "       [0.87742388, 0.12257612],\n",
       "       [0.50008555, 0.49991445],\n",
       "       [0.81540233, 0.18459767],\n",
       "       [0.90810349, 0.09189651],\n",
       "       [0.14494613, 0.85505387],\n",
       "       [0.49083675, 0.50916325],\n",
       "       [0.97543371, 0.02456629],\n",
       "       [0.61891746, 0.38108254],\n",
       "       [0.69946933, 0.30053067],\n",
       "       [0.37513067, 0.62486933],\n",
       "       [0.85424643, 0.14575357],\n",
       "       [0.9230696 , 0.0769304 ],\n",
       "       [0.62251635, 0.37748365],\n",
       "       [0.95440636, 0.04559364],\n",
       "       [0.80519406, 0.19480594],\n",
       "       [0.90823734, 0.09176266],\n",
       "       [0.79547062, 0.20452938],\n",
       "       [0.6264453 , 0.3735547 ],\n",
       "       [0.92127349, 0.07872651],\n",
       "       [0.80534269, 0.19465731],\n",
       "       [0.19251348, 0.80748652],\n",
       "       [0.84374796, 0.15625204],\n",
       "       [0.13826271, 0.86173729],\n",
       "       [0.67586303, 0.32413697],\n",
       "       [0.97718147, 0.02281853],\n",
       "       [0.01514949, 0.98485051],\n",
       "       [0.31479953, 0.68520047],\n",
       "       [0.94844349, 0.05155651],\n",
       "       [0.55151394, 0.44848606],\n",
       "       [0.8814328 , 0.1185672 ],\n",
       "       [0.65000848, 0.34999152],\n",
       "       [0.83658477, 0.16341523],\n",
       "       [0.71917188, 0.28082812],\n",
       "       [0.36791555, 0.63208445],\n",
       "       [0.94339508, 0.05660492],\n",
       "       [0.89722319, 0.10277681],\n",
       "       [0.50980205, 0.49019795],\n",
       "       [0.8458167 , 0.1541833 ],\n",
       "       [0.96492482, 0.03507518],\n",
       "       [0.75540434, 0.24459566],\n",
       "       [0.73665739, 0.26334261],\n",
       "       [0.5578008 , 0.4421992 ],\n",
       "       [0.6034277 , 0.3965723 ],\n",
       "       [0.914262  , 0.085738  ],\n",
       "       [0.66745396, 0.33254604],\n",
       "       [0.84189433, 0.15810567],\n",
       "       [0.92590718, 0.07409282],\n",
       "       [0.1959311 , 0.8040689 ],\n",
       "       [0.51745635, 0.48254365],\n",
       "       [0.69012667, 0.30987333],\n",
       "       [0.88104069, 0.11895931],\n",
       "       [0.88988713, 0.11011287],\n",
       "       [0.64474057, 0.35525943],\n",
       "       [0.93903107, 0.06096893],\n",
       "       [0.61849186, 0.38150814],\n",
       "       [0.84801481, 0.15198519],\n",
       "       [0.87349539, 0.12650461],\n",
       "       [0.73884174, 0.26115826],\n",
       "       [0.60281903, 0.39718097],\n",
       "       [0.46475231, 0.53524769],\n",
       "       [0.95403676, 0.04596324]])"
      ]
     },
     "execution_count": 23,
     "metadata": {},
     "output_type": "execute_result"
    }
   ],
   "source": [
    "pred_prob = logreg.predict_proba(dl_test_x)\n",
    "pred_prob"
   ]
  },
  {
   "cell_type": "code",
   "execution_count": 24,
   "id": "0cb7af9a",
   "metadata": {},
   "outputs": [
    {
     "data": {
      "text/plain": [
       "0.812050534499514"
      ]
     },
     "execution_count": 24,
     "metadata": {},
     "output_type": "execute_result"
    }
   ],
   "source": [
    "roc_auc_score(dl_test_y, pred_prob[:,1])\n",
    "# area under roc curve"
   ]
  },
  {
   "cell_type": "code",
   "execution_count": 26,
   "id": "9c8ecd55",
   "metadata": {},
   "outputs": [],
   "source": [
    "fpr,tpr, threshold = roc_curve(dl_test_y, pred_prob[:,1])"
   ]
  },
  {
   "cell_type": "code",
   "execution_count": 27,
   "id": "1bac0987",
   "metadata": {},
   "outputs": [],
   "source": [
    "import matplotlib.pyplot as plt"
   ]
  },
  {
   "cell_type": "code",
   "execution_count": 28,
   "id": "da54fe30",
   "metadata": {},
   "outputs": [
    {
     "data": {
      "image/png": "[encoded data removed]",
      "text/plain": [
       "<Figure size 720x720 with 1 Axes>"
      ]
     },
     "metadata": {
      "needs_background": "light"
     },
     "output_type": "display_data"
    }
   ],
   "source": [
    "plt.figure(figsize=(10,10))\n",
    "plt.plot(fpr,tpr,color= 'r')\n",
    "plt.title('AUROC Curve')\n",
    "plt.xlabel('FPR')\n",
    "plt.ylabel('TPR')\n",
    "plt.grid()"
   ]
  },
  {
   "cell_type": "code",
   "execution_count": null,
   "id": "8a423bd2",
   "metadata": {},
   "outputs": [],
   "source": []
  }
 ],
 "metadata": {
  "kernelspec": {
   "display_name": "Python 3 (ipykernel)",
   "language": "python",
   "name": "python3"
  },
  "language_info": {
   "codemirror_mode": {
    "name": "ipython",
    "version": 3
   },
   "file_extension": ".py",
   "mimetype": "text/x-python",
   "name": "python",
   "nbconvert_exporter": "python",
   "pygments_lexer": "ipython3",
   "version": "3.9.12"
  }
 },
 "nbformat": 4,
 "nbformat_minor": 5
}
