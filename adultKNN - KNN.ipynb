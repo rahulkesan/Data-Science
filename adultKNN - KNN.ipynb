{
 "cells": [
  {
   "cell_type": "code",
   "execution_count": 2,
   "id": "2ea611f3",
   "metadata": {},
   "outputs": [],
   "source": [
    "import pandas as pd\n",
    "import numpy as np"
   ]
  },
  {
   "cell_type": "code",
   "execution_count": 68,
   "id": "bacd9a70",
   "metadata": {},
   "outputs": [],
   "source": [
    "ad = pd.read_csv(r'C:\\Users\\RahulK\\Downloads\\Machine Learning By Pranjal Sir\\Supervised\\KNN\\adultKNN.csv')"
   ]
  },
  {
   "cell_type": "code",
   "execution_count": 4,
   "id": "cdda051b",
   "metadata": {},
   "outputs": [
    {
     "data": {
      "text/html": [
       "<div>\n",
       "<style scoped>\n",
       "    .dataframe tbody tr th:only-of-type {\n",
       "        vertical-align: middle;\n",
       "    }\n",
       "\n",
       "    .dataframe tbody tr th {\n",
       "        vertical-align: top;\n",
       "    }\n",
       "\n",
       "    .dataframe thead th {\n",
       "        text-align: right;\n",
       "    }\n",
       "</style>\n",
       "<table border=\"1\" class=\"dataframe\">\n",
       "  <thead>\n",
       "    <tr style=\"text-align: right;\">\n",
       "      <th></th>\n",
       "      <th>age</th>\n",
       "      <th>workclass</th>\n",
       "      <th>fnlwgt</th>\n",
       "      <th>education</th>\n",
       "      <th>educational_num</th>\n",
       "      <th>marital_status</th>\n",
       "      <th>occupation</th>\n",
       "      <th>relationship</th>\n",
       "      <th>race</th>\n",
       "      <th>gender</th>\n",
       "      <th>capital_gain</th>\n",
       "      <th>capital_loss</th>\n",
       "      <th>hours_per_week</th>\n",
       "      <th>native_country</th>\n",
       "      <th>income</th>\n",
       "    </tr>\n",
       "  </thead>\n",
       "  <tbody>\n",
       "    <tr>\n",
       "      <th>0</th>\n",
       "      <td>25</td>\n",
       "      <td>Private</td>\n",
       "      <td>226802</td>\n",
       "      <td>11th</td>\n",
       "      <td>7</td>\n",
       "      <td>Never-married</td>\n",
       "      <td>Machine-op-inspct</td>\n",
       "      <td>Own-child</td>\n",
       "      <td>Black</td>\n",
       "      <td>Male</td>\n",
       "      <td>0</td>\n",
       "      <td>0</td>\n",
       "      <td>40</td>\n",
       "      <td>United-States</td>\n",
       "      <td>&lt;=50K</td>\n",
       "    </tr>\n",
       "    <tr>\n",
       "      <th>1</th>\n",
       "      <td>38</td>\n",
       "      <td>Private</td>\n",
       "      <td>89814</td>\n",
       "      <td>HS-grad</td>\n",
       "      <td>9</td>\n",
       "      <td>Married-civ-spouse</td>\n",
       "      <td>Farming-fishing</td>\n",
       "      <td>Husband</td>\n",
       "      <td>White</td>\n",
       "      <td>Male</td>\n",
       "      <td>0</td>\n",
       "      <td>0</td>\n",
       "      <td>50</td>\n",
       "      <td>United-States</td>\n",
       "      <td>&lt;=50K</td>\n",
       "    </tr>\n",
       "    <tr>\n",
       "      <th>2</th>\n",
       "      <td>28</td>\n",
       "      <td>Local-gov</td>\n",
       "      <td>336951</td>\n",
       "      <td>Assoc-acdm</td>\n",
       "      <td>12</td>\n",
       "      <td>Married-civ-spouse</td>\n",
       "      <td>Protective-serv</td>\n",
       "      <td>Husband</td>\n",
       "      <td>White</td>\n",
       "      <td>Male</td>\n",
       "      <td>0</td>\n",
       "      <td>0</td>\n",
       "      <td>40</td>\n",
       "      <td>United-States</td>\n",
       "      <td>&gt;50K</td>\n",
       "    </tr>\n",
       "    <tr>\n",
       "      <th>3</th>\n",
       "      <td>44</td>\n",
       "      <td>Private</td>\n",
       "      <td>160323</td>\n",
       "      <td>Some-college</td>\n",
       "      <td>10</td>\n",
       "      <td>Married-civ-spouse</td>\n",
       "      <td>Machine-op-inspct</td>\n",
       "      <td>Husband</td>\n",
       "      <td>Black</td>\n",
       "      <td>Male</td>\n",
       "      <td>7688</td>\n",
       "      <td>0</td>\n",
       "      <td>40</td>\n",
       "      <td>United-States</td>\n",
       "      <td>&gt;50K</td>\n",
       "    </tr>\n",
       "    <tr>\n",
       "      <th>4</th>\n",
       "      <td>18</td>\n",
       "      <td>?</td>\n",
       "      <td>103497</td>\n",
       "      <td>Some-college</td>\n",
       "      <td>10</td>\n",
       "      <td>Never-married</td>\n",
       "      <td>?</td>\n",
       "      <td>Own-child</td>\n",
       "      <td>White</td>\n",
       "      <td>Female</td>\n",
       "      <td>0</td>\n",
       "      <td>0</td>\n",
       "      <td>30</td>\n",
       "      <td>United-States</td>\n",
       "      <td>&lt;=50K</td>\n",
       "    </tr>\n",
       "  </tbody>\n",
       "</table>\n",
       "</div>"
      ],
      "text/plain": [
       "   age  workclass  fnlwgt     education  educational_num      marital_status  \\\n",
       "0   25    Private  226802          11th                7       Never-married   \n",
       "1   38    Private   89814       HS-grad                9  Married-civ-spouse   \n",
       "2   28  Local-gov  336951    Assoc-acdm               12  Married-civ-spouse   \n",
       "3   44    Private  160323  Some-college               10  Married-civ-spouse   \n",
       "4   18          ?  103497  Some-college               10       Never-married   \n",
       "\n",
       "          occupation relationship   race  gender  capital_gain  capital_loss  \\\n",
       "0  Machine-op-inspct    Own-child  Black    Male             0             0   \n",
       "1    Farming-fishing      Husband  White    Male             0             0   \n",
       "2    Protective-serv      Husband  White    Male             0             0   \n",
       "3  Machine-op-inspct      Husband  Black    Male          7688             0   \n",
       "4                  ?    Own-child  White  Female             0             0   \n",
       "\n",
       "   hours_per_week native_country income  \n",
       "0              40  United-States  <=50K  \n",
       "1              50  United-States  <=50K  \n",
       "2              40  United-States   >50K  \n",
       "3              40  United-States   >50K  \n",
       "4              30  United-States  <=50K  "
      ]
     },
     "execution_count": 4,
     "metadata": {},
     "output_type": "execute_result"
    }
   ],
   "source": [
    "ad.head()"
   ]
  },
  {
   "cell_type": "code",
   "execution_count": 5,
   "id": "e44bc776",
   "metadata": {},
   "outputs": [
    {
     "data": {
      "text/plain": [
       "(48842, 15)"
      ]
     },
     "execution_count": 5,
     "metadata": {},
     "output_type": "execute_result"
    }
   ],
   "source": [
    "ad.shape"
   ]
  },
  {
   "cell_type": "code",
   "execution_count": 6,
   "id": "5950e894",
   "metadata": {},
   "outputs": [
    {
     "data": {
      "text/plain": [
       "age                0\n",
       "workclass          0\n",
       "fnlwgt             0\n",
       "education          0\n",
       "educational_num    0\n",
       "marital_status     0\n",
       "occupation         0\n",
       "relationship       0\n",
       "race               0\n",
       "gender             0\n",
       "capital_gain       0\n",
       "capital_loss       0\n",
       "hours_per_week     0\n",
       "native_country     0\n",
       "income             0\n",
       "dtype: int64"
      ]
     },
     "execution_count": 6,
     "metadata": {},
     "output_type": "execute_result"
    }
   ],
   "source": [
    "ad.isnull().sum()"
   ]
  },
  {
   "cell_type": "code",
   "execution_count": 7,
   "id": "a981f866",
   "metadata": {},
   "outputs": [
    {
     "name": "stdout",
     "output_type": "stream",
     "text": [
      "<class 'pandas.core.frame.DataFrame'>\n",
      "RangeIndex: 48842 entries, 0 to 48841\n",
      "Data columns (total 15 columns):\n",
      " #   Column           Non-Null Count  Dtype \n",
      "---  ------           --------------  ----- \n",
      " 0   age              48842 non-null  int64 \n",
      " 1   workclass        48842 non-null  object\n",
      " 2   fnlwgt           48842 non-null  int64 \n",
      " 3   education        48842 non-null  object\n",
      " 4   educational_num  48842 non-null  int64 \n",
      " 5   marital_status   48842 non-null  object\n",
      " 6   occupation       48842 non-null  object\n",
      " 7   relationship     48842 non-null  object\n",
      " 8   race             48842 non-null  object\n",
      " 9   gender           48842 non-null  object\n",
      " 10  capital_gain     48842 non-null  int64 \n",
      " 11  capital_loss     48842 non-null  int64 \n",
      " 12  hours_per_week   48842 non-null  int64 \n",
      " 13  native_country   48842 non-null  object\n",
      " 14  income           48842 non-null  object\n",
      "dtypes: int64(6), object(9)\n",
      "memory usage: 5.6+ MB\n"
     ]
    }
   ],
   "source": [
    "ad.info()"
   ]
  },
  {
   "cell_type": "code",
   "execution_count": 8,
   "id": "d91761fe",
   "metadata": {},
   "outputs": [
    {
     "data": {
      "text/plain": [
       "Private             33906\n",
       "Self-emp-not-inc     3862\n",
       "Local-gov            3136\n",
       "?                    2799\n",
       "State-gov            1981\n",
       "Self-emp-inc         1695\n",
       "Federal-gov          1432\n",
       "Without-pay            21\n",
       "Never-worked           10\n",
       "Name: workclass, dtype: int64"
      ]
     },
     "execution_count": 8,
     "metadata": {},
     "output_type": "execute_result"
    }
   ],
   "source": [
    "ad.workclass.value_counts()"
   ]
  },
  {
   "cell_type": "code",
   "execution_count": 69,
   "id": "72a17729",
   "metadata": {},
   "outputs": [],
   "source": [
    "ad = ad.replace({'?': np.nan})"
   ]
  },
  {
   "cell_type": "code",
   "execution_count": 13,
   "id": "ccabbe5c",
   "metadata": {},
   "outputs": [
    {
     "data": {
      "text/plain": [
       "Private             33906\n",
       "Self-emp-not-inc     3862\n",
       "Local-gov            3136\n",
       "State-gov            1981\n",
       "Self-emp-inc         1695\n",
       "Federal-gov          1432\n",
       "Without-pay            21\n",
       "Never-worked           10\n",
       "Name: workclass, dtype: int64"
      ]
     },
     "execution_count": 13,
     "metadata": {},
     "output_type": "execute_result"
    }
   ],
   "source": [
    "ad.workclass.value_counts()"
   ]
  },
  {
   "cell_type": "code",
   "execution_count": 14,
   "id": "e34f76aa",
   "metadata": {},
   "outputs": [
    {
     "data": {
      "text/plain": [
       "age                   0\n",
       "workclass          2799\n",
       "fnlwgt                0\n",
       "education             0\n",
       "educational_num       0\n",
       "marital_status        0\n",
       "occupation         2809\n",
       "relationship          0\n",
       "race                  0\n",
       "gender                0\n",
       "capital_gain          0\n",
       "capital_loss          0\n",
       "hours_per_week        0\n",
       "native_country      857\n",
       "income                0\n",
       "dtype: int64"
      ]
     },
     "execution_count": 14,
     "metadata": {},
     "output_type": "execute_result"
    }
   ],
   "source": [
    "ad.isnull().sum()"
   ]
  },
  {
   "cell_type": "code",
   "execution_count": 70,
   "id": "1538b05e",
   "metadata": {},
   "outputs": [],
   "source": [
    "ad.workclass.fillna('Private', inplace= True)\n",
    "ad.occupation.fillna('Other-service', inplace= True)\n",
    "ad.native_country.fillna('United-States', inplace= True)"
   ]
  },
  {
   "cell_type": "code",
   "execution_count": 15,
   "id": "30083401",
   "metadata": {},
   "outputs": [
    {
     "data": {
      "text/plain": [
       "Prof-specialty       6172\n",
       "Craft-repair         6112\n",
       "Exec-managerial      6086\n",
       "Adm-clerical         5611\n",
       "Sales                5504\n",
       "Other-service        4923\n",
       "Machine-op-inspct    3022\n",
       "Transport-moving     2355\n",
       "Handlers-cleaners    2072\n",
       "Farming-fishing      1490\n",
       "Tech-support         1446\n",
       "Protective-serv       983\n",
       "Priv-house-serv       242\n",
       "Armed-Forces           15\n",
       "Name: occupation, dtype: int64"
      ]
     },
     "execution_count": 15,
     "metadata": {},
     "output_type": "execute_result"
    }
   ],
   "source": [
    "ad.occupation.value_counts()"
   ]
  },
  {
   "cell_type": "code",
   "execution_count": 16,
   "id": "ffd597a7",
   "metadata": {},
   "outputs": [
    {
     "data": {
      "text/plain": [
       "United-States                 43832\n",
       "Mexico                          951\n",
       "Philippines                     295\n",
       "Germany                         206\n",
       "Puerto-Rico                     184\n",
       "Canada                          182\n",
       "El-Salvador                     155\n",
       "India                           151\n",
       "Cuba                            138\n",
       "England                         127\n",
       "China                           122\n",
       "South                           115\n",
       "Jamaica                         106\n",
       "Italy                           105\n",
       "Dominican-Republic              103\n",
       "Japan                            92\n",
       "Guatemala                        88\n",
       "Poland                           87\n",
       "Vietnam                          86\n",
       "Columbia                         85\n",
       "Haiti                            75\n",
       "Portugal                         67\n",
       "Taiwan                           65\n",
       "Iran                             59\n",
       "Greece                           49\n",
       "Nicaragua                        49\n",
       "Peru                             46\n",
       "Ecuador                          45\n",
       "France                           38\n",
       "Ireland                          37\n",
       "Hong                             30\n",
       "Thailand                         30\n",
       "Cambodia                         28\n",
       "Trinadad&Tobago                  27\n",
       "Yugoslavia                       23\n",
       "Outlying-US(Guam-USVI-etc)       23\n",
       "Laos                             23\n",
       "Scotland                         21\n",
       "Honduras                         20\n",
       "Hungary                          19\n",
       "Holand-Netherlands                1\n",
       "Name: native_country, dtype: int64"
      ]
     },
     "execution_count": 16,
     "metadata": {},
     "output_type": "execute_result"
    }
   ],
   "source": [
    "ad.native_country.value_counts()"
   ]
  },
  {
   "cell_type": "code",
   "execution_count": 18,
   "id": "b081cf57",
   "metadata": {},
   "outputs": [
    {
     "data": {
      "text/plain": [
       "age                0\n",
       "workclass          0\n",
       "fnlwgt             0\n",
       "education          0\n",
       "educational_num    0\n",
       "marital_status     0\n",
       "occupation         0\n",
       "relationship       0\n",
       "race               0\n",
       "gender             0\n",
       "capital_gain       0\n",
       "capital_loss       0\n",
       "hours_per_week     0\n",
       "native_country     0\n",
       "income             0\n",
       "dtype: int64"
      ]
     },
     "execution_count": 18,
     "metadata": {},
     "output_type": "execute_result"
    }
   ],
   "source": [
    "ad.isnull().sum()"
   ]
  },
  {
   "cell_type": "code",
   "execution_count": 20,
   "id": "f0bee127",
   "metadata": {},
   "outputs": [
    {
     "name": "stdout",
     "output_type": "stream",
     "text": [
      "<class 'pandas.core.frame.DataFrame'>\n",
      "RangeIndex: 48842 entries, 0 to 48841\n",
      "Data columns (total 15 columns):\n",
      " #   Column           Non-Null Count  Dtype \n",
      "---  ------           --------------  ----- \n",
      " 0   age              48842 non-null  int64 \n",
      " 1   workclass        48842 non-null  object\n",
      " 2   fnlwgt           48842 non-null  int64 \n",
      " 3   education        48842 non-null  object\n",
      " 4   educational_num  48842 non-null  int64 \n",
      " 5   marital_status   48842 non-null  object\n",
      " 6   occupation       48842 non-null  object\n",
      " 7   relationship     48842 non-null  object\n",
      " 8   race             48842 non-null  object\n",
      " 9   gender           48842 non-null  object\n",
      " 10  capital_gain     48842 non-null  int64 \n",
      " 11  capital_loss     48842 non-null  int64 \n",
      " 12  hours_per_week   48842 non-null  int64 \n",
      " 13  native_country   48842 non-null  object\n",
      " 14  income           48842 non-null  object\n",
      "dtypes: int64(6), object(9)\n",
      "memory usage: 5.6+ MB\n"
     ]
    }
   ],
   "source": [
    "ad.info()"
   ]
  },
  {
   "cell_type": "code",
   "execution_count": 19,
   "id": "5fd16962",
   "metadata": {},
   "outputs": [
    {
     "data": {
      "text/plain": [
       "HS-grad         15784\n",
       "Some-college    10878\n",
       "Bachelors        8025\n",
       "Masters          2657\n",
       "Assoc-voc        2061\n",
       "11th             1812\n",
       "Assoc-acdm       1601\n",
       "10th             1389\n",
       "7th-8th           955\n",
       "Prof-school       834\n",
       "9th               756\n",
       "12th              657\n",
       "Doctorate         594\n",
       "5th-6th           509\n",
       "1st-4th           247\n",
       "Preschool          83\n",
       "Name: education, dtype: int64"
      ]
     },
     "execution_count": 19,
     "metadata": {},
     "output_type": "execute_result"
    }
   ],
   "source": [
    "ad.education.value_counts()"
   ]
  },
  {
   "cell_type": "code",
   "execution_count": 22,
   "id": "6b7016d8",
   "metadata": {},
   "outputs": [
    {
     "data": {
      "text/plain": [
       "Husband           19716\n",
       "Not-in-family     12583\n",
       "Own-child          7581\n",
       "Unmarried          5125\n",
       "Wife               2331\n",
       "Other-relative     1506\n",
       "Name: relationship, dtype: int64"
      ]
     },
     "execution_count": 22,
     "metadata": {},
     "output_type": "execute_result"
    }
   ],
   "source": [
    "ad.relationship.value_counts()"
   ]
  },
  {
   "cell_type": "code",
   "execution_count": 21,
   "id": "f8f52cad",
   "metadata": {},
   "outputs": [
    {
     "data": {
      "text/plain": [
       "Married-civ-spouse       22379\n",
       "Never-married            16117\n",
       "Divorced                  6633\n",
       "Separated                 1530\n",
       "Widowed                   1518\n",
       "Married-spouse-absent      628\n",
       "Married-AF-spouse           37\n",
       "Name: marital_status, dtype: int64"
      ]
     },
     "execution_count": 21,
     "metadata": {},
     "output_type": "execute_result"
    }
   ],
   "source": [
    "ad.marital_status.value_counts()"
   ]
  },
  {
   "cell_type": "code",
   "execution_count": 23,
   "id": "d15ebd17",
   "metadata": {},
   "outputs": [
    {
     "data": {
      "text/plain": [
       "White                 41762\n",
       "Black                  4685\n",
       "Asian-Pac-Islander     1519\n",
       "Amer-Indian-Eskimo      470\n",
       "Other                   406\n",
       "Name: race, dtype: int64"
      ]
     },
     "execution_count": 23,
     "metadata": {},
     "output_type": "execute_result"
    }
   ],
   "source": [
    "ad.race.value_counts()"
   ]
  },
  {
   "cell_type": "code",
   "execution_count": 24,
   "id": "fcac816c",
   "metadata": {},
   "outputs": [
    {
     "data": {
      "text/plain": [
       "Male      32650\n",
       "Female    16192\n",
       "Name: gender, dtype: int64"
      ]
     },
     "execution_count": 24,
     "metadata": {},
     "output_type": "execute_result"
    }
   ],
   "source": [
    "ad.gender.value_counts()"
   ]
  },
  {
   "cell_type": "code",
   "execution_count": 25,
   "id": "7a6c4e67",
   "metadata": {},
   "outputs": [
    {
     "data": {
      "text/plain": [
       "<=50K    37155\n",
       ">50K     11687\n",
       "Name: income, dtype: int64"
      ]
     },
     "execution_count": 25,
     "metadata": {},
     "output_type": "execute_result"
    }
   ],
   "source": [
    "ad.income.value_counts()"
   ]
  },
  {
   "cell_type": "code",
   "execution_count": 71,
   "id": "d81d56ac",
   "metadata": {},
   "outputs": [],
   "source": [
    "ad.education.replace({'Preschool': 0,'1st-4th': 1, '5th-6th': 2, '7th-8th':3,\n",
    "                     '9th': 4, '10th': 5, '11th':6, '12th': 7, 'Some-college': 8,\n",
    "                     'HS-grad': 9, 'Bachelors': 10, 'Masters': 11, 'Doctorate': 12,\n",
    "                     'Assoc-acdm': 13, 'Assoc-voc': 14, 'Prof-school': 15}, inplace= True)\n",
    "ad.marital_status.replace({'Never-married': 0, 'Married-spouse-absent': 1, 'Married-AF-spouse': 2,\n",
    "                          'Married-civ-spouse': 3, 'Separated': 4, 'Divorced': 5, 'Widowed': 6}, inplace= True)\n",
    "ad.relationship.replace({'Unmarried': 0, 'Husband': 1, 'Wife': 2, 'Own-child': 3,\n",
    "                        'Not-in-family': 4, 'Other-relative': 5}, inplace= True)\n",
    "ad.race.replace({'White': 0, 'Black':1, 'Asian-Pac-Islander': 2,\n",
    "                'Amer-Indian-Eskimo': 3, 'Other': 4}, inplace= True)\n",
    "ad.gender.replace({'Female': 0, 'Male': 1}, inplace= True)\n",
    "ad.income.replace({'<=50K': 0, '>50K': 1}, inplace= True)"
   ]
  },
  {
   "cell_type": "code",
   "execution_count": 72,
   "id": "494c9965",
   "metadata": {},
   "outputs": [],
   "source": [
    "from sklearn.preprocessing import LabelEncoder\n",
    "le = LabelEncoder()"
   ]
  },
  {
   "cell_type": "code",
   "execution_count": 31,
   "id": "90b8428f",
   "metadata": {},
   "outputs": [
    {
     "name": "stdout",
     "output_type": "stream",
     "text": [
      "<class 'pandas.core.frame.DataFrame'>\n",
      "RangeIndex: 48842 entries, 0 to 48841\n",
      "Data columns (total 15 columns):\n",
      " #   Column           Non-Null Count  Dtype \n",
      "---  ------           --------------  ----- \n",
      " 0   age              48842 non-null  int64 \n",
      " 1   workclass        48842 non-null  object\n",
      " 2   fnlwgt           48842 non-null  int64 \n",
      " 3   education        48842 non-null  int64 \n",
      " 4   educational_num  48842 non-null  int64 \n",
      " 5   marital_status   48842 non-null  int64 \n",
      " 6   occupation       48842 non-null  object\n",
      " 7   relationship     48842 non-null  int64 \n",
      " 8   race             48842 non-null  int64 \n",
      " 9   gender           48842 non-null  int64 \n",
      " 10  capital_gain     48842 non-null  int64 \n",
      " 11  capital_loss     48842 non-null  int64 \n",
      " 12  hours_per_week   48842 non-null  int64 \n",
      " 13  native_country   48842 non-null  object\n",
      " 14  income           48842 non-null  int64 \n",
      "dtypes: int64(12), object(3)\n",
      "memory usage: 5.6+ MB\n"
     ]
    }
   ],
   "source": [
    "ad.info()"
   ]
  },
  {
   "cell_type": "code",
   "execution_count": 73,
   "id": "1724db29",
   "metadata": {},
   "outputs": [],
   "source": [
    "ad[ad.select_dtypes(include= ['object']).columns]  = ad[ad.select_dtypes(include= ['object']).columns].apply(le.fit_transform)"
   ]
  },
  {
   "cell_type": "code",
   "execution_count": 74,
   "id": "035f8c1f",
   "metadata": {},
   "outputs": [
    {
     "name": "stdout",
     "output_type": "stream",
     "text": [
      "<class 'pandas.core.frame.DataFrame'>\n",
      "RangeIndex: 48842 entries, 0 to 48841\n",
      "Data columns (total 15 columns):\n",
      " #   Column           Non-Null Count  Dtype\n",
      "---  ------           --------------  -----\n",
      " 0   age              48842 non-null  int64\n",
      " 1   workclass        48842 non-null  int32\n",
      " 2   fnlwgt           48842 non-null  int64\n",
      " 3   education        48842 non-null  int64\n",
      " 4   educational_num  48842 non-null  int64\n",
      " 5   marital_status   48842 non-null  int64\n",
      " 6   occupation       48842 non-null  int32\n",
      " 7   relationship     48842 non-null  int64\n",
      " 8   race             48842 non-null  int64\n",
      " 9   gender           48842 non-null  int64\n",
      " 10  capital_gain     48842 non-null  int64\n",
      " 11  capital_loss     48842 non-null  int64\n",
      " 12  hours_per_week   48842 non-null  int64\n",
      " 13  native_country   48842 non-null  int32\n",
      " 14  income           48842 non-null  int64\n",
      "dtypes: int32(3), int64(12)\n",
      "memory usage: 5.0 MB\n"
     ]
    }
   ],
   "source": [
    "ad.info()"
   ]
  },
  {
   "cell_type": "code",
   "execution_count": 34,
   "id": "08002d49",
   "metadata": {},
   "outputs": [],
   "source": [
    "from sklearn.model_selection import train_test_split\n"
   ]
  },
  {
   "cell_type": "code",
   "execution_count": 75,
   "id": "aa28f966",
   "metadata": {},
   "outputs": [],
   "source": [
    "ad_train, ad_test = train_test_split(ad, test_size=.2)"
   ]
  },
  {
   "cell_type": "code",
   "execution_count": 76,
   "id": "8d05e8dc",
   "metadata": {},
   "outputs": [],
   "source": [
    "ad_train_x = ad_train.iloc[:, 0:-1]\n",
    "ad_train_y = ad_train.iloc[:, -1]\n",
    "\n",
    "ad_test_x = ad_test.iloc[:, 0:-1]\n",
    "ad_test_y = ad_test.iloc[:, -1]"
   ]
  },
  {
   "cell_type": "code",
   "execution_count": 37,
   "id": "54f2634c",
   "metadata": {},
   "outputs": [],
   "source": [
    "from sklearn.neighbors import KNeighborsClassifier"
   ]
  },
  {
   "cell_type": "code",
   "execution_count": 38,
   "id": "f5e8c3e0",
   "metadata": {},
   "outputs": [],
   "source": [
    "ad_knn = KNeighborsClassifier()"
   ]
  },
  {
   "cell_type": "code",
   "execution_count": 39,
   "id": "884a0415",
   "metadata": {},
   "outputs": [
    {
     "data": {
      "text/plain": [
       "KNeighborsClassifier()"
      ]
     },
     "execution_count": 39,
     "metadata": {},
     "output_type": "execute_result"
    }
   ],
   "source": [
    "ad_knn.fit(ad_train_x, ad_train_y)"
   ]
  },
  {
   "cell_type": "code",
   "execution_count": 40,
   "id": "951476d6",
   "metadata": {},
   "outputs": [],
   "source": [
    "pred = ad_knn.predict(ad_test_x)"
   ]
  },
  {
   "cell_type": "code",
   "execution_count": 41,
   "id": "d6338268",
   "metadata": {},
   "outputs": [],
   "source": [
    "from sklearn.metrics import confusion_matrix, accuracy_score, precision_score, recall_score, f1_score"
   ]
  },
  {
   "cell_type": "code",
   "execution_count": 42,
   "id": "931c5b09",
   "metadata": {},
   "outputs": [
    {
     "data": {
      "text/plain": [
       "array([[6800,  618],\n",
       "       [1514,  837]], dtype=int64)"
      ]
     },
     "execution_count": 42,
     "metadata": {},
     "output_type": "execute_result"
    }
   ],
   "source": [
    "tab = confusion_matrix(ad_test_y, pred)\n",
    "tab"
   ]
  },
  {
   "cell_type": "code",
   "execution_count": 45,
   "id": "87a294aa",
   "metadata": {},
   "outputs": [],
   "source": [
    "Accuracy = accuracy_score(ad_test_y, pred)*100\n",
    "Precision = precision_score(ad_test_y, pred)*100\n",
    "Recall = recall_score(ad_test_y, pred)*100\n",
    "F1_Score = f1_score(ad_test_y, pred)*100"
   ]
  },
  {
   "cell_type": "code",
   "execution_count": 46,
   "id": "49b690ff",
   "metadata": {},
   "outputs": [
    {
     "name": "stdout",
     "output_type": "stream",
     "text": [
      "Accuracy is --> 78.17586242194697\n",
      "Precision is --> 57.52577319587628\n",
      "Recall is --> 35.60187154402382\n",
      "F1_score is --> 43.98318444561219\n"
     ]
    }
   ],
   "source": [
    "print('Accuracy is -->', Accuracy)\n",
    "print('Precision is -->', Precision)\n",
    "print('Recall is -->', Recall)\n",
    "print('F1_score is -->', F1_Score)"
   ]
  },
  {
   "cell_type": "code",
   "execution_count": 47,
   "id": "1651b0dd",
   "metadata": {},
   "outputs": [],
   "source": [
    "# we got a very poor performance\n",
    "# Now we will identify the value of K for best accuracy with stability"
   ]
  },
  {
   "cell_type": "code",
   "execution_count": 48,
   "id": "78d49fe3",
   "metadata": {},
   "outputs": [],
   "source": [
    "acc_list = []\n",
    "for k in range (1,75):\n",
    "    ad_knn = KNeighborsClassifier(n_neighbors= k)\n",
    "    ad_knn.fit(ad_train_x, ad_train_y)\n",
    "    pred = ad_knn.predict(ad_test_x)\n",
    "    Accuracy = accuracy_score(ad_test_y, pred)\n",
    "    acc_list.append(Accuracy)\n",
    "\n",
    "    "
   ]
  },
  {
   "cell_type": "code",
   "execution_count": 49,
   "id": "b5d2b68a",
   "metadata": {},
   "outputs": [],
   "source": [
    "import matplotlib.pyplot as plt"
   ]
  },
  {
   "cell_type": "code",
   "execution_count": 52,
   "id": "6f3aa9d0",
   "metadata": {},
   "outputs": [
    {
     "data": {
      "text/plain": [
       "[<matplotlib.lines.Line2D at 0x2572f95a430>]"
      ]
     },
     "execution_count": 52,
     "metadata": {},
     "output_type": "execute_result"
    },
    {
     "data": {
      "image/png": "[encoded data removed]",
      "text/plain": [
       "<Figure size 720x720 with 1 Axes>"
      ]
     },
     "metadata": {
      "needs_background": "light"
     },
     "output_type": "display_data"
    }
   ],
   "source": [
    "plt.figure(figsize=(10,10))\n",
    "plt.plot(acc_list, '*', color = 'r')"
   ]
  },
  {
   "cell_type": "code",
   "execution_count": 53,
   "id": "55c7a4d0",
   "metadata": {},
   "outputs": [],
   "source": [
    "# from above plot we can take k as 35"
   ]
  },
  {
   "cell_type": "code",
   "execution_count": 55,
   "id": "703fbe1c",
   "metadata": {},
   "outputs": [],
   "source": [
    "ad_knn = KNeighborsClassifier(n_neighbors= 35)\n",
    "ad_knn.fit(ad_train_x, ad_train_y)\n",
    "pred = ad_knn.predict(ad_test_x)\n"
   ]
  },
  {
   "cell_type": "code",
   "execution_count": 56,
   "id": "67e0cb28",
   "metadata": {},
   "outputs": [],
   "source": [
    "Accuracy = accuracy_score(ad_test_y, pred)*100\n",
    "Precision = precision_score(ad_test_y, pred)*100\n",
    "Recall = recall_score(ad_test_y, pred)*100\n",
    "F1_Score = f1_score(ad_test_y, pred)*100"
   ]
  },
  {
   "cell_type": "code",
   "execution_count": 57,
   "id": "501c6ea2",
   "metadata": {},
   "outputs": [
    {
     "name": "stdout",
     "output_type": "stream",
     "text": [
      "Accuracy is --> 80.24362780223156\n",
      "Precision is --> 85.3781512605042\n",
      "Recall is --> 21.60782645682688\n",
      "F1_score is --> 34.48744059742023\n"
     ]
    }
   ],
   "source": [
    "print('Accuracy is -->', Accuracy)\n",
    "print('Precision is -->', Precision)\n",
    "print('Recall is -->', Recall)\n",
    "print('F1_score is -->', F1_Score)"
   ]
  },
  {
   "cell_type": "code",
   "execution_count": 58,
   "id": "562227cb",
   "metadata": {},
   "outputs": [
    {
     "data": {
      "text/plain": [
       "array([[7331,   87],\n",
       "       [1843,  508]], dtype=int64)"
      ]
     },
     "execution_count": 58,
     "metadata": {},
     "output_type": "execute_result"
    }
   ],
   "source": [
    "# But recall and f1_score is very less\n",
    "tab = confusion_matrix(ad_test_y, pred)\n",
    "tab"
   ]
  },
  {
   "cell_type": "code",
   "execution_count": 77,
   "id": "a758cccc",
   "metadata": {},
   "outputs": [],
   "source": [
    "# This is happening because of class imbalance for class 1\n",
    "# We will do the class balancing\n",
    "\n",
    "ad1 = ad_train[ad_train.income == 1]"
   ]
  },
  {
   "cell_type": "code",
   "execution_count": 78,
   "id": "b587ce37",
   "metadata": {},
   "outputs": [
    {
     "data": {
      "text/plain": [
       "0    29679\n",
       "1     9394\n",
       "Name: income, dtype: int64"
      ]
     },
     "execution_count": 78,
     "metadata": {},
     "output_type": "execute_result"
    }
   ],
   "source": [
    "ad_train.income.value_counts()"
   ]
  },
  {
   "cell_type": "code",
   "execution_count": 79,
   "id": "ab1c657c",
   "metadata": {},
   "outputs": [
    {
     "data": {
      "text/plain": [
       "(9394, 15)"
      ]
     },
     "execution_count": 79,
     "metadata": {},
     "output_type": "execute_result"
    }
   ],
   "source": [
    "ad1.shape"
   ]
  },
  {
   "cell_type": "code",
   "execution_count": 103,
   "id": "19d10e24",
   "metadata": {},
   "outputs": [],
   "source": [
    "ad_train = pd.concat([ad_train, ad1], axis= 0)"
   ]
  },
  {
   "cell_type": "code",
   "execution_count": 104,
   "id": "c01dbbf7",
   "metadata": {},
   "outputs": [
    {
     "data": {
      "text/plain": [
       "0    29679\n",
       "1    28182\n",
       "Name: income, dtype: int64"
      ]
     },
     "execution_count": 104,
     "metadata": {},
     "output_type": "execute_result"
    }
   ],
   "source": [
    "ad_train.income.value_counts()"
   ]
  },
  {
   "cell_type": "code",
   "execution_count": 105,
   "id": "c40bed74",
   "metadata": {},
   "outputs": [],
   "source": [
    "ad_train_x = ad_train.iloc[:, 0:-1]\n",
    "ad_train_y = ad_train.iloc[:, -1]\n",
    "\n",
    "ad_test_x = ad_test.iloc[:, 0:-1]\n",
    "ad_test_y = ad_test.iloc[:, -1]"
   ]
  },
  {
   "cell_type": "code",
   "execution_count": 85,
   "id": "aceb1a5b",
   "metadata": {},
   "outputs": [
    {
     "data": {
      "text/plain": [
       "(48467, 14)"
      ]
     },
     "execution_count": 85,
     "metadata": {},
     "output_type": "execute_result"
    }
   ],
   "source": [
    "ad_train_x.shape"
   ]
  },
  {
   "cell_type": "code",
   "execution_count": 106,
   "id": "c72751c4",
   "metadata": {},
   "outputs": [],
   "source": [
    "ad_knn = KNeighborsClassifier()\n",
    "ad_knn.fit(ad_train_x, ad_train_y)\n",
    "pred = ad_knn.predict(ad_test_x)"
   ]
  },
  {
   "cell_type": "code",
   "execution_count": 107,
   "id": "e28ebeb9",
   "metadata": {},
   "outputs": [
    {
     "data": {
      "text/plain": [
       "array([[4155, 3321],\n",
       "       [ 682, 1611]], dtype=int64)"
      ]
     },
     "execution_count": 107,
     "metadata": {},
     "output_type": "execute_result"
    }
   ],
   "source": [
    "tab = confusion_matrix(ad_test_y, pred)\n",
    "tab"
   ]
  },
  {
   "cell_type": "code",
   "execution_count": 108,
   "id": "2685aafe",
   "metadata": {},
   "outputs": [],
   "source": [
    "Accuracy = accuracy_score(ad_test_y, pred)*100\n",
    "Precision = precision_score(ad_test_y, pred)*100\n",
    "Recall = recall_score(ad_test_y, pred)*100\n",
    "F1_Score = f1_score(ad_test_y, pred)*100"
   ]
  },
  {
   "cell_type": "code",
   "execution_count": 109,
   "id": "b3162d46",
   "metadata": {},
   "outputs": [
    {
     "name": "stdout",
     "output_type": "stream",
     "text": [
      "Accuracy is --> 59.02344149861808\n",
      "Precision is --> 32.66423357664234\n",
      "Recall is --> 70.25730484081988\n",
      "F1_score is --> 44.59515570934256\n"
     ]
    }
   ],
   "source": [
    "print('Accuracy is -->', Accuracy)\n",
    "print('Precision is -->', Precision)\n",
    "print('Recall is -->', Recall)\n",
    "print('F1_score is -->', F1_Score)"
   ]
  },
  {
   "cell_type": "code",
   "execution_count": 110,
   "id": "1aea7cbe",
   "metadata": {},
   "outputs": [],
   "source": [
    "acc_list = []\n",
    "for k in range (1,200):\n",
    "    ad_knn = KNeighborsClassifier(n_neighbors= k)\n",
    "    ad_knn.fit(ad_train_x, ad_train_y)\n",
    "    pred = ad_knn.predict(ad_test_x)\n",
    "    Accuracy = accuracy_score(ad_test_y, pred)\n",
    "    acc_list.append(Accuracy)\n",
    "\n",
    "    "
   ]
  },
  {
   "cell_type": "code",
   "execution_count": 111,
   "id": "a96c8d94",
   "metadata": {},
   "outputs": [
    {
     "data": {
      "text/plain": [
       "[<matplotlib.lines.Line2D at 0x2572e7f0520>]"
      ]
     },
     "execution_count": 111,
     "metadata": {},
     "output_type": "execute_result"
    },
    {
     "data": {
      "image/png": "[encoded data removed]",
      "text/plain": [
       "<Figure size 1080x1080 with 1 Axes>"
      ]
     },
     "metadata": {
      "needs_background": "light"
     },
     "output_type": "display_data"
    }
   ],
   "source": [
    "plt.figure(figsize=(15,15))\n",
    "plt.plot(acc_list, '*', color = 'r')"
   ]
  },
  {
   "cell_type": "code",
   "execution_count": 92,
   "id": "c5456cce",
   "metadata": {},
   "outputs": [],
   "source": [
    "# from above plot we can take k as 40"
   ]
  },
  {
   "cell_type": "code",
   "execution_count": 118,
   "id": "254f3947",
   "metadata": {},
   "outputs": [
    {
     "data": {
      "text/plain": [
       "array([[5530, 1946],\n",
       "       [1182, 1111]], dtype=int64)"
      ]
     },
     "execution_count": 118,
     "metadata": {},
     "output_type": "execute_result"
    }
   ],
   "source": [
    "ad_knn = KNeighborsClassifier(n_neighbors= 40)\n",
    "ad_knn.fit(ad_train_x, ad_train_y)\n",
    "pred = ad_knn.predict(ad_test_x)\n",
    "tab = confusion_matrix(ad_test_y, pred)\n",
    "tab"
   ]
  },
  {
   "cell_type": "code",
   "execution_count": 119,
   "id": "021f173f",
   "metadata": {},
   "outputs": [],
   "source": [
    "Accuracy = accuracy_score(ad_test_y, pred)*100\n",
    "Precision = precision_score(ad_test_y, pred)*100\n",
    "Recall = recall_score(ad_test_y, pred)*100\n",
    "F1_Score = f1_score(ad_test_y, pred)*100"
   ]
  },
  {
   "cell_type": "code",
   "execution_count": 120,
   "id": "5d9fe33c",
   "metadata": {},
   "outputs": [
    {
     "name": "stdout",
     "output_type": "stream",
     "text": [
      "Accuracy is --> 67.98034599242501\n",
      "Precision is --> 36.34281975793262\n",
      "Recall is --> 48.451809856083734\n",
      "F1_score is --> 41.532710280373834\n"
     ]
    }
   ],
   "source": [
    "print('Accuracy is -->', Accuracy)\n",
    "print('Precision is -->', Precision)\n",
    "print('Recall is -->', Recall)\n",
    "print('F1_score is -->', F1_Score)"
   ]
  },
  {
   "cell_type": "code",
   "execution_count": null,
   "id": "f1355937",
   "metadata": {},
   "outputs": [],
   "source": []
  }
 ],
 "metadata": {
  "kernelspec": {
   "display_name": "Python 3 (ipykernel)",
   "language": "python",
   "name": "python3"
  },
  "language_info": {
   "codemirror_mode": {
    "name": "ipython",
    "version": 3
   },
   "file_extension": ".py",
   "mimetype": "text/x-python",
   "name": "python",
   "nbconvert_exporter": "python",
   "pygments_lexer": "ipython3",
   "version": "3.9.12"
  }
 },
 "nbformat": 4,
 "nbformat_minor": 5
}
