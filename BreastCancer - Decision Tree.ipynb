{
 "cells": [
  {
   "cell_type": "code",
   "execution_count": 1,
   "id": "fd756bc0",
   "metadata": {},
   "outputs": [],
   "source": [
    "import pandas as pd\n",
    "import numpy as np"
   ]
  },
  {
   "cell_type": "code",
   "execution_count": 2,
   "id": "6c1e1625",
   "metadata": {},
   "outputs": [],
   "source": [
    "bc = pd.read_csv(r'C:\\Users\\RahulK\\Downloads\\Machine Learning By Pranjal Sir\\Decision Tree\\BreastCancer.csv')"
   ]
  },
  {
   "cell_type": "code",
   "execution_count": 3,
   "id": "502e86e0",
   "metadata": {},
   "outputs": [
    {
     "data": {
      "text/html": [
       "<div>\n",
       "<style scoped>\n",
       "    .dataframe tbody tr th:only-of-type {\n",
       "        vertical-align: middle;\n",
       "    }\n",
       "\n",
       "    .dataframe tbody tr th {\n",
       "        vertical-align: top;\n",
       "    }\n",
       "\n",
       "    .dataframe thead th {\n",
       "        text-align: right;\n",
       "    }\n",
       "</style>\n",
       "<table border=\"1\" class=\"dataframe\">\n",
       "  <thead>\n",
       "    <tr style=\"text-align: right;\">\n",
       "      <th></th>\n",
       "      <th>Unnamed: 0</th>\n",
       "      <th>Id</th>\n",
       "      <th>Cl.thickness</th>\n",
       "      <th>Cell.size</th>\n",
       "      <th>Cell.shape</th>\n",
       "      <th>Marg.adhesion</th>\n",
       "      <th>Epith.c.size</th>\n",
       "      <th>Bare.nuclei</th>\n",
       "      <th>Bl.cromatin</th>\n",
       "      <th>Normal.nucleoli</th>\n",
       "      <th>Mitoses</th>\n",
       "      <th>Class</th>\n",
       "    </tr>\n",
       "  </thead>\n",
       "  <tbody>\n",
       "    <tr>\n",
       "      <th>0</th>\n",
       "      <td>1</td>\n",
       "      <td>1000025</td>\n",
       "      <td>5</td>\n",
       "      <td>1</td>\n",
       "      <td>1</td>\n",
       "      <td>1</td>\n",
       "      <td>2</td>\n",
       "      <td>1.0</td>\n",
       "      <td>3</td>\n",
       "      <td>1</td>\n",
       "      <td>1</td>\n",
       "      <td>benign</td>\n",
       "    </tr>\n",
       "    <tr>\n",
       "      <th>1</th>\n",
       "      <td>2</td>\n",
       "      <td>1002945</td>\n",
       "      <td>5</td>\n",
       "      <td>4</td>\n",
       "      <td>4</td>\n",
       "      <td>5</td>\n",
       "      <td>7</td>\n",
       "      <td>10.0</td>\n",
       "      <td>3</td>\n",
       "      <td>2</td>\n",
       "      <td>1</td>\n",
       "      <td>benign</td>\n",
       "    </tr>\n",
       "    <tr>\n",
       "      <th>2</th>\n",
       "      <td>3</td>\n",
       "      <td>1015425</td>\n",
       "      <td>3</td>\n",
       "      <td>1</td>\n",
       "      <td>1</td>\n",
       "      <td>1</td>\n",
       "      <td>2</td>\n",
       "      <td>2.0</td>\n",
       "      <td>3</td>\n",
       "      <td>1</td>\n",
       "      <td>1</td>\n",
       "      <td>benign</td>\n",
       "    </tr>\n",
       "    <tr>\n",
       "      <th>3</th>\n",
       "      <td>4</td>\n",
       "      <td>1016277</td>\n",
       "      <td>6</td>\n",
       "      <td>8</td>\n",
       "      <td>8</td>\n",
       "      <td>1</td>\n",
       "      <td>3</td>\n",
       "      <td>4.0</td>\n",
       "      <td>3</td>\n",
       "      <td>7</td>\n",
       "      <td>1</td>\n",
       "      <td>benign</td>\n",
       "    </tr>\n",
       "    <tr>\n",
       "      <th>4</th>\n",
       "      <td>5</td>\n",
       "      <td>1017023</td>\n",
       "      <td>4</td>\n",
       "      <td>1</td>\n",
       "      <td>1</td>\n",
       "      <td>3</td>\n",
       "      <td>2</td>\n",
       "      <td>1.0</td>\n",
       "      <td>3</td>\n",
       "      <td>1</td>\n",
       "      <td>1</td>\n",
       "      <td>benign</td>\n",
       "    </tr>\n",
       "  </tbody>\n",
       "</table>\n",
       "</div>"
      ],
      "text/plain": [
       "   Unnamed: 0       Id  Cl.thickness  Cell.size  Cell.shape  Marg.adhesion  \\\n",
       "0           1  1000025             5          1           1              1   \n",
       "1           2  1002945             5          4           4              5   \n",
       "2           3  1015425             3          1           1              1   \n",
       "3           4  1016277             6          8           8              1   \n",
       "4           5  1017023             4          1           1              3   \n",
       "\n",
       "   Epith.c.size  Bare.nuclei  Bl.cromatin  Normal.nucleoli  Mitoses   Class  \n",
       "0             2          1.0            3                1        1  benign  \n",
       "1             7         10.0            3                2        1  benign  \n",
       "2             2          2.0            3                1        1  benign  \n",
       "3             3          4.0            3                7        1  benign  \n",
       "4             2          1.0            3                1        1  benign  "
      ]
     },
     "execution_count": 3,
     "metadata": {},
     "output_type": "execute_result"
    }
   ],
   "source": [
    "bc.head()"
   ]
  },
  {
   "cell_type": "code",
   "execution_count": 4,
   "id": "1f9399da",
   "metadata": {},
   "outputs": [
    {
     "data": {
      "text/plain": [
       "(699, 12)"
      ]
     },
     "execution_count": 4,
     "metadata": {},
     "output_type": "execute_result"
    }
   ],
   "source": [
    "bc.shape"
   ]
  },
  {
   "cell_type": "code",
   "execution_count": 5,
   "id": "6c7a5630",
   "metadata": {},
   "outputs": [
    {
     "data": {
      "text/plain": [
       "Unnamed: 0          0\n",
       "Id                  0\n",
       "Cl.thickness        0\n",
       "Cell.size           0\n",
       "Cell.shape          0\n",
       "Marg.adhesion       0\n",
       "Epith.c.size        0\n",
       "Bare.nuclei        16\n",
       "Bl.cromatin         0\n",
       "Normal.nucleoli     0\n",
       "Mitoses             0\n",
       "Class               0\n",
       "dtype: int64"
      ]
     },
     "execution_count": 5,
     "metadata": {},
     "output_type": "execute_result"
    }
   ],
   "source": [
    "bc.isnull().sum()"
   ]
  },
  {
   "cell_type": "code",
   "execution_count": 6,
   "id": "5b907fdf",
   "metadata": {},
   "outputs": [
    {
     "data": {
      "text/plain": [
       "1.0     402\n",
       "10.0    132\n",
       "2.0      30\n",
       "5.0      30\n",
       "3.0      28\n",
       "8.0      21\n",
       "4.0      19\n",
       "9.0       9\n",
       "7.0       8\n",
       "6.0       4\n",
       "Name: Bare.nuclei, dtype: int64"
      ]
     },
     "execution_count": 6,
     "metadata": {},
     "output_type": "execute_result"
    }
   ],
   "source": [
    "bc['Bare.nuclei'].value_counts()"
   ]
  },
  {
   "cell_type": "code",
   "execution_count": 10,
   "id": "56b20848",
   "metadata": {},
   "outputs": [],
   "source": [
    "bc['Bare.nuclei'].fillna(1, inplace= True)"
   ]
  },
  {
   "cell_type": "code",
   "execution_count": 11,
   "id": "d3b4807f",
   "metadata": {},
   "outputs": [
    {
     "data": {
      "text/plain": [
       "Unnamed: 0         0\n",
       "Id                 0\n",
       "Cl.thickness       0\n",
       "Cell.size          0\n",
       "Cell.shape         0\n",
       "Marg.adhesion      0\n",
       "Epith.c.size       0\n",
       "Bare.nuclei        0\n",
       "Bl.cromatin        0\n",
       "Normal.nucleoli    0\n",
       "Mitoses            0\n",
       "Class              0\n",
       "dtype: int64"
      ]
     },
     "execution_count": 11,
     "metadata": {},
     "output_type": "execute_result"
    }
   ],
   "source": [
    "bc.isnull().sum()"
   ]
  },
  {
   "cell_type": "code",
   "execution_count": 12,
   "id": "23b1ac35",
   "metadata": {},
   "outputs": [
    {
     "name": "stdout",
     "output_type": "stream",
     "text": [
      "<class 'pandas.core.frame.DataFrame'>\n",
      "RangeIndex: 699 entries, 0 to 698\n",
      "Data columns (total 12 columns):\n",
      " #   Column           Non-Null Count  Dtype  \n",
      "---  ------           --------------  -----  \n",
      " 0   Unnamed: 0       699 non-null    int64  \n",
      " 1   Id               699 non-null    int64  \n",
      " 2   Cl.thickness     699 non-null    int64  \n",
      " 3   Cell.size        699 non-null    int64  \n",
      " 4   Cell.shape       699 non-null    int64  \n",
      " 5   Marg.adhesion    699 non-null    int64  \n",
      " 6   Epith.c.size     699 non-null    int64  \n",
      " 7   Bare.nuclei      699 non-null    float64\n",
      " 8   Bl.cromatin      699 non-null    int64  \n",
      " 9   Normal.nucleoli  699 non-null    int64  \n",
      " 10  Mitoses          699 non-null    int64  \n",
      " 11  Class            699 non-null    object \n",
      "dtypes: float64(1), int64(10), object(1)\n",
      "memory usage: 65.7+ KB\n"
     ]
    }
   ],
   "source": [
    "bc.info()"
   ]
  },
  {
   "cell_type": "code",
   "execution_count": 13,
   "id": "90debcc9",
   "metadata": {},
   "outputs": [
    {
     "data": {
      "text/plain": [
       "benign       458\n",
       "malignant    241\n",
       "Name: Class, dtype: int64"
      ]
     },
     "execution_count": 13,
     "metadata": {},
     "output_type": "execute_result"
    }
   ],
   "source": [
    "bc.Class.value_counts()"
   ]
  },
  {
   "cell_type": "code",
   "execution_count": 14,
   "id": "602c6aa0",
   "metadata": {},
   "outputs": [],
   "source": [
    "bc.Class.replace({'benign': 0, 'malignant': 1}, inplace= True)"
   ]
  },
  {
   "cell_type": "code",
   "execution_count": 15,
   "id": "f7a05c42",
   "metadata": {},
   "outputs": [
    {
     "name": "stdout",
     "output_type": "stream",
     "text": [
      "<class 'pandas.core.frame.DataFrame'>\n",
      "RangeIndex: 699 entries, 0 to 698\n",
      "Data columns (total 12 columns):\n",
      " #   Column           Non-Null Count  Dtype  \n",
      "---  ------           --------------  -----  \n",
      " 0   Unnamed: 0       699 non-null    int64  \n",
      " 1   Id               699 non-null    int64  \n",
      " 2   Cl.thickness     699 non-null    int64  \n",
      " 3   Cell.size        699 non-null    int64  \n",
      " 4   Cell.shape       699 non-null    int64  \n",
      " 5   Marg.adhesion    699 non-null    int64  \n",
      " 6   Epith.c.size     699 non-null    int64  \n",
      " 7   Bare.nuclei      699 non-null    float64\n",
      " 8   Bl.cromatin      699 non-null    int64  \n",
      " 9   Normal.nucleoli  699 non-null    int64  \n",
      " 10  Mitoses          699 non-null    int64  \n",
      " 11  Class            699 non-null    int64  \n",
      "dtypes: float64(1), int64(11)\n",
      "memory usage: 65.7 KB\n"
     ]
    }
   ],
   "source": [
    "bc.info()"
   ]
  },
  {
   "cell_type": "code",
   "execution_count": 16,
   "id": "47af74e1",
   "metadata": {},
   "outputs": [],
   "source": [
    "from sklearn.model_selection import train_test_split\n",
    "from sklearn.linear_model import LogisticRegression\n",
    "from sklearn.metrics import confusion_matrix, accuracy_score, precision_score, recall_score, f1_score\n",
    "from sklearn.tree import DecisionTreeClassifier"
   ]
  },
  {
   "cell_type": "code",
   "execution_count": 17,
   "id": "147d5397",
   "metadata": {},
   "outputs": [],
   "source": [
    "bc_train, bc_test = train_test_split(bc, test_size=.2)"
   ]
  },
  {
   "cell_type": "code",
   "execution_count": 18,
   "id": "72b26a46",
   "metadata": {},
   "outputs": [],
   "source": [
    "bc_train_x = bc_train.iloc[:,0:-1]\n",
    "bc_train_y = bc_train.iloc[:, -1]\n",
    "\n",
    "bc_test_x = bc_test.iloc[:,0:-1]\n",
    "bc_test_y = bc_test.iloc[:, -1]"
   ]
  },
  {
   "cell_type": "code",
   "execution_count": 19,
   "id": "665152d7",
   "metadata": {},
   "outputs": [],
   "source": [
    "logreg = LogisticRegression()"
   ]
  },
  {
   "cell_type": "code",
   "execution_count": 21,
   "id": "6b373b91",
   "metadata": {},
   "outputs": [
    {
     "data": {
      "text/plain": [
       "LogisticRegression()"
      ]
     },
     "execution_count": 21,
     "metadata": {},
     "output_type": "execute_result"
    }
   ],
   "source": [
    "logreg.fit(bc_train_x, bc_train_y)"
   ]
  },
  {
   "cell_type": "code",
   "execution_count": 22,
   "id": "dc605b95",
   "metadata": {},
   "outputs": [],
   "source": [
    "pred_log = logreg.predict(bc_test_x)"
   ]
  },
  {
   "cell_type": "code",
   "execution_count": 49,
   "id": "184701ec",
   "metadata": {},
   "outputs": [],
   "source": [
    "dt = DecisionTreeClassifier(max_depth= 5)"
   ]
  },
  {
   "cell_type": "code",
   "execution_count": 50,
   "id": "bdd79672",
   "metadata": {},
   "outputs": [
    {
     "data": {
      "text/plain": [
       "DecisionTreeClassifier(max_depth=5)"
      ]
     },
     "execution_count": 50,
     "metadata": {},
     "output_type": "execute_result"
    }
   ],
   "source": [
    "dt.fit(bc_train_x, bc_train_y)"
   ]
  },
  {
   "cell_type": "code",
   "execution_count": 51,
   "id": "54bff73b",
   "metadata": {},
   "outputs": [],
   "source": [
    "pred_dt = dt.predict(bc_test_x)"
   ]
  },
  {
   "cell_type": "code",
   "execution_count": 52,
   "id": "792bc4a0",
   "metadata": {},
   "outputs": [
    {
     "data": {
      "text/plain": [
       "array([[85,  1],\n",
       "       [ 1, 53]], dtype=int64)"
      ]
     },
     "execution_count": 52,
     "metadata": {},
     "output_type": "execute_result"
    }
   ],
   "source": [
    "tab_dt = confusion_matrix(bc_test_y, pred_dt)\n",
    "tab_dt"
   ]
  },
  {
   "cell_type": "code",
   "execution_count": 53,
   "id": "5d465bdd",
   "metadata": {},
   "outputs": [
    {
     "name": "stdout",
     "output_type": "stream",
     "text": [
      "Accuracy score is -->  98.57142857142858\n",
      "Precision score is -->  98.14814814814815\n",
      "Recall score is -->  98.14814814814815\n",
      "F1 score is -->  98.14814814814815\n"
     ]
    }
   ],
   "source": [
    "print('Accuracy score is --> ', accuracy_score(bc_test_y, pred_dt)*100)\n",
    "print('Precision score is --> ', precision_score(bc_test_y, pred_dt)*100)\n",
    "print('Recall score is --> ', recall_score(bc_test_y, pred_dt)*100)\n",
    "print('F1 score is --> ', f1_score(bc_test_y, pred_dt)*100)\n",
    "\n",
    "# From GINI - Decision Tree\n",
    "\n",
    "# we will use GINI as it gives better result"
   ]
  },
  {
   "cell_type": "code",
   "execution_count": 33,
   "id": "17ca2572",
   "metadata": {},
   "outputs": [
    {
     "name": "stdout",
     "output_type": "stream",
     "text": [
      "Accuracy score is -->  92.85714285714286\n",
      "Precision score is -->  95.83333333333334\n",
      "Recall score is -->  85.18518518518519\n",
      "F1 score is -->  90.19607843137256\n"
     ]
    }
   ],
   "source": [
    "print('Accuracy score is --> ', accuracy_score(bc_test_y, pred_dt)*100)\n",
    "print('Precision score is --> ', precision_score(bc_test_y, pred_dt)*100)\n",
    "print('Recall score is --> ', recall_score(bc_test_y, pred_dt)*100)\n",
    "print('F1 score is --> ', f1_score(bc_test_y, pred_dt)*100)\n",
    "\n",
    "# From Entropy - Decision Tree"
   ]
  },
  {
   "cell_type": "code",
   "execution_count": 26,
   "id": "a358690d",
   "metadata": {},
   "outputs": [
    {
     "data": {
      "text/plain": [
       "array([[86,  0],\n",
       "       [54,  0]], dtype=int64)"
      ]
     },
     "execution_count": 26,
     "metadata": {},
     "output_type": "execute_result"
    }
   ],
   "source": [
    "tab_log = confusion_matrix(bc_test_y, pred_log)\n",
    "tab_log"
   ]
  },
  {
   "cell_type": "code",
   "execution_count": 28,
   "id": "a411821b",
   "metadata": {},
   "outputs": [
    {
     "name": "stdout",
     "output_type": "stream",
     "text": [
      "Accuracy score is -->  61.42857142857143\n",
      "Precision score is -->  0.0\n",
      "Recall score is -->  0.0\n",
      "F1 score is -->  0.0\n"
     ]
    },
    {
     "name": "stderr",
     "output_type": "stream",
     "text": [
      "C:\\Users\\RahulK\\anaconda3\\lib\\site-packages\\sklearn\\metrics\\_classification.py:1318: UndefinedMetricWarning: Precision is ill-defined and being set to 0.0 due to no predicted samples. Use `zero_division` parameter to control this behavior.\n",
      "  _warn_prf(average, modifier, msg_start, len(result))\n"
     ]
    }
   ],
   "source": [
    "print('Accuracy score is --> ', accuracy_score(bc_test_y, pred_log)*100)\n",
    "print('Precision score is --> ', precision_score(bc_test_y, pred_log)*100)\n",
    "print('Recall score is --> ', recall_score(bc_test_y, pred_log)*100)\n",
    "print('F1 score is --> ', f1_score(bc_test_y, pred_log)*100)\n",
    "\n",
    "# From Logistic model"
   ]
  },
  {
   "cell_type": "code",
   "execution_count": 54,
   "id": "366bb9d8",
   "metadata": {},
   "outputs": [
    {
     "data": {
      "text/html": [
       "<div>\n",
       "<style scoped>\n",
       "    .dataframe tbody tr th:only-of-type {\n",
       "        vertical-align: middle;\n",
       "    }\n",
       "\n",
       "    .dataframe tbody tr th {\n",
       "        vertical-align: top;\n",
       "    }\n",
       "\n",
       "    .dataframe thead th {\n",
       "        text-align: right;\n",
       "    }\n",
       "</style>\n",
       "<table border=\"1\" class=\"dataframe\">\n",
       "  <thead>\n",
       "    <tr style=\"text-align: right;\">\n",
       "      <th></th>\n",
       "      <th>Feature</th>\n",
       "      <th>Value</th>\n",
       "    </tr>\n",
       "  </thead>\n",
       "  <tbody>\n",
       "    <tr>\n",
       "      <th>3</th>\n",
       "      <td>Cell.size</td>\n",
       "      <td>0.748695</td>\n",
       "    </tr>\n",
       "    <tr>\n",
       "      <th>7</th>\n",
       "      <td>Bare.nuclei</td>\n",
       "      <td>0.142838</td>\n",
       "    </tr>\n",
       "    <tr>\n",
       "      <th>2</th>\n",
       "      <td>Cl.thickness</td>\n",
       "      <td>0.031838</td>\n",
       "    </tr>\n",
       "    <tr>\n",
       "      <th>0</th>\n",
       "      <td>Unnamed: 0</td>\n",
       "      <td>0.020115</td>\n",
       "    </tr>\n",
       "    <tr>\n",
       "      <th>4</th>\n",
       "      <td>Cell.shape</td>\n",
       "      <td>0.013606</td>\n",
       "    </tr>\n",
       "    <tr>\n",
       "      <th>5</th>\n",
       "      <td>Marg.adhesion</td>\n",
       "      <td>0.011464</td>\n",
       "    </tr>\n",
       "    <tr>\n",
       "      <th>9</th>\n",
       "      <td>Normal.nucleoli</td>\n",
       "      <td>0.010730</td>\n",
       "    </tr>\n",
       "    <tr>\n",
       "      <th>6</th>\n",
       "      <td>Epith.c.size</td>\n",
       "      <td>0.007840</td>\n",
       "    </tr>\n",
       "    <tr>\n",
       "      <th>1</th>\n",
       "      <td>Id</td>\n",
       "      <td>0.006236</td>\n",
       "    </tr>\n",
       "    <tr>\n",
       "      <th>8</th>\n",
       "      <td>Bl.cromatin</td>\n",
       "      <td>0.004998</td>\n",
       "    </tr>\n",
       "    <tr>\n",
       "      <th>10</th>\n",
       "      <td>Mitoses</td>\n",
       "      <td>0.001642</td>\n",
       "    </tr>\n",
       "  </tbody>\n",
       "</table>\n",
       "</div>"
      ],
      "text/plain": [
       "            Feature     Value\n",
       "3         Cell.size  0.748695\n",
       "7       Bare.nuclei  0.142838\n",
       "2      Cl.thickness  0.031838\n",
       "0        Unnamed: 0  0.020115\n",
       "4        Cell.shape  0.013606\n",
       "5     Marg.adhesion  0.011464\n",
       "9   Normal.nucleoli  0.010730\n",
       "6      Epith.c.size  0.007840\n",
       "1                Id  0.006236\n",
       "8       Bl.cromatin  0.004998\n",
       "10          Mitoses  0.001642"
      ]
     },
     "execution_count": 54,
     "metadata": {},
     "output_type": "execute_result"
    }
   ],
   "source": [
    "feature_imp = pd.DataFrame({'Feature': bc_train_x.columns, 'Value': dt.feature_importances_})\n",
    "feature_imp.sort_values('Value', ascending= False)"
   ]
  }
 ],
 "metadata": {
  "kernelspec": {
   "display_name": "Python 3 (ipykernel)",
   "language": "python",
   "name": "python3"
  },
  "language_info": {
   "codemirror_mode": {
    "name": "ipython",
    "version": 3
   },
   "file_extension": ".py",
   "mimetype": "text/x-python",
   "name": "python",
   "nbconvert_exporter": "python",
   "pygments_lexer": "ipython3",
   "version": "3.9.12"
  }
 },
 "nbformat": 4,
 "nbformat_minor": 5
}
