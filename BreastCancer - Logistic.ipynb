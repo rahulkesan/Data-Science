{
 "cells": [
  {
   "cell_type": "code",
   "execution_count": 1,
   "id": "91eb4a9f",
   "metadata": {},
   "outputs": [],
   "source": [
    "import pandas as pd\n",
    "import numpy as np"
   ]
  },
  {
   "cell_type": "code",
   "execution_count": 2,
   "id": "4f04fb9a",
   "metadata": {},
   "outputs": [],
   "source": [
    "bc = pd.read_csv(r'C:\\Users\\RahulK\\Downloads\\Machine Learning By Pranjal Sir\\Regression\\Logistic\\BreastCancer.csv')"
   ]
  },
  {
   "cell_type": "code",
   "execution_count": 3,
   "id": "f30536f7",
   "metadata": {},
   "outputs": [
    {
     "data": {
      "text/html": [
       "<div>\n",
       "<style scoped>\n",
       "    .dataframe tbody tr th:only-of-type {\n",
       "        vertical-align: middle;\n",
       "    }\n",
       "\n",
       "    .dataframe tbody tr th {\n",
       "        vertical-align: top;\n",
       "    }\n",
       "\n",
       "    .dataframe thead th {\n",
       "        text-align: right;\n",
       "    }\n",
       "</style>\n",
       "<table border=\"1\" class=\"dataframe\">\n",
       "  <thead>\n",
       "    <tr style=\"text-align: right;\">\n",
       "      <th></th>\n",
       "      <th>Unnamed: 0</th>\n",
       "      <th>Id</th>\n",
       "      <th>Cl.thickness</th>\n",
       "      <th>Cell.size</th>\n",
       "      <th>Cell.shape</th>\n",
       "      <th>Marg.adhesion</th>\n",
       "      <th>Epith.c.size</th>\n",
       "      <th>Bare.nuclei</th>\n",
       "      <th>Bl.cromatin</th>\n",
       "      <th>Normal.nucleoli</th>\n",
       "      <th>Mitoses</th>\n",
       "      <th>Class</th>\n",
       "    </tr>\n",
       "  </thead>\n",
       "  <tbody>\n",
       "    <tr>\n",
       "      <th>0</th>\n",
       "      <td>1</td>\n",
       "      <td>1000025</td>\n",
       "      <td>5</td>\n",
       "      <td>1</td>\n",
       "      <td>1</td>\n",
       "      <td>1</td>\n",
       "      <td>2</td>\n",
       "      <td>1.0</td>\n",
       "      <td>3</td>\n",
       "      <td>1</td>\n",
       "      <td>1</td>\n",
       "      <td>benign</td>\n",
       "    </tr>\n",
       "    <tr>\n",
       "      <th>1</th>\n",
       "      <td>2</td>\n",
       "      <td>1002945</td>\n",
       "      <td>5</td>\n",
       "      <td>4</td>\n",
       "      <td>4</td>\n",
       "      <td>5</td>\n",
       "      <td>7</td>\n",
       "      <td>10.0</td>\n",
       "      <td>3</td>\n",
       "      <td>2</td>\n",
       "      <td>1</td>\n",
       "      <td>benign</td>\n",
       "    </tr>\n",
       "    <tr>\n",
       "      <th>2</th>\n",
       "      <td>3</td>\n",
       "      <td>1015425</td>\n",
       "      <td>3</td>\n",
       "      <td>1</td>\n",
       "      <td>1</td>\n",
       "      <td>1</td>\n",
       "      <td>2</td>\n",
       "      <td>2.0</td>\n",
       "      <td>3</td>\n",
       "      <td>1</td>\n",
       "      <td>1</td>\n",
       "      <td>benign</td>\n",
       "    </tr>\n",
       "    <tr>\n",
       "      <th>3</th>\n",
       "      <td>4</td>\n",
       "      <td>1016277</td>\n",
       "      <td>6</td>\n",
       "      <td>8</td>\n",
       "      <td>8</td>\n",
       "      <td>1</td>\n",
       "      <td>3</td>\n",
       "      <td>4.0</td>\n",
       "      <td>3</td>\n",
       "      <td>7</td>\n",
       "      <td>1</td>\n",
       "      <td>benign</td>\n",
       "    </tr>\n",
       "    <tr>\n",
       "      <th>4</th>\n",
       "      <td>5</td>\n",
       "      <td>1017023</td>\n",
       "      <td>4</td>\n",
       "      <td>1</td>\n",
       "      <td>1</td>\n",
       "      <td>3</td>\n",
       "      <td>2</td>\n",
       "      <td>1.0</td>\n",
       "      <td>3</td>\n",
       "      <td>1</td>\n",
       "      <td>1</td>\n",
       "      <td>benign</td>\n",
       "    </tr>\n",
       "  </tbody>\n",
       "</table>\n",
       "</div>"
      ],
      "text/plain": [
       "   Unnamed: 0       Id  Cl.thickness  Cell.size  Cell.shape  Marg.adhesion  \\\n",
       "0           1  1000025             5          1           1              1   \n",
       "1           2  1002945             5          4           4              5   \n",
       "2           3  1015425             3          1           1              1   \n",
       "3           4  1016277             6          8           8              1   \n",
       "4           5  1017023             4          1           1              3   \n",
       "\n",
       "   Epith.c.size  Bare.nuclei  Bl.cromatin  Normal.nucleoli  Mitoses   Class  \n",
       "0             2          1.0            3                1        1  benign  \n",
       "1             7         10.0            3                2        1  benign  \n",
       "2             2          2.0            3                1        1  benign  \n",
       "3             3          4.0            3                7        1  benign  \n",
       "4             2          1.0            3                1        1  benign  "
      ]
     },
     "execution_count": 3,
     "metadata": {},
     "output_type": "execute_result"
    }
   ],
   "source": [
    "bc.head()"
   ]
  },
  {
   "cell_type": "code",
   "execution_count": 4,
   "id": "bead6e28",
   "metadata": {},
   "outputs": [
    {
     "data": {
      "text/plain": [
       "(699, 12)"
      ]
     },
     "execution_count": 4,
     "metadata": {},
     "output_type": "execute_result"
    }
   ],
   "source": [
    "bc.shape"
   ]
  },
  {
   "cell_type": "code",
   "execution_count": 5,
   "id": "59a70221",
   "metadata": {},
   "outputs": [
    {
     "data": {
      "text/plain": [
       "Unnamed: 0          0\n",
       "Id                  0\n",
       "Cl.thickness        0\n",
       "Cell.size           0\n",
       "Cell.shape          0\n",
       "Marg.adhesion       0\n",
       "Epith.c.size        0\n",
       "Bare.nuclei        16\n",
       "Bl.cromatin         0\n",
       "Normal.nucleoli     0\n",
       "Mitoses             0\n",
       "Class               0\n",
       "dtype: int64"
      ]
     },
     "execution_count": 5,
     "metadata": {},
     "output_type": "execute_result"
    }
   ],
   "source": [
    "bc.isnull().sum()"
   ]
  },
  {
   "cell_type": "code",
   "execution_count": 6,
   "id": "41f19ca5",
   "metadata": {},
   "outputs": [
    {
     "name": "stdout",
     "output_type": "stream",
     "text": [
      "<class 'pandas.core.frame.DataFrame'>\n",
      "RangeIndex: 699 entries, 0 to 698\n",
      "Data columns (total 12 columns):\n",
      " #   Column           Non-Null Count  Dtype  \n",
      "---  ------           --------------  -----  \n",
      " 0   Unnamed: 0       699 non-null    int64  \n",
      " 1   Id               699 non-null    int64  \n",
      " 2   Cl.thickness     699 non-null    int64  \n",
      " 3   Cell.size        699 non-null    int64  \n",
      " 4   Cell.shape       699 non-null    int64  \n",
      " 5   Marg.adhesion    699 non-null    int64  \n",
      " 6   Epith.c.size     699 non-null    int64  \n",
      " 7   Bare.nuclei      683 non-null    float64\n",
      " 8   Bl.cromatin      699 non-null    int64  \n",
      " 9   Normal.nucleoli  699 non-null    int64  \n",
      " 10  Mitoses          699 non-null    int64  \n",
      " 11  Class            699 non-null    object \n",
      "dtypes: float64(1), int64(10), object(1)\n",
      "memory usage: 65.7+ KB\n"
     ]
    }
   ],
   "source": [
    "bc.info()"
   ]
  },
  {
   "cell_type": "code",
   "execution_count": 10,
   "id": "0f5faa18",
   "metadata": {},
   "outputs": [
    {
     "data": {
      "text/plain": [
       "1.0     418\n",
       "10.0    132\n",
       "2.0      30\n",
       "5.0      30\n",
       "3.0      28\n",
       "8.0      21\n",
       "4.0      19\n",
       "9.0       9\n",
       "7.0       8\n",
       "6.0       4\n",
       "Name: Bare.nuclei, dtype: int64"
      ]
     },
     "execution_count": 10,
     "metadata": {},
     "output_type": "execute_result"
    }
   ],
   "source": [
    "bc['Bare.nuclei'].value_counts()"
   ]
  },
  {
   "cell_type": "code",
   "execution_count": 9,
   "id": "e2b68e3e",
   "metadata": {},
   "outputs": [],
   "source": [
    "bc['Bare.nuclei'].fillna(1, inplace =True)"
   ]
  },
  {
   "cell_type": "code",
   "execution_count": 11,
   "id": "32b24bc7",
   "metadata": {},
   "outputs": [
    {
     "data": {
      "text/plain": [
       "Unnamed: 0         0\n",
       "Id                 0\n",
       "Cl.thickness       0\n",
       "Cell.size          0\n",
       "Cell.shape         0\n",
       "Marg.adhesion      0\n",
       "Epith.c.size       0\n",
       "Bare.nuclei        0\n",
       "Bl.cromatin        0\n",
       "Normal.nucleoli    0\n",
       "Mitoses            0\n",
       "Class              0\n",
       "dtype: int64"
      ]
     },
     "execution_count": 11,
     "metadata": {},
     "output_type": "execute_result"
    }
   ],
   "source": [
    "bc.isnull().sum()"
   ]
  },
  {
   "cell_type": "code",
   "execution_count": 13,
   "id": "8aef96b6",
   "metadata": {},
   "outputs": [],
   "source": [
    "bc.Class.replace({'benign': 0, 'malignant': 1}, inplace =True)"
   ]
  },
  {
   "cell_type": "code",
   "execution_count": 14,
   "id": "8ec3611a",
   "metadata": {},
   "outputs": [
    {
     "data": {
      "text/plain": [
       "0    458\n",
       "1    241\n",
       "Name: Class, dtype: int64"
      ]
     },
     "execution_count": 14,
     "metadata": {},
     "output_type": "execute_result"
    }
   ],
   "source": [
    "bc.Class.value_counts()"
   ]
  },
  {
   "cell_type": "code",
   "execution_count": 15,
   "id": "dbd78d1f",
   "metadata": {},
   "outputs": [
    {
     "name": "stdout",
     "output_type": "stream",
     "text": [
      "<class 'pandas.core.frame.DataFrame'>\n",
      "RangeIndex: 699 entries, 0 to 698\n",
      "Data columns (total 12 columns):\n",
      " #   Column           Non-Null Count  Dtype  \n",
      "---  ------           --------------  -----  \n",
      " 0   Unnamed: 0       699 non-null    int64  \n",
      " 1   Id               699 non-null    int64  \n",
      " 2   Cl.thickness     699 non-null    int64  \n",
      " 3   Cell.size        699 non-null    int64  \n",
      " 4   Cell.shape       699 non-null    int64  \n",
      " 5   Marg.adhesion    699 non-null    int64  \n",
      " 6   Epith.c.size     699 non-null    int64  \n",
      " 7   Bare.nuclei      699 non-null    float64\n",
      " 8   Bl.cromatin      699 non-null    int64  \n",
      " 9   Normal.nucleoli  699 non-null    int64  \n",
      " 10  Mitoses          699 non-null    int64  \n",
      " 11  Class            699 non-null    int64  \n",
      "dtypes: float64(1), int64(11)\n",
      "memory usage: 65.7 KB\n"
     ]
    }
   ],
   "source": [
    "bc.info()"
   ]
  },
  {
   "cell_type": "code",
   "execution_count": 16,
   "id": "d621e219",
   "metadata": {},
   "outputs": [],
   "source": [
    "from sklearn.model_selection import train_test_split"
   ]
  },
  {
   "cell_type": "code",
   "execution_count": 17,
   "id": "81880e88",
   "metadata": {},
   "outputs": [],
   "source": [
    "bc_train, bc_test = train_test_split(bc, test_size=.2)"
   ]
  },
  {
   "cell_type": "code",
   "execution_count": 18,
   "id": "57831393",
   "metadata": {},
   "outputs": [
    {
     "data": {
      "text/html": [
       "<div>\n",
       "<style scoped>\n",
       "    .dataframe tbody tr th:only-of-type {\n",
       "        vertical-align: middle;\n",
       "    }\n",
       "\n",
       "    .dataframe tbody tr th {\n",
       "        vertical-align: top;\n",
       "    }\n",
       "\n",
       "    .dataframe thead th {\n",
       "        text-align: right;\n",
       "    }\n",
       "</style>\n",
       "<table border=\"1\" class=\"dataframe\">\n",
       "  <thead>\n",
       "    <tr style=\"text-align: right;\">\n",
       "      <th></th>\n",
       "      <th>Unnamed: 0</th>\n",
       "      <th>Id</th>\n",
       "      <th>Cl.thickness</th>\n",
       "      <th>Cell.size</th>\n",
       "      <th>Cell.shape</th>\n",
       "      <th>Marg.adhesion</th>\n",
       "      <th>Epith.c.size</th>\n",
       "      <th>Bare.nuclei</th>\n",
       "      <th>Bl.cromatin</th>\n",
       "      <th>Normal.nucleoli</th>\n",
       "      <th>Mitoses</th>\n",
       "      <th>Class</th>\n",
       "    </tr>\n",
       "  </thead>\n",
       "  <tbody>\n",
       "    <tr>\n",
       "      <th>0</th>\n",
       "      <td>1</td>\n",
       "      <td>1000025</td>\n",
       "      <td>5</td>\n",
       "      <td>1</td>\n",
       "      <td>1</td>\n",
       "      <td>1</td>\n",
       "      <td>2</td>\n",
       "      <td>1.0</td>\n",
       "      <td>3</td>\n",
       "      <td>1</td>\n",
       "      <td>1</td>\n",
       "      <td>0</td>\n",
       "    </tr>\n",
       "    <tr>\n",
       "      <th>1</th>\n",
       "      <td>2</td>\n",
       "      <td>1002945</td>\n",
       "      <td>5</td>\n",
       "      <td>4</td>\n",
       "      <td>4</td>\n",
       "      <td>5</td>\n",
       "      <td>7</td>\n",
       "      <td>10.0</td>\n",
       "      <td>3</td>\n",
       "      <td>2</td>\n",
       "      <td>1</td>\n",
       "      <td>0</td>\n",
       "    </tr>\n",
       "    <tr>\n",
       "      <th>2</th>\n",
       "      <td>3</td>\n",
       "      <td>1015425</td>\n",
       "      <td>3</td>\n",
       "      <td>1</td>\n",
       "      <td>1</td>\n",
       "      <td>1</td>\n",
       "      <td>2</td>\n",
       "      <td>2.0</td>\n",
       "      <td>3</td>\n",
       "      <td>1</td>\n",
       "      <td>1</td>\n",
       "      <td>0</td>\n",
       "    </tr>\n",
       "    <tr>\n",
       "      <th>3</th>\n",
       "      <td>4</td>\n",
       "      <td>1016277</td>\n",
       "      <td>6</td>\n",
       "      <td>8</td>\n",
       "      <td>8</td>\n",
       "      <td>1</td>\n",
       "      <td>3</td>\n",
       "      <td>4.0</td>\n",
       "      <td>3</td>\n",
       "      <td>7</td>\n",
       "      <td>1</td>\n",
       "      <td>0</td>\n",
       "    </tr>\n",
       "    <tr>\n",
       "      <th>4</th>\n",
       "      <td>5</td>\n",
       "      <td>1017023</td>\n",
       "      <td>4</td>\n",
       "      <td>1</td>\n",
       "      <td>1</td>\n",
       "      <td>3</td>\n",
       "      <td>2</td>\n",
       "      <td>1.0</td>\n",
       "      <td>3</td>\n",
       "      <td>1</td>\n",
       "      <td>1</td>\n",
       "      <td>0</td>\n",
       "    </tr>\n",
       "  </tbody>\n",
       "</table>\n",
       "</div>"
      ],
      "text/plain": [
       "   Unnamed: 0       Id  Cl.thickness  Cell.size  Cell.shape  Marg.adhesion  \\\n",
       "0           1  1000025             5          1           1              1   \n",
       "1           2  1002945             5          4           4              5   \n",
       "2           3  1015425             3          1           1              1   \n",
       "3           4  1016277             6          8           8              1   \n",
       "4           5  1017023             4          1           1              3   \n",
       "\n",
       "   Epith.c.size  Bare.nuclei  Bl.cromatin  Normal.nucleoli  Mitoses  Class  \n",
       "0             2          1.0            3                1        1      0  \n",
       "1             7         10.0            3                2        1      0  \n",
       "2             2          2.0            3                1        1      0  \n",
       "3             3          4.0            3                7        1      0  \n",
       "4             2          1.0            3                1        1      0  "
      ]
     },
     "execution_count": 18,
     "metadata": {},
     "output_type": "execute_result"
    }
   ],
   "source": [
    "bc.head()"
   ]
  },
  {
   "cell_type": "code",
   "execution_count": 19,
   "id": "63bbaac7",
   "metadata": {},
   "outputs": [],
   "source": [
    "bc_train_x = bc_train.iloc[:, 2:11]\n",
    "bc_train_y = bc_train.iloc[:, -1]\n",
    "\n",
    "bc_test_x = bc_test.iloc[:,2:11]\n",
    "bc_test_y = bc_test.iloc[:,-1]"
   ]
  },
  {
   "cell_type": "code",
   "execution_count": 21,
   "id": "da2dd849",
   "metadata": {},
   "outputs": [
    {
     "data": {
      "text/plain": [
       "241    0\n",
       "655    0\n",
       "123    1\n",
       "458    0\n",
       "68     1\n",
       "Name: Class, dtype: int64"
      ]
     },
     "execution_count": 21,
     "metadata": {},
     "output_type": "execute_result"
    }
   ],
   "source": [
    "bc_train_y.head()"
   ]
  },
  {
   "cell_type": "code",
   "execution_count": 22,
   "id": "c9323742",
   "metadata": {},
   "outputs": [],
   "source": [
    "from sklearn.linear_model import LogisticRegression"
   ]
  },
  {
   "cell_type": "code",
   "execution_count": 23,
   "id": "997c75cd",
   "metadata": {},
   "outputs": [],
   "source": [
    "logreg = LogisticRegression()"
   ]
  },
  {
   "cell_type": "code",
   "execution_count": 24,
   "id": "92b08576",
   "metadata": {},
   "outputs": [
    {
     "data": {
      "text/plain": [
       "LogisticRegression()"
      ]
     },
     "execution_count": 24,
     "metadata": {},
     "output_type": "execute_result"
    }
   ],
   "source": [
    "logreg.fit(bc_train_x, bc_train_y)"
   ]
  },
  {
   "cell_type": "code",
   "execution_count": 25,
   "id": "6e401a8b",
   "metadata": {},
   "outputs": [],
   "source": [
    "pred_test = logreg.predict(bc_test_x)"
   ]
  },
  {
   "cell_type": "code",
   "execution_count": 26,
   "id": "486f509e",
   "metadata": {},
   "outputs": [],
   "source": [
    "from sklearn.metrics import confusion_matrix"
   ]
  },
  {
   "cell_type": "code",
   "execution_count": 28,
   "id": "3a533489",
   "metadata": {},
   "outputs": [
    {
     "data": {
      "text/plain": [
       "array([[89,  2],\n",
       "       [ 3, 46]], dtype=int64)"
      ]
     },
     "execution_count": 28,
     "metadata": {},
     "output_type": "execute_result"
    }
   ],
   "source": [
    "confusion_matrix(bc_test_y, pred_test)"
   ]
  },
  {
   "cell_type": "code",
   "execution_count": 29,
   "id": "04afbf67",
   "metadata": {},
   "outputs": [],
   "source": [
    "tab1 = confusion_matrix(bc_test_y, pred_test)"
   ]
  },
  {
   "cell_type": "code",
   "execution_count": 30,
   "id": "cd081500",
   "metadata": {},
   "outputs": [
    {
     "data": {
      "text/plain": [
       "96.42857142857143"
      ]
     },
     "execution_count": 30,
     "metadata": {},
     "output_type": "execute_result"
    }
   ],
   "source": [
    "Accuracy = tab1.diagonal().sum()*100/tab1.sum()\n",
    "Accuracy"
   ]
  },
  {
   "cell_type": "code",
   "execution_count": 31,
   "id": "8d00cf0d",
   "metadata": {},
   "outputs": [
    {
     "data": {
      "text/plain": [
       "2.197802197802198"
      ]
     },
     "execution_count": 31,
     "metadata": {},
     "output_type": "execute_result"
    }
   ],
   "source": [
    "FPR = tab1[0,1]*100/tab1[0].sum()\n",
    "FPR"
   ]
  },
  {
   "cell_type": "code",
   "execution_count": 33,
   "id": "30ed385e",
   "metadata": {},
   "outputs": [
    {
     "data": {
      "text/plain": [
       "93.87755102040816"
      ]
     },
     "execution_count": 33,
     "metadata": {},
     "output_type": "execute_result"
    }
   ],
   "source": [
    "from sklearn.metrics import recall_score\n",
    "\n",
    "TPR = recall_score(bc_test_y, pred_test)*100\n",
    "TPR"
   ]
  },
  {
   "cell_type": "code",
   "execution_count": 34,
   "id": "75f6a0b3",
   "metadata": {},
   "outputs": [
    {
     "data": {
      "text/plain": [
       "95.83333333333334"
      ]
     },
     "execution_count": 34,
     "metadata": {},
     "output_type": "execute_result"
    }
   ],
   "source": [
    "from sklearn.metrics import precision_score\n",
    "\n",
    "Precision = precision_score(bc_test_y, pred_test)*100\n",
    "Precision"
   ]
  },
  {
   "cell_type": "code",
   "execution_count": 35,
   "id": "6a0e7f06",
   "metadata": {},
   "outputs": [
    {
     "data": {
      "text/plain": [
       "array([1, 0, 1, 0, 0, 0, 0, 0, 0, 0, 0, 0, 1, 0, 1, 0, 1, 0, 0, 1, 1, 0,\n",
       "       1, 0, 0, 1, 0, 1, 0, 0, 1, 0, 1, 1, 0, 0, 0, 0, 0, 1, 0, 1, 0, 0,\n",
       "       1, 0, 1, 0, 0, 0, 1, 1, 1, 0, 0, 0, 0, 1, 0, 1, 1, 0, 0, 1, 0, 1,\n",
       "       1, 0, 1, 1, 0, 1, 0, 0, 0, 1, 0, 0, 1, 1, 0, 1, 0, 0, 0, 1, 0, 0,\n",
       "       0, 1, 0, 0, 0, 0, 0, 0, 0, 1, 1, 0, 0, 1, 0, 0, 0, 0, 1, 0, 1, 0,\n",
       "       0, 0, 1, 1, 1, 0, 0, 0, 0, 1, 0, 0, 0, 1, 0, 0, 1, 1, 0, 0, 0, 0,\n",
       "       0, 0, 0, 1, 0, 0, 0, 0], dtype=int64)"
      ]
     },
     "execution_count": 35,
     "metadata": {},
     "output_type": "execute_result"
    }
   ],
   "source": [
    "pred_test"
   ]
  },
  {
   "cell_type": "code",
   "execution_count": 36,
   "id": "a39c8a39",
   "metadata": {},
   "outputs": [
    {
     "data": {
      "text/plain": [
       "0.9484536082474228"
      ]
     },
     "execution_count": 36,
     "metadata": {},
     "output_type": "execute_result"
    }
   ],
   "source": [
    "from sklearn.metrics import f1_score\n",
    "\n",
    "F1 = f1_score(bc_test_y, pred_test)\n",
    "F1"
   ]
  },
  {
   "cell_type": "code",
   "execution_count": 37,
   "id": "e1818e3b",
   "metadata": {},
   "outputs": [
    {
     "data": {
      "text/plain": [
       "array([[1.50394664e-06, 9.99998496e-01],\n",
       "       [9.94181393e-01, 5.81860654e-03],\n",
       "       [1.33481297e-02, 9.86651870e-01],\n",
       "       [9.98133994e-01, 1.86600588e-03],\n",
       "       [9.89534429e-01, 1.04655714e-02],\n",
       "       [9.88307031e-01, 1.16929693e-02],\n",
       "       [9.98784367e-01, 1.21563298e-03],\n",
       "       [9.82568585e-01, 1.74314146e-02],\n",
       "       [9.96601545e-01, 3.39845466e-03],\n",
       "       [9.97469114e-01, 2.53088555e-03],\n",
       "       [9.96601545e-01, 3.39845466e-03],\n",
       "       [9.83812854e-01, 1.61871456e-02],\n",
       "       [4.74365300e-02, 9.52563470e-01],\n",
       "       [9.96239319e-01, 3.76068126e-03],\n",
       "       [3.58261490e-04, 9.99641739e-01],\n",
       "       [9.83068052e-01, 1.69319481e-02],\n",
       "       [2.90413703e-06, 9.99997096e-01],\n",
       "       [9.96198006e-01, 3.80199380e-03],\n",
       "       [9.99038458e-01, 9.61542303e-04],\n",
       "       [1.57030589e-02, 9.84296941e-01],\n",
       "       [4.35363919e-04, 9.99564636e-01],\n",
       "       [9.94989329e-01, 5.01067127e-03],\n",
       "       [7.24380365e-05, 9.99927562e-01],\n",
       "       [8.94362167e-01, 1.05637833e-01],\n",
       "       [9.93892595e-01, 6.10740500e-03],\n",
       "       [2.44361157e-02, 9.75563884e-01],\n",
       "       [9.96671785e-01, 3.32821483e-03],\n",
       "       [6.33180326e-05, 9.99936682e-01],\n",
       "       [9.96198006e-01, 3.80199380e-03],\n",
       "       [9.80680492e-01, 1.93195084e-02],\n",
       "       [3.34021106e-03, 9.96659789e-01],\n",
       "       [9.98400730e-01, 1.59926991e-03],\n",
       "       [2.06738335e-02, 9.79326167e-01],\n",
       "       [7.70505113e-03, 9.92294949e-01],\n",
       "       [9.72647807e-01, 2.73521929e-02],\n",
       "       [9.98461997e-01, 1.53800276e-03],\n",
       "       [9.94797856e-01, 5.20214422e-03],\n",
       "       [9.80689430e-01, 1.93105705e-02],\n",
       "       [9.66011272e-01, 3.39887279e-02],\n",
       "       [1.85151729e-04, 9.99814848e-01],\n",
       "       [9.96671785e-01, 3.32821483e-03],\n",
       "       [6.80211750e-06, 9.99993198e-01],\n",
       "       [9.96962384e-01, 3.03761609e-03],\n",
       "       [9.99095204e-01, 9.04796132e-04],\n",
       "       [2.51621747e-04, 9.99748378e-01],\n",
       "       [9.78437335e-01, 2.15626651e-02],\n",
       "       [4.85817939e-03, 9.95141821e-01],\n",
       "       [9.93688296e-01, 6.31170363e-03],\n",
       "       [9.89539314e-01, 1.04606859e-02],\n",
       "       [9.98901209e-01, 1.09879146e-03],\n",
       "       [2.48635187e-03, 9.97513648e-01],\n",
       "       [2.40608542e-03, 9.97593915e-01],\n",
       "       [4.03227148e-07, 9.99999597e-01],\n",
       "       [9.98901209e-01, 1.09879146e-03],\n",
       "       [9.94356704e-01, 5.64329583e-03],\n",
       "       [9.99018116e-01, 9.81884239e-04],\n",
       "       [9.96529828e-01, 3.47017169e-03],\n",
       "       [2.12285017e-02, 9.78771498e-01],\n",
       "       [9.80689430e-01, 1.93105705e-02],\n",
       "       [1.26319051e-04, 9.99873681e-01],\n",
       "       [1.92844742e-03, 9.98071553e-01],\n",
       "       [9.98733357e-01, 1.26664317e-03],\n",
       "       [9.60345920e-01, 3.96540800e-02],\n",
       "       [1.02268260e-01, 8.97731740e-01],\n",
       "       [9.98133994e-01, 1.86600588e-03],\n",
       "       [3.40860414e-03, 9.96591396e-01],\n",
       "       [2.17965714e-06, 9.99997820e-01],\n",
       "       [9.75220962e-01, 2.47790381e-02],\n",
       "       [1.05591842e-04, 9.99894408e-01],\n",
       "       [1.12582844e-04, 9.99887417e-01],\n",
       "       [9.98901209e-01, 1.09879146e-03],\n",
       "       [5.80092271e-05, 9.99941991e-01],\n",
       "       [9.99409799e-01, 5.90200865e-04],\n",
       "       [9.98366919e-01, 1.63308126e-03],\n",
       "       [9.93688296e-01, 6.31170363e-03],\n",
       "       [2.91621206e-04, 9.99708379e-01],\n",
       "       [9.76248964e-01, 2.37510359e-02],\n",
       "       [9.96736593e-01, 3.26340712e-03],\n",
       "       [1.82628096e-02, 9.81737190e-01],\n",
       "       [3.48160590e-02, 9.65183941e-01],\n",
       "       [9.99038458e-01, 9.61542303e-04],\n",
       "       [6.49846865e-06, 9.99993502e-01],\n",
       "       [8.62576334e-01, 1.37423666e-01],\n",
       "       [9.99049615e-01, 9.50385383e-04],\n",
       "       [9.98901209e-01, 1.09879146e-03],\n",
       "       [5.08465027e-04, 9.99491535e-01],\n",
       "       [9.88307031e-01, 1.16929693e-02],\n",
       "       [9.61901622e-01, 3.80983784e-02],\n",
       "       [8.93726438e-01, 1.06273562e-01],\n",
       "       [4.53907246e-05, 9.99954609e-01],\n",
       "       [9.95383478e-01, 4.61652239e-03],\n",
       "       [9.98923970e-01, 1.07603014e-03],\n",
       "       [9.99018116e-01, 9.81884239e-04],\n",
       "       [9.87316408e-01, 1.26835915e-02],\n",
       "       [9.93178779e-01, 6.82122141e-03],\n",
       "       [9.93688296e-01, 6.31170363e-03],\n",
       "       [9.95296059e-01, 4.70394064e-03],\n",
       "       [2.18285318e-02, 9.78171468e-01],\n",
       "       [2.73768084e-02, 9.72623192e-01],\n",
       "       [9.99409799e-01, 5.90200865e-04],\n",
       "       [9.88307031e-01, 1.16929693e-02],\n",
       "       [5.05450987e-02, 9.49454901e-01],\n",
       "       [9.91870400e-01, 8.12959966e-03],\n",
       "       [9.89539314e-01, 1.04606859e-02],\n",
       "       [9.93169594e-01, 6.83040560e-03],\n",
       "       [9.98936442e-01, 1.06355840e-03],\n",
       "       [2.16956897e-04, 9.99783043e-01],\n",
       "       [9.98366919e-01, 1.63308126e-03],\n",
       "       [1.23238640e-01, 8.76761360e-01],\n",
       "       [9.98901209e-01, 1.09879146e-03],\n",
       "       [9.92941282e-01, 7.05871753e-03],\n",
       "       [9.96601545e-01, 3.39845466e-03],\n",
       "       [7.69396686e-03, 9.92306033e-01],\n",
       "       [5.09527614e-03, 9.94904724e-01],\n",
       "       [6.43737305e-05, 9.99935626e-01],\n",
       "       [9.99409799e-01, 5.90200865e-04],\n",
       "       [9.99018116e-01, 9.81884239e-04],\n",
       "       [9.85736160e-01, 1.42638396e-02],\n",
       "       [9.89215973e-01, 1.07840273e-02],\n",
       "       [1.95755504e-01, 8.04244496e-01],\n",
       "       [9.90910200e-01, 9.08980026e-03],\n",
       "       [9.92941282e-01, 7.05871753e-03],\n",
       "       [9.85855447e-01, 1.41445534e-02],\n",
       "       [1.19297794e-04, 9.99880702e-01],\n",
       "       [9.07320221e-01, 9.26797794e-02],\n",
       "       [9.93688296e-01, 6.31170363e-03],\n",
       "       [5.26801526e-03, 9.94731985e-01],\n",
       "       [2.12990429e-01, 7.87009571e-01],\n",
       "       [9.70540066e-01, 2.94599338e-02],\n",
       "       [9.98901209e-01, 1.09879146e-03],\n",
       "       [9.99018116e-01, 9.81884239e-04],\n",
       "       [9.97955250e-01, 2.04475041e-03],\n",
       "       [9.89539314e-01, 1.04606859e-02],\n",
       "       [9.99409799e-01, 5.90200865e-04],\n",
       "       [9.96601545e-01, 3.39845466e-03],\n",
       "       [7.69318762e-03, 9.92306812e-01],\n",
       "       [9.98400730e-01, 1.59926991e-03],\n",
       "       [9.98901209e-01, 1.09879146e-03],\n",
       "       [9.39453866e-01, 6.05461338e-02],\n",
       "       [9.83957593e-01, 1.60424074e-02]])"
      ]
     },
     "execution_count": 37,
     "metadata": {},
     "output_type": "execute_result"
    }
   ],
   "source": [
    "pred_prob = logreg.predict_proba(bc_test_x)\n",
    "pred_prob"
   ]
  },
  {
   "cell_type": "code",
   "execution_count": 39,
   "id": "36767c82",
   "metadata": {},
   "outputs": [
    {
     "data": {
      "text/plain": [
       "array([9.99998496e-01, 5.81860654e-03, 9.86651870e-01, 1.86600588e-03,\n",
       "       1.04655714e-02, 1.16929693e-02, 1.21563298e-03, 1.74314146e-02,\n",
       "       3.39845466e-03, 2.53088555e-03, 3.39845466e-03, 1.61871456e-02,\n",
       "       9.52563470e-01, 3.76068126e-03, 9.99641739e-01, 1.69319481e-02,\n",
       "       9.99997096e-01, 3.80199380e-03, 9.61542303e-04, 9.84296941e-01,\n",
       "       9.99564636e-01, 5.01067127e-03, 9.99927562e-01, 1.05637833e-01,\n",
       "       6.10740500e-03, 9.75563884e-01, 3.32821483e-03, 9.99936682e-01,\n",
       "       3.80199380e-03, 1.93195084e-02, 9.96659789e-01, 1.59926991e-03,\n",
       "       9.79326167e-01, 9.92294949e-01, 2.73521929e-02, 1.53800276e-03,\n",
       "       5.20214422e-03, 1.93105705e-02, 3.39887279e-02, 9.99814848e-01,\n",
       "       3.32821483e-03, 9.99993198e-01, 3.03761609e-03, 9.04796132e-04,\n",
       "       9.99748378e-01, 2.15626651e-02, 9.95141821e-01, 6.31170363e-03,\n",
       "       1.04606859e-02, 1.09879146e-03, 9.97513648e-01, 9.97593915e-01,\n",
       "       9.99999597e-01, 1.09879146e-03, 5.64329583e-03, 9.81884239e-04,\n",
       "       3.47017169e-03, 9.78771498e-01, 1.93105705e-02, 9.99873681e-01,\n",
       "       9.98071553e-01, 1.26664317e-03, 3.96540800e-02, 8.97731740e-01,\n",
       "       1.86600588e-03, 9.96591396e-01, 9.99997820e-01, 2.47790381e-02,\n",
       "       9.99894408e-01, 9.99887417e-01, 1.09879146e-03, 9.99941991e-01,\n",
       "       5.90200865e-04, 1.63308126e-03, 6.31170363e-03, 9.99708379e-01,\n",
       "       2.37510359e-02, 3.26340712e-03, 9.81737190e-01, 9.65183941e-01,\n",
       "       9.61542303e-04, 9.99993502e-01, 1.37423666e-01, 9.50385383e-04,\n",
       "       1.09879146e-03, 9.99491535e-01, 1.16929693e-02, 3.80983784e-02,\n",
       "       1.06273562e-01, 9.99954609e-01, 4.61652239e-03, 1.07603014e-03,\n",
       "       9.81884239e-04, 1.26835915e-02, 6.82122141e-03, 6.31170363e-03,\n",
       "       4.70394064e-03, 9.78171468e-01, 9.72623192e-01, 5.90200865e-04,\n",
       "       1.16929693e-02, 9.49454901e-01, 8.12959966e-03, 1.04606859e-02,\n",
       "       6.83040560e-03, 1.06355840e-03, 9.99783043e-01, 1.63308126e-03,\n",
       "       8.76761360e-01, 1.09879146e-03, 7.05871753e-03, 3.39845466e-03,\n",
       "       9.92306033e-01, 9.94904724e-01, 9.99935626e-01, 5.90200865e-04,\n",
       "       9.81884239e-04, 1.42638396e-02, 1.07840273e-02, 8.04244496e-01,\n",
       "       9.08980026e-03, 7.05871753e-03, 1.41445534e-02, 9.99880702e-01,\n",
       "       9.26797794e-02, 6.31170363e-03, 9.94731985e-01, 7.87009571e-01,\n",
       "       2.94599338e-02, 1.09879146e-03, 9.81884239e-04, 2.04475041e-03,\n",
       "       1.04606859e-02, 5.90200865e-04, 3.39845466e-03, 9.92306812e-01,\n",
       "       1.59926991e-03, 1.09879146e-03, 6.05461338e-02, 1.60424074e-02])"
      ]
     },
     "execution_count": 39,
     "metadata": {},
     "output_type": "execute_result"
    }
   ],
   "source": [
    "pred_prob[:,1]"
   ]
  },
  {
   "cell_type": "code",
   "execution_count": 40,
   "id": "056b1297",
   "metadata": {},
   "outputs": [],
   "source": [
    "from sklearn.metrics import roc_auc_score,roc_curve"
   ]
  },
  {
   "cell_type": "code",
   "execution_count": 41,
   "id": "2c130e62",
   "metadata": {},
   "outputs": [
    {
     "data": {
      "text/plain": [
       "0.9968602825745683"
      ]
     },
     "execution_count": 41,
     "metadata": {},
     "output_type": "execute_result"
    }
   ],
   "source": [
    "roc_auc_score(bc_test_y, pred_prob[:,1])\n",
    "# area under roc curve"
   ]
  },
  {
   "cell_type": "code",
   "execution_count": 42,
   "id": "e2011354",
   "metadata": {},
   "outputs": [],
   "source": [
    "fpr,tpr, threshold = roc_curve(bc_test_y, pred_prob[:,1])"
   ]
  },
  {
   "cell_type": "code",
   "execution_count": 43,
   "id": "b9f01626",
   "metadata": {},
   "outputs": [],
   "source": [
    "import matplotlib.pyplot as plt"
   ]
  },
  {
   "cell_type": "code",
   "execution_count": 44,
   "id": "16d3928e",
   "metadata": {},
   "outputs": [
    {
     "data": {
      "image/png": "[encoded data removed]",
      "text/plain": [
       "<Figure size 720x720 with 1 Axes>"
      ]
     },
     "metadata": {
      "needs_background": "light"
     },
     "output_type": "display_data"
    }
   ],
   "source": [
    "plt.figure(figsize=(10,10))\n",
    "plt.plot(fpr,tpr,color= 'r')\n",
    "plt.title('AUROC Curve')\n",
    "plt.xlabel('FPR')\n",
    "plt.ylabel('TPR')\n",
    "plt.grid()"
   ]
  },
  {
   "cell_type": "code",
   "execution_count": 49,
   "id": "4428c844",
   "metadata": {},
   "outputs": [],
   "source": [
    "pred_prob_full = logreg.predict_proba(bc.iloc[:, 2:11])"
   ]
  },
  {
   "cell_type": "code",
   "execution_count": 50,
   "id": "8c7e1b32",
   "metadata": {},
   "outputs": [
    {
     "data": {
      "text/plain": [
       "array([[0.98068943, 0.01931057],\n",
       "       [0.10226826, 0.89773174],\n",
       "       [0.99095199, 0.00904801],\n",
       "       ...,\n",
       "       [0.01334813, 0.98665187],\n",
       "       [0.04218418, 0.95781582],\n",
       "       [0.01883805, 0.98116195]])"
      ]
     },
     "execution_count": 50,
     "metadata": {},
     "output_type": "execute_result"
    }
   ],
   "source": [
    "pred_prob_full"
   ]
  },
  {
   "cell_type": "code",
   "execution_count": 51,
   "id": "9d8a182a",
   "metadata": {},
   "outputs": [],
   "source": [
    "pred_prob_full = pd.DataFrame(pred_prob_full)"
   ]
  },
  {
   "cell_type": "code",
   "execution_count": 52,
   "id": "4815f06a",
   "metadata": {},
   "outputs": [
    {
     "data": {
      "text/html": [
       "<div>\n",
       "<style scoped>\n",
       "    .dataframe tbody tr th:only-of-type {\n",
       "        vertical-align: middle;\n",
       "    }\n",
       "\n",
       "    .dataframe tbody tr th {\n",
       "        vertical-align: top;\n",
       "    }\n",
       "\n",
       "    .dataframe thead th {\n",
       "        text-align: right;\n",
       "    }\n",
       "</style>\n",
       "<table border=\"1\" class=\"dataframe\">\n",
       "  <thead>\n",
       "    <tr style=\"text-align: right;\">\n",
       "      <th></th>\n",
       "      <th>0</th>\n",
       "      <th>1</th>\n",
       "    </tr>\n",
       "  </thead>\n",
       "  <tbody>\n",
       "    <tr>\n",
       "      <th>0</th>\n",
       "      <td>0.980689</td>\n",
       "      <td>0.019311</td>\n",
       "    </tr>\n",
       "    <tr>\n",
       "      <th>1</th>\n",
       "      <td>0.102268</td>\n",
       "      <td>0.897732</td>\n",
       "    </tr>\n",
       "    <tr>\n",
       "      <th>2</th>\n",
       "      <td>0.990952</td>\n",
       "      <td>0.009048</td>\n",
       "    </tr>\n",
       "    <tr>\n",
       "      <th>3</th>\n",
       "      <td>0.296445</td>\n",
       "      <td>0.703555</td>\n",
       "    </tr>\n",
       "    <tr>\n",
       "      <th>4</th>\n",
       "      <td>0.984047</td>\n",
       "      <td>0.015953</td>\n",
       "    </tr>\n",
       "    <tr>\n",
       "      <th>...</th>\n",
       "      <td>...</td>\n",
       "      <td>...</td>\n",
       "    </tr>\n",
       "    <tr>\n",
       "      <th>694</th>\n",
       "      <td>0.996645</td>\n",
       "      <td>0.003355</td>\n",
       "    </tr>\n",
       "    <tr>\n",
       "      <th>695</th>\n",
       "      <td>0.998901</td>\n",
       "      <td>0.001099</td>\n",
       "    </tr>\n",
       "    <tr>\n",
       "      <th>696</th>\n",
       "      <td>0.013348</td>\n",
       "      <td>0.986652</td>\n",
       "    </tr>\n",
       "    <tr>\n",
       "      <th>697</th>\n",
       "      <td>0.042184</td>\n",
       "      <td>0.957816</td>\n",
       "    </tr>\n",
       "    <tr>\n",
       "      <th>698</th>\n",
       "      <td>0.018838</td>\n",
       "      <td>0.981162</td>\n",
       "    </tr>\n",
       "  </tbody>\n",
       "</table>\n",
       "<p>699 rows × 2 columns</p>\n",
       "</div>"
      ],
      "text/plain": [
       "            0         1\n",
       "0    0.980689  0.019311\n",
       "1    0.102268  0.897732\n",
       "2    0.990952  0.009048\n",
       "3    0.296445  0.703555\n",
       "4    0.984047  0.015953\n",
       "..        ...       ...\n",
       "694  0.996645  0.003355\n",
       "695  0.998901  0.001099\n",
       "696  0.013348  0.986652\n",
       "697  0.042184  0.957816\n",
       "698  0.018838  0.981162\n",
       "\n",
       "[699 rows x 2 columns]"
      ]
     },
     "execution_count": 52,
     "metadata": {},
     "output_type": "execute_result"
    }
   ],
   "source": [
    "pred_prob_full"
   ]
  },
  {
   "cell_type": "code",
   "execution_count": null,
   "id": "d8618b81",
   "metadata": {},
   "outputs": [],
   "source": []
  }
 ],
 "metadata": {
  "kernelspec": {
   "display_name": "Python 3 (ipykernel)",
   "language": "python",
   "name": "python3"
  },
  "language_info": {
   "codemirror_mode": {
    "name": "ipython",
    "version": 3
   },
   "file_extension": ".py",
   "mimetype": "text/x-python",
   "name": "python",
   "nbconvert_exporter": "python",
   "pygments_lexer": "ipython3",
   "version": "3.9.12"
  }
 },
 "nbformat": 4,
 "nbformat_minor": 5
}
