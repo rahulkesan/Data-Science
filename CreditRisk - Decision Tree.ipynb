{
 "cells": [
  {
   "cell_type": "code",
   "execution_count": 1,
   "id": "427136bd",
   "metadata": {},
   "outputs": [],
   "source": [
    "import pandas as pd\n"
   ]
  },
  {
   "cell_type": "code",
   "execution_count": 2,
   "id": "b3598954",
   "metadata": {},
   "outputs": [],
   "source": [
    "cr = pd.read_csv(r'C:\\Users\\RahulK\\Downloads\\Machine Learning By Pranjal Sir\\Decision Tree\\CreditRisk.csv')"
   ]
  },
  {
   "cell_type": "code",
   "execution_count": 3,
   "id": "92013639",
   "metadata": {},
   "outputs": [
    {
     "data": {
      "text/html": [
       "<div>\n",
       "<style scoped>\n",
       "    .dataframe tbody tr th:only-of-type {\n",
       "        vertical-align: middle;\n",
       "    }\n",
       "\n",
       "    .dataframe tbody tr th {\n",
       "        vertical-align: top;\n",
       "    }\n",
       "\n",
       "    .dataframe thead th {\n",
       "        text-align: right;\n",
       "    }\n",
       "</style>\n",
       "<table border=\"1\" class=\"dataframe\">\n",
       "  <thead>\n",
       "    <tr style=\"text-align: right;\">\n",
       "      <th></th>\n",
       "      <th>Loan_ID</th>\n",
       "      <th>Gender</th>\n",
       "      <th>Married</th>\n",
       "      <th>Dependents</th>\n",
       "      <th>Education</th>\n",
       "      <th>Self_Employed</th>\n",
       "      <th>ApplicantIncome</th>\n",
       "      <th>CoapplicantIncome</th>\n",
       "      <th>LoanAmount</th>\n",
       "      <th>Loan_Amount_Term</th>\n",
       "      <th>Credit_History</th>\n",
       "      <th>Property_Area</th>\n",
       "      <th>Loan_Status</th>\n",
       "    </tr>\n",
       "  </thead>\n",
       "  <tbody>\n",
       "    <tr>\n",
       "      <th>0</th>\n",
       "      <td>LP001002</td>\n",
       "      <td>Male</td>\n",
       "      <td>No</td>\n",
       "      <td>0.0</td>\n",
       "      <td>Graduate</td>\n",
       "      <td>No</td>\n",
       "      <td>5849</td>\n",
       "      <td>0.0</td>\n",
       "      <td>NaN</td>\n",
       "      <td>360.0</td>\n",
       "      <td>1.0</td>\n",
       "      <td>Urban</td>\n",
       "      <td>Y</td>\n",
       "    </tr>\n",
       "    <tr>\n",
       "      <th>1</th>\n",
       "      <td>LP001003</td>\n",
       "      <td>Male</td>\n",
       "      <td>Yes</td>\n",
       "      <td>1.0</td>\n",
       "      <td>Graduate</td>\n",
       "      <td>No</td>\n",
       "      <td>4583</td>\n",
       "      <td>1508.0</td>\n",
       "      <td>128.0</td>\n",
       "      <td>360.0</td>\n",
       "      <td>1.0</td>\n",
       "      <td>Rural</td>\n",
       "      <td>N</td>\n",
       "    </tr>\n",
       "    <tr>\n",
       "      <th>2</th>\n",
       "      <td>LP001005</td>\n",
       "      <td>Male</td>\n",
       "      <td>Yes</td>\n",
       "      <td>0.0</td>\n",
       "      <td>Graduate</td>\n",
       "      <td>Yes</td>\n",
       "      <td>3000</td>\n",
       "      <td>0.0</td>\n",
       "      <td>66.0</td>\n",
       "      <td>360.0</td>\n",
       "      <td>1.0</td>\n",
       "      <td>Urban</td>\n",
       "      <td>Y</td>\n",
       "    </tr>\n",
       "    <tr>\n",
       "      <th>3</th>\n",
       "      <td>LP001006</td>\n",
       "      <td>Male</td>\n",
       "      <td>Yes</td>\n",
       "      <td>0.0</td>\n",
       "      <td>Not Graduate</td>\n",
       "      <td>No</td>\n",
       "      <td>2583</td>\n",
       "      <td>2358.0</td>\n",
       "      <td>120.0</td>\n",
       "      <td>360.0</td>\n",
       "      <td>1.0</td>\n",
       "      <td>Urban</td>\n",
       "      <td>Y</td>\n",
       "    </tr>\n",
       "    <tr>\n",
       "      <th>4</th>\n",
       "      <td>LP001008</td>\n",
       "      <td>Male</td>\n",
       "      <td>No</td>\n",
       "      <td>0.0</td>\n",
       "      <td>Graduate</td>\n",
       "      <td>No</td>\n",
       "      <td>6000</td>\n",
       "      <td>0.0</td>\n",
       "      <td>141.0</td>\n",
       "      <td>360.0</td>\n",
       "      <td>1.0</td>\n",
       "      <td>Urban</td>\n",
       "      <td>Y</td>\n",
       "    </tr>\n",
       "  </tbody>\n",
       "</table>\n",
       "</div>"
      ],
      "text/plain": [
       "    Loan_ID Gender Married  Dependents     Education Self_Employed  \\\n",
       "0  LP001002   Male      No         0.0      Graduate            No   \n",
       "1  LP001003   Male     Yes         1.0      Graduate            No   \n",
       "2  LP001005   Male     Yes         0.0      Graduate           Yes   \n",
       "3  LP001006   Male     Yes         0.0  Not Graduate            No   \n",
       "4  LP001008   Male      No         0.0      Graduate            No   \n",
       "\n",
       "   ApplicantIncome  CoapplicantIncome  LoanAmount  Loan_Amount_Term  \\\n",
       "0             5849                0.0         NaN             360.0   \n",
       "1             4583             1508.0       128.0             360.0   \n",
       "2             3000                0.0        66.0             360.0   \n",
       "3             2583             2358.0       120.0             360.0   \n",
       "4             6000                0.0       141.0             360.0   \n",
       "\n",
       "   Credit_History Property_Area Loan_Status  \n",
       "0             1.0         Urban           Y  \n",
       "1             1.0         Rural           N  \n",
       "2             1.0         Urban           Y  \n",
       "3             1.0         Urban           Y  \n",
       "4             1.0         Urban           Y  "
      ]
     },
     "execution_count": 3,
     "metadata": {},
     "output_type": "execute_result"
    }
   ],
   "source": [
    "cr.head()"
   ]
  },
  {
   "cell_type": "code",
   "execution_count": 4,
   "id": "63364fe5",
   "metadata": {},
   "outputs": [
    {
     "data": {
      "text/plain": [
       "(981, 13)"
      ]
     },
     "execution_count": 4,
     "metadata": {},
     "output_type": "execute_result"
    }
   ],
   "source": [
    "cr.shape"
   ]
  },
  {
   "cell_type": "code",
   "execution_count": 5,
   "id": "511a4e30",
   "metadata": {},
   "outputs": [
    {
     "data": {
      "text/plain": [
       "Loan_ID               0\n",
       "Gender               24\n",
       "Married               3\n",
       "Dependents           25\n",
       "Education             0\n",
       "Self_Employed        55\n",
       "ApplicantIncome       0\n",
       "CoapplicantIncome     0\n",
       "LoanAmount           27\n",
       "Loan_Amount_Term     20\n",
       "Credit_History       79\n",
       "Property_Area         0\n",
       "Loan_Status           0\n",
       "dtype: int64"
      ]
     },
     "execution_count": 5,
     "metadata": {},
     "output_type": "execute_result"
    }
   ],
   "source": [
    "cr.isnull().sum()"
   ]
  },
  {
   "cell_type": "code",
   "execution_count": 6,
   "id": "4a3b1c58",
   "metadata": {},
   "outputs": [],
   "source": [
    "cr.Gender.fillna('Male', inplace= True)\n",
    "cr.Married.fillna('No', inplace= True)\n",
    "cr.Dependents.fillna(0, inplace= True)\n",
    "cr.Self_Employed.fillna('No', inplace= True)\n",
    "cr.LoanAmount.fillna(cr.LoanAmount.mean(), inplace=True)\n",
    "cr.Loan_Amount_Term.fillna(cr.Loan_Amount_Term.mean(), inplace= True)\n",
    "cr.Credit_History.fillna(0, inplace=True)"
   ]
  },
  {
   "cell_type": "code",
   "execution_count": 7,
   "id": "8c7e7079",
   "metadata": {},
   "outputs": [
    {
     "data": {
      "text/plain": [
       "Loan_ID              0\n",
       "Gender               0\n",
       "Married              0\n",
       "Dependents           0\n",
       "Education            0\n",
       "Self_Employed        0\n",
       "ApplicantIncome      0\n",
       "CoapplicantIncome    0\n",
       "LoanAmount           0\n",
       "Loan_Amount_Term     0\n",
       "Credit_History       0\n",
       "Property_Area        0\n",
       "Loan_Status          0\n",
       "dtype: int64"
      ]
     },
     "execution_count": 7,
     "metadata": {},
     "output_type": "execute_result"
    }
   ],
   "source": [
    "cr.isnull().sum()"
   ]
  },
  {
   "cell_type": "code",
   "execution_count": 8,
   "id": "c3520305",
   "metadata": {},
   "outputs": [],
   "source": [
    "from sklearn.preprocessing import LabelEncoder\n",
    "le = LabelEncoder()"
   ]
  },
  {
   "cell_type": "code",
   "execution_count": 9,
   "id": "34617942",
   "metadata": {},
   "outputs": [],
   "source": [
    "cr[cr.select_dtypes( include= ['object']).columns] = cr[cr.select_dtypes( include= ['object']).columns].apply(le.fit_transform)"
   ]
  },
  {
   "cell_type": "code",
   "execution_count": 10,
   "id": "42e9e48a",
   "metadata": {},
   "outputs": [
    {
     "name": "stdout",
     "output_type": "stream",
     "text": [
      "<class 'pandas.core.frame.DataFrame'>\n",
      "RangeIndex: 981 entries, 0 to 980\n",
      "Data columns (total 13 columns):\n",
      " #   Column             Non-Null Count  Dtype  \n",
      "---  ------             --------------  -----  \n",
      " 0   Loan_ID            981 non-null    int32  \n",
      " 1   Gender             981 non-null    int32  \n",
      " 2   Married            981 non-null    int32  \n",
      " 3   Dependents         981 non-null    float64\n",
      " 4   Education          981 non-null    int32  \n",
      " 5   Self_Employed      981 non-null    int32  \n",
      " 6   ApplicantIncome    981 non-null    int64  \n",
      " 7   CoapplicantIncome  981 non-null    float64\n",
      " 8   LoanAmount         981 non-null    float64\n",
      " 9   Loan_Amount_Term   981 non-null    float64\n",
      " 10  Credit_History     981 non-null    float64\n",
      " 11  Property_Area      981 non-null    int32  \n",
      " 12  Loan_Status        981 non-null    int32  \n",
      "dtypes: float64(5), int32(7), int64(1)\n",
      "memory usage: 72.9 KB\n"
     ]
    }
   ],
   "source": [
    "cr.info()"
   ]
  },
  {
   "cell_type": "code",
   "execution_count": 11,
   "id": "71e31408",
   "metadata": {},
   "outputs": [],
   "source": [
    "cr1 = cr"
   ]
  },
  {
   "cell_type": "code",
   "execution_count": 12,
   "id": "e65373ef",
   "metadata": {},
   "outputs": [],
   "source": [
    "cr = cr.drop(['Loan_ID'], axis = 1)"
   ]
  },
  {
   "cell_type": "code",
   "execution_count": 13,
   "id": "11921eda",
   "metadata": {},
   "outputs": [],
   "source": [
    "from sklearn.model_selection import train_test_split"
   ]
  },
  {
   "cell_type": "code",
   "execution_count": 14,
   "id": "ff2762d6",
   "metadata": {},
   "outputs": [],
   "source": [
    "train_cr, test_cr = train_test_split(cr, test_size=.2)"
   ]
  },
  {
   "cell_type": "code",
   "execution_count": 15,
   "id": "18d21061",
   "metadata": {},
   "outputs": [],
   "source": [
    "train_cr_x = train_cr.iloc[: , 0:-1]\n",
    "train_cr_y = train_cr.iloc[: , -1]\n",
    "\n",
    "test_cr_x = test_cr.iloc[: , 0:-1]\n",
    "test_cr_y = test_cr.iloc[: , -1]"
   ]
  },
  {
   "cell_type": "code",
   "execution_count": 16,
   "id": "2e129d3c",
   "metadata": {},
   "outputs": [
    {
     "data": {
      "text/plain": [
       "(784, 11)"
      ]
     },
     "execution_count": 16,
     "metadata": {},
     "output_type": "execute_result"
    }
   ],
   "source": [
    "train_cr_x.shape"
   ]
  },
  {
   "cell_type": "code",
   "execution_count": 17,
   "id": "7402abf4",
   "metadata": {},
   "outputs": [],
   "source": [
    "from sklearn.tree import DecisionTreeClassifier"
   ]
  },
  {
   "cell_type": "code",
   "execution_count": 18,
   "id": "39b0729a",
   "metadata": {},
   "outputs": [],
   "source": [
    "dt_cr = DecisionTreeClassifier()\n",
    "\n",
    "# Default hyper parameter is gini\n",
    "\n",
    "# we can change it by dt_cr = DecisionTreeClassifier(criterion='entropy')"
   ]
  },
  {
   "cell_type": "code",
   "execution_count": 19,
   "id": "50f9e17c",
   "metadata": {},
   "outputs": [
    {
     "data": {
      "text/plain": [
       "DecisionTreeClassifier()"
      ]
     },
     "execution_count": 19,
     "metadata": {},
     "output_type": "execute_result"
    }
   ],
   "source": [
    "dt_cr.fit(train_cr_x, train_cr_y)"
   ]
  },
  {
   "cell_type": "code",
   "execution_count": 20,
   "id": "88c12b1e",
   "metadata": {},
   "outputs": [],
   "source": [
    "pred_dt = dt_cr.predict(test_cr_x)"
   ]
  },
  {
   "cell_type": "code",
   "execution_count": 21,
   "id": "537bfeda",
   "metadata": {},
   "outputs": [],
   "source": [
    "from sklearn.linear_model import LogisticRegression"
   ]
  },
  {
   "cell_type": "code",
   "execution_count": 22,
   "id": "d1bdf3eb",
   "metadata": {},
   "outputs": [],
   "source": [
    "logreg = LogisticRegression()"
   ]
  },
  {
   "cell_type": "code",
   "execution_count": 23,
   "id": "730c0259",
   "metadata": {},
   "outputs": [
    {
     "name": "stderr",
     "output_type": "stream",
     "text": [
      "C:\\Users\\RahulK\\anaconda3\\lib\\site-packages\\sklearn\\linear_model\\_logistic.py:814: ConvergenceWarning: lbfgs failed to converge (status=1):\n",
      "STOP: TOTAL NO. of ITERATIONS REACHED LIMIT.\n",
      "\n",
      "Increase the number of iterations (max_iter) or scale the data as shown in:\n",
      "    https://scikit-learn.org/stable/modules/preprocessing.html\n",
      "Please also refer to the documentation for alternative solver options:\n",
      "    https://scikit-learn.org/stable/modules/linear_model.html#logistic-regression\n",
      "  n_iter_i = _check_optimize_result(\n"
     ]
    },
    {
     "data": {
      "text/plain": [
       "LogisticRegression()"
      ]
     },
     "execution_count": 23,
     "metadata": {},
     "output_type": "execute_result"
    }
   ],
   "source": [
    "logreg.fit(train_cr_x, train_cr_y)"
   ]
  },
  {
   "cell_type": "code",
   "execution_count": 24,
   "id": "2b089e91",
   "metadata": {},
   "outputs": [],
   "source": [
    "pred_log = logreg.predict(test_cr_x)"
   ]
  },
  {
   "cell_type": "code",
   "execution_count": 25,
   "id": "cd31bc36",
   "metadata": {},
   "outputs": [],
   "source": [
    "from sklearn.metrics import confusion_matrix"
   ]
  },
  {
   "cell_type": "code",
   "execution_count": 26,
   "id": "b1f3c8b8",
   "metadata": {},
   "outputs": [],
   "source": [
    "tab_dt = confusion_matrix(test_cr_y, pred_dt)"
   ]
  },
  {
   "cell_type": "code",
   "execution_count": 27,
   "id": "319b2906",
   "metadata": {},
   "outputs": [
    {
     "data": {
      "text/plain": [
       "array([[ 33,  27],\n",
       "       [ 17, 120]], dtype=int64)"
      ]
     },
     "execution_count": 27,
     "metadata": {},
     "output_type": "execute_result"
    }
   ],
   "source": [
    "tab_dt"
   ]
  },
  {
   "cell_type": "code",
   "execution_count": 28,
   "id": "69c3c3c5",
   "metadata": {},
   "outputs": [
    {
     "data": {
      "text/plain": [
       "array([[ 32,  28],\n",
       "       [ 15, 122]], dtype=int64)"
      ]
     },
     "execution_count": 28,
     "metadata": {},
     "output_type": "execute_result"
    }
   ],
   "source": [
    "tab_lr = confusion_matrix(test_cr_y, pred_log)\n",
    "tab_lr"
   ]
  },
  {
   "cell_type": "code",
   "execution_count": 29,
   "id": "47d327c3",
   "metadata": {},
   "outputs": [],
   "source": [
    "from sklearn.metrics import accuracy_score, precision_score, recall_score, f1_score"
   ]
  },
  {
   "cell_type": "code",
   "execution_count": 30,
   "id": "7184c05f",
   "metadata": {},
   "outputs": [
    {
     "name": "stdout",
     "output_type": "stream",
     "text": [
      "Accuracy score is -->  77.66497461928934\n",
      "Precision score is -->  81.63265306122449\n",
      "Recall score is -->  87.59124087591242\n",
      "F1 score is -->  84.50704225352112\n"
     ]
    }
   ],
   "source": [
    "print('Accuracy score is --> ', accuracy_score(test_cr_y, pred_dt)*100)\n",
    "print('Precision score is --> ', precision_score(test_cr_y, pred_dt)*100)\n",
    "print('Recall score is --> ', recall_score(test_cr_y, pred_dt)*100)\n",
    "print('F1 score is --> ', f1_score(test_cr_y, pred_dt)*100)\n",
    "\n",
    "# From GINI - Decision Tree"
   ]
  },
  {
   "cell_type": "code",
   "execution_count": 31,
   "id": "a7dc9a80",
   "metadata": {},
   "outputs": [
    {
     "name": "stdout",
     "output_type": "stream",
     "text": [
      "Accuracy score is -->  78.1725888324873\n",
      "Precision score is -->  81.33333333333333\n",
      "Recall score is -->  89.05109489051095\n",
      "F1 score is -->  85.01742160278745\n"
     ]
    }
   ],
   "source": [
    "print('Accuracy score is --> ', accuracy_score(test_cr_y, pred_log)*100)\n",
    "print('Precision score is --> ', precision_score(test_cr_y, pred_log)*100)\n",
    "print('Recall score is --> ', recall_score(test_cr_y, pred_log)*100)\n",
    "print('F1 score is --> ', f1_score(test_cr_y, pred_log)*100)\n",
    "\n",
    "\n",
    "# From Logistic Regression"
   ]
  },
  {
   "cell_type": "code",
   "execution_count": 32,
   "id": "884587e6",
   "metadata": {},
   "outputs": [],
   "source": [
    "# Practice building model on\n",
    "# Churn data\n",
    "# Diabetes data\n",
    "# Breast Cancer Data\n",
    "# Compare the confusion matrix of log and dt and see if dt improves model or not"
   ]
  },
  {
   "cell_type": "code",
   "execution_count": 27,
   "id": "34ac4561",
   "metadata": {},
   "outputs": [],
   "source": [
    "dt_cr = DecisionTreeClassifier(criterion='entropy')"
   ]
  },
  {
   "cell_type": "code",
   "execution_count": 28,
   "id": "504cd0cf",
   "metadata": {},
   "outputs": [
    {
     "data": {
      "text/plain": [
       "DecisionTreeClassifier(criterion='entropy')"
      ]
     },
     "execution_count": 28,
     "metadata": {},
     "output_type": "execute_result"
    }
   ],
   "source": [
    "dt_cr.fit(train_cr_x, train_cr_y)"
   ]
  },
  {
   "cell_type": "code",
   "execution_count": 29,
   "id": "181d3da8",
   "metadata": {},
   "outputs": [],
   "source": [
    "pred_dt = dt_cr.predict(test_cr_x)"
   ]
  },
  {
   "cell_type": "code",
   "execution_count": 30,
   "id": "6a723677",
   "metadata": {},
   "outputs": [
    {
     "data": {
      "text/plain": [
       "array([[ 20,  28],\n",
       "       [ 27, 122]], dtype=int64)"
      ]
     },
     "execution_count": 30,
     "metadata": {},
     "output_type": "execute_result"
    }
   ],
   "source": [
    "tab_dt = confusion_matrix(test_cr_y, pred_dt)\n",
    "tab_dt"
   ]
  },
  {
   "cell_type": "code",
   "execution_count": 37,
   "id": "79f0b30d",
   "metadata": {},
   "outputs": [
    {
     "name": "stdout",
     "output_type": "stream",
     "text": [
      "Accuracy score is -->  72.08121827411168\n",
      "Precision score is -->  81.33333333333333\n",
      "Recall score is -->  81.87919463087249\n",
      "F1 score is -->  81.60535117056857\n"
     ]
    }
   ],
   "source": [
    "print('Accuracy score is --> ', accuracy_score(test_cr_y, pred_dt)*100)\n",
    "print('Precision score is --> ', precision_score(test_cr_y, pred_dt)*100)\n",
    "print('Recall score is --> ', recall_score(test_cr_y, pred_dt)*100)\n",
    "print('F1 score is --> ', f1_score(test_cr_y, pred_dt)*100)\n",
    "\n",
    "# From Entropy - Decision Tree"
   ]
  },
  {
   "cell_type": "code",
   "execution_count": 33,
   "id": "ab4a2560",
   "metadata": {},
   "outputs": [],
   "source": [
    "# With GINI our confusion matrix was\n",
    "\n",
    "# array([[ 22,  26],\n",
    "#       [ 24, 125]], dtype=int64)\n",
    "\n",
    "\n",
    "# With Entropy our confusion matrix is\n",
    "\n",
    "# array([[ 20,  28],\n",
    "#       [ 27, 122]], dtype=int64)\n"
   ]
  },
  {
   "cell_type": "code",
   "execution_count": 34,
   "id": "1e4dbd4f",
   "metadata": {},
   "outputs": [
    {
     "data": {
      "text/plain": [
       "array([0.00982755, 0.0284784 , 0.06141777, 0.02988701, 0.0144632 ,\n",
       "       0.2469711 , 0.08486993, 0.18160769, 0.05080394, 0.26060063,\n",
       "       0.03107278])"
      ]
     },
     "execution_count": 34,
     "metadata": {},
     "output_type": "execute_result"
    }
   ],
   "source": [
    "dt_cr.feature_importances_\n",
    "\n",
    "# This is neither a GINI values or Entropy values\n",
    "# Can say it is a probability values\n",
    "# Giving the importance of each features or independent x variables\n",
    "# One on one mapping, and higher the value, more significant is the column/feature/x variable"
   ]
  },
  {
   "cell_type": "code",
   "execution_count": 35,
   "id": "d93e624e",
   "metadata": {},
   "outputs": [
    {
     "data": {
      "text/plain": [
       "1.0"
      ]
     },
     "execution_count": 35,
     "metadata": {},
     "output_type": "execute_result"
    }
   ],
   "source": [
    "dt_cr.feature_importances_.sum()"
   ]
  },
  {
   "cell_type": "code",
   "execution_count": 37,
   "id": "ddb19e6e",
   "metadata": {},
   "outputs": [],
   "source": [
    "feature_imp = pd.DataFrame()"
   ]
  },
  {
   "cell_type": "code",
   "execution_count": 38,
   "id": "61bd5456",
   "metadata": {},
   "outputs": [],
   "source": [
    "feature_imp['Features'] = train_cr_x.columns\n",
    "feature_imp['Importance'] = dt_cr.feature_importances_"
   ]
  },
  {
   "cell_type": "code",
   "execution_count": 39,
   "id": "3eae6ccb",
   "metadata": {},
   "outputs": [
    {
     "data": {
      "text/html": [
       "<div>\n",
       "<style scoped>\n",
       "    .dataframe tbody tr th:only-of-type {\n",
       "        vertical-align: middle;\n",
       "    }\n",
       "\n",
       "    .dataframe tbody tr th {\n",
       "        vertical-align: top;\n",
       "    }\n",
       "\n",
       "    .dataframe thead th {\n",
       "        text-align: right;\n",
       "    }\n",
       "</style>\n",
       "<table border=\"1\" class=\"dataframe\">\n",
       "  <thead>\n",
       "    <tr style=\"text-align: right;\">\n",
       "      <th></th>\n",
       "      <th>Features</th>\n",
       "      <th>Importance</th>\n",
       "    </tr>\n",
       "  </thead>\n",
       "  <tbody>\n",
       "    <tr>\n",
       "      <th>0</th>\n",
       "      <td>Gender</td>\n",
       "      <td>0.009828</td>\n",
       "    </tr>\n",
       "    <tr>\n",
       "      <th>1</th>\n",
       "      <td>Married</td>\n",
       "      <td>0.028478</td>\n",
       "    </tr>\n",
       "    <tr>\n",
       "      <th>2</th>\n",
       "      <td>Dependents</td>\n",
       "      <td>0.061418</td>\n",
       "    </tr>\n",
       "    <tr>\n",
       "      <th>3</th>\n",
       "      <td>Education</td>\n",
       "      <td>0.029887</td>\n",
       "    </tr>\n",
       "    <tr>\n",
       "      <th>4</th>\n",
       "      <td>Self_Employed</td>\n",
       "      <td>0.014463</td>\n",
       "    </tr>\n",
       "    <tr>\n",
       "      <th>5</th>\n",
       "      <td>ApplicantIncome</td>\n",
       "      <td>0.246971</td>\n",
       "    </tr>\n",
       "    <tr>\n",
       "      <th>6</th>\n",
       "      <td>CoapplicantIncome</td>\n",
       "      <td>0.084870</td>\n",
       "    </tr>\n",
       "    <tr>\n",
       "      <th>7</th>\n",
       "      <td>LoanAmount</td>\n",
       "      <td>0.181608</td>\n",
       "    </tr>\n",
       "    <tr>\n",
       "      <th>8</th>\n",
       "      <td>Loan_Amount_Term</td>\n",
       "      <td>0.050804</td>\n",
       "    </tr>\n",
       "    <tr>\n",
       "      <th>9</th>\n",
       "      <td>Credit_History</td>\n",
       "      <td>0.260601</td>\n",
       "    </tr>\n",
       "    <tr>\n",
       "      <th>10</th>\n",
       "      <td>Property_Area</td>\n",
       "      <td>0.031073</td>\n",
       "    </tr>\n",
       "  </tbody>\n",
       "</table>\n",
       "</div>"
      ],
      "text/plain": [
       "             Features  Importance\n",
       "0              Gender    0.009828\n",
       "1             Married    0.028478\n",
       "2          Dependents    0.061418\n",
       "3           Education    0.029887\n",
       "4       Self_Employed    0.014463\n",
       "5     ApplicantIncome    0.246971\n",
       "6   CoapplicantIncome    0.084870\n",
       "7          LoanAmount    0.181608\n",
       "8    Loan_Amount_Term    0.050804\n",
       "9      Credit_History    0.260601\n",
       "10      Property_Area    0.031073"
      ]
     },
     "execution_count": 39,
     "metadata": {},
     "output_type": "execute_result"
    }
   ],
   "source": [
    "feature_imp"
   ]
  },
  {
   "cell_type": "code",
   "execution_count": 41,
   "id": "43bb108e",
   "metadata": {},
   "outputs": [
    {
     "data": {
      "text/html": [
       "<div>\n",
       "<style scoped>\n",
       "    .dataframe tbody tr th:only-of-type {\n",
       "        vertical-align: middle;\n",
       "    }\n",
       "\n",
       "    .dataframe tbody tr th {\n",
       "        vertical-align: top;\n",
       "    }\n",
       "\n",
       "    .dataframe thead th {\n",
       "        text-align: right;\n",
       "    }\n",
       "</style>\n",
       "<table border=\"1\" class=\"dataframe\">\n",
       "  <thead>\n",
       "    <tr style=\"text-align: right;\">\n",
       "      <th></th>\n",
       "      <th>Feature</th>\n",
       "      <th>Importance</th>\n",
       "    </tr>\n",
       "  </thead>\n",
       "  <tbody>\n",
       "    <tr>\n",
       "      <th>0</th>\n",
       "      <td>Gender</td>\n",
       "      <td>0.009828</td>\n",
       "    </tr>\n",
       "    <tr>\n",
       "      <th>1</th>\n",
       "      <td>Married</td>\n",
       "      <td>0.028478</td>\n",
       "    </tr>\n",
       "    <tr>\n",
       "      <th>2</th>\n",
       "      <td>Dependents</td>\n",
       "      <td>0.061418</td>\n",
       "    </tr>\n",
       "    <tr>\n",
       "      <th>3</th>\n",
       "      <td>Education</td>\n",
       "      <td>0.029887</td>\n",
       "    </tr>\n",
       "    <tr>\n",
       "      <th>4</th>\n",
       "      <td>Self_Employed</td>\n",
       "      <td>0.014463</td>\n",
       "    </tr>\n",
       "    <tr>\n",
       "      <th>5</th>\n",
       "      <td>ApplicantIncome</td>\n",
       "      <td>0.246971</td>\n",
       "    </tr>\n",
       "    <tr>\n",
       "      <th>6</th>\n",
       "      <td>CoapplicantIncome</td>\n",
       "      <td>0.084870</td>\n",
       "    </tr>\n",
       "    <tr>\n",
       "      <th>7</th>\n",
       "      <td>LoanAmount</td>\n",
       "      <td>0.181608</td>\n",
       "    </tr>\n",
       "    <tr>\n",
       "      <th>8</th>\n",
       "      <td>Loan_Amount_Term</td>\n",
       "      <td>0.050804</td>\n",
       "    </tr>\n",
       "    <tr>\n",
       "      <th>9</th>\n",
       "      <td>Credit_History</td>\n",
       "      <td>0.260601</td>\n",
       "    </tr>\n",
       "    <tr>\n",
       "      <th>10</th>\n",
       "      <td>Property_Area</td>\n",
       "      <td>0.031073</td>\n",
       "    </tr>\n",
       "  </tbody>\n",
       "</table>\n",
       "</div>"
      ],
      "text/plain": [
       "              Feature  Importance\n",
       "0              Gender    0.009828\n",
       "1             Married    0.028478\n",
       "2          Dependents    0.061418\n",
       "3           Education    0.029887\n",
       "4       Self_Employed    0.014463\n",
       "5     ApplicantIncome    0.246971\n",
       "6   CoapplicantIncome    0.084870\n",
       "7          LoanAmount    0.181608\n",
       "8    Loan_Amount_Term    0.050804\n",
       "9      Credit_History    0.260601\n",
       "10      Property_Area    0.031073"
      ]
     },
     "execution_count": 41,
     "metadata": {},
     "output_type": "execute_result"
    }
   ],
   "source": [
    "# or another way\n",
    "\n",
    "feature_importance = pd.DataFrame({'Feature': train_cr_x.columns, 'Importance': dt_cr.feature_importances_})\n",
    "feature_importance"
   ]
  },
  {
   "cell_type": "code",
   "execution_count": 43,
   "id": "29b0918a",
   "metadata": {},
   "outputs": [
    {
     "data": {
      "text/html": [
       "<div>\n",
       "<style scoped>\n",
       "    .dataframe tbody tr th:only-of-type {\n",
       "        vertical-align: middle;\n",
       "    }\n",
       "\n",
       "    .dataframe tbody tr th {\n",
       "        vertical-align: top;\n",
       "    }\n",
       "\n",
       "    .dataframe thead th {\n",
       "        text-align: right;\n",
       "    }\n",
       "</style>\n",
       "<table border=\"1\" class=\"dataframe\">\n",
       "  <thead>\n",
       "    <tr style=\"text-align: right;\">\n",
       "      <th></th>\n",
       "      <th>Features</th>\n",
       "      <th>Importance</th>\n",
       "    </tr>\n",
       "  </thead>\n",
       "  <tbody>\n",
       "    <tr>\n",
       "      <th>9</th>\n",
       "      <td>Credit_History</td>\n",
       "      <td>0.260601</td>\n",
       "    </tr>\n",
       "    <tr>\n",
       "      <th>5</th>\n",
       "      <td>ApplicantIncome</td>\n",
       "      <td>0.246971</td>\n",
       "    </tr>\n",
       "    <tr>\n",
       "      <th>7</th>\n",
       "      <td>LoanAmount</td>\n",
       "      <td>0.181608</td>\n",
       "    </tr>\n",
       "    <tr>\n",
       "      <th>6</th>\n",
       "      <td>CoapplicantIncome</td>\n",
       "      <td>0.084870</td>\n",
       "    </tr>\n",
       "    <tr>\n",
       "      <th>2</th>\n",
       "      <td>Dependents</td>\n",
       "      <td>0.061418</td>\n",
       "    </tr>\n",
       "    <tr>\n",
       "      <th>8</th>\n",
       "      <td>Loan_Amount_Term</td>\n",
       "      <td>0.050804</td>\n",
       "    </tr>\n",
       "    <tr>\n",
       "      <th>10</th>\n",
       "      <td>Property_Area</td>\n",
       "      <td>0.031073</td>\n",
       "    </tr>\n",
       "    <tr>\n",
       "      <th>3</th>\n",
       "      <td>Education</td>\n",
       "      <td>0.029887</td>\n",
       "    </tr>\n",
       "    <tr>\n",
       "      <th>1</th>\n",
       "      <td>Married</td>\n",
       "      <td>0.028478</td>\n",
       "    </tr>\n",
       "    <tr>\n",
       "      <th>4</th>\n",
       "      <td>Self_Employed</td>\n",
       "      <td>0.014463</td>\n",
       "    </tr>\n",
       "    <tr>\n",
       "      <th>0</th>\n",
       "      <td>Gender</td>\n",
       "      <td>0.009828</td>\n",
       "    </tr>\n",
       "  </tbody>\n",
       "</table>\n",
       "</div>"
      ],
      "text/plain": [
       "             Features  Importance\n",
       "9      Credit_History    0.260601\n",
       "5     ApplicantIncome    0.246971\n",
       "7          LoanAmount    0.181608\n",
       "6   CoapplicantIncome    0.084870\n",
       "2          Dependents    0.061418\n",
       "8    Loan_Amount_Term    0.050804\n",
       "10      Property_Area    0.031073\n",
       "3           Education    0.029887\n",
       "1             Married    0.028478\n",
       "4       Self_Employed    0.014463\n",
       "0              Gender    0.009828"
      ]
     },
     "execution_count": 43,
     "metadata": {},
     "output_type": "execute_result"
    }
   ],
   "source": [
    "feature_imp.sort_values('Importance', ascending= False)"
   ]
  },
  {
   "cell_type": "code",
   "execution_count": 50,
   "id": "b6f1b7a9",
   "metadata": {},
   "outputs": [],
   "source": [
    "dt_crd = DecisionTreeClassifier(criterion='entropy', max_depth= 5)\n",
    "\n",
    "# Decision tree depth or branches\n",
    "# max-depth is also a hyper-parameter\n"
   ]
  },
  {
   "cell_type": "code",
   "execution_count": 51,
   "id": "27744d26",
   "metadata": {},
   "outputs": [
    {
     "data": {
      "text/plain": [
       "DecisionTreeClassifier(criterion='entropy', max_depth=5)"
      ]
     },
     "execution_count": 51,
     "metadata": {},
     "output_type": "execute_result"
    }
   ],
   "source": [
    "dt_crd.fit(train_cr_x, train_cr_y)"
   ]
  },
  {
   "cell_type": "code",
   "execution_count": 52,
   "id": "b64fdf0e",
   "metadata": {},
   "outputs": [],
   "source": [
    "pred_dtd = dt_crd.predict(test_cr_x)"
   ]
  },
  {
   "cell_type": "code",
   "execution_count": 53,
   "id": "141f2240",
   "metadata": {},
   "outputs": [
    {
     "data": {
      "text/plain": [
       "array([[ 35,  25],\n",
       "       [ 15, 122]], dtype=int64)"
      ]
     },
     "execution_count": 53,
     "metadata": {},
     "output_type": "execute_result"
    }
   ],
   "source": [
    "tab_dtd = confusion_matrix(test_cr_y, pred_dtd)\n",
    "tab_dtd"
   ]
  },
  {
   "cell_type": "code",
   "execution_count": 54,
   "id": "2a447fa7",
   "metadata": {},
   "outputs": [
    {
     "name": "stdout",
     "output_type": "stream",
     "text": [
      "Accuracy score is -->  79.69543147208121\n",
      "Precision score is -->  82.99319727891157\n",
      "Recall score is -->  89.05109489051095\n",
      "F1 score is -->  85.91549295774648\n"
     ]
    }
   ],
   "source": [
    "print('Accuracy score is --> ', accuracy_score(test_cr_y, pred_dtd)*100)\n",
    "print('Precision score is --> ', precision_score(test_cr_y, pred_dtd)*100)\n",
    "print('Recall score is --> ', recall_score(test_cr_y, pred_dtd)*100)\n",
    "print('F1 score is --> ', f1_score(test_cr_y, pred_dtd)*100)\n",
    "\n",
    "# From Entropy - Decision Tree"
   ]
  },
  {
   "cell_type": "code",
   "execution_count": 55,
   "id": "fcb25c1d",
   "metadata": {},
   "outputs": [],
   "source": [
    "feature_imp['Features'] = train_cr_x.columns\n",
    "feature_imp['Importance'] = dt_crd.feature_importances_"
   ]
  },
  {
   "cell_type": "code",
   "execution_count": 56,
   "id": "f270c2d5",
   "metadata": {},
   "outputs": [
    {
     "data": {
      "text/html": [
       "<div>\n",
       "<style scoped>\n",
       "    .dataframe tbody tr th:only-of-type {\n",
       "        vertical-align: middle;\n",
       "    }\n",
       "\n",
       "    .dataframe tbody tr th {\n",
       "        vertical-align: top;\n",
       "    }\n",
       "\n",
       "    .dataframe thead th {\n",
       "        text-align: right;\n",
       "    }\n",
       "</style>\n",
       "<table border=\"1\" class=\"dataframe\">\n",
       "  <thead>\n",
       "    <tr style=\"text-align: right;\">\n",
       "      <th></th>\n",
       "      <th>Features</th>\n",
       "      <th>Importance</th>\n",
       "    </tr>\n",
       "  </thead>\n",
       "  <tbody>\n",
       "    <tr>\n",
       "      <th>9</th>\n",
       "      <td>Credit_History</td>\n",
       "      <td>0.589029</td>\n",
       "    </tr>\n",
       "    <tr>\n",
       "      <th>6</th>\n",
       "      <td>CoapplicantIncome</td>\n",
       "      <td>0.104761</td>\n",
       "    </tr>\n",
       "    <tr>\n",
       "      <th>5</th>\n",
       "      <td>ApplicantIncome</td>\n",
       "      <td>0.078226</td>\n",
       "    </tr>\n",
       "    <tr>\n",
       "      <th>8</th>\n",
       "      <td>Loan_Amount_Term</td>\n",
       "      <td>0.075280</td>\n",
       "    </tr>\n",
       "    <tr>\n",
       "      <th>7</th>\n",
       "      <td>LoanAmount</td>\n",
       "      <td>0.066217</td>\n",
       "    </tr>\n",
       "    <tr>\n",
       "      <th>2</th>\n",
       "      <td>Dependents</td>\n",
       "      <td>0.034730</td>\n",
       "    </tr>\n",
       "    <tr>\n",
       "      <th>10</th>\n",
       "      <td>Property_Area</td>\n",
       "      <td>0.034217</td>\n",
       "    </tr>\n",
       "    <tr>\n",
       "      <th>3</th>\n",
       "      <td>Education</td>\n",
       "      <td>0.017540</td>\n",
       "    </tr>\n",
       "    <tr>\n",
       "      <th>0</th>\n",
       "      <td>Gender</td>\n",
       "      <td>0.000000</td>\n",
       "    </tr>\n",
       "    <tr>\n",
       "      <th>1</th>\n",
       "      <td>Married</td>\n",
       "      <td>0.000000</td>\n",
       "    </tr>\n",
       "    <tr>\n",
       "      <th>4</th>\n",
       "      <td>Self_Employed</td>\n",
       "      <td>0.000000</td>\n",
       "    </tr>\n",
       "  </tbody>\n",
       "</table>\n",
       "</div>"
      ],
      "text/plain": [
       "             Features  Importance\n",
       "9      Credit_History    0.589029\n",
       "6   CoapplicantIncome    0.104761\n",
       "5     ApplicantIncome    0.078226\n",
       "8    Loan_Amount_Term    0.075280\n",
       "7          LoanAmount    0.066217\n",
       "2          Dependents    0.034730\n",
       "10      Property_Area    0.034217\n",
       "3           Education    0.017540\n",
       "0              Gender    0.000000\n",
       "1             Married    0.000000\n",
       "4       Self_Employed    0.000000"
      ]
     },
     "execution_count": 56,
     "metadata": {},
     "output_type": "execute_result"
    }
   ],
   "source": [
    "feature_imp.sort_values('Importance', ascending= False)\n",
    "\n",
    "# since, max-depth is 5, it is showing 0 for Gender, married, self-employed"
   ]
  },
  {
   "cell_type": "code",
   "execution_count": 118,
   "id": "ec90bf46",
   "metadata": {},
   "outputs": [],
   "source": [
    "dt_crd = DecisionTreeClassifier(criterion='entropy',min_samples_split= 2)\n",
    "\n",
    "# min_samples_split is again a hyper parameter\n"
   ]
  },
  {
   "cell_type": "code",
   "execution_count": 119,
   "id": "e15545ec",
   "metadata": {},
   "outputs": [
    {
     "data": {
      "text/plain": [
       "DecisionTreeClassifier(criterion='entropy')"
      ]
     },
     "execution_count": 119,
     "metadata": {},
     "output_type": "execute_result"
    }
   ],
   "source": [
    "dt_crd.fit(train_cr_x, train_cr_y)"
   ]
  },
  {
   "cell_type": "code",
   "execution_count": 120,
   "id": "767e2d12",
   "metadata": {},
   "outputs": [],
   "source": [
    "pred_dtd = dt_crd.predict(test_cr_x)\n"
   ]
  },
  {
   "cell_type": "code",
   "execution_count": 121,
   "id": "07bcf4aa",
   "metadata": {},
   "outputs": [
    {
     "data": {
      "text/plain": [
       "array([[ 34,  26],\n",
       "       [ 17, 120]], dtype=int64)"
      ]
     },
     "execution_count": 121,
     "metadata": {},
     "output_type": "execute_result"
    }
   ],
   "source": [
    "tab_dtd = confusion_matrix(test_cr_y, pred_dtd)\n",
    "tab_dtd"
   ]
  },
  {
   "cell_type": "code",
   "execution_count": 122,
   "id": "8e561b6f",
   "metadata": {},
   "outputs": [
    {
     "name": "stdout",
     "output_type": "stream",
     "text": [
      "Accuracy score is -->  78.1725888324873\n",
      "Precision score is -->  82.1917808219178\n",
      "Recall score is -->  87.59124087591242\n",
      "F1 score is -->  84.80565371024736\n"
     ]
    }
   ],
   "source": [
    "print('Accuracy score is --> ', accuracy_score(test_cr_y, pred_dtd)*100)\n",
    "print('Precision score is --> ', precision_score(test_cr_y, pred_dtd)*100)\n",
    "print('Recall score is --> ', recall_score(test_cr_y, pred_dtd)*100)\n",
    "print('F1 score is --> ', f1_score(test_cr_y, pred_dtd)*100)\n",
    "\n",
    "# From Entropy - Decision Tree"
   ]
  },
  {
   "cell_type": "code",
   "execution_count": 123,
   "id": "ec6c31bf",
   "metadata": {},
   "outputs": [],
   "source": [
    "feature_imp['Features'] = train_cr_x.columns\n",
    "feature_imp['Importance'] = dt_crd.feature_importances_"
   ]
  },
  {
   "cell_type": "code",
   "execution_count": 124,
   "id": "acccafd6",
   "metadata": {},
   "outputs": [
    {
     "data": {
      "text/html": [
       "<div>\n",
       "<style scoped>\n",
       "    .dataframe tbody tr th:only-of-type {\n",
       "        vertical-align: middle;\n",
       "    }\n",
       "\n",
       "    .dataframe tbody tr th {\n",
       "        vertical-align: top;\n",
       "    }\n",
       "\n",
       "    .dataframe thead th {\n",
       "        text-align: right;\n",
       "    }\n",
       "</style>\n",
       "<table border=\"1\" class=\"dataframe\">\n",
       "  <thead>\n",
       "    <tr style=\"text-align: right;\">\n",
       "      <th></th>\n",
       "      <th>Features</th>\n",
       "      <th>Importance</th>\n",
       "    </tr>\n",
       "  </thead>\n",
       "  <tbody>\n",
       "    <tr>\n",
       "      <th>5</th>\n",
       "      <td>ApplicantIncome</td>\n",
       "      <td>0.279931</td>\n",
       "    </tr>\n",
       "    <tr>\n",
       "      <th>9</th>\n",
       "      <td>Credit_History</td>\n",
       "      <td>0.205564</td>\n",
       "    </tr>\n",
       "    <tr>\n",
       "      <th>7</th>\n",
       "      <td>LoanAmount</td>\n",
       "      <td>0.190530</td>\n",
       "    </tr>\n",
       "    <tr>\n",
       "      <th>6</th>\n",
       "      <td>CoapplicantIncome</td>\n",
       "      <td>0.115047</td>\n",
       "    </tr>\n",
       "    <tr>\n",
       "      <th>2</th>\n",
       "      <td>Dependents</td>\n",
       "      <td>0.072167</td>\n",
       "    </tr>\n",
       "    <tr>\n",
       "      <th>8</th>\n",
       "      <td>Loan_Amount_Term</td>\n",
       "      <td>0.049168</td>\n",
       "    </tr>\n",
       "    <tr>\n",
       "      <th>10</th>\n",
       "      <td>Property_Area</td>\n",
       "      <td>0.027650</td>\n",
       "    </tr>\n",
       "    <tr>\n",
       "      <th>1</th>\n",
       "      <td>Married</td>\n",
       "      <td>0.023525</td>\n",
       "    </tr>\n",
       "    <tr>\n",
       "      <th>0</th>\n",
       "      <td>Gender</td>\n",
       "      <td>0.016094</td>\n",
       "    </tr>\n",
       "    <tr>\n",
       "      <th>4</th>\n",
       "      <td>Self_Employed</td>\n",
       "      <td>0.010594</td>\n",
       "    </tr>\n",
       "    <tr>\n",
       "      <th>3</th>\n",
       "      <td>Education</td>\n",
       "      <td>0.009731</td>\n",
       "    </tr>\n",
       "  </tbody>\n",
       "</table>\n",
       "</div>"
      ],
      "text/plain": [
       "             Features  Importance\n",
       "5     ApplicantIncome    0.279931\n",
       "9      Credit_History    0.205564\n",
       "7          LoanAmount    0.190530\n",
       "6   CoapplicantIncome    0.115047\n",
       "2          Dependents    0.072167\n",
       "8    Loan_Amount_Term    0.049168\n",
       "10      Property_Area    0.027650\n",
       "1             Married    0.023525\n",
       "0              Gender    0.016094\n",
       "4       Self_Employed    0.010594\n",
       "3           Education    0.009731"
      ]
     },
     "execution_count": 124,
     "metadata": {},
     "output_type": "execute_result"
    }
   ],
   "source": [
    "feature_imp.sort_values('Importance', ascending= False)\n"
   ]
  },
  {
   "cell_type": "code",
   "execution_count": null,
   "id": "75a3abd9",
   "metadata": {},
   "outputs": [],
   "source": []
  }
 ],
 "metadata": {
  "kernelspec": {
   "display_name": "Python 3 (ipykernel)",
   "language": "python",
   "name": "python3"
  },
  "language_info": {
   "codemirror_mode": {
    "name": "ipython",
    "version": 3
   },
   "file_extension": ".py",
   "mimetype": "text/x-python",
   "name": "python",
   "nbconvert_exporter": "python",
   "pygments_lexer": "ipython3",
   "version": "3.9.12"
  }
 },
 "nbformat": 4,
 "nbformat_minor": 5
}
