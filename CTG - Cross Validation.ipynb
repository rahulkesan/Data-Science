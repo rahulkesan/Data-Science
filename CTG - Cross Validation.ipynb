{
 "cells": [
  {
   "cell_type": "code",
   "execution_count": 1,
   "id": "717c1845",
   "metadata": {},
   "outputs": [],
   "source": [
    "import pandas as pd"
   ]
  },
  {
   "cell_type": "code",
   "execution_count": 3,
   "id": "862a07af",
   "metadata": {},
   "outputs": [],
   "source": [
    "ctg = pd.read_csv(r'C:\\Users\\RahulK\\Downloads\\Machine Learning By Pranjal Sir\\Supervised\\Cross Validation\\CTG.csv')"
   ]
  },
  {
   "cell_type": "code",
   "execution_count": 4,
   "id": "e6047a58",
   "metadata": {},
   "outputs": [
    {
     "data": {
      "text/html": [
       "<div>\n",
       "<style scoped>\n",
       "    .dataframe tbody tr th:only-of-type {\n",
       "        vertical-align: middle;\n",
       "    }\n",
       "\n",
       "    .dataframe tbody tr th {\n",
       "        vertical-align: top;\n",
       "    }\n",
       "\n",
       "    .dataframe thead th {\n",
       "        text-align: right;\n",
       "    }\n",
       "</style>\n",
       "<table border=\"1\" class=\"dataframe\">\n",
       "  <thead>\n",
       "    <tr style=\"text-align: right;\">\n",
       "      <th></th>\n",
       "      <th>LB</th>\n",
       "      <th>AC</th>\n",
       "      <th>FM</th>\n",
       "      <th>NSP</th>\n",
       "    </tr>\n",
       "  </thead>\n",
       "  <tbody>\n",
       "    <tr>\n",
       "      <th>0</th>\n",
       "      <td>120</td>\n",
       "      <td>0.000</td>\n",
       "      <td>0.0</td>\n",
       "      <td>2</td>\n",
       "    </tr>\n",
       "    <tr>\n",
       "      <th>1</th>\n",
       "      <td>132</td>\n",
       "      <td>0.006</td>\n",
       "      <td>0.0</td>\n",
       "      <td>1</td>\n",
       "    </tr>\n",
       "    <tr>\n",
       "      <th>2</th>\n",
       "      <td>133</td>\n",
       "      <td>0.003</td>\n",
       "      <td>0.0</td>\n",
       "      <td>1</td>\n",
       "    </tr>\n",
       "    <tr>\n",
       "      <th>3</th>\n",
       "      <td>134</td>\n",
       "      <td>0.003</td>\n",
       "      <td>0.0</td>\n",
       "      <td>1</td>\n",
       "    </tr>\n",
       "    <tr>\n",
       "      <th>4</th>\n",
       "      <td>132</td>\n",
       "      <td>0.007</td>\n",
       "      <td>0.0</td>\n",
       "      <td>1</td>\n",
       "    </tr>\n",
       "  </tbody>\n",
       "</table>\n",
       "</div>"
      ],
      "text/plain": [
       "    LB     AC   FM  NSP\n",
       "0  120  0.000  0.0    2\n",
       "1  132  0.006  0.0    1\n",
       "2  133  0.003  0.0    1\n",
       "3  134  0.003  0.0    1\n",
       "4  132  0.007  0.0    1"
      ]
     },
     "execution_count": 4,
     "metadata": {},
     "output_type": "execute_result"
    }
   ],
   "source": [
    "ctg.head()"
   ]
  },
  {
   "cell_type": "code",
   "execution_count": 5,
   "id": "084f1bdb",
   "metadata": {},
   "outputs": [],
   "source": [
    "# NSP is the target variable"
   ]
  },
  {
   "cell_type": "code",
   "execution_count": 6,
   "id": "618568c4",
   "metadata": {},
   "outputs": [],
   "source": [
    "from sklearn.model_selection import train_test_split"
   ]
  },
  {
   "cell_type": "code",
   "execution_count": 7,
   "id": "2baed84f",
   "metadata": {},
   "outputs": [],
   "source": [
    "ctg_train, ctg_test = train_test_split(ctg, test_size=.2)"
   ]
  },
  {
   "cell_type": "code",
   "execution_count": 8,
   "id": "900e407e",
   "metadata": {},
   "outputs": [],
   "source": [
    "ctg_train_x = ctg_train.iloc[:, 0:-1]\n",
    "ctg_train_y = ctg_train.iloc[0:, -1]\n",
    "\n",
    "ctg_test_x = ctg_test.iloc[:, 0:-1]\n",
    "ctg_test_y = ctg_test.iloc[0:, -1]"
   ]
  },
  {
   "cell_type": "code",
   "execution_count": 9,
   "id": "6bd5b0e6",
   "metadata": {},
   "outputs": [],
   "source": [
    "from sklearn.tree import DecisionTreeClassifier"
   ]
  },
  {
   "cell_type": "code",
   "execution_count": 10,
   "id": "f9af4c69",
   "metadata": {},
   "outputs": [],
   "source": [
    "dt = DecisionTreeClassifier()"
   ]
  },
  {
   "cell_type": "code",
   "execution_count": 11,
   "id": "9840584f",
   "metadata": {},
   "outputs": [],
   "source": [
    "from sklearn.model_selection import cross_val_score"
   ]
  },
  {
   "cell_type": "code",
   "execution_count": 12,
   "id": "fddad9be",
   "metadata": {},
   "outputs": [],
   "source": [
    "dt_model_cv = cross_val_score(dt, ctg_train_x, ctg_train_y, cv= 7)"
   ]
  },
  {
   "cell_type": "code",
   "execution_count": 13,
   "id": "45ade4c3",
   "metadata": {},
   "outputs": [
    {
     "data": {
      "text/plain": [
       "array([0.84773663, 0.8436214 , 0.81893004, 0.82304527, 0.81069959,\n",
       "       0.83539095, 0.79338843])"
      ]
     },
     "execution_count": 13,
     "metadata": {},
     "output_type": "execute_result"
    }
   ],
   "source": [
    "dt_model_cv"
   ]
  },
  {
   "cell_type": "code",
   "execution_count": 14,
   "id": "02d766db",
   "metadata": {},
   "outputs": [],
   "source": [
    "dt_model_cv = cross_val_score(dt, ctg_train_x, ctg_train_y, cv= 10)\n",
    "# Taking CV =10"
   ]
  },
  {
   "cell_type": "code",
   "execution_count": 15,
   "id": "d06d2b02",
   "metadata": {},
   "outputs": [
    {
     "data": {
      "text/plain": [
       "array([0.84117647, 0.86470588, 0.87058824, 0.81764706, 0.83529412,\n",
       "       0.8       , 0.81764706, 0.82941176, 0.8       , 0.78235294])"
      ]
     },
     "execution_count": 15,
     "metadata": {},
     "output_type": "execute_result"
    }
   ],
   "source": [
    "dt_model_cv"
   ]
  },
  {
   "cell_type": "code",
   "execution_count": 16,
   "id": "3d52f033",
   "metadata": {},
   "outputs": [
    {
     "data": {
      "text/plain": [
       "0.8258823529411765"
      ]
     },
     "execution_count": 16,
     "metadata": {},
     "output_type": "execute_result"
    }
   ],
   "source": [
    "dt_model_cv.mean()"
   ]
  },
  {
   "cell_type": "code",
   "execution_count": 17,
   "id": "bb13d88e",
   "metadata": {},
   "outputs": [
    {
     "data": {
      "text/plain": [
       "0.8705882352941177"
      ]
     },
     "execution_count": 17,
     "metadata": {},
     "output_type": "execute_result"
    }
   ],
   "source": [
    "dt_model_cv.max()"
   ]
  },
  {
   "cell_type": "code",
   "execution_count": 18,
   "id": "33d20245",
   "metadata": {},
   "outputs": [
    {
     "data": {
      "text/plain": [
       "0.7823529411764706"
      ]
     },
     "execution_count": 18,
     "metadata": {},
     "output_type": "execute_result"
    }
   ],
   "source": [
    "dt_model_cv.min()"
   ]
  },
  {
   "cell_type": "code",
   "execution_count": 19,
   "id": "23e4bf56",
   "metadata": {},
   "outputs": [],
   "source": [
    "dt = DecisionTreeClassifier(criterion= 'entropy')"
   ]
  },
  {
   "cell_type": "code",
   "execution_count": 20,
   "id": "3577b691",
   "metadata": {},
   "outputs": [],
   "source": [
    "dt_model_cv = cross_val_score(dt, ctg_train_x, ctg_train_y, cv= 10)\n",
    "# Taking CV =10"
   ]
  },
  {
   "cell_type": "code",
   "execution_count": 21,
   "id": "949fce1c",
   "metadata": {},
   "outputs": [
    {
     "data": {
      "text/plain": [
       "array([0.84705882, 0.86470588, 0.84705882, 0.83529412, 0.81176471,\n",
       "       0.79411765, 0.81176471, 0.83529412, 0.81176471, 0.77647059])"
      ]
     },
     "execution_count": 21,
     "metadata": {},
     "output_type": "execute_result"
    }
   ],
   "source": [
    "dt_model_cv"
   ]
  },
  {
   "cell_type": "code",
   "execution_count": 22,
   "id": "671e76b0",
   "metadata": {},
   "outputs": [
    {
     "data": {
      "text/plain": [
       "0.823529411764706"
      ]
     },
     "execution_count": 22,
     "metadata": {},
     "output_type": "execute_result"
    }
   ],
   "source": [
    "dt_model_cv.mean()"
   ]
  },
  {
   "cell_type": "code",
   "execution_count": 23,
   "id": "461b3e8f",
   "metadata": {},
   "outputs": [
    {
     "data": {
      "text/plain": [
       "0.8647058823529412"
      ]
     },
     "execution_count": 23,
     "metadata": {},
     "output_type": "execute_result"
    }
   ],
   "source": [
    "dt_model_cv.max()"
   ]
  },
  {
   "cell_type": "code",
   "execution_count": 24,
   "id": "ff0dcb0e",
   "metadata": {},
   "outputs": [
    {
     "data": {
      "text/plain": [
       "0.7764705882352941"
      ]
     },
     "execution_count": 24,
     "metadata": {},
     "output_type": "execute_result"
    }
   ],
   "source": [
    "dt_model_cv.min()"
   ]
  },
  {
   "cell_type": "code",
   "execution_count": null,
   "id": "3fefbd18",
   "metadata": {},
   "outputs": [],
   "source": []
  }
 ],
 "metadata": {
  "kernelspec": {
   "display_name": "Python 3 (ipykernel)",
   "language": "python",
   "name": "python3"
  },
  "language_info": {
   "codemirror_mode": {
    "name": "ipython",
    "version": 3
   },
   "file_extension": ".py",
   "mimetype": "text/x-python",
   "name": "python",
   "nbconvert_exporter": "python",
   "pygments_lexer": "ipython3",
   "version": "3.9.12"
  }
 },
 "nbformat": 4,
 "nbformat_minor": 5
}
