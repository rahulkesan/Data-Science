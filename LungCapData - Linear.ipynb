{
 "cells": [
  {
   "cell_type": "code",
   "execution_count": 1,
   "id": "e14ac74a",
   "metadata": {},
   "outputs": [],
   "source": [
    "import pandas as pd"
   ]
  },
  {
   "cell_type": "code",
   "execution_count": 2,
   "id": "8357dbfc",
   "metadata": {},
   "outputs": [],
   "source": [
    "lcn = pd.read_csv(r\"C:\\Users\\RahulK\\Downloads\\Machine Learning By Pranjal Sir\\Regression\\Linear\\LungCapData.csv\")"
   ]
  },
  {
   "cell_type": "code",
   "execution_count": 3,
   "id": "1809a179",
   "metadata": {},
   "outputs": [
    {
     "data": {
      "text/html": [
       "<div>\n",
       "<style scoped>\n",
       "    .dataframe tbody tr th:only-of-type {\n",
       "        vertical-align: middle;\n",
       "    }\n",
       "\n",
       "    .dataframe tbody tr th {\n",
       "        vertical-align: top;\n",
       "    }\n",
       "\n",
       "    .dataframe thead th {\n",
       "        text-align: right;\n",
       "    }\n",
       "</style>\n",
       "<table border=\"1\" class=\"dataframe\">\n",
       "  <thead>\n",
       "    <tr style=\"text-align: right;\">\n",
       "      <th></th>\n",
       "      <th>LungCap</th>\n",
       "      <th>Age</th>\n",
       "      <th>Height</th>\n",
       "      <th>Smoke</th>\n",
       "      <th>Gender</th>\n",
       "      <th>Caesarean</th>\n",
       "    </tr>\n",
       "  </thead>\n",
       "  <tbody>\n",
       "    <tr>\n",
       "      <th>0</th>\n",
       "      <td>6.475</td>\n",
       "      <td>6</td>\n",
       "      <td>62.1</td>\n",
       "      <td>no</td>\n",
       "      <td>male</td>\n",
       "      <td>no</td>\n",
       "    </tr>\n",
       "    <tr>\n",
       "      <th>1</th>\n",
       "      <td>10.125</td>\n",
       "      <td>18</td>\n",
       "      <td>74.7</td>\n",
       "      <td>yes</td>\n",
       "      <td>female</td>\n",
       "      <td>no</td>\n",
       "    </tr>\n",
       "    <tr>\n",
       "      <th>2</th>\n",
       "      <td>9.550</td>\n",
       "      <td>16</td>\n",
       "      <td>69.7</td>\n",
       "      <td>no</td>\n",
       "      <td>female</td>\n",
       "      <td>yes</td>\n",
       "    </tr>\n",
       "    <tr>\n",
       "      <th>3</th>\n",
       "      <td>11.125</td>\n",
       "      <td>14</td>\n",
       "      <td>71.0</td>\n",
       "      <td>no</td>\n",
       "      <td>male</td>\n",
       "      <td>no</td>\n",
       "    </tr>\n",
       "    <tr>\n",
       "      <th>4</th>\n",
       "      <td>4.800</td>\n",
       "      <td>5</td>\n",
       "      <td>56.9</td>\n",
       "      <td>no</td>\n",
       "      <td>male</td>\n",
       "      <td>no</td>\n",
       "    </tr>\n",
       "  </tbody>\n",
       "</table>\n",
       "</div>"
      ],
      "text/plain": [
       "   LungCap  Age  Height Smoke  Gender Caesarean\n",
       "0    6.475    6    62.1    no    male        no\n",
       "1   10.125   18    74.7   yes  female        no\n",
       "2    9.550   16    69.7    no  female       yes\n",
       "3   11.125   14    71.0    no    male        no\n",
       "4    4.800    5    56.9    no    male        no"
      ]
     },
     "execution_count": 3,
     "metadata": {},
     "output_type": "execute_result"
    }
   ],
   "source": [
    "lcn.head()"
   ]
  },
  {
   "cell_type": "code",
   "execution_count": 4,
   "id": "8e2a94ac",
   "metadata": {},
   "outputs": [
    {
     "data": {
      "text/plain": [
       "(725, 6)"
      ]
     },
     "execution_count": 4,
     "metadata": {},
     "output_type": "execute_result"
    }
   ],
   "source": [
    "lcn.shape"
   ]
  },
  {
   "cell_type": "code",
   "execution_count": 5,
   "id": "7fb8a16f",
   "metadata": {},
   "outputs": [],
   "source": [
    "# Steps involved in model building\n",
    "# 1. Problem Statement (is to build a predictive model which can predict the LungCap of person)\n",
    "# 2. Data collection\n",
    "# 3. Data cleaning/pre processing/preparation\n",
    " # check for nulls, convert labels to numeric, rename the columns, add columns if needed\n",
    "# 4. RANDOM Sampling (Train and Test) ratio (Large portion in your train, smaller in test 80:20, 70:30, 75:25)\n",
    "# 5. Model building\n",
    "  # a. Import the required function from sklearn\n",
    "  # b. create the object / Instance \n",
    "  # c. Run your fit method and pass x & y. At this point model is build\n",
    "  # d. Predict function is used for prediction and while using the predict we only need 'x'.\n",
    "# 6. Testing (to evaluate the model / to judge the performance of the model)"
   ]
  },
  {
   "cell_type": "code",
   "execution_count": 6,
   "id": "9a96e7e8",
   "metadata": {},
   "outputs": [
    {
     "data": {
      "text/plain": [
       "LungCap      0\n",
       "Age          0\n",
       "Height       0\n",
       "Smoke        0\n",
       "Gender       0\n",
       "Caesarean    0\n",
       "dtype: int64"
      ]
     },
     "execution_count": 6,
     "metadata": {},
     "output_type": "execute_result"
    }
   ],
   "source": [
    "lcn.isnull().sum()"
   ]
  },
  {
   "cell_type": "code",
   "execution_count": 7,
   "id": "822df319",
   "metadata": {},
   "outputs": [],
   "source": [
    "# We can use both label encoder and replace function to convert labels to numeric\n",
    "# Using replace function here\n",
    "\n",
    "lcn.Smoke = lcn.Smoke.replace({'no': 0, 'yes' : 1})\n",
    "lcn.Caesarean = lcn.Caesarean.replace({'no': 0, 'yes' : 1})\n",
    "lcn.Gender = lcn.Gender.replace({'male': 0, 'female' : 1})"
   ]
  },
  {
   "cell_type": "code",
   "execution_count": 8,
   "id": "51b28536",
   "metadata": {},
   "outputs": [
    {
     "data": {
      "text/html": [
       "<div>\n",
       "<style scoped>\n",
       "    .dataframe tbody tr th:only-of-type {\n",
       "        vertical-align: middle;\n",
       "    }\n",
       "\n",
       "    .dataframe tbody tr th {\n",
       "        vertical-align: top;\n",
       "    }\n",
       "\n",
       "    .dataframe thead th {\n",
       "        text-align: right;\n",
       "    }\n",
       "</style>\n",
       "<table border=\"1\" class=\"dataframe\">\n",
       "  <thead>\n",
       "    <tr style=\"text-align: right;\">\n",
       "      <th></th>\n",
       "      <th>LungCap</th>\n",
       "      <th>Age</th>\n",
       "      <th>Height</th>\n",
       "      <th>Smoke</th>\n",
       "      <th>Gender</th>\n",
       "      <th>Caesarean</th>\n",
       "    </tr>\n",
       "  </thead>\n",
       "  <tbody>\n",
       "    <tr>\n",
       "      <th>0</th>\n",
       "      <td>6.475</td>\n",
       "      <td>6</td>\n",
       "      <td>62.1</td>\n",
       "      <td>0</td>\n",
       "      <td>0</td>\n",
       "      <td>0</td>\n",
       "    </tr>\n",
       "    <tr>\n",
       "      <th>1</th>\n",
       "      <td>10.125</td>\n",
       "      <td>18</td>\n",
       "      <td>74.7</td>\n",
       "      <td>1</td>\n",
       "      <td>1</td>\n",
       "      <td>0</td>\n",
       "    </tr>\n",
       "    <tr>\n",
       "      <th>2</th>\n",
       "      <td>9.550</td>\n",
       "      <td>16</td>\n",
       "      <td>69.7</td>\n",
       "      <td>0</td>\n",
       "      <td>1</td>\n",
       "      <td>1</td>\n",
       "    </tr>\n",
       "    <tr>\n",
       "      <th>3</th>\n",
       "      <td>11.125</td>\n",
       "      <td>14</td>\n",
       "      <td>71.0</td>\n",
       "      <td>0</td>\n",
       "      <td>0</td>\n",
       "      <td>0</td>\n",
       "    </tr>\n",
       "    <tr>\n",
       "      <th>4</th>\n",
       "      <td>4.800</td>\n",
       "      <td>5</td>\n",
       "      <td>56.9</td>\n",
       "      <td>0</td>\n",
       "      <td>0</td>\n",
       "      <td>0</td>\n",
       "    </tr>\n",
       "  </tbody>\n",
       "</table>\n",
       "</div>"
      ],
      "text/plain": [
       "   LungCap  Age  Height  Smoke  Gender  Caesarean\n",
       "0    6.475    6    62.1      0       0          0\n",
       "1   10.125   18    74.7      1       1          0\n",
       "2    9.550   16    69.7      0       1          1\n",
       "3   11.125   14    71.0      0       0          0\n",
       "4    4.800    5    56.9      0       0          0"
      ]
     },
     "execution_count": 8,
     "metadata": {},
     "output_type": "execute_result"
    }
   ],
   "source": [
    "lcn.head()\n",
    "\n",
    "# Just to check that the entire data are in numeric format"
   ]
  },
  {
   "cell_type": "code",
   "execution_count": 9,
   "id": "a6cb20e8",
   "metadata": {},
   "outputs": [],
   "source": [
    "# Here we put lcn = df1 after removing the outliers and then run from below program again"
   ]
  },
  {
   "cell_type": "code",
   "execution_count": 10,
   "id": "3c0bf603",
   "metadata": {},
   "outputs": [],
   "source": [
    "from sklearn.model_selection import train_test_split"
   ]
  },
  {
   "cell_type": "code",
   "execution_count": 11,
   "id": "4cf9471c",
   "metadata": {},
   "outputs": [],
   "source": [
    "lcn_train , lcn_test = train_test_split(lcn, test_size = .2)\n",
    "\n",
    "# train_test_split is a built in function for random sampling\n",
    "# test_size = .2 indicates 20% test data"
   ]
  },
  {
   "cell_type": "code",
   "execution_count": 12,
   "id": "f3185f7b",
   "metadata": {},
   "outputs": [
    {
     "data": {
      "text/plain": [
       "(580, 6)"
      ]
     },
     "execution_count": 12,
     "metadata": {},
     "output_type": "execute_result"
    }
   ],
   "source": [
    "lcn_train.shape"
   ]
  },
  {
   "cell_type": "code",
   "execution_count": 13,
   "id": "9d60c10d",
   "metadata": {},
   "outputs": [
    {
     "data": {
      "text/plain": [
       "(145, 6)"
      ]
     },
     "execution_count": 13,
     "metadata": {},
     "output_type": "execute_result"
    }
   ],
   "source": [
    "lcn_test.shape"
   ]
  },
  {
   "cell_type": "code",
   "execution_count": 14,
   "id": "e1cd931a",
   "metadata": {},
   "outputs": [],
   "source": [
    "lcn_train_x = lcn_train.iloc[: ,1:: ]\n",
    "lcn_train_y = lcn_train.iloc[: , 0]\n",
    "\n",
    "\n",
    "# or we can also write as\n",
    "# lcn_train_x = lcn_train.drop(['LungCap'])\n",
    "# lcn_train_y = lcn_train.LungCap"
   ]
  },
  {
   "cell_type": "code",
   "execution_count": 15,
   "id": "64621648",
   "metadata": {},
   "outputs": [],
   "source": [
    "lcn_test_x = lcn_test.iloc[: ,1:: ]\n",
    "lcn_test_y = lcn_test.iloc[: , 0]"
   ]
  },
  {
   "cell_type": "code",
   "execution_count": 16,
   "id": "53789aa6",
   "metadata": {},
   "outputs": [
    {
     "data": {
      "text/html": [
       "<div>\n",
       "<style scoped>\n",
       "    .dataframe tbody tr th:only-of-type {\n",
       "        vertical-align: middle;\n",
       "    }\n",
       "\n",
       "    .dataframe tbody tr th {\n",
       "        vertical-align: top;\n",
       "    }\n",
       "\n",
       "    .dataframe thead th {\n",
       "        text-align: right;\n",
       "    }\n",
       "</style>\n",
       "<table border=\"1\" class=\"dataframe\">\n",
       "  <thead>\n",
       "    <tr style=\"text-align: right;\">\n",
       "      <th></th>\n",
       "      <th>Age</th>\n",
       "      <th>Height</th>\n",
       "      <th>Smoke</th>\n",
       "      <th>Gender</th>\n",
       "      <th>Caesarean</th>\n",
       "    </tr>\n",
       "  </thead>\n",
       "  <tbody>\n",
       "    <tr>\n",
       "      <th>213</th>\n",
       "      <td>15</td>\n",
       "      <td>66.4</td>\n",
       "      <td>0</td>\n",
       "      <td>1</td>\n",
       "      <td>0</td>\n",
       "    </tr>\n",
       "  </tbody>\n",
       "</table>\n",
       "</div>"
      ],
      "text/plain": [
       "     Age  Height  Smoke  Gender  Caesarean\n",
       "213   15    66.4      0       1          0"
      ]
     },
     "execution_count": 16,
     "metadata": {},
     "output_type": "execute_result"
    }
   ],
   "source": [
    "lcn_train_x.head(1)\n",
    "\n",
    "# Just to verify"
   ]
  },
  {
   "cell_type": "code",
   "execution_count": 17,
   "id": "307153bd",
   "metadata": {},
   "outputs": [
    {
     "data": {
      "text/html": [
       "<div>\n",
       "<style scoped>\n",
       "    .dataframe tbody tr th:only-of-type {\n",
       "        vertical-align: middle;\n",
       "    }\n",
       "\n",
       "    .dataframe tbody tr th {\n",
       "        vertical-align: top;\n",
       "    }\n",
       "\n",
       "    .dataframe thead th {\n",
       "        text-align: right;\n",
       "    }\n",
       "</style>\n",
       "<table border=\"1\" class=\"dataframe\">\n",
       "  <thead>\n",
       "    <tr style=\"text-align: right;\">\n",
       "      <th></th>\n",
       "      <th>Age</th>\n",
       "      <th>Height</th>\n",
       "      <th>Smoke</th>\n",
       "      <th>Gender</th>\n",
       "      <th>Caesarean</th>\n",
       "    </tr>\n",
       "  </thead>\n",
       "  <tbody>\n",
       "    <tr>\n",
       "      <th>698</th>\n",
       "      <td>15</td>\n",
       "      <td>67.3</td>\n",
       "      <td>1</td>\n",
       "      <td>1</td>\n",
       "      <td>0</td>\n",
       "    </tr>\n",
       "  </tbody>\n",
       "</table>\n",
       "</div>"
      ],
      "text/plain": [
       "     Age  Height  Smoke  Gender  Caesarean\n",
       "698   15    67.3      1       1          0"
      ]
     },
     "execution_count": 17,
     "metadata": {},
     "output_type": "execute_result"
    }
   ],
   "source": [
    "lcn_test_x.head(1)\n",
    "\n",
    "# Just to verify"
   ]
  },
  {
   "cell_type": "code",
   "execution_count": 18,
   "id": "4d5d612f",
   "metadata": {},
   "outputs": [
    {
     "data": {
      "text/plain": [
       "213    9.4\n",
       "Name: LungCap, dtype: float64"
      ]
     },
     "execution_count": 18,
     "metadata": {},
     "output_type": "execute_result"
    }
   ],
   "source": [
    "lcn_train_y.head(1)\n",
    "\n",
    "# Just to verify"
   ]
  },
  {
   "cell_type": "code",
   "execution_count": 19,
   "id": "21a1c06b",
   "metadata": {},
   "outputs": [
    {
     "data": {
      "text/plain": [
       "698    7.95\n",
       "Name: LungCap, dtype: float64"
      ]
     },
     "execution_count": 19,
     "metadata": {},
     "output_type": "execute_result"
    }
   ],
   "source": [
    "lcn_test_y.head(1)\n",
    "\n",
    "# Just to verify"
   ]
  },
  {
   "cell_type": "code",
   "execution_count": 20,
   "id": "f953a84a",
   "metadata": {},
   "outputs": [],
   "source": [
    "from sklearn.linear_model import LinearRegression"
   ]
  },
  {
   "cell_type": "code",
   "execution_count": 21,
   "id": "a9ca89fc",
   "metadata": {},
   "outputs": [],
   "source": [
    "linreg = LinearRegression()\n",
    "\n",
    "# linreg is just a variable name, can use any name"
   ]
  },
  {
   "cell_type": "code",
   "execution_count": 22,
   "id": "d2a8ffd9",
   "metadata": {},
   "outputs": [
    {
     "ename": "ValueError",
     "evalue": "Expected 2D array, got 1D array instead:\narray=[ 9.4    7.85   9.9    7.825 12.95   8.575  7.5    7.325 11.225  8.525\n 10.425  2.65   4.475  6.7    7.55  10.925  8.575 11.575 10.875 10.2\n 10.1    9.7    6.05  12.05   6.325  8.7    5.025  9.7    9.1    9.55\n 12.2    5.075  9.5    4.625  6.2   10.125  9.75   1.85  10.475  3.175\n  6.45  10.775  6.225 12.4    7.825  8.775  5.35   9.525  7.     4.725\n 13.375  7.475 11.7    8.45   1.925 12.95  11.95   8.85  10.925  4.425\n  3.45  10.9    6.225  2.875 11.8    8.2    6.525 11.3    7.625 11.225\n  2.625  3.4    7.85  11.4    8.     7.375  7.975  6.575  8.075  8.\n  6.85   6.6    7.775  6.725  6.95   5.375  2.725  9.625 10.725  4.625\n  5.7    5.15   6.7    8.35   7.55   8.9    2.25   9.175  9.375  4.975\n  9.025  8.775  6.225  8.275  9.025  5.2   10.275  5.875  9.85   8.25\n  6.975  8.     5.325  7.35  10.6    6.25  12.375 10.475  6.15   7.125\n 11.9    7.7   10.9    0.507  8.05  10.525  7.275  9.675  5.55   2.925\n  6.85   3.9   11.65   6.1    8.725 12.325 11.625  2.725  9.925 11.125\n  7.75   6.075  8.8    6.85   4.425  9.225 11.275  9.625  6.325  4.525\n 10.475  7.65   9.55   7.175  9.65   5.825 10.7    1.325  7.55   9.675\n  8.225  8.775  4.625 10.675  9.6   10.2    9.1    5.25   6.1   13.1\n  6.8    7.4    7.65   7.35   8.425 11.55  13.375  5.375  6.975 10.8\n  7.325  6.8    8.125  3.7    6.7   10.675  8.6    5.05   1.675 10.375\n  7.825  5.725  9.675 11.5    4.7    4.475  8.3   14.675  8.85   7.725\n  6.175  8.65   4.45   6.7    8.825  2.025  6.1    5.225  7.65   6.925\n  8.025  5.875  9.125 11.875  6.     2.625  9.     4.5   10.975  4.9\n  6.05   8.625  8.025  6.45   5.175 10.475  8.225  8.775  5.95   7.975\n  9.1    8.825  9.875  6.15   6.75   6.175 13.2    4.2    4.775  5.65\n  6.825  9.35   9.275  1.9    2.25   6.575 13.375  6.275  8.625 10.025\n  8.825  8.5    6.65   6.475  6.95   2.375  6.475  6.925  6.7    7.2\n 10.6    7.95   6.3    7.425 10.275 11.125  8.55   6.125  7.675  7.8\n  6.125  6.15   7.25   7.575  6.5    8.425 12.05   7.375 11.325 10.05\n 10.125  9.2    1.175  5.95   6.525  8.875  9.525  7.825 11.175  5.05\n 11.325  7.35   2.25   5.95   8.725  9.725 10.2    6.65  10.75   9.325\n  7.475  8.35   8.975  7.8   13.325  3.85   1.575  9.025  3.975  7.475\n 10.7    6.05   8.2    8.225  7.025  5.85   1.025  8.375  8.975  8.65\n 12.325  8.35  13.875  7.675  9.95   5.725  6.725  4.25   8.85   3.825\n 10.3    9.475 11.8    5.475  5.025  9.675 10.7    2.475 14.55   9.85\n 10.625  6.4    7.225 10.025  4.55   8.775  4.85   3.925  7.4   12.925\n  4.325  9.45   6.3    4.075  6.2   10.55   6.575 12.15   6.45  10.45\n  5.775  6.05   9.85   1.125  8.35   8.55   8.075  4.575  8.475  5.85\n 11.075 10.     6.85   8.35   8.8   10.2   11.575 13.025  3.975  3.425\n  7.55   6.625  7.7    7.4    4.2    5.225  8.25  11.05   3.25   9.\n  9.95   5.675  5.025  8.5    7.9   10.325  9.2   10.4    5.275  3.675\n  9.475  5.25   4.35   8.9    8.2    9.825  4.325  8.25  12.5   10.85\n  7.4    9.45   5.875  8.425  6.075 13.075  9.9    6.9    7.25   7.425\n  2.725  7.3    8.975  9.275  5.15   8.7    1.45   2.65  11.225  9.925\n  7.45   3.75   5.15   6.625  9.325  8.625 10.825  9.975  8.175  4.45\n  2.875 10.45   9.1   12.9   12.625  8.6    6.95   2.95   8.7   11.025\n  7.1    6.55   7.15   8.425  2.55   7.875  5.625  9.05   6.425 10.175\n  7.325  6.825  8.125 12.225 10.35   3.9   11.75   7.625 13.05   8.225\n 12.15   7.45   3.675  7.225 11.225  4.875  7.925  9.05   8.1    7.55\n 10.6    7.825  3.425 11.025  9.675  9.225  8.6   10.25   9.475  7.275\n  3.625  8.025  3.1    7.925  9.8   11.525  9.275  7.825  7.45   7.475\n 11.5    4.325  9.625  2.925  5.375  7.35   6.125  8.6    6.075 10.575\n 10.025  5.05   2.825 10.425 10.6   11.7   12.425  8.325  8.925  6.45\n 10.875  5.3    7.275  5.65   9.725  4.425 10.5    9.75   9.375  6.9\n  8.025  2.    12.125 10.65   8.875  8.8    6.375  1.625  7.9    8.725\n 12.425 11.075  4.85   6.75   8.     6.45   4.725  9.15  12.275  3.9\n  6.725 11.875  4.975  8.675 11.225  7.05  10.4   12.225  7.3    8.725\n  9.15   9.2    8.35   6.675  8.55  11.825  2.85  11.775 10.175  5.85\n  6.9    7.95  10.05   1.775  9.875  7.825  6.775 11.4   11.075  9.925].\nReshape your data either using array.reshape(-1, 1) if your data has a single feature or array.reshape(1, -1) if it contains a single sample.",
     "output_type": "error",
     "traceback": [
      "\u001b[1;31m---------------------------------------------------------------------------\u001b[0m",
      "\u001b[1;31mValueError\u001b[0m                                Traceback (most recent call last)",
      "Input \u001b[1;32mIn [22]\u001b[0m, in \u001b[0;36m<cell line: 1>\u001b[1;34m()\u001b[0m\n\u001b[1;32m----> 1\u001b[0m \u001b[43mlinreg\u001b[49m\u001b[38;5;241;43m.\u001b[39;49m\u001b[43mfit\u001b[49m\u001b[43m(\u001b[49m\u001b[43mlcn_train_y\u001b[49m\u001b[43m,\u001b[49m\u001b[43m \u001b[49m\u001b[43mlcn_train_x\u001b[49m\u001b[43m)\u001b[49m\n",
      "File \u001b[1;32m~\\anaconda3\\lib\\site-packages\\sklearn\\linear_model\\_base.py:662\u001b[0m, in \u001b[0;36mLinearRegression.fit\u001b[1;34m(self, X, y, sample_weight)\u001b[0m\n\u001b[0;32m    658\u001b[0m n_jobs_ \u001b[38;5;241m=\u001b[39m \u001b[38;5;28mself\u001b[39m\u001b[38;5;241m.\u001b[39mn_jobs\n\u001b[0;32m    660\u001b[0m accept_sparse \u001b[38;5;241m=\u001b[39m \u001b[38;5;28;01mFalse\u001b[39;00m \u001b[38;5;28;01mif\u001b[39;00m \u001b[38;5;28mself\u001b[39m\u001b[38;5;241m.\u001b[39mpositive \u001b[38;5;28;01melse\u001b[39;00m [\u001b[38;5;124m\"\u001b[39m\u001b[38;5;124mcsr\u001b[39m\u001b[38;5;124m\"\u001b[39m, \u001b[38;5;124m\"\u001b[39m\u001b[38;5;124mcsc\u001b[39m\u001b[38;5;124m\"\u001b[39m, \u001b[38;5;124m\"\u001b[39m\u001b[38;5;124mcoo\u001b[39m\u001b[38;5;124m\"\u001b[39m]\n\u001b[1;32m--> 662\u001b[0m X, y \u001b[38;5;241m=\u001b[39m \u001b[38;5;28;43mself\u001b[39;49m\u001b[38;5;241;43m.\u001b[39;49m\u001b[43m_validate_data\u001b[49m\u001b[43m(\u001b[49m\n\u001b[0;32m    663\u001b[0m \u001b[43m    \u001b[49m\u001b[43mX\u001b[49m\u001b[43m,\u001b[49m\u001b[43m \u001b[49m\u001b[43my\u001b[49m\u001b[43m,\u001b[49m\u001b[43m \u001b[49m\u001b[43maccept_sparse\u001b[49m\u001b[38;5;241;43m=\u001b[39;49m\u001b[43maccept_sparse\u001b[49m\u001b[43m,\u001b[49m\u001b[43m \u001b[49m\u001b[43my_numeric\u001b[49m\u001b[38;5;241;43m=\u001b[39;49m\u001b[38;5;28;43;01mTrue\u001b[39;49;00m\u001b[43m,\u001b[49m\u001b[43m \u001b[49m\u001b[43mmulti_output\u001b[49m\u001b[38;5;241;43m=\u001b[39;49m\u001b[38;5;28;43;01mTrue\u001b[39;49;00m\n\u001b[0;32m    664\u001b[0m \u001b[43m\u001b[49m\u001b[43m)\u001b[49m\n\u001b[0;32m    666\u001b[0m \u001b[38;5;28;01mif\u001b[39;00m sample_weight \u001b[38;5;129;01mis\u001b[39;00m \u001b[38;5;129;01mnot\u001b[39;00m \u001b[38;5;28;01mNone\u001b[39;00m:\n\u001b[0;32m    667\u001b[0m     sample_weight \u001b[38;5;241m=\u001b[39m _check_sample_weight(sample_weight, X, dtype\u001b[38;5;241m=\u001b[39mX\u001b[38;5;241m.\u001b[39mdtype)\n",
      "File \u001b[1;32m~\\anaconda3\\lib\\site-packages\\sklearn\\base.py:581\u001b[0m, in \u001b[0;36mBaseEstimator._validate_data\u001b[1;34m(self, X, y, reset, validate_separately, **check_params)\u001b[0m\n\u001b[0;32m    579\u001b[0m         y \u001b[38;5;241m=\u001b[39m check_array(y, \u001b[38;5;241m*\u001b[39m\u001b[38;5;241m*\u001b[39mcheck_y_params)\n\u001b[0;32m    580\u001b[0m     \u001b[38;5;28;01melse\u001b[39;00m:\n\u001b[1;32m--> 581\u001b[0m         X, y \u001b[38;5;241m=\u001b[39m check_X_y(X, y, \u001b[38;5;241m*\u001b[39m\u001b[38;5;241m*\u001b[39mcheck_params)\n\u001b[0;32m    582\u001b[0m     out \u001b[38;5;241m=\u001b[39m X, y\n\u001b[0;32m    584\u001b[0m \u001b[38;5;28;01mif\u001b[39;00m \u001b[38;5;129;01mnot\u001b[39;00m no_val_X \u001b[38;5;129;01mand\u001b[39;00m check_params\u001b[38;5;241m.\u001b[39mget(\u001b[38;5;124m\"\u001b[39m\u001b[38;5;124mensure_2d\u001b[39m\u001b[38;5;124m\"\u001b[39m, \u001b[38;5;28;01mTrue\u001b[39;00m):\n",
      "File \u001b[1;32m~\\anaconda3\\lib\\site-packages\\sklearn\\utils\\validation.py:964\u001b[0m, in \u001b[0;36mcheck_X_y\u001b[1;34m(X, y, accept_sparse, accept_large_sparse, dtype, order, copy, force_all_finite, ensure_2d, allow_nd, multi_output, ensure_min_samples, ensure_min_features, y_numeric, estimator)\u001b[0m\n\u001b[0;32m    961\u001b[0m \u001b[38;5;28;01mif\u001b[39;00m y \u001b[38;5;129;01mis\u001b[39;00m \u001b[38;5;28;01mNone\u001b[39;00m:\n\u001b[0;32m    962\u001b[0m     \u001b[38;5;28;01mraise\u001b[39;00m \u001b[38;5;167;01mValueError\u001b[39;00m(\u001b[38;5;124m\"\u001b[39m\u001b[38;5;124my cannot be None\u001b[39m\u001b[38;5;124m\"\u001b[39m)\n\u001b[1;32m--> 964\u001b[0m X \u001b[38;5;241m=\u001b[39m \u001b[43mcheck_array\u001b[49m\u001b[43m(\u001b[49m\n\u001b[0;32m    965\u001b[0m \u001b[43m    \u001b[49m\u001b[43mX\u001b[49m\u001b[43m,\u001b[49m\n\u001b[0;32m    966\u001b[0m \u001b[43m    \u001b[49m\u001b[43maccept_sparse\u001b[49m\u001b[38;5;241;43m=\u001b[39;49m\u001b[43maccept_sparse\u001b[49m\u001b[43m,\u001b[49m\n\u001b[0;32m    967\u001b[0m \u001b[43m    \u001b[49m\u001b[43maccept_large_sparse\u001b[49m\u001b[38;5;241;43m=\u001b[39;49m\u001b[43maccept_large_sparse\u001b[49m\u001b[43m,\u001b[49m\n\u001b[0;32m    968\u001b[0m \u001b[43m    \u001b[49m\u001b[43mdtype\u001b[49m\u001b[38;5;241;43m=\u001b[39;49m\u001b[43mdtype\u001b[49m\u001b[43m,\u001b[49m\n\u001b[0;32m    969\u001b[0m \u001b[43m    \u001b[49m\u001b[43morder\u001b[49m\u001b[38;5;241;43m=\u001b[39;49m\u001b[43morder\u001b[49m\u001b[43m,\u001b[49m\n\u001b[0;32m    970\u001b[0m \u001b[43m    \u001b[49m\u001b[43mcopy\u001b[49m\u001b[38;5;241;43m=\u001b[39;49m\u001b[43mcopy\u001b[49m\u001b[43m,\u001b[49m\n\u001b[0;32m    971\u001b[0m \u001b[43m    \u001b[49m\u001b[43mforce_all_finite\u001b[49m\u001b[38;5;241;43m=\u001b[39;49m\u001b[43mforce_all_finite\u001b[49m\u001b[43m,\u001b[49m\n\u001b[0;32m    972\u001b[0m \u001b[43m    \u001b[49m\u001b[43mensure_2d\u001b[49m\u001b[38;5;241;43m=\u001b[39;49m\u001b[43mensure_2d\u001b[49m\u001b[43m,\u001b[49m\n\u001b[0;32m    973\u001b[0m \u001b[43m    \u001b[49m\u001b[43mallow_nd\u001b[49m\u001b[38;5;241;43m=\u001b[39;49m\u001b[43mallow_nd\u001b[49m\u001b[43m,\u001b[49m\n\u001b[0;32m    974\u001b[0m \u001b[43m    \u001b[49m\u001b[43mensure_min_samples\u001b[49m\u001b[38;5;241;43m=\u001b[39;49m\u001b[43mensure_min_samples\u001b[49m\u001b[43m,\u001b[49m\n\u001b[0;32m    975\u001b[0m \u001b[43m    \u001b[49m\u001b[43mensure_min_features\u001b[49m\u001b[38;5;241;43m=\u001b[39;49m\u001b[43mensure_min_features\u001b[49m\u001b[43m,\u001b[49m\n\u001b[0;32m    976\u001b[0m \u001b[43m    \u001b[49m\u001b[43mestimator\u001b[49m\u001b[38;5;241;43m=\u001b[39;49m\u001b[43mestimator\u001b[49m\u001b[43m,\u001b[49m\n\u001b[0;32m    977\u001b[0m \u001b[43m\u001b[49m\u001b[43m)\u001b[49m\n\u001b[0;32m    979\u001b[0m y \u001b[38;5;241m=\u001b[39m _check_y(y, multi_output\u001b[38;5;241m=\u001b[39mmulti_output, y_numeric\u001b[38;5;241m=\u001b[39my_numeric)\n\u001b[0;32m    981\u001b[0m check_consistent_length(X, y)\n",
      "File \u001b[1;32m~\\anaconda3\\lib\\site-packages\\sklearn\\utils\\validation.py:769\u001b[0m, in \u001b[0;36mcheck_array\u001b[1;34m(array, accept_sparse, accept_large_sparse, dtype, order, copy, force_all_finite, ensure_2d, allow_nd, ensure_min_samples, ensure_min_features, estimator)\u001b[0m\n\u001b[0;32m    767\u001b[0m     \u001b[38;5;66;03m# If input is 1D raise error\u001b[39;00m\n\u001b[0;32m    768\u001b[0m     \u001b[38;5;28;01mif\u001b[39;00m array\u001b[38;5;241m.\u001b[39mndim \u001b[38;5;241m==\u001b[39m \u001b[38;5;241m1\u001b[39m:\n\u001b[1;32m--> 769\u001b[0m         \u001b[38;5;28;01mraise\u001b[39;00m \u001b[38;5;167;01mValueError\u001b[39;00m(\n\u001b[0;32m    770\u001b[0m             \u001b[38;5;124m\"\u001b[39m\u001b[38;5;124mExpected 2D array, got 1D array instead:\u001b[39m\u001b[38;5;130;01m\\n\u001b[39;00m\u001b[38;5;124marray=\u001b[39m\u001b[38;5;132;01m{}\u001b[39;00m\u001b[38;5;124m.\u001b[39m\u001b[38;5;130;01m\\n\u001b[39;00m\u001b[38;5;124m\"\u001b[39m\n\u001b[0;32m    771\u001b[0m             \u001b[38;5;124m\"\u001b[39m\u001b[38;5;124mReshape your data either using array.reshape(-1, 1) if \u001b[39m\u001b[38;5;124m\"\u001b[39m\n\u001b[0;32m    772\u001b[0m             \u001b[38;5;124m\"\u001b[39m\u001b[38;5;124myour data has a single feature or array.reshape(1, -1) \u001b[39m\u001b[38;5;124m\"\u001b[39m\n\u001b[0;32m    773\u001b[0m             \u001b[38;5;124m\"\u001b[39m\u001b[38;5;124mif it contains a single sample.\u001b[39m\u001b[38;5;124m\"\u001b[39m\u001b[38;5;241m.\u001b[39mformat(array)\n\u001b[0;32m    774\u001b[0m         )\n\u001b[0;32m    776\u001b[0m \u001b[38;5;66;03m# make sure we actually converted to numeric:\u001b[39;00m\n\u001b[0;32m    777\u001b[0m \u001b[38;5;28;01mif\u001b[39;00m dtype_numeric \u001b[38;5;129;01mand\u001b[39;00m array\u001b[38;5;241m.\u001b[39mdtype\u001b[38;5;241m.\u001b[39mkind \u001b[38;5;129;01min\u001b[39;00m \u001b[38;5;124m\"\u001b[39m\u001b[38;5;124mOUSV\u001b[39m\u001b[38;5;124m\"\u001b[39m:\n",
      "\u001b[1;31mValueError\u001b[0m: Expected 2D array, got 1D array instead:\narray=[ 9.4    7.85   9.9    7.825 12.95   8.575  7.5    7.325 11.225  8.525\n 10.425  2.65   4.475  6.7    7.55  10.925  8.575 11.575 10.875 10.2\n 10.1    9.7    6.05  12.05   6.325  8.7    5.025  9.7    9.1    9.55\n 12.2    5.075  9.5    4.625  6.2   10.125  9.75   1.85  10.475  3.175\n  6.45  10.775  6.225 12.4    7.825  8.775  5.35   9.525  7.     4.725\n 13.375  7.475 11.7    8.45   1.925 12.95  11.95   8.85  10.925  4.425\n  3.45  10.9    6.225  2.875 11.8    8.2    6.525 11.3    7.625 11.225\n  2.625  3.4    7.85  11.4    8.     7.375  7.975  6.575  8.075  8.\n  6.85   6.6    7.775  6.725  6.95   5.375  2.725  9.625 10.725  4.625\n  5.7    5.15   6.7    8.35   7.55   8.9    2.25   9.175  9.375  4.975\n  9.025  8.775  6.225  8.275  9.025  5.2   10.275  5.875  9.85   8.25\n  6.975  8.     5.325  7.35  10.6    6.25  12.375 10.475  6.15   7.125\n 11.9    7.7   10.9    0.507  8.05  10.525  7.275  9.675  5.55   2.925\n  6.85   3.9   11.65   6.1    8.725 12.325 11.625  2.725  9.925 11.125\n  7.75   6.075  8.8    6.85   4.425  9.225 11.275  9.625  6.325  4.525\n 10.475  7.65   9.55   7.175  9.65   5.825 10.7    1.325  7.55   9.675\n  8.225  8.775  4.625 10.675  9.6   10.2    9.1    5.25   6.1   13.1\n  6.8    7.4    7.65   7.35   8.425 11.55  13.375  5.375  6.975 10.8\n  7.325  6.8    8.125  3.7    6.7   10.675  8.6    5.05   1.675 10.375\n  7.825  5.725  9.675 11.5    4.7    4.475  8.3   14.675  8.85   7.725\n  6.175  8.65   4.45   6.7    8.825  2.025  6.1    5.225  7.65   6.925\n  8.025  5.875  9.125 11.875  6.     2.625  9.     4.5   10.975  4.9\n  6.05   8.625  8.025  6.45   5.175 10.475  8.225  8.775  5.95   7.975\n  9.1    8.825  9.875  6.15   6.75   6.175 13.2    4.2    4.775  5.65\n  6.825  9.35   9.275  1.9    2.25   6.575 13.375  6.275  8.625 10.025\n  8.825  8.5    6.65   6.475  6.95   2.375  6.475  6.925  6.7    7.2\n 10.6    7.95   6.3    7.425 10.275 11.125  8.55   6.125  7.675  7.8\n  6.125  6.15   7.25   7.575  6.5    8.425 12.05   7.375 11.325 10.05\n 10.125  9.2    1.175  5.95   6.525  8.875  9.525  7.825 11.175  5.05\n 11.325  7.35   2.25   5.95   8.725  9.725 10.2    6.65  10.75   9.325\n  7.475  8.35   8.975  7.8   13.325  3.85   1.575  9.025  3.975  7.475\n 10.7    6.05   8.2    8.225  7.025  5.85   1.025  8.375  8.975  8.65\n 12.325  8.35  13.875  7.675  9.95   5.725  6.725  4.25   8.85   3.825\n 10.3    9.475 11.8    5.475  5.025  9.675 10.7    2.475 14.55   9.85\n 10.625  6.4    7.225 10.025  4.55   8.775  4.85   3.925  7.4   12.925\n  4.325  9.45   6.3    4.075  6.2   10.55   6.575 12.15   6.45  10.45\n  5.775  6.05   9.85   1.125  8.35   8.55   8.075  4.575  8.475  5.85\n 11.075 10.     6.85   8.35   8.8   10.2   11.575 13.025  3.975  3.425\n  7.55   6.625  7.7    7.4    4.2    5.225  8.25  11.05   3.25   9.\n  9.95   5.675  5.025  8.5    7.9   10.325  9.2   10.4    5.275  3.675\n  9.475  5.25   4.35   8.9    8.2    9.825  4.325  8.25  12.5   10.85\n  7.4    9.45   5.875  8.425  6.075 13.075  9.9    6.9    7.25   7.425\n  2.725  7.3    8.975  9.275  5.15   8.7    1.45   2.65  11.225  9.925\n  7.45   3.75   5.15   6.625  9.325  8.625 10.825  9.975  8.175  4.45\n  2.875 10.45   9.1   12.9   12.625  8.6    6.95   2.95   8.7   11.025\n  7.1    6.55   7.15   8.425  2.55   7.875  5.625  9.05   6.425 10.175\n  7.325  6.825  8.125 12.225 10.35   3.9   11.75   7.625 13.05   8.225\n 12.15   7.45   3.675  7.225 11.225  4.875  7.925  9.05   8.1    7.55\n 10.6    7.825  3.425 11.025  9.675  9.225  8.6   10.25   9.475  7.275\n  3.625  8.025  3.1    7.925  9.8   11.525  9.275  7.825  7.45   7.475\n 11.5    4.325  9.625  2.925  5.375  7.35   6.125  8.6    6.075 10.575\n 10.025  5.05   2.825 10.425 10.6   11.7   12.425  8.325  8.925  6.45\n 10.875  5.3    7.275  5.65   9.725  4.425 10.5    9.75   9.375  6.9\n  8.025  2.    12.125 10.65   8.875  8.8    6.375  1.625  7.9    8.725\n 12.425 11.075  4.85   6.75   8.     6.45   4.725  9.15  12.275  3.9\n  6.725 11.875  4.975  8.675 11.225  7.05  10.4   12.225  7.3    8.725\n  9.15   9.2    8.35   6.675  8.55  11.825  2.85  11.775 10.175  5.85\n  6.9    7.95  10.05   1.775  9.875  7.825  6.775 11.4   11.075  9.925].\nReshape your data either using array.reshape(-1, 1) if your data has a single feature or array.reshape(1, -1) if it contains a single sample."
     ]
    }
   ],
   "source": [
    "linreg.fit(lcn_train_y, lcn_train_x)\n",
    "\n",
    "# The error comes because the function expects 'x' to come first\n",
    "# Also 'x' can take many values while 'y' can take only one value\n"
   ]
  },
  {
   "cell_type": "code",
   "execution_count": 23,
   "id": "668cf3a9",
   "metadata": {},
   "outputs": [
    {
     "data": {
      "text/plain": [
       "LinearRegression()"
      ]
     },
     "execution_count": 23,
     "metadata": {},
     "output_type": "execute_result"
    }
   ],
   "source": [
    "linreg.fit(lcn_train_x, lcn_train_y)\n",
    "\n",
    "# Model has been created\n",
    "# This is the final checkpoint, where if no error comes then model has been created successfully"
   ]
  },
  {
   "cell_type": "code",
   "execution_count": 24,
   "id": "31a82d44",
   "metadata": {},
   "outputs": [
    {
     "data": {
      "text/plain": [
       "0.862573695825055"
      ]
     },
     "execution_count": 24,
     "metadata": {},
     "output_type": "execute_result"
    }
   ],
   "source": [
    "# Lets find the Rsquare\n",
    "# Formula for Rsquare is mentioned below\n",
    "\n",
    "linreg.score(lcn_train_x, lcn_train_y)"
   ]
  },
  {
   "cell_type": "code",
   "execution_count": 25,
   "id": "a7ee8f67",
   "metadata": {},
   "outputs": [],
   "source": [
    "Rsquare = linreg.score(lcn_train_x, lcn_train_y)\n",
    "\n",
    "# Storing the Rsquare value"
   ]
  },
  {
   "cell_type": "code",
   "execution_count": 26,
   "id": "59824e4d",
   "metadata": {},
   "outputs": [],
   "source": [
    "# Adjusted Rsquare\n",
    "\n",
    "# AdjRsquare = 1 - (1 - Rsquare) * (N-1) / (N-K-1)\n",
    "# N = number of rows in my train data\n",
    "# K = number of columns in my train_x data"
   ]
  },
  {
   "cell_type": "code",
   "execution_count": 27,
   "id": "ea37e89d",
   "metadata": {},
   "outputs": [
    {
     "data": {
      "text/plain": [
       "(580, 5)"
      ]
     },
     "execution_count": 27,
     "metadata": {},
     "output_type": "execute_result"
    }
   ],
   "source": [
    "lcn_train_x.shape"
   ]
  },
  {
   "cell_type": "code",
   "execution_count": 28,
   "id": "7e9444e0",
   "metadata": {},
   "outputs": [
    {
     "data": {
      "text/plain": [
       "580"
      ]
     },
     "execution_count": 28,
     "metadata": {},
     "output_type": "execute_result"
    }
   ],
   "source": [
    "lcn_train_x.shape[0]"
   ]
  },
  {
   "cell_type": "code",
   "execution_count": 29,
   "id": "1346038d",
   "metadata": {},
   "outputs": [
    {
     "data": {
      "text/plain": [
       "5"
      ]
     },
     "execution_count": 29,
     "metadata": {},
     "output_type": "execute_result"
    }
   ],
   "source": [
    "lcn_train_x.shape[1]"
   ]
  },
  {
   "cell_type": "code",
   "execution_count": 30,
   "id": "d09bb2b8",
   "metadata": {},
   "outputs": [],
   "source": [
    "N = lcn_train_x.shape[0]\n",
    "K = lcn_train_x.shape[1]\n",
    "\n",
    "# Do not put the exact value N = 580 and K = 5, as if we change the size of train and test data , then N and K will also change"
   ]
  },
  {
   "cell_type": "code",
   "execution_count": 31,
   "id": "94294eef",
   "metadata": {},
   "outputs": [],
   "source": [
    "# Adjusted Rsquare\n",
    "\n",
    "AdjRsquare = 1 - (1 - Rsquare) * (N-1) / (N-K-1)\n",
    "\n",
    "\n",
    "# Always check Adjusted Rsquare value to be lesser than Rsquare"
   ]
  },
  {
   "cell_type": "code",
   "execution_count": 32,
   "id": "07d17c03",
   "metadata": {},
   "outputs": [
    {
     "data": {
      "text/plain": [
       "0.861376602583113"
      ]
     },
     "execution_count": 32,
     "metadata": {},
     "output_type": "execute_result"
    }
   ],
   "source": [
    "AdjRsquare"
   ]
  },
  {
   "cell_type": "code",
   "execution_count": 33,
   "id": "c93b5db6",
   "metadata": {},
   "outputs": [
    {
     "data": {
      "text/plain": [
       "-11.188427289955914"
      ]
     },
     "execution_count": 33,
     "metadata": {},
     "output_type": "execute_result"
    }
   ],
   "source": [
    "linreg.intercept_\n",
    "\n",
    "# Intercept of my Regression model"
   ]
  },
  {
   "cell_type": "code",
   "execution_count": 34,
   "id": "4a14d24d",
   "metadata": {},
   "outputs": [
    {
     "data": {
      "text/plain": [
       "array([ 0.15802984,  0.26879036, -0.44935387, -0.50047093, -0.17979085])"
      ]
     },
     "execution_count": 34,
     "metadata": {},
     "output_type": "execute_result"
    }
   ],
   "source": [
    "linreg.coef_\n",
    "\n",
    "# Value of respective coefficient"
   ]
  },
  {
   "cell_type": "code",
   "execution_count": 35,
   "id": "008937b8",
   "metadata": {},
   "outputs": [
    {
     "data": {
      "text/html": [
       "<div>\n",
       "<style scoped>\n",
       "    .dataframe tbody tr th:only-of-type {\n",
       "        vertical-align: middle;\n",
       "    }\n",
       "\n",
       "    .dataframe tbody tr th {\n",
       "        vertical-align: top;\n",
       "    }\n",
       "\n",
       "    .dataframe thead th {\n",
       "        text-align: right;\n",
       "    }\n",
       "</style>\n",
       "<table border=\"1\" class=\"dataframe\">\n",
       "  <thead>\n",
       "    <tr style=\"text-align: right;\">\n",
       "      <th></th>\n",
       "      <th>Age</th>\n",
       "      <th>Height</th>\n",
       "      <th>Smoke</th>\n",
       "      <th>Gender</th>\n",
       "      <th>Caesarean</th>\n",
       "    </tr>\n",
       "  </thead>\n",
       "  <tbody>\n",
       "    <tr>\n",
       "      <th>213</th>\n",
       "      <td>15</td>\n",
       "      <td>66.4</td>\n",
       "      <td>0</td>\n",
       "      <td>1</td>\n",
       "      <td>0</td>\n",
       "    </tr>\n",
       "  </tbody>\n",
       "</table>\n",
       "</div>"
      ],
      "text/plain": [
       "     Age  Height  Smoke  Gender  Caesarean\n",
       "213   15    66.4      0       1          0"
      ]
     },
     "execution_count": 35,
     "metadata": {},
     "output_type": "execute_result"
    }
   ],
   "source": [
    "lcn_train_x.head(1)\n"
   ]
  },
  {
   "cell_type": "code",
   "execution_count": 36,
   "id": "83884fc4",
   "metadata": {},
   "outputs": [
    {
     "data": {
      "text/plain": [
       "8.458098475999998"
      ]
     },
     "execution_count": 36,
     "metadata": {},
     "output_type": "execute_result"
    }
   ],
   "source": [
    "-10.509 + 15*0.16931367 + 65.8*0.25566737 - 1*0.39551952 \n",
    "\n",
    "# done the predictio manually just for understanding"
   ]
  },
  {
   "cell_type": "code",
   "execution_count": 37,
   "id": "268b59b0",
   "metadata": {},
   "outputs": [
    {
     "data": {
      "text/plain": [
       "array([ 8.52922916,  9.35923489,  8.36795494,  8.10702935, 11.63047782,\n",
       "        8.2604388 ,  8.92542832,  8.37394606, 10.90798822,  7.7842059 ,\n",
       "       10.15861959,  3.60944155,  3.7169577 ,  6.93380987,  8.16540251,\n",
       "       12.51424162,  9.19609233, 12.33307475, 11.04024003, 10.2825855 ,\n",
       "       10.94185363, 10.01032287,  6.41551845, 10.90474385,  7.41328714,\n",
       "        7.80349519,  4.99092955,  8.09916459,  8.9598971 ,  9.39447633,\n",
       "       10.7203326 ,  6.99987086,  7.59120965,  3.86620402,  7.02999427,\n",
       "       10.78492479, 10.97010869,  2.96110032, 10.11509227,  4.36529892,\n",
       "        8.7652551 , 10.40614657,  7.302029  , 13.64316113,  8.17101817,\n",
       "        7.62293168,  4.91303919,  7.75435752,  8.47497346,  7.97125815,\n",
       "       11.9548999 ,  7.90402496, 10.79722771,  8.36421294,  2.50365908,\n",
       "       13.03006133,  9.95332042,  9.70167599, 10.77034867,  5.28934569,\n",
       "        5.9099348 ,  9.90468038,  6.25534523,  4.33467789, 10.12158101,\n",
       "        8.02826059,  6.86921768, 10.9918697 ,  9.14370498, 10.62254957,\n",
       "        3.49818341,  4.38843596,  8.11027373, 13.075457  ,  8.08152103,\n",
       "        5.83391278,  6.87196443,  5.6490039 ,  7.32890803,  7.59819602,\n",
       "        7.70059945,  5.58875708,  8.02127422,  5.31298035,  7.27514996,\n",
       "        4.220673  ,  4.26614518, 11.17727621, 10.30511917,  5.00066267,\n",
       "        5.18507392,  6.48916918,  8.42633341,  9.13446949,  8.6330033 ,\n",
       "        8.2145455 ,  4.29626859, 10.29301477, 10.23276796,  4.83240208,\n",
       "        9.24942397,  8.67011308,  5.82742403,  6.66067414,  7.86698638,\n",
       "        6.41876282, 10.74022526,  7.23853781,  8.60432711,  9.42272608,\n",
       "        7.73072285,  8.39945438,  5.62212486,  6.69052783, 10.37414951,\n",
       "        6.97673383, 10.60907446,  9.44261874,  7.0568733 ,  6.57305066,\n",
       "        9.96722197,  6.82981312,  9.50848121,  2.4749829 ,  7.97076052,\n",
       "       10.48166565,  7.35578707,  8.44809442,  5.48124094,  2.48376642,\n",
       "        6.6805668 ,  5.03188707, 11.35844309,  5.31996673,  9.23270448,\n",
       "       10.83895789, 11.07250681,  2.86519095, 11.60684315, 10.10810589,\n",
       "        7.11761775,  6.37286952,  7.92074445,  6.14348372,  6.87246206,\n",
       "       10.70967542, 10.64866126,  9.02970009,  6.33735836,  4.49320536,\n",
       "       12.2422069 ,  6.95447519,  9.30497919,  9.81106578,  8.04865089,\n",
       "        6.49753158, 11.15100054,  2.24509947,  7.83686297,  9.76516717,\n",
       "        7.72610246,  7.76595898,  4.55345218, 11.47244797,  8.53522027,\n",
       "       10.8259804 ,  7.83686297,  5.74304492,  5.26758468, 12.40348111,\n",
       "        6.59488818,  8.10191133,  7.16488708,  6.47526763,  9.07517227,\n",
       "       11.68748026, 11.76487299,  5.13131585,  6.51280385,  9.31146794,\n",
       "        8.054642  ,  6.46229015,  8.34706702,  3.42453267,  5.77042159,\n",
       "       11.59157089,  8.46668756,  5.15495051,  3.23588179, 10.43439632,\n",
       "        7.70197016,  4.78563038, 10.00383412, 12.16993219,  3.45091408,\n",
       "        4.06314079,  9.0130518 , 12.37660207,  9.67479695,  8.2566968 ,\n",
       "        6.72928335, 10.36134896,  5.02055533,  6.87570643,  9.55497788,\n",
       "        3.29338187,  5.71292152,  4.16741256,  6.1527192 ,  6.95821719,\n",
       "        8.21052847,  5.40709258, 10.91123259, 10.16186396,  6.31449105,\n",
       "        2.77244944,  8.13390839,  5.70276197, 12.47533469,  5.83665952,\n",
       "        5.56187805,  8.88701902,  7.97587855,  7.40355403,  5.24120327,\n",
       "       10.05919082,  7.64496772,  5.64575953,  6.04195869,  8.87491462,\n",
       "       11.23427865, 10.35001722,  9.97805608,  8.39995201,  6.52303459,\n",
       "        4.6007215 , 12.44521129,  4.83889082,  4.54696343,  5.15819488,\n",
       "        7.34979596,  9.23842057,  8.90229129,  2.8248368 ,  3.34713994,\n",
       "        5.9411592 , 12.45723918,  7.44708135,  8.29892461,  9.00980743,\n",
       "        7.99763956,  9.48714133,  5.70573662,  5.87144899,  7.30851774,\n",
       "        2.65989178,  7.73693657,  6.45163297,  7.97076052,  7.49530027,\n",
       "        9.79117312,  7.65629946,  4.86252549,  7.71911608,  9.50721093,\n",
       "       11.03265029,  9.59091547,  7.04209867,  8.37119931,  7.94437911,\n",
       "        7.78260727,  4.41207062,  6.17635387,  8.05513963,  6.14623046,\n",
       "        9.30822356, 10.93631448,  6.98322257, 12.38309082,  8.98243076,\n",
       "       10.23975433,  8.80962628,  3.23588179,  5.32645547,  6.16337638,\n",
       "       10.13174056,  9.50011882,  7.0304919 , 10.86071889,  4.51309802,\n",
       "        9.97745272,  8.059485  ,  4.21742863,  7.19126848,  9.69892924,\n",
       "        9.89956235,  9.59465747,  5.41006723,  9.94683168,  8.10840007,\n",
       "        7.8841323 ,  9.64517117,  7.7409536 ,  9.28064838, 11.87673451,\n",
       "        5.86189281,  3.01111639,  7.65195409,  5.16143925,  7.16598807,\n",
       "       10.46314901,  6.9257225 ,  9.0730289 ,  8.10240896,  6.05004606,\n",
       "        4.41207062,  1.41833811,  8.92917032,  9.23320211,  8.93191706,\n",
       "       11.25417132,  8.26830357, 12.7075129 ,  7.93739274,  9.76890917,\n",
       "        5.06602751,  6.01557728,  4.44780969,  8.02177185,  4.06962953,\n",
       "        9.87428194,  7.9658704 , 11.36542946,  3.50467215,  7.20149923,\n",
       "        9.14046061, 10.06243519,  4.36205455, 11.78850766,  9.82888627,\n",
       "       10.65515   ,  6.1527192 ,  6.27738127, 10.80047208,  5.14017587,\n",
       "        7.32890803,  3.98200605,  4.419057  ,  6.61450581, 11.34503917,\n",
       "        4.973286  ,  9.11732357,  5.90806114,  3.51303455,  7.85171411,\n",
       "       10.61743686,  6.75027701, 11.66434323,  7.52771846,  9.36308263,\n",
       "        5.38345791,  6.06284661, 10.25735221,  2.03331156,  8.10054061,\n",
       "        9.12007031,  9.30982219,  4.76199572,  7.06248896,  7.5342072 ,\n",
       "        9.97046634, 10.91173022,  7.213106  ,  8.61635501,  8.12279925,\n",
       "        8.22427861, 12.10781172, 12.10781172,  4.84263283,  3.94214953,\n",
       "        7.29554025,  7.14262844,  7.08375234,  6.76769265,  3.92500361,\n",
       "        3.96211339,  8.98754879, 10.22046503,  3.26276083,  6.87246206,\n",
       "        8.53896227,  7.70109708,  6.04570069,  7.78634927,  8.98567513,\n",
       "        9.49313244,  9.35549289, 11.70462618,  5.75190495,  5.05067874,\n",
       "        8.6330033 ,  4.97191529,  5.61563612,  8.12604362,  8.49860812,\n",
       "       10.61606083,  4.12526126,  9.33560023, 13.23997559, 10.87137607,\n",
       "        6.25886463,  8.23091876,  4.31104322,  8.52319238,  7.73583557,\n",
       "       12.13101995, 10.21287529,  8.01852748,  7.7793629 ,  7.5078258 ,\n",
       "        3.17563498,  6.89609672,  8.50185249,  9.32586711,  5.50762235,\n",
       "       10.49277479,  0.9613945 ,  3.26001409, 12.1411795 ,  7.37617736,\n",
       "        7.46055647,  2.93746566,  5.11466755,  6.28112327,  8.62975893,\n",
       "        9.23919323, 12.09825554,  8.09542258,  7.63343745,  4.38568922,\n",
       "        1.92255104, 11.10587459,  9.29849045, 11.39505524, 11.54659634,\n",
       "        6.36176038,  6.23709831,  2.42814   ,  8.43144613,  8.31881727,\n",
       "        7.72934683,  6.43865548,  7.4067984 ,  9.84041653,  2.98797936,\n",
       "        7.09440952,  6.51654585,  8.55423985,  7.61808868, 10.23464161,\n",
       "        9.47274215,  6.50776233,  7.79581267, 11.3214045 , 10.91635062,\n",
       "        4.39217796, 11.65017196,  5.86079181, 10.96174629,  7.5773081 ,\n",
       "       11.07250681,  6.42200719,  3.67430876,  8.09217821, 11.42303527,\n",
       "        6.89559909,  8.74426144,  8.69484874,  7.0810056 ,  9.30872119,\n",
       "       11.49608264,  9.44960512,  2.81417962, 10.30896691,  9.32971485,\n",
       "        9.00606543,  7.085626  , 10.64293987,  9.57376955,  7.28675673,\n",
       "        5.01082222,  8.9120244 ,  1.84191394,  8.04815326,  9.65924966,\n",
       "       11.14665517,  9.99784301,  7.42993543,  7.28905151,  6.68568483,\n",
       "       11.21498936,  5.42748287, 10.49249976,  3.75032547,  5.53934438,\n",
       "        7.14125241,  5.67214093,  9.30223245,  5.2726974 , 11.4729456 ,\n",
       "       11.00901562,  5.69901997,  3.18773938,  9.24473238,  9.49313244,\n",
       "       11.61570318, 11.09938584,  9.72855502,  7.55340371,  6.92896687,\n",
       "       11.63372219,  5.13967824,  8.90503803,  4.8458772 ,  9.46675104,\n",
       "        5.40197986,  9.85970583, 10.3523885 , 10.33012455,  5.94142892,\n",
       "        6.39512816,  2.49349954, 11.02062239,  9.22434209,  8.35218505,\n",
       "        9.47323978,  5.65412192,  2.10097118,  8.09542258,  8.64785444,\n",
       "       10.91684825, 10.23650996,  7.01334598,  7.91750008,  7.4331798 ,\n",
       "        6.9053322 ,  5.67263856,  7.24178218, 12.03553701,  4.49320536,\n",
       "        6.07257973, 12.52584839,  6.40459155,  8.40891246, 11.41918753,\n",
       "        7.085626  , 10.04785908, 13.05182234,  8.85127996,  8.08713669,\n",
       "        8.36795494,  9.67804132,  9.29200171,  4.33193115,  7.66910001,\n",
       "       10.86121652,  3.23313505, 11.71870466,  9.87318094,  5.72265463,\n",
       "        6.02206603,  8.92917032, 10.05110345,  3.17937698,  8.66037996,\n",
       "        6.84184102,  8.04166451, 11.23378102,  9.83282679,  9.19796068])"
      ]
     },
     "execution_count": 37,
     "metadata": {},
     "output_type": "execute_result"
    }
   ],
   "source": [
    "linreg.predict(lcn_train_x)\n",
    "\n",
    "# This will do the prediction for all 580 records in your train data"
   ]
  },
  {
   "cell_type": "code",
   "execution_count": 38,
   "id": "54161d99",
   "metadata": {},
   "outputs": [
    {
     "data": {
      "text/plain": [
       "array([ 8.32178661,  7.70895654,  9.91995264,  7.35952907, 10.88110919,\n",
       "        6.6541854 , 10.68646719,  4.89589327,  6.28761201, 10.00757612,\n",
       "        6.20373053,  7.77287415,  8.42358667, 10.62178222, 10.53602709,\n",
       "       11.20690199,  8.85452433, 11.50306901,  7.43692181,  9.68178332,\n",
       "        4.33193115, 11.39505524,  3.15249794,  5.74167421,  6.01183528,\n",
       "        5.00016504,  5.69627323, 10.44275872,  9.12568597,  9.35983826,\n",
       "        9.92045027,  6.94661042, 10.00169075,  9.84954628,  8.1363801 ,\n",
       "        7.37991936,  6.32609782,  6.51330148,  8.6451077 ,  9.83470045,\n",
       "        6.84745667,  7.00498889,  9.73417068,  9.09880693,  5.45710865,\n",
       "       10.37552553, 10.33122555,  4.40558188,  9.17757039,  9.39909142,\n",
       "        7.59555502,  7.79096967, 11.50818704,  5.66061067,  8.31419687,\n",
       "       11.69259829,  6.45163297,  4.62947419,  5.51136435,  3.92175924,\n",
       "        8.66686871,  9.86080682,  5.29957643, 11.33805279,  8.85177759,\n",
       "       10.16186396, 10.81070282, 11.58882414, 11.19162972,  6.26260663,\n",
       "        3.71234261,  5.80004737,  6.31124668,  8.42495739, 11.36168746,\n",
       "        6.16619432,  7.14637044,  6.23385394,  7.31917492,  1.99994378,\n",
       "        8.98243076,  7.22975429,  7.35952907,  9.25122112,  2.99771247,\n",
       "        8.01665913,  9.01954054,  3.97876168,  7.02350553, 10.75832078,\n",
       "       10.15213085,  9.75268732,  3.56404588,  7.31660511,  8.58897834,\n",
       "       12.39145322,  3.13535202,  3.82959186,  6.73806688,  6.64276087,\n",
       "        7.86648875,  5.78202836,  4.86302312,  9.97096397,  6.47499791,\n",
       "       11.16013029,  8.1401221 ,  8.19644998,  6.91045023,  4.36205455,\n",
       "        6.46877889, 10.20913329,  8.72062678,  7.79326445,  9.97371071,\n",
       "        3.91996209,  8.29842698,  8.91714243,  7.89573907,  4.80876742,\n",
       "        5.15869251,  9.73664239,  3.57882051, 10.48491002,  9.80594776,\n",
       "        5.13505785,  8.12604362,  8.56259694,  5.59200145,  8.12554599,\n",
       "        7.52404766,  5.85754744, 10.3798709 ,  3.37726335,  3.03475106,\n",
       "        9.94408494,  2.87347684,  8.17930406,  6.65853077,  9.98454483,\n",
       "       10.79722771,  8.72062678, 11.64395293,  7.04714019, 13.37437077])"
      ]
     },
     "execution_count": 38,
     "metadata": {},
     "output_type": "execute_result"
    }
   ],
   "source": [
    "linreg.predict(lcn_test_x)\n",
    "\n",
    "# Prediction for test data"
   ]
  },
  {
   "cell_type": "code",
   "execution_count": 39,
   "id": "7163cc54",
   "metadata": {},
   "outputs": [],
   "source": [
    "# Error\n",
    "# MSE, RMSE, MAE, MAPE\n",
    "# Plot the error terms"
   ]
  },
  {
   "cell_type": "code",
   "execution_count": 40,
   "id": "6cae00d9",
   "metadata": {},
   "outputs": [],
   "source": [
    "pred_train = linreg.predict(lcn_train_x) # train\n",
    "pred_test = linreg.predict(lcn_test_x) # test"
   ]
  },
  {
   "cell_type": "code",
   "execution_count": 41,
   "id": "7b3a63b9",
   "metadata": {},
   "outputs": [],
   "source": [
    "err_train = lcn_train_y - pred_train\n",
    "err_test = lcn_test_y - pred_test"
   ]
  },
  {
   "cell_type": "code",
   "execution_count": 42,
   "id": "6e03dc31",
   "metadata": {},
   "outputs": [
    {
     "data": {
      "text/plain": [
       "213    0.870771\n",
       "646   -1.509235\n",
       "518    1.532045\n",
       "59    -0.282029\n",
       "48     1.319522\n",
       "         ...   \n",
       "14     0.983159\n",
       "318   -1.266665\n",
       "293    0.166219\n",
       "384    1.242173\n",
       "714    0.727039\n",
       "Name: LungCap, Length: 580, dtype: float64"
      ]
     },
     "execution_count": 42,
     "metadata": {},
     "output_type": "execute_result"
    }
   ],
   "source": [
    "err_train"
   ]
  },
  {
   "cell_type": "markdown",
   "id": "1a01e498",
   "metadata": {},
   "source": [
    "# Lets check some assumption in our linear regression"
   ]
  },
  {
   "cell_type": "code",
   "execution_count": 43,
   "id": "393d2abe",
   "metadata": {},
   "outputs": [],
   "source": [
    "import numpy as np"
   ]
  },
  {
   "cell_type": "code",
   "execution_count": 44,
   "id": "f3e69059",
   "metadata": {},
   "outputs": [
    {
     "data": {
      "text/plain": [
       "3.773226941622601e-15"
      ]
     },
     "execution_count": 44,
     "metadata": {},
     "output_type": "execute_result"
    }
   ],
   "source": [
    "np.mean(err_train)\n",
    "\n",
    "# This mean is zero\n",
    "# Mean of the errors should be close to zero, is our 1st assumption"
   ]
  },
  {
   "cell_type": "code",
   "execution_count": 45,
   "id": "2bd04e56",
   "metadata": {},
   "outputs": [],
   "source": [
    "# Error terms are normally distributed\n",
    "# Create histogram to check if error are normally distributed"
   ]
  },
  {
   "cell_type": "code",
   "execution_count": 46,
   "id": "30e39408",
   "metadata": {},
   "outputs": [],
   "source": [
    "import matplotlib.pyplot as plt\n",
    "import seaborn as sns"
   ]
  },
  {
   "cell_type": "code",
   "execution_count": 47,
   "id": "2a60db3d",
   "metadata": {},
   "outputs": [
    {
     "data": {
      "text/plain": [
       "(array([  2.,  13.,  41.,  97., 120., 132., 109.,  50.,  12.,   4.]),\n",
       " array([-3.24625815, -2.60870829, -1.97115843, -1.33360856, -0.6960587 ,\n",
       "        -0.05850884,  0.57904102,  1.21659089,  1.85414075,  2.49169061,\n",
       "         3.12924047]),\n",
       " <BarContainer object of 10 artists>)"
      ]
     },
     "execution_count": 47,
     "metadata": {},
     "output_type": "execute_result"
    },
    {
     "data": {
      "image/png": "[encoded data removed]",
      "text/plain": [
       "<Figure size 432x288 with 1 Axes>"
      ]
     },
     "metadata": {
      "needs_background": "light"
     },
     "output_type": "display_data"
    }
   ],
   "source": [
    "plt.hist(err_train)"
   ]
  },
  {
   "cell_type": "code",
   "execution_count": 48,
   "id": "c08e6264",
   "metadata": {},
   "outputs": [
    {
     "data": {
      "text/plain": [
       "(array([ 1.,  1.,  3., 10., 15., 26., 37., 60., 53., 67., 64., 68., 65.,\n",
       "        44., 35., 15.,  9.,  3.,  3.,  1.]),\n",
       " array([-3.24625815, -2.92748322, -2.60870829, -2.28993336, -1.97115843,\n",
       "        -1.65238349, -1.33360856, -1.01483363, -0.6960587 , -0.37728377,\n",
       "        -0.05850884,  0.26026609,  0.57904102,  0.89781596,  1.21659089,\n",
       "         1.53536582,  1.85414075,  2.17291568,  2.49169061,  2.81046554,\n",
       "         3.12924047]),\n",
       " <BarContainer object of 20 artists>)"
      ]
     },
     "execution_count": 48,
     "metadata": {},
     "output_type": "execute_result"
    },
    {
     "data": {
      "image/png": "[encoded data removed]",
      "text/plain": [
       "<Figure size 432x288 with 1 Axes>"
      ]
     },
     "metadata": {
      "needs_background": "light"
     },
     "output_type": "display_data"
    }
   ],
   "source": [
    "# or\n",
    "plt.hist(err_train, bins =20)\n",
    "# errors are normally distributed as seen in the histogram"
   ]
  },
  {
   "cell_type": "code",
   "execution_count": 49,
   "id": "a678735f",
   "metadata": {},
   "outputs": [
    {
     "data": {
      "text/plain": [
       "<seaborn.axisgrid.FacetGrid at 0x1ddc2552910>"
      ]
     },
     "execution_count": 49,
     "metadata": {},
     "output_type": "execute_result"
    },
    {
     "data": {
      "image/png": "[encoded data removed]",
      "text/plain": [
       "<Figure size 360x360 with 1 Axes>"
      ]
     },
     "metadata": {
      "needs_background": "light"
     },
     "output_type": "display_data"
    }
   ],
   "source": [
    "sns.displot(err_train)"
   ]
  },
  {
   "cell_type": "code",
   "execution_count": 50,
   "id": "2134e4ed",
   "metadata": {},
   "outputs": [
    {
     "data": {
      "text/plain": [
       "[<matplotlib.lines.Line2D at 0x1ddc2662f10>]"
      ]
     },
     "execution_count": 50,
     "metadata": {},
     "output_type": "execute_result"
    },
    {
     "data": {
      "image/png": "[encoded data removed]",
      "text/plain": [
       "<Figure size 432x288 with 1 Axes>"
      ]
     },
     "metadata": {
      "needs_background": "light"
     },
     "output_type": "display_data"
    }
   ],
   "source": [
    "plt.plot(err_train, '.')\n",
    "\n",
    "# No pattern in error plots, hence assumption is correct"
   ]
  },
  {
   "cell_type": "code",
   "execution_count": 51,
   "id": "01e9e30d",
   "metadata": {
    "scrolled": true
   },
   "outputs": [
    {
     "name": "stderr",
     "output_type": "stream",
     "text": [
      "C:\\Users\\RahulK\\anaconda3\\lib\\site-packages\\seaborn\\_decorators.py:36: FutureWarning: Pass the following variable as a keyword arg: x. From version 0.12, the only valid positional argument will be `data`, and passing other arguments without an explicit keyword will result in an error or misinterpretation.\n",
      "  warnings.warn(\n"
     ]
    },
    {
     "data": {
      "text/plain": [
       "<AxesSubplot:xlabel='LungCap'>"
      ]
     },
     "execution_count": 51,
     "metadata": {},
     "output_type": "execute_result"
    },
    {
     "data": {
      "image/png": "[encoded data removed]",
      "text/plain": [
       "<Figure size 432x288 with 1 Axes>"
      ]
     },
     "metadata": {
      "needs_background": "light"
     },
     "output_type": "display_data"
    }
   ],
   "source": [
    "sns.boxplot(err_train)\n",
    "# Checking the outlier\n",
    "# 2 outliers is seen in the below graph\n",
    "# When you build your model for the first time, you check and remove the outliers from the entire original data and not just from test or train data"
   ]
  },
  {
   "cell_type": "code",
   "execution_count": 52,
   "id": "a1ca1ab8",
   "metadata": {},
   "outputs": [
    {
     "data": {
      "text/plain": [
       "-3.2462581498197824"
      ]
     },
     "execution_count": 52,
     "metadata": {},
     "output_type": "execute_result"
    }
   ],
   "source": [
    "np.min(err_train)"
   ]
  },
  {
   "cell_type": "code",
   "execution_count": 53,
   "id": "8ccca373",
   "metadata": {},
   "outputs": [
    {
     "data": {
      "text/plain": [
       "3.129240473988931"
      ]
     },
     "execution_count": 53,
     "metadata": {},
     "output_type": "execute_result"
    }
   ],
   "source": [
    "np.max(err_train)"
   ]
  },
  {
   "cell_type": "code",
   "execution_count": 54,
   "id": "92d40f6c",
   "metadata": {},
   "outputs": [],
   "source": [
    "pred_actual = pd.DataFrame()\n",
    "pred_actual['Actual'] = lcn_train_y\n",
    "pred_actual['Predicted'] = pred_train"
   ]
  },
  {
   "cell_type": "code",
   "execution_count": 55,
   "id": "c296cca4",
   "metadata": {},
   "outputs": [
    {
     "name": "stderr",
     "output_type": "stream",
     "text": [
      "C:\\Users\\RahulK\\anaconda3\\lib\\site-packages\\seaborn\\_decorators.py:36: FutureWarning: Pass the following variables as keyword args: x, y. From version 0.12, the only valid positional argument will be `data`, and passing other arguments without an explicit keyword will result in an error or misinterpretation.\n",
      "  warnings.warn(\n"
     ]
    },
    {
     "data": {
      "text/plain": [
       "<AxesSubplot:xlabel='Actual', ylabel='Predicted'>"
      ]
     },
     "execution_count": 55,
     "metadata": {},
     "output_type": "execute_result"
    },
    {
     "data": {
      "image/png": "[encoded data removed]",
      "text/plain": [
       "<Figure size 432x288 with 1 Axes>"
      ]
     },
     "metadata": {
      "needs_background": "light"
     },
     "output_type": "display_data"
    }
   ],
   "source": [
    "sns.regplot(pred_actual.Actual, pred_actual.Predicted)\n",
    "\n",
    "# Actual is plotted on X and Predicted on Y because Actual is independent on Predicted value but the vice-versa is not true"
   ]
  },
  {
   "cell_type": "code",
   "execution_count": 56,
   "id": "3b4e3702",
   "metadata": {},
   "outputs": [],
   "source": [
    "# Hence from the above graph, we see that the variance is same throughout and satisfy the 4th assumption of Homosedacity\n",
    "# Assumptions are checked only on Train data and not on test data because test data was not used in model building"
   ]
  },
  {
   "cell_type": "code",
   "execution_count": 57,
   "id": "6e360fef",
   "metadata": {},
   "outputs": [],
   "source": [
    "# Lets evaluate the model in test data\n",
    "# MSE\n",
    "# RMSE\n",
    "# MAE\n",
    "# MAPE"
   ]
  },
  {
   "cell_type": "code",
   "execution_count": 58,
   "id": "9eb1c84a",
   "metadata": {},
   "outputs": [
    {
     "data": {
      "text/plain": [
       "1.1591930026174966"
      ]
     },
     "execution_count": 58,
     "metadata": {},
     "output_type": "execute_result"
    }
   ],
   "source": [
    "MSE_test = np.mean(np.square(err_test))\n",
    "MSE_test"
   ]
  },
  {
   "cell_type": "code",
   "execution_count": 59,
   "id": "480cd0fb",
   "metadata": {},
   "outputs": [
    {
     "data": {
      "text/plain": [
       "1.0766582571166659"
      ]
     },
     "execution_count": 59,
     "metadata": {},
     "output_type": "execute_result"
    }
   ],
   "source": [
    "RMSE_test = np.sqrt(MSE_test)\n",
    "RMSE_test"
   ]
  },
  {
   "cell_type": "code",
   "execution_count": 60,
   "id": "c7924346",
   "metadata": {},
   "outputs": [
    {
     "data": {
      "text/plain": [
       "0.8632509803562589"
      ]
     },
     "execution_count": 60,
     "metadata": {},
     "output_type": "execute_result"
    }
   ],
   "source": [
    "MAE_test = np.mean(np.absolute(err_test))\n",
    "MAE_test"
   ]
  },
  {
   "cell_type": "code",
   "execution_count": 61,
   "id": "34f3e6da",
   "metadata": {},
   "outputs": [
    {
     "data": {
      "text/plain": [
       "12.378123934352976"
      ]
     },
     "execution_count": 61,
     "metadata": {},
     "output_type": "execute_result"
    }
   ],
   "source": [
    "MAPE_test = np.mean(np.absolute((err_test * 100)/lcn_test_y))\n",
    "MAPE_test"
   ]
  },
  {
   "cell_type": "code",
   "execution_count": 62,
   "id": "52181121",
   "metadata": {},
   "outputs": [
    {
     "data": {
      "text/plain": [
       "87.62187606564703"
      ]
     },
     "execution_count": 62,
     "metadata": {},
     "output_type": "execute_result"
    }
   ],
   "source": [
    "Accuracy_test = 100 - MAPE_test\n",
    "Accuracy_test"
   ]
  },
  {
   "cell_type": "code",
   "execution_count": 63,
   "id": "6e759c7c",
   "metadata": {},
   "outputs": [],
   "source": [
    "# Property of Normal Distribution\n",
    "# 1. Mean = Median = Mode\n",
    "# 2. Skewness = zero\n",
    "# 3. Graph is symmetrical around mean\n",
    "# 4. 1 standard deviation is 67%, 2 standard deviation is 95%, 3 standard deviation is 99.7% data\n",
    "\n",
    "\n",
    "# You can remove the outliers in 2 ways\n",
    "# 1. If you remove the data 2 standard deviation from mean\n",
    "# 2. If you only take the data upto 2 standard deviation from mean\n",
    "\n"
   ]
  },
  {
   "cell_type": "code",
   "execution_count": 64,
   "id": "2a748f4f",
   "metadata": {},
   "outputs": [],
   "source": [
    "def remove_outliers(df,col,k):\n",
    "    mean = df[col].mean()\n",
    "    global df1 # Output dataframe which will have data after removinf the outliers\n",
    "    sd = df[col].std()\n",
    "    final_list = [x for x in df[col] if (x > mean - k * sd)]\n",
    "    final_list = [x for x in final_list if (x < mean + k * sd)]\n",
    "    df1 = df.loc[df[col].isin(final_list)] ; print(df1.shape)\n",
    "    print(\"Number of outliers removed == >\" , df.shape[0] - df1.shape[0])"
   ]
  },
  {
   "cell_type": "code",
   "execution_count": 65,
   "id": "e1ef65e8",
   "metadata": {},
   "outputs": [
    {
     "name": "stdout",
     "output_type": "stream",
     "text": [
      "(695, 6)\n",
      "Number of outliers removed == > 30\n"
     ]
    }
   ],
   "source": [
    "remove_outliers(lcn,'LungCap',2) # calling the program"
   ]
  },
  {
   "cell_type": "code",
   "execution_count": 66,
   "id": "6c0f9b17",
   "metadata": {},
   "outputs": [
    {
     "data": {
      "text/plain": [
       "(695, 6)"
      ]
     },
     "execution_count": 66,
     "metadata": {},
     "output_type": "execute_result"
    }
   ],
   "source": [
    "df1.shape"
   ]
  },
  {
   "cell_type": "code",
   "execution_count": 67,
   "id": "021c701d",
   "metadata": {},
   "outputs": [],
   "source": [
    "# Consider after building model for the first time and when you checked the assumptions\n",
    "# You got to know that there are outliers and using the above program you remove the outliers\n",
    "\n",
    "# And now you want to run your model once again using the data which does not has outliers(df1)\n",
    "# But I dont want to make any major changes in the program as well( the way I build the model )"
   ]
  },
  {
   "cell_type": "code",
   "execution_count": 68,
   "id": "059cc770",
   "metadata": {},
   "outputs": [],
   "source": [
    "lcn = df1\n",
    "\n",
    "# Now run from sklearn.model_selection import train_test_split\n",
    "# Outliers may appear again , even after this process, but we need to check how far are the outliers from the range and if it has to be removed or not"
   ]
  },
  {
   "cell_type": "markdown",
   "id": "f6cf8638",
   "metadata": {},
   "source": [
    "# ISIN Function"
   ]
  },
  {
   "cell_type": "code",
   "execution_count": 69,
   "id": "7c1c4b5b",
   "metadata": {},
   "outputs": [],
   "source": [
    "# ISIN function\n",
    "\n",
    "rahul_df = pd.DataFrame({'Names' : ('Rahul', 'Poonam', 'Tejas', 'Sunil', 'Priyanka', 'Prerna'),\n",
    "                        'Salary' : ( 100, 200, 300, 200, 500, 150)})\n",
    "\n",
    "# Assume you have thousands of data "
   ]
  },
  {
   "cell_type": "code",
   "execution_count": 70,
   "id": "e92dc73a",
   "metadata": {},
   "outputs": [
    {
     "data": {
      "text/html": [
       "<div>\n",
       "<style scoped>\n",
       "    .dataframe tbody tr th:only-of-type {\n",
       "        vertical-align: middle;\n",
       "    }\n",
       "\n",
       "    .dataframe tbody tr th {\n",
       "        vertical-align: top;\n",
       "    }\n",
       "\n",
       "    .dataframe thead th {\n",
       "        text-align: right;\n",
       "    }\n",
       "</style>\n",
       "<table border=\"1\" class=\"dataframe\">\n",
       "  <thead>\n",
       "    <tr style=\"text-align: right;\">\n",
       "      <th></th>\n",
       "      <th>Names</th>\n",
       "      <th>Salary</th>\n",
       "    </tr>\n",
       "  </thead>\n",
       "  <tbody>\n",
       "    <tr>\n",
       "      <th>0</th>\n",
       "      <td>Rahul</td>\n",
       "      <td>100</td>\n",
       "    </tr>\n",
       "    <tr>\n",
       "      <th>1</th>\n",
       "      <td>Poonam</td>\n",
       "      <td>200</td>\n",
       "    </tr>\n",
       "    <tr>\n",
       "      <th>2</th>\n",
       "      <td>Tejas</td>\n",
       "      <td>300</td>\n",
       "    </tr>\n",
       "    <tr>\n",
       "      <th>3</th>\n",
       "      <td>Sunil</td>\n",
       "      <td>200</td>\n",
       "    </tr>\n",
       "    <tr>\n",
       "      <th>4</th>\n",
       "      <td>Priyanka</td>\n",
       "      <td>500</td>\n",
       "    </tr>\n",
       "    <tr>\n",
       "      <th>5</th>\n",
       "      <td>Prerna</td>\n",
       "      <td>150</td>\n",
       "    </tr>\n",
       "  </tbody>\n",
       "</table>\n",
       "</div>"
      ],
      "text/plain": [
       "      Names  Salary\n",
       "0     Rahul     100\n",
       "1    Poonam     200\n",
       "2     Tejas     300\n",
       "3     Sunil     200\n",
       "4  Priyanka     500\n",
       "5    Prerna     150"
      ]
     },
     "execution_count": 70,
     "metadata": {},
     "output_type": "execute_result"
    }
   ],
   "source": [
    "rahul_df"
   ]
  },
  {
   "cell_type": "code",
   "execution_count": 71,
   "id": "bf61a042",
   "metadata": {},
   "outputs": [],
   "source": [
    "# your requirement is to select data with salary of Rahul, Poonam, Tejas\n",
    "l1 = ['Rahul', 'Poonam', 'Tejas']"
   ]
  },
  {
   "cell_type": "code",
   "execution_count": 72,
   "id": "8bc3c4ba",
   "metadata": {},
   "outputs": [
    {
     "data": {
      "text/html": [
       "<div>\n",
       "<style scoped>\n",
       "    .dataframe tbody tr th:only-of-type {\n",
       "        vertical-align: middle;\n",
       "    }\n",
       "\n",
       "    .dataframe tbody tr th {\n",
       "        vertical-align: top;\n",
       "    }\n",
       "\n",
       "    .dataframe thead th {\n",
       "        text-align: right;\n",
       "    }\n",
       "</style>\n",
       "<table border=\"1\" class=\"dataframe\">\n",
       "  <thead>\n",
       "    <tr style=\"text-align: right;\">\n",
       "      <th></th>\n",
       "      <th>Names</th>\n",
       "      <th>Salary</th>\n",
       "    </tr>\n",
       "  </thead>\n",
       "  <tbody>\n",
       "    <tr>\n",
       "      <th>0</th>\n",
       "      <td>Rahul</td>\n",
       "      <td>100</td>\n",
       "    </tr>\n",
       "    <tr>\n",
       "      <th>1</th>\n",
       "      <td>Poonam</td>\n",
       "      <td>200</td>\n",
       "    </tr>\n",
       "    <tr>\n",
       "      <th>2</th>\n",
       "      <td>Tejas</td>\n",
       "      <td>300</td>\n",
       "    </tr>\n",
       "  </tbody>\n",
       "</table>\n",
       "</div>"
      ],
      "text/plain": [
       "    Names  Salary\n",
       "0   Rahul     100\n",
       "1  Poonam     200\n",
       "2   Tejas     300"
      ]
     },
     "execution_count": 72,
     "metadata": {},
     "output_type": "execute_result"
    }
   ],
   "source": [
    "rahul_df[rahul_df.Names.isin(l1)]"
   ]
  },
  {
   "cell_type": "code",
   "execution_count": 73,
   "id": "26d0d610",
   "metadata": {},
   "outputs": [
    {
     "data": {
      "text/html": [
       "<div>\n",
       "<style scoped>\n",
       "    .dataframe tbody tr th:only-of-type {\n",
       "        vertical-align: middle;\n",
       "    }\n",
       "\n",
       "    .dataframe tbody tr th {\n",
       "        vertical-align: top;\n",
       "    }\n",
       "\n",
       "    .dataframe thead th {\n",
       "        text-align: right;\n",
       "    }\n",
       "</style>\n",
       "<table border=\"1\" class=\"dataframe\">\n",
       "  <thead>\n",
       "    <tr style=\"text-align: right;\">\n",
       "      <th></th>\n",
       "      <th>Names</th>\n",
       "      <th>Salary</th>\n",
       "    </tr>\n",
       "  </thead>\n",
       "  <tbody>\n",
       "    <tr>\n",
       "      <th>0</th>\n",
       "      <td>Rahul</td>\n",
       "      <td>100</td>\n",
       "    </tr>\n",
       "    <tr>\n",
       "      <th>1</th>\n",
       "      <td>Poonam</td>\n",
       "      <td>200</td>\n",
       "    </tr>\n",
       "    <tr>\n",
       "      <th>2</th>\n",
       "      <td>Tejas</td>\n",
       "      <td>300</td>\n",
       "    </tr>\n",
       "  </tbody>\n",
       "</table>\n",
       "</div>"
      ],
      "text/plain": [
       "    Names  Salary\n",
       "0   Rahul     100\n",
       "1  Poonam     200\n",
       "2   Tejas     300"
      ]
     },
     "execution_count": 73,
     "metadata": {},
     "output_type": "execute_result"
    }
   ],
   "source": [
    "rahul_df.loc[rahul_df.Names.isin(l1)]\n",
    "\n",
    "# It gives same output. Loc is just for the location"
   ]
  },
  {
   "cell_type": "code",
   "execution_count": null,
   "id": "da922869",
   "metadata": {},
   "outputs": [],
   "source": []
  }
 ],
 "metadata": {
  "kernelspec": {
   "display_name": "Python 3 (ipykernel)",
   "language": "python",
   "name": "python3"
  },
  "language_info": {
   "codemirror_mode": {
    "name": "ipython",
    "version": 3
   },
   "file_extension": ".py",
   "mimetype": "text/x-python",
   "name": "python",
   "nbconvert_exporter": "python",
   "pygments_lexer": "ipython3",
   "version": "3.9.12"
  }
 },
 "nbformat": 4,
 "nbformat_minor": 5
}
