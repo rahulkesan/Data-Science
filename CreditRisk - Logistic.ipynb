{
 "cells": [
  {
   "cell_type": "code",
   "execution_count": 1,
   "id": "d8ab8433",
   "metadata": {},
   "outputs": [],
   "source": [
    "import pandas as pd"
   ]
  },
  {
   "cell_type": "code",
   "execution_count": 2,
   "id": "0f4abf37",
   "metadata": {},
   "outputs": [],
   "source": [
    "cr = pd.read_csv(r\"C:\\Users\\RahulK\\Downloads\\Machine Learning By Pranjal Sir\\Regression\\Logistic\\CreditRisk.csv\")"
   ]
  },
  {
   "cell_type": "code",
   "execution_count": 3,
   "id": "43a3b2b9",
   "metadata": {},
   "outputs": [],
   "source": [
    "cr1 = pd.read_csv(r\"C:\\Users\\RahulK\\Downloads\\Machine Learning By Pranjal Sir\\Regression\\Logistic\\CreditRisk.csv\") "
   ]
  },
  {
   "cell_type": "code",
   "execution_count": 4,
   "id": "ef59a9bc",
   "metadata": {},
   "outputs": [
    {
     "data": {
      "text/html": [
       "<div>\n",
       "<style scoped>\n",
       "    .dataframe tbody tr th:only-of-type {\n",
       "        vertical-align: middle;\n",
       "    }\n",
       "\n",
       "    .dataframe tbody tr th {\n",
       "        vertical-align: top;\n",
       "    }\n",
       "\n",
       "    .dataframe thead th {\n",
       "        text-align: right;\n",
       "    }\n",
       "</style>\n",
       "<table border=\"1\" class=\"dataframe\">\n",
       "  <thead>\n",
       "    <tr style=\"text-align: right;\">\n",
       "      <th></th>\n",
       "      <th>Loan_ID</th>\n",
       "      <th>Gender</th>\n",
       "      <th>Married</th>\n",
       "      <th>Dependents</th>\n",
       "      <th>Education</th>\n",
       "      <th>Self_Employed</th>\n",
       "      <th>ApplicantIncome</th>\n",
       "      <th>CoapplicantIncome</th>\n",
       "      <th>LoanAmount</th>\n",
       "      <th>Loan_Amount_Term</th>\n",
       "      <th>Credit_History</th>\n",
       "      <th>Property_Area</th>\n",
       "      <th>Loan_Status</th>\n",
       "    </tr>\n",
       "  </thead>\n",
       "  <tbody>\n",
       "    <tr>\n",
       "      <th>0</th>\n",
       "      <td>LP001002</td>\n",
       "      <td>Male</td>\n",
       "      <td>No</td>\n",
       "      <td>0.0</td>\n",
       "      <td>Graduate</td>\n",
       "      <td>No</td>\n",
       "      <td>5849</td>\n",
       "      <td>0.0</td>\n",
       "      <td>NaN</td>\n",
       "      <td>360.0</td>\n",
       "      <td>1.0</td>\n",
       "      <td>Urban</td>\n",
       "      <td>Y</td>\n",
       "    </tr>\n",
       "    <tr>\n",
       "      <th>1</th>\n",
       "      <td>LP001003</td>\n",
       "      <td>Male</td>\n",
       "      <td>Yes</td>\n",
       "      <td>1.0</td>\n",
       "      <td>Graduate</td>\n",
       "      <td>No</td>\n",
       "      <td>4583</td>\n",
       "      <td>1508.0</td>\n",
       "      <td>128.0</td>\n",
       "      <td>360.0</td>\n",
       "      <td>1.0</td>\n",
       "      <td>Rural</td>\n",
       "      <td>N</td>\n",
       "    </tr>\n",
       "    <tr>\n",
       "      <th>2</th>\n",
       "      <td>LP001005</td>\n",
       "      <td>Male</td>\n",
       "      <td>Yes</td>\n",
       "      <td>0.0</td>\n",
       "      <td>Graduate</td>\n",
       "      <td>Yes</td>\n",
       "      <td>3000</td>\n",
       "      <td>0.0</td>\n",
       "      <td>66.0</td>\n",
       "      <td>360.0</td>\n",
       "      <td>1.0</td>\n",
       "      <td>Urban</td>\n",
       "      <td>Y</td>\n",
       "    </tr>\n",
       "    <tr>\n",
       "      <th>3</th>\n",
       "      <td>LP001006</td>\n",
       "      <td>Male</td>\n",
       "      <td>Yes</td>\n",
       "      <td>0.0</td>\n",
       "      <td>Not Graduate</td>\n",
       "      <td>No</td>\n",
       "      <td>2583</td>\n",
       "      <td>2358.0</td>\n",
       "      <td>120.0</td>\n",
       "      <td>360.0</td>\n",
       "      <td>1.0</td>\n",
       "      <td>Urban</td>\n",
       "      <td>Y</td>\n",
       "    </tr>\n",
       "    <tr>\n",
       "      <th>4</th>\n",
       "      <td>LP001008</td>\n",
       "      <td>Male</td>\n",
       "      <td>No</td>\n",
       "      <td>0.0</td>\n",
       "      <td>Graduate</td>\n",
       "      <td>No</td>\n",
       "      <td>6000</td>\n",
       "      <td>0.0</td>\n",
       "      <td>141.0</td>\n",
       "      <td>360.0</td>\n",
       "      <td>1.0</td>\n",
       "      <td>Urban</td>\n",
       "      <td>Y</td>\n",
       "    </tr>\n",
       "  </tbody>\n",
       "</table>\n",
       "</div>"
      ],
      "text/plain": [
       "    Loan_ID Gender Married  Dependents     Education Self_Employed  \\\n",
       "0  LP001002   Male      No         0.0      Graduate            No   \n",
       "1  LP001003   Male     Yes         1.0      Graduate            No   \n",
       "2  LP001005   Male     Yes         0.0      Graduate           Yes   \n",
       "3  LP001006   Male     Yes         0.0  Not Graduate            No   \n",
       "4  LP001008   Male      No         0.0      Graduate            No   \n",
       "\n",
       "   ApplicantIncome  CoapplicantIncome  LoanAmount  Loan_Amount_Term  \\\n",
       "0             5849                0.0         NaN             360.0   \n",
       "1             4583             1508.0       128.0             360.0   \n",
       "2             3000                0.0        66.0             360.0   \n",
       "3             2583             2358.0       120.0             360.0   \n",
       "4             6000                0.0       141.0             360.0   \n",
       "\n",
       "   Credit_History Property_Area Loan_Status  \n",
       "0             1.0         Urban           Y  \n",
       "1             1.0         Rural           N  \n",
       "2             1.0         Urban           Y  \n",
       "3             1.0         Urban           Y  \n",
       "4             1.0         Urban           Y  "
      ]
     },
     "execution_count": 4,
     "metadata": {},
     "output_type": "execute_result"
    }
   ],
   "source": [
    "cr.head()"
   ]
  },
  {
   "cell_type": "code",
   "execution_count": 5,
   "id": "eaf43386",
   "metadata": {},
   "outputs": [
    {
     "data": {
      "text/plain": [
       "(981, 13)"
      ]
     },
     "execution_count": 5,
     "metadata": {},
     "output_type": "execute_result"
    }
   ],
   "source": [
    "cr.shape"
   ]
  },
  {
   "cell_type": "code",
   "execution_count": 6,
   "id": "2cbabca8",
   "metadata": {},
   "outputs": [],
   "source": [
    "# Data related to the person who has taken loan previously\n",
    "# Bank wants to build a prediction model which can be used to approve or reject the loan\n",
    "# Target thode customers who are likely to be good customers and try upselling and cross-selling\n"
   ]
  },
  {
   "cell_type": "code",
   "execution_count": 7,
   "id": "d5c75d48",
   "metadata": {},
   "outputs": [],
   "source": [
    "# Target variable - Loan Status"
   ]
  },
  {
   "cell_type": "code",
   "execution_count": 8,
   "id": "184a4e49",
   "metadata": {},
   "outputs": [
    {
     "data": {
      "text/plain": [
       "Loan_ID               0\n",
       "Gender               24\n",
       "Married               3\n",
       "Dependents           25\n",
       "Education             0\n",
       "Self_Employed        55\n",
       "ApplicantIncome       0\n",
       "CoapplicantIncome     0\n",
       "LoanAmount           27\n",
       "Loan_Amount_Term     20\n",
       "Credit_History       79\n",
       "Property_Area         0\n",
       "Loan_Status           0\n",
       "dtype: int64"
      ]
     },
     "execution_count": 8,
     "metadata": {},
     "output_type": "execute_result"
    }
   ],
   "source": [
    "cr.isnull().sum()"
   ]
  },
  {
   "cell_type": "code",
   "execution_count": 9,
   "id": "c9cd6bf3",
   "metadata": {},
   "outputs": [],
   "source": [
    "cr.Gender = cr.Gender.fillna('Male')\n",
    "cr.Married = cr.Married.fillna('Yes')\n",
    "cr.Dependents = cr.Dependents.fillna(0)\n",
    "cr.Self_Employed = cr.Self_Employed.fillna('No')\n",
    "cr.LoanAmount = cr.LoanAmount.fillna(cr.LoanAmount.mean())\n",
    "cr.Loan_Amount_Term = cr.Loan_Amount_Term.fillna(cr.Loan_Amount_Term.mean())\n",
    "cr.Credit_History = cr.Credit_History.fillna(0)"
   ]
  },
  {
   "cell_type": "code",
   "execution_count": 10,
   "id": "5a4bd1f6",
   "metadata": {},
   "outputs": [
    {
     "data": {
      "text/plain": [
       "Male      799\n",
       "Female    182\n",
       "Name: Gender, dtype: int64"
      ]
     },
     "execution_count": 10,
     "metadata": {},
     "output_type": "execute_result"
    }
   ],
   "source": [
    "cr.Gender.value_counts()"
   ]
  },
  {
   "cell_type": "code",
   "execution_count": 11,
   "id": "d8733f51",
   "metadata": {},
   "outputs": [
    {
     "data": {
      "text/plain": [
       "Yes    634\n",
       "No     347\n",
       "Name: Married, dtype: int64"
      ]
     },
     "execution_count": 11,
     "metadata": {},
     "output_type": "execute_result"
    }
   ],
   "source": [
    "cr.Married.value_counts()"
   ]
  },
  {
   "cell_type": "code",
   "execution_count": 12,
   "id": "ce82e75f",
   "metadata": {},
   "outputs": [
    {
     "data": {
      "text/plain": [
       "0.0    570\n",
       "1.0    160\n",
       "2.0    160\n",
       "4.0     90\n",
       "3.0      1\n",
       "Name: Dependents, dtype: int64"
      ]
     },
     "execution_count": 12,
     "metadata": {},
     "output_type": "execute_result"
    }
   ],
   "source": [
    "cr.Dependents.value_counts()"
   ]
  },
  {
   "cell_type": "code",
   "execution_count": 13,
   "id": "8ca809ea",
   "metadata": {},
   "outputs": [
    {
     "data": {
      "text/plain": [
       "No     862\n",
       "Yes    119\n",
       "Name: Self_Employed, dtype: int64"
      ]
     },
     "execution_count": 13,
     "metadata": {},
     "output_type": "execute_result"
    }
   ],
   "source": [
    "cr.Self_Employed.value_counts()"
   ]
  },
  {
   "cell_type": "code",
   "execution_count": 14,
   "id": "178e8fd1",
   "metadata": {},
   "outputs": [
    {
     "data": {
      "text/plain": [
       "1.0    754\n",
       "0.0    227\n",
       "Name: Credit_History, dtype: int64"
      ]
     },
     "execution_count": 14,
     "metadata": {},
     "output_type": "execute_result"
    }
   ],
   "source": [
    "cr.Credit_History.value_counts()\n",
    "# We will put '0' for Credit History in null values"
   ]
  },
  {
   "cell_type": "code",
   "execution_count": 15,
   "id": "a60353fb",
   "metadata": {},
   "outputs": [],
   "source": [
    "from sklearn.preprocessing  import LabelEncoder\n"
   ]
  },
  {
   "cell_type": "code",
   "execution_count": 16,
   "id": "0a3cea7b",
   "metadata": {},
   "outputs": [],
   "source": [
    "le = LabelEncoder()\n",
    "\n",
    "cr[cr.select_dtypes(include= ['object']).columns]  = cr[cr.select_dtypes(include= ['object']).columns].apply(le.fit_transform)\n"
   ]
  },
  {
   "cell_type": "code",
   "execution_count": 17,
   "id": "911cc933",
   "metadata": {},
   "outputs": [
    {
     "data": {
      "text/html": [
       "<div>\n",
       "<style scoped>\n",
       "    .dataframe tbody tr th:only-of-type {\n",
       "        vertical-align: middle;\n",
       "    }\n",
       "\n",
       "    .dataframe tbody tr th {\n",
       "        vertical-align: top;\n",
       "    }\n",
       "\n",
       "    .dataframe thead th {\n",
       "        text-align: right;\n",
       "    }\n",
       "</style>\n",
       "<table border=\"1\" class=\"dataframe\">\n",
       "  <thead>\n",
       "    <tr style=\"text-align: right;\">\n",
       "      <th></th>\n",
       "      <th>Loan_ID</th>\n",
       "      <th>Gender</th>\n",
       "      <th>Married</th>\n",
       "      <th>Dependents</th>\n",
       "      <th>Education</th>\n",
       "      <th>Self_Employed</th>\n",
       "      <th>ApplicantIncome</th>\n",
       "      <th>CoapplicantIncome</th>\n",
       "      <th>LoanAmount</th>\n",
       "      <th>Loan_Amount_Term</th>\n",
       "      <th>Credit_History</th>\n",
       "      <th>Property_Area</th>\n",
       "      <th>Loan_Status</th>\n",
       "    </tr>\n",
       "  </thead>\n",
       "  <tbody>\n",
       "    <tr>\n",
       "      <th>0</th>\n",
       "      <td>0</td>\n",
       "      <td>1</td>\n",
       "      <td>0</td>\n",
       "      <td>0.0</td>\n",
       "      <td>0</td>\n",
       "      <td>0</td>\n",
       "      <td>5849</td>\n",
       "      <td>0.0</td>\n",
       "      <td>142.51153</td>\n",
       "      <td>360.0</td>\n",
       "      <td>1.0</td>\n",
       "      <td>2</td>\n",
       "      <td>1</td>\n",
       "    </tr>\n",
       "    <tr>\n",
       "      <th>1</th>\n",
       "      <td>1</td>\n",
       "      <td>1</td>\n",
       "      <td>1</td>\n",
       "      <td>1.0</td>\n",
       "      <td>0</td>\n",
       "      <td>0</td>\n",
       "      <td>4583</td>\n",
       "      <td>1508.0</td>\n",
       "      <td>128.00000</td>\n",
       "      <td>360.0</td>\n",
       "      <td>1.0</td>\n",
       "      <td>0</td>\n",
       "      <td>0</td>\n",
       "    </tr>\n",
       "    <tr>\n",
       "      <th>2</th>\n",
       "      <td>2</td>\n",
       "      <td>1</td>\n",
       "      <td>1</td>\n",
       "      <td>0.0</td>\n",
       "      <td>0</td>\n",
       "      <td>1</td>\n",
       "      <td>3000</td>\n",
       "      <td>0.0</td>\n",
       "      <td>66.00000</td>\n",
       "      <td>360.0</td>\n",
       "      <td>1.0</td>\n",
       "      <td>2</td>\n",
       "      <td>1</td>\n",
       "    </tr>\n",
       "    <tr>\n",
       "      <th>3</th>\n",
       "      <td>3</td>\n",
       "      <td>1</td>\n",
       "      <td>1</td>\n",
       "      <td>0.0</td>\n",
       "      <td>1</td>\n",
       "      <td>0</td>\n",
       "      <td>2583</td>\n",
       "      <td>2358.0</td>\n",
       "      <td>120.00000</td>\n",
       "      <td>360.0</td>\n",
       "      <td>1.0</td>\n",
       "      <td>2</td>\n",
       "      <td>1</td>\n",
       "    </tr>\n",
       "    <tr>\n",
       "      <th>4</th>\n",
       "      <td>4</td>\n",
       "      <td>1</td>\n",
       "      <td>0</td>\n",
       "      <td>0.0</td>\n",
       "      <td>0</td>\n",
       "      <td>0</td>\n",
       "      <td>6000</td>\n",
       "      <td>0.0</td>\n",
       "      <td>141.00000</td>\n",
       "      <td>360.0</td>\n",
       "      <td>1.0</td>\n",
       "      <td>2</td>\n",
       "      <td>1</td>\n",
       "    </tr>\n",
       "  </tbody>\n",
       "</table>\n",
       "</div>"
      ],
      "text/plain": [
       "   Loan_ID  Gender  Married  Dependents  Education  Self_Employed  \\\n",
       "0        0       1        0         0.0          0              0   \n",
       "1        1       1        1         1.0          0              0   \n",
       "2        2       1        1         0.0          0              1   \n",
       "3        3       1        1         0.0          1              0   \n",
       "4        4       1        0         0.0          0              0   \n",
       "\n",
       "   ApplicantIncome  CoapplicantIncome  LoanAmount  Loan_Amount_Term  \\\n",
       "0             5849                0.0   142.51153             360.0   \n",
       "1             4583             1508.0   128.00000             360.0   \n",
       "2             3000                0.0    66.00000             360.0   \n",
       "3             2583             2358.0   120.00000             360.0   \n",
       "4             6000                0.0   141.00000             360.0   \n",
       "\n",
       "   Credit_History  Property_Area  Loan_Status  \n",
       "0             1.0              2            1  \n",
       "1             1.0              0            0  \n",
       "2             1.0              2            1  \n",
       "3             1.0              2            1  \n",
       "4             1.0              2            1  "
      ]
     },
     "execution_count": 17,
     "metadata": {},
     "output_type": "execute_result"
    }
   ],
   "source": [
    "cr.head()"
   ]
  },
  {
   "cell_type": "code",
   "execution_count": 18,
   "id": "408d3637",
   "metadata": {},
   "outputs": [
    {
     "data": {
      "text/html": [
       "<div>\n",
       "<style scoped>\n",
       "    .dataframe tbody tr th:only-of-type {\n",
       "        vertical-align: middle;\n",
       "    }\n",
       "\n",
       "    .dataframe tbody tr th {\n",
       "        vertical-align: top;\n",
       "    }\n",
       "\n",
       "    .dataframe thead th {\n",
       "        text-align: right;\n",
       "    }\n",
       "</style>\n",
       "<table border=\"1\" class=\"dataframe\">\n",
       "  <thead>\n",
       "    <tr style=\"text-align: right;\">\n",
       "      <th></th>\n",
       "      <th>Loan_ID</th>\n",
       "      <th>Gender</th>\n",
       "      <th>Married</th>\n",
       "      <th>Dependents</th>\n",
       "      <th>Education</th>\n",
       "      <th>Self_Employed</th>\n",
       "      <th>ApplicantIncome</th>\n",
       "      <th>CoapplicantIncome</th>\n",
       "      <th>LoanAmount</th>\n",
       "      <th>Loan_Amount_Term</th>\n",
       "      <th>Credit_History</th>\n",
       "      <th>Property_Area</th>\n",
       "      <th>Loan_Status</th>\n",
       "    </tr>\n",
       "  </thead>\n",
       "  <tbody>\n",
       "    <tr>\n",
       "      <th>0</th>\n",
       "      <td>LP001002</td>\n",
       "      <td>Male</td>\n",
       "      <td>No</td>\n",
       "      <td>0.0</td>\n",
       "      <td>Graduate</td>\n",
       "      <td>No</td>\n",
       "      <td>5849</td>\n",
       "      <td>0.0</td>\n",
       "      <td>NaN</td>\n",
       "      <td>360.0</td>\n",
       "      <td>1.0</td>\n",
       "      <td>Urban</td>\n",
       "      <td>Y</td>\n",
       "    </tr>\n",
       "    <tr>\n",
       "      <th>1</th>\n",
       "      <td>LP001003</td>\n",
       "      <td>Male</td>\n",
       "      <td>Yes</td>\n",
       "      <td>1.0</td>\n",
       "      <td>Graduate</td>\n",
       "      <td>No</td>\n",
       "      <td>4583</td>\n",
       "      <td>1508.0</td>\n",
       "      <td>128.0</td>\n",
       "      <td>360.0</td>\n",
       "      <td>1.0</td>\n",
       "      <td>Rural</td>\n",
       "      <td>N</td>\n",
       "    </tr>\n",
       "    <tr>\n",
       "      <th>2</th>\n",
       "      <td>LP001005</td>\n",
       "      <td>Male</td>\n",
       "      <td>Yes</td>\n",
       "      <td>0.0</td>\n",
       "      <td>Graduate</td>\n",
       "      <td>Yes</td>\n",
       "      <td>3000</td>\n",
       "      <td>0.0</td>\n",
       "      <td>66.0</td>\n",
       "      <td>360.0</td>\n",
       "      <td>1.0</td>\n",
       "      <td>Urban</td>\n",
       "      <td>Y</td>\n",
       "    </tr>\n",
       "    <tr>\n",
       "      <th>3</th>\n",
       "      <td>LP001006</td>\n",
       "      <td>Male</td>\n",
       "      <td>Yes</td>\n",
       "      <td>0.0</td>\n",
       "      <td>Not Graduate</td>\n",
       "      <td>No</td>\n",
       "      <td>2583</td>\n",
       "      <td>2358.0</td>\n",
       "      <td>120.0</td>\n",
       "      <td>360.0</td>\n",
       "      <td>1.0</td>\n",
       "      <td>Urban</td>\n",
       "      <td>Y</td>\n",
       "    </tr>\n",
       "    <tr>\n",
       "      <th>4</th>\n",
       "      <td>LP001008</td>\n",
       "      <td>Male</td>\n",
       "      <td>No</td>\n",
       "      <td>0.0</td>\n",
       "      <td>Graduate</td>\n",
       "      <td>No</td>\n",
       "      <td>6000</td>\n",
       "      <td>0.0</td>\n",
       "      <td>141.0</td>\n",
       "      <td>360.0</td>\n",
       "      <td>1.0</td>\n",
       "      <td>Urban</td>\n",
       "      <td>Y</td>\n",
       "    </tr>\n",
       "  </tbody>\n",
       "</table>\n",
       "</div>"
      ],
      "text/plain": [
       "    Loan_ID Gender Married  Dependents     Education Self_Employed  \\\n",
       "0  LP001002   Male      No         0.0      Graduate            No   \n",
       "1  LP001003   Male     Yes         1.0      Graduate            No   \n",
       "2  LP001005   Male     Yes         0.0      Graduate           Yes   \n",
       "3  LP001006   Male     Yes         0.0  Not Graduate            No   \n",
       "4  LP001008   Male      No         0.0      Graduate            No   \n",
       "\n",
       "   ApplicantIncome  CoapplicantIncome  LoanAmount  Loan_Amount_Term  \\\n",
       "0             5849                0.0         NaN             360.0   \n",
       "1             4583             1508.0       128.0             360.0   \n",
       "2             3000                0.0        66.0             360.0   \n",
       "3             2583             2358.0       120.0             360.0   \n",
       "4             6000                0.0       141.0             360.0   \n",
       "\n",
       "   Credit_History Property_Area Loan_Status  \n",
       "0             1.0         Urban           Y  \n",
       "1             1.0         Rural           N  \n",
       "2             1.0         Urban           Y  \n",
       "3             1.0         Urban           Y  \n",
       "4             1.0         Urban           Y  "
      ]
     },
     "execution_count": 18,
     "metadata": {},
     "output_type": "execute_result"
    }
   ],
   "source": [
    "cr1.head()"
   ]
  },
  {
   "cell_type": "code",
   "execution_count": 14,
   "id": "ada4dd20",
   "metadata": {},
   "outputs": [],
   "source": [
    "cr1 = cr\n",
    "# Just a backup before sampling for problem statement 2"
   ]
  },
  {
   "cell_type": "code",
   "execution_count": 19,
   "id": "36beee58",
   "metadata": {},
   "outputs": [],
   "source": [
    "cr=cr.drop(['Loan_ID'], axis=1)\n"
   ]
  },
  {
   "cell_type": "code",
   "execution_count": 20,
   "id": "bcff0a5d",
   "metadata": {},
   "outputs": [
    {
     "data": {
      "text/html": [
       "<div>\n",
       "<style scoped>\n",
       "    .dataframe tbody tr th:only-of-type {\n",
       "        vertical-align: middle;\n",
       "    }\n",
       "\n",
       "    .dataframe tbody tr th {\n",
       "        vertical-align: top;\n",
       "    }\n",
       "\n",
       "    .dataframe thead th {\n",
       "        text-align: right;\n",
       "    }\n",
       "</style>\n",
       "<table border=\"1\" class=\"dataframe\">\n",
       "  <thead>\n",
       "    <tr style=\"text-align: right;\">\n",
       "      <th></th>\n",
       "      <th>Gender</th>\n",
       "      <th>Married</th>\n",
       "      <th>Dependents</th>\n",
       "      <th>Education</th>\n",
       "      <th>Self_Employed</th>\n",
       "      <th>ApplicantIncome</th>\n",
       "      <th>CoapplicantIncome</th>\n",
       "      <th>LoanAmount</th>\n",
       "      <th>Loan_Amount_Term</th>\n",
       "      <th>Credit_History</th>\n",
       "      <th>Property_Area</th>\n",
       "      <th>Loan_Status</th>\n",
       "    </tr>\n",
       "  </thead>\n",
       "  <tbody>\n",
       "    <tr>\n",
       "      <th>0</th>\n",
       "      <td>1</td>\n",
       "      <td>0</td>\n",
       "      <td>0.0</td>\n",
       "      <td>0</td>\n",
       "      <td>0</td>\n",
       "      <td>5849</td>\n",
       "      <td>0.0</td>\n",
       "      <td>142.51153</td>\n",
       "      <td>360.0</td>\n",
       "      <td>1.0</td>\n",
       "      <td>2</td>\n",
       "      <td>1</td>\n",
       "    </tr>\n",
       "    <tr>\n",
       "      <th>1</th>\n",
       "      <td>1</td>\n",
       "      <td>1</td>\n",
       "      <td>1.0</td>\n",
       "      <td>0</td>\n",
       "      <td>0</td>\n",
       "      <td>4583</td>\n",
       "      <td>1508.0</td>\n",
       "      <td>128.00000</td>\n",
       "      <td>360.0</td>\n",
       "      <td>1.0</td>\n",
       "      <td>0</td>\n",
       "      <td>0</td>\n",
       "    </tr>\n",
       "    <tr>\n",
       "      <th>2</th>\n",
       "      <td>1</td>\n",
       "      <td>1</td>\n",
       "      <td>0.0</td>\n",
       "      <td>0</td>\n",
       "      <td>1</td>\n",
       "      <td>3000</td>\n",
       "      <td>0.0</td>\n",
       "      <td>66.00000</td>\n",
       "      <td>360.0</td>\n",
       "      <td>1.0</td>\n",
       "      <td>2</td>\n",
       "      <td>1</td>\n",
       "    </tr>\n",
       "    <tr>\n",
       "      <th>3</th>\n",
       "      <td>1</td>\n",
       "      <td>1</td>\n",
       "      <td>0.0</td>\n",
       "      <td>1</td>\n",
       "      <td>0</td>\n",
       "      <td>2583</td>\n",
       "      <td>2358.0</td>\n",
       "      <td>120.00000</td>\n",
       "      <td>360.0</td>\n",
       "      <td>1.0</td>\n",
       "      <td>2</td>\n",
       "      <td>1</td>\n",
       "    </tr>\n",
       "    <tr>\n",
       "      <th>4</th>\n",
       "      <td>1</td>\n",
       "      <td>0</td>\n",
       "      <td>0.0</td>\n",
       "      <td>0</td>\n",
       "      <td>0</td>\n",
       "      <td>6000</td>\n",
       "      <td>0.0</td>\n",
       "      <td>141.00000</td>\n",
       "      <td>360.0</td>\n",
       "      <td>1.0</td>\n",
       "      <td>2</td>\n",
       "      <td>1</td>\n",
       "    </tr>\n",
       "  </tbody>\n",
       "</table>\n",
       "</div>"
      ],
      "text/plain": [
       "   Gender  Married  Dependents  Education  Self_Employed  ApplicantIncome  \\\n",
       "0       1        0         0.0          0              0             5849   \n",
       "1       1        1         1.0          0              0             4583   \n",
       "2       1        1         0.0          0              1             3000   \n",
       "3       1        1         0.0          1              0             2583   \n",
       "4       1        0         0.0          0              0             6000   \n",
       "\n",
       "   CoapplicantIncome  LoanAmount  Loan_Amount_Term  Credit_History  \\\n",
       "0                0.0   142.51153             360.0             1.0   \n",
       "1             1508.0   128.00000             360.0             1.0   \n",
       "2                0.0    66.00000             360.0             1.0   \n",
       "3             2358.0   120.00000             360.0             1.0   \n",
       "4                0.0   141.00000             360.0             1.0   \n",
       "\n",
       "   Property_Area  Loan_Status  \n",
       "0              2            1  \n",
       "1              0            0  \n",
       "2              2            1  \n",
       "3              2            1  \n",
       "4              2            1  "
      ]
     },
     "execution_count": 20,
     "metadata": {},
     "output_type": "execute_result"
    }
   ],
   "source": [
    "cr.head()"
   ]
  },
  {
   "cell_type": "code",
   "execution_count": 21,
   "id": "7619ee98",
   "metadata": {},
   "outputs": [],
   "source": [
    "from sklearn.model_selection import train_test_split"
   ]
  },
  {
   "cell_type": "code",
   "execution_count": 22,
   "id": "4dcf642d",
   "metadata": {},
   "outputs": [],
   "source": [
    "cr_train , cr_test = train_test_split(cr, test_size = .2)"
   ]
  },
  {
   "cell_type": "code",
   "execution_count": 23,
   "id": "d86bacd8",
   "metadata": {},
   "outputs": [],
   "source": [
    "cr_train_x = cr_train.iloc[: ,0:-1]\n",
    "cr_train_y = cr_train.iloc[: ,-1]\n",
    "cr_test_x = cr_test.iloc[: ,0:-1]\n",
    "cr_test_y = cr_test.iloc[: ,-1]"
   ]
  },
  {
   "cell_type": "code",
   "execution_count": 24,
   "id": "29d854be",
   "metadata": {},
   "outputs": [
    {
     "data": {
      "text/plain": [
       "(784, 11)"
      ]
     },
     "execution_count": 24,
     "metadata": {},
     "output_type": "execute_result"
    }
   ],
   "source": [
    "cr_train_x.shape"
   ]
  },
  {
   "cell_type": "code",
   "execution_count": 25,
   "id": "7b7e90e2",
   "metadata": {},
   "outputs": [],
   "source": [
    "# Logistic Regression\n",
    "# Linear (import sklearn). create an object, fit(x,y), predict"
   ]
  },
  {
   "cell_type": "code",
   "execution_count": 26,
   "id": "bc3f7651",
   "metadata": {},
   "outputs": [],
   "source": [
    "from sklearn.linear_model import LogisticRegression"
   ]
  },
  {
   "cell_type": "code",
   "execution_count": 27,
   "id": "4c1862f4",
   "metadata": {},
   "outputs": [],
   "source": [
    "cr_logreg = LogisticRegression()\n"
   ]
  },
  {
   "cell_type": "code",
   "execution_count": 28,
   "id": "366be960",
   "metadata": {},
   "outputs": [
    {
     "name": "stderr",
     "output_type": "stream",
     "text": [
      "C:\\Users\\RahulK\\anaconda3\\lib\\site-packages\\sklearn\\linear_model\\_logistic.py:814: ConvergenceWarning: lbfgs failed to converge (status=1):\n",
      "STOP: TOTAL NO. of ITERATIONS REACHED LIMIT.\n",
      "\n",
      "Increase the number of iterations (max_iter) or scale the data as shown in:\n",
      "    https://scikit-learn.org/stable/modules/preprocessing.html\n",
      "Please also refer to the documentation for alternative solver options:\n",
      "    https://scikit-learn.org/stable/modules/linear_model.html#logistic-regression\n",
      "  n_iter_i = _check_optimize_result(\n"
     ]
    },
    {
     "data": {
      "text/plain": [
       "LogisticRegression()"
      ]
     },
     "execution_count": 28,
     "metadata": {},
     "output_type": "execute_result"
    }
   ],
   "source": [
    "cr_logreg.fit(cr_train_x , cr_train_y)\n"
   ]
  },
  {
   "cell_type": "code",
   "execution_count": 29,
   "id": "67424d0c",
   "metadata": {},
   "outputs": [],
   "source": [
    "pred = cr_logreg.predict(cr_test_x)\n"
   ]
  },
  {
   "cell_type": "code",
   "execution_count": 30,
   "id": "b3641023",
   "metadata": {},
   "outputs": [],
   "source": [
    "# Since actual values were in 0 and 1, predicted values will also be in zero and one\n"
   ]
  },
  {
   "cell_type": "code",
   "execution_count": 31,
   "id": "2ed406fd",
   "metadata": {},
   "outputs": [
    {
     "data": {
      "text/plain": [
       "array([1, 1, 0, 1, 1, 0, 1, 1, 1, 0, 1, 1, 1, 1, 1, 1, 1, 0, 1, 0, 1, 1,\n",
       "       1, 1, 1, 1, 0, 0, 1, 1, 1, 1, 1, 0, 1, 0, 1, 1, 1, 1, 1, 1, 1, 0,\n",
       "       1, 1, 1, 1, 1, 1, 0, 1, 1, 1, 1, 1, 1, 1, 1, 1, 1, 1, 1, 1, 1, 1,\n",
       "       1, 1, 0, 1, 0, 1, 1, 1, 1, 1, 1, 0, 1, 1, 0, 1, 1, 1, 0, 0, 0, 1,\n",
       "       1, 0, 1, 1, 1, 1, 1, 1, 0, 1, 1, 1, 1, 1, 1, 1, 1, 1, 1, 0, 1, 1,\n",
       "       1, 1, 1, 1, 1, 0, 0, 1, 1, 0, 1, 1, 1, 0, 1, 1, 1, 0, 1, 1, 1, 1,\n",
       "       1, 1, 1, 1, 0, 1, 1, 1, 1, 1, 1, 1, 1, 1, 1, 1, 1, 1, 1, 1, 1, 1,\n",
       "       1, 0, 1, 1, 0, 1, 1, 1, 1, 1, 1, 1, 1, 1, 1, 0, 0, 1, 1, 0, 1, 1,\n",
       "       1, 1, 1, 1, 0, 0, 1, 1, 0, 1, 0, 0, 1, 1, 1, 1, 1, 1, 1, 1, 1])"
      ]
     },
     "execution_count": 31,
     "metadata": {},
     "output_type": "execute_result"
    }
   ],
   "source": [
    "pred"
   ]
  },
  {
   "cell_type": "code",
   "execution_count": 32,
   "id": "53aad2d8",
   "metadata": {},
   "outputs": [],
   "source": [
    "# To evaluate the model, we first build confusion matrix"
   ]
  },
  {
   "cell_type": "code",
   "execution_count": 33,
   "id": "878e4d06",
   "metadata": {},
   "outputs": [],
   "source": [
    "from sklearn.metrics import confusion_matrix"
   ]
  },
  {
   "cell_type": "code",
   "execution_count": 34,
   "id": "b0dabe40",
   "metadata": {},
   "outputs": [
    {
     "data": {
      "text/plain": [
       "array([[ 30,  27],\n",
       "       [  7, 133]], dtype=int64)"
      ]
     },
     "execution_count": 34,
     "metadata": {},
     "output_type": "execute_result"
    }
   ],
   "source": [
    "confusion_matrix(cr_test_y, pred)\n",
    "\n",
    "# prediction from top"
   ]
  },
  {
   "cell_type": "code",
   "execution_count": 35,
   "id": "06d513a3",
   "metadata": {},
   "outputs": [
    {
     "data": {
      "text/html": [
       "<div>\n",
       "<style scoped>\n",
       "    .dataframe tbody tr th:only-of-type {\n",
       "        vertical-align: middle;\n",
       "    }\n",
       "\n",
       "    .dataframe tbody tr th {\n",
       "        vertical-align: top;\n",
       "    }\n",
       "\n",
       "    .dataframe thead th {\n",
       "        text-align: right;\n",
       "    }\n",
       "</style>\n",
       "<table border=\"1\" class=\"dataframe\">\n",
       "  <thead>\n",
       "    <tr style=\"text-align: right;\">\n",
       "      <th>col_0</th>\n",
       "      <th>0</th>\n",
       "      <th>1</th>\n",
       "    </tr>\n",
       "    <tr>\n",
       "      <th>Loan_Status</th>\n",
       "      <th></th>\n",
       "      <th></th>\n",
       "    </tr>\n",
       "  </thead>\n",
       "  <tbody>\n",
       "    <tr>\n",
       "      <th>0</th>\n",
       "      <td>30</td>\n",
       "      <td>27</td>\n",
       "    </tr>\n",
       "    <tr>\n",
       "      <th>1</th>\n",
       "      <td>7</td>\n",
       "      <td>133</td>\n",
       "    </tr>\n",
       "  </tbody>\n",
       "</table>\n",
       "</div>"
      ],
      "text/plain": [
       "col_0         0    1\n",
       "Loan_Status         \n",
       "0            30   27\n",
       "1             7  133"
      ]
     },
     "execution_count": 35,
     "metadata": {},
     "output_type": "execute_result"
    }
   ],
   "source": [
    "# We can use pd.crosstab as well , but confusion_matrix function should be used\n",
    "\n",
    "pd.crosstab(cr_test_y, pred)"
   ]
  },
  {
   "cell_type": "code",
   "execution_count": 36,
   "id": "7a5c3289",
   "metadata": {},
   "outputs": [
    {
     "data": {
      "text/plain": [
       "array([[ 30,   7],\n",
       "       [ 27, 133]], dtype=int64)"
      ]
     },
     "execution_count": 36,
     "metadata": {},
     "output_type": "execute_result"
    }
   ],
   "source": [
    "confusion_matrix(pred, cr_test_y)\n",
    "\n",
    "# prediction from left"
   ]
  },
  {
   "cell_type": "code",
   "execution_count": 37,
   "id": "43a663b3",
   "metadata": {},
   "outputs": [],
   "source": [
    "tab1 = confusion_matrix(cr_test_y, pred)"
   ]
  },
  {
   "cell_type": "code",
   "execution_count": 38,
   "id": "acb9dcd0",
   "metadata": {},
   "outputs": [
    {
     "data": {
      "text/plain": [
       "80.20304568527919"
      ]
     },
     "execution_count": 38,
     "metadata": {},
     "output_type": "execute_result"
    }
   ],
   "source": [
    "# Accuracy\n",
    "\n",
    "(132+26)*100/(26+8+31+132)"
   ]
  },
  {
   "cell_type": "code",
   "execution_count": 39,
   "id": "8bb14542",
   "metadata": {},
   "outputs": [
    {
     "data": {
      "text/plain": [
       "array([ 30, 133], dtype=int64)"
      ]
     },
     "execution_count": 39,
     "metadata": {},
     "output_type": "execute_result"
    }
   ],
   "source": [
    "tab1.diagonal()"
   ]
  },
  {
   "cell_type": "code",
   "execution_count": 40,
   "id": "034ee458",
   "metadata": {},
   "outputs": [
    {
     "data": {
      "text/plain": [
       "163"
      ]
     },
     "execution_count": 40,
     "metadata": {},
     "output_type": "execute_result"
    }
   ],
   "source": [
    "tab1.diagonal().sum()\n",
    "\n",
    "# will add the diagonal element, 26 and 132"
   ]
  },
  {
   "cell_type": "code",
   "execution_count": 41,
   "id": "18b046de",
   "metadata": {},
   "outputs": [
    {
     "data": {
      "text/plain": [
       "197"
      ]
     },
     "execution_count": 41,
     "metadata": {},
     "output_type": "execute_result"
    }
   ],
   "source": [
    "tab1.sum()\n",
    "\n",
    "# will add all the element in tab1"
   ]
  },
  {
   "cell_type": "code",
   "execution_count": 42,
   "id": "0c565e19",
   "metadata": {},
   "outputs": [
    {
     "data": {
      "text/plain": [
       "82.74111675126903"
      ]
     },
     "execution_count": 42,
     "metadata": {},
     "output_type": "execute_result"
    }
   ],
   "source": [
    "# Accuracy\n",
    "\n",
    "tab1.diagonal().sum() * 100/tab1.sum()"
   ]
  },
  {
   "cell_type": "code",
   "execution_count": 43,
   "id": "cc51e6cb",
   "metadata": {},
   "outputs": [
    {
     "data": {
      "text/plain": [
       "82.74111675126903"
      ]
     },
     "execution_count": 43,
     "metadata": {},
     "output_type": "execute_result"
    }
   ],
   "source": [
    "# or\n",
    "\n",
    "from sklearn.metrics import accuracy_score\n",
    "\n",
    "accuracy_score(cr_test_y, pred) * 100"
   ]
  },
  {
   "cell_type": "code",
   "execution_count": 44,
   "id": "df8b620a",
   "metadata": {},
   "outputs": [
    {
     "data": {
      "text/plain": [
       "0.8896551724137931"
      ]
     },
     "execution_count": 44,
     "metadata": {},
     "output_type": "execute_result"
    }
   ],
   "source": [
    "# What is the TPR/Recall = TP/(TP+FN)\n",
    "\n",
    "129/(129+16)\n"
   ]
  },
  {
   "cell_type": "code",
   "execution_count": 45,
   "id": "bf801514",
   "metadata": {},
   "outputs": [],
   "source": [
    "from sklearn.metrics import recall_score"
   ]
  },
  {
   "cell_type": "code",
   "execution_count": 46,
   "id": "2171d88a",
   "metadata": {},
   "outputs": [
    {
     "data": {
      "text/plain": [
       "0.95"
      ]
     },
     "execution_count": 46,
     "metadata": {},
     "output_type": "execute_result"
    }
   ],
   "source": [
    "# TPR/ Recall\n",
    "\n",
    "recall_score(cr_test_y,pred)"
   ]
  },
  {
   "cell_type": "code",
   "execution_count": 47,
   "id": "f75b92da",
   "metadata": {},
   "outputs": [
    {
     "data": {
      "text/plain": [
       "0.5961538461538461"
      ]
     },
     "execution_count": 47,
     "metadata": {},
     "output_type": "execute_result"
    }
   ],
   "source": [
    "# FPR = FP/(FP+TN)\n",
    "\n",
    "31/(31+21)"
   ]
  },
  {
   "cell_type": "code",
   "execution_count": 48,
   "id": "4786e77d",
   "metadata": {},
   "outputs": [
    {
     "data": {
      "text/plain": [
       "0.80625"
      ]
     },
     "execution_count": 48,
     "metadata": {},
     "output_type": "execute_result"
    }
   ],
   "source": [
    "# Precision = TP/(TP+FP)\n",
    "\n",
    "129/(129+31)"
   ]
  },
  {
   "cell_type": "code",
   "execution_count": 49,
   "id": "80d6885a",
   "metadata": {},
   "outputs": [
    {
     "data": {
      "text/plain": [
       "0.83125"
      ]
     },
     "execution_count": 49,
     "metadata": {},
     "output_type": "execute_result"
    }
   ],
   "source": [
    "# Precision\n",
    "\n",
    "from sklearn.metrics import precision_score\n",
    "\n",
    "precision_score(cr_test_y,pred)"
   ]
  },
  {
   "cell_type": "code",
   "execution_count": 50,
   "id": "a727894e",
   "metadata": {},
   "outputs": [
    {
     "data": {
      "text/plain": [
       "0.8460042189987618"
      ]
     },
     "execution_count": 50,
     "metadata": {},
     "output_type": "execute_result"
    }
   ],
   "source": [
    "# F1 score/ Harmonic mean = (2 * Precision * Recall)/(Precision + Recall)\n",
    "\n",
    "2 * .88965 * .80635/(.88965+.80625)"
   ]
  },
  {
   "cell_type": "code",
   "execution_count": 51,
   "id": "ea97b619",
   "metadata": {},
   "outputs": [
    {
     "data": {
      "text/plain": [
       "0.8866666666666666"
      ]
     },
     "execution_count": 51,
     "metadata": {},
     "output_type": "execute_result"
    }
   ],
   "source": [
    "# F1 Score\n",
    "\n",
    "from sklearn.metrics import f1_score\n",
    "\n",
    "f1_score(cr_test_y, pred)"
   ]
  },
  {
   "cell_type": "code",
   "execution_count": 52,
   "id": "b45778cd",
   "metadata": {},
   "outputs": [
    {
     "data": {
      "text/plain": [
       "array([1, 1, 0, 1, 1, 0, 1, 1, 1, 0, 1, 1, 1, 1, 1, 1, 1, 0, 1, 0, 1, 1,\n",
       "       1, 1, 1, 1, 0, 0, 1, 1, 1, 1, 1, 0, 1, 0, 1, 1, 1, 1, 1, 1, 1, 0,\n",
       "       1, 1, 1, 1, 1, 1, 0, 1, 1, 1, 1, 1, 1, 1, 1, 1, 1, 1, 1, 1, 1, 1,\n",
       "       1, 1, 0, 1, 0, 1, 1, 1, 1, 1, 1, 0, 1, 1, 0, 1, 1, 1, 0, 0, 0, 1,\n",
       "       1, 0, 1, 1, 1, 1, 1, 1, 0, 1, 1, 1, 1, 1, 1, 1, 1, 1, 1, 0, 1, 1,\n",
       "       1, 1, 1, 1, 1, 0, 0, 1, 1, 0, 1, 1, 1, 0, 1, 1, 1, 0, 1, 1, 1, 1,\n",
       "       1, 1, 1, 1, 0, 1, 1, 1, 1, 1, 1, 1, 1, 1, 1, 1, 1, 1, 1, 1, 1, 1,\n",
       "       1, 0, 1, 1, 0, 1, 1, 1, 1, 1, 1, 1, 1, 1, 1, 0, 0, 1, 1, 0, 1, 1,\n",
       "       1, 1, 1, 1, 0, 0, 1, 1, 0, 1, 0, 0, 1, 1, 1, 1, 1, 1, 1, 1, 1])"
      ]
     },
     "execution_count": 52,
     "metadata": {},
     "output_type": "execute_result"
    }
   ],
   "source": [
    "# AUROC plot\n",
    "\n",
    "cr_logreg.predict(cr_test_x)"
   ]
  },
  {
   "cell_type": "code",
   "execution_count": 53,
   "id": "e36bd77f",
   "metadata": {},
   "outputs": [
    {
     "data": {
      "text/plain": [
       "array([[0.1322922 , 0.8677078 ],\n",
       "       [0.4895086 , 0.5104914 ],\n",
       "       [0.6609556 , 0.3390444 ],\n",
       "       [0.25992303, 0.74007697],\n",
       "       [0.19820103, 0.80179897],\n",
       "       [0.55981837, 0.44018163],\n",
       "       [0.28483818, 0.71516182],\n",
       "       [0.17597443, 0.82402557],\n",
       "       [0.12026435, 0.87973565],\n",
       "       [0.68337328, 0.31662672],\n",
       "       [0.20526515, 0.79473485],\n",
       "       [0.16057675, 0.83942325],\n",
       "       [0.18626694, 0.81373306],\n",
       "       [0.0811421 , 0.9188579 ],\n",
       "       [0.15289888, 0.84710112],\n",
       "       [0.26691299, 0.73308701],\n",
       "       [0.18627865, 0.81372135],\n",
       "       [0.68967589, 0.31032411],\n",
       "       [0.12187784, 0.87812216],\n",
       "       [0.65481594, 0.34518406],\n",
       "       [0.12786802, 0.87213198],\n",
       "       [0.1636912 , 0.8363088 ],\n",
       "       [0.20185402, 0.79814598],\n",
       "       [0.30339218, 0.69660782],\n",
       "       [0.10284247, 0.89715753],\n",
       "       [0.20612402, 0.79387598],\n",
       "       [0.51582962, 0.48417038],\n",
       "       [0.53163766, 0.46836234],\n",
       "       [0.16041932, 0.83958068],\n",
       "       [0.18636756, 0.81363244],\n",
       "       [0.2467385 , 0.7532615 ],\n",
       "       [0.1549084 , 0.8450916 ],\n",
       "       [0.25495884, 0.74504116],\n",
       "       [0.59285819, 0.40714181],\n",
       "       [0.27933784, 0.72066216],\n",
       "       [0.61932976, 0.38067024],\n",
       "       [0.17764583, 0.82235417],\n",
       "       [0.31023915, 0.68976085],\n",
       "       [0.17053742, 0.82946258],\n",
       "       [0.09638276, 0.90361724],\n",
       "       [0.13991028, 0.86008972],\n",
       "       [0.17790747, 0.82209253],\n",
       "       [0.21221518, 0.78778482],\n",
       "       [0.58170988, 0.41829012],\n",
       "       [0.19897245, 0.80102755],\n",
       "       [0.14492045, 0.85507955],\n",
       "       [0.47773418, 0.52226582],\n",
       "       [0.06344836, 0.93655164],\n",
       "       [0.26199018, 0.73800982],\n",
       "       [0.13314646, 0.86685354],\n",
       "       [0.65744628, 0.34255372],\n",
       "       [0.28681977, 0.71318023],\n",
       "       [0.29159524, 0.70840476],\n",
       "       [0.19512503, 0.80487497],\n",
       "       [0.34788967, 0.65211033],\n",
       "       [0.08749804, 0.91250196],\n",
       "       [0.25187597, 0.74812403],\n",
       "       [0.2642012 , 0.7357988 ],\n",
       "       [0.2345665 , 0.7654335 ],\n",
       "       [0.30098209, 0.69901791],\n",
       "       [0.24308362, 0.75691638],\n",
       "       [0.13514042, 0.86485958],\n",
       "       [0.13002937, 0.86997063],\n",
       "       [0.13926296, 0.86073704],\n",
       "       [0.21864638, 0.78135362],\n",
       "       [0.21049342, 0.78950658],\n",
       "       [0.12532761, 0.87467239],\n",
       "       [0.21529263, 0.78470737],\n",
       "       [0.55272026, 0.44727974],\n",
       "       [0.35448612, 0.64551388],\n",
       "       [0.53028278, 0.46971722],\n",
       "       [0.17264224, 0.82735776],\n",
       "       [0.13566261, 0.86433739],\n",
       "       [0.15931682, 0.84068318],\n",
       "       [0.13953429, 0.86046571],\n",
       "       [0.22668441, 0.77331559],\n",
       "       [0.12946942, 0.87053058],\n",
       "       [0.69098649, 0.30901351],\n",
       "       [0.10038134, 0.89961866],\n",
       "       [0.14130559, 0.85869441],\n",
       "       [0.6956986 , 0.3043014 ],\n",
       "       [0.18614924, 0.81385076],\n",
       "       [0.38341837, 0.61658163],\n",
       "       [0.31104292, 0.68895708],\n",
       "       [0.58255164, 0.41744836],\n",
       "       [0.65728989, 0.34271011],\n",
       "       [0.62405686, 0.37594314],\n",
       "       [0.21544573, 0.78455427],\n",
       "       [0.11502714, 0.88497286],\n",
       "       [0.6009539 , 0.3990461 ],\n",
       "       [0.45640516, 0.54359484],\n",
       "       [0.13334529, 0.86665471],\n",
       "       [0.21958161, 0.78041839],\n",
       "       [0.16348348, 0.83651652],\n",
       "       [0.14568152, 0.85431848],\n",
       "       [0.13585925, 0.86414075],\n",
       "       [0.50317559, 0.49682441],\n",
       "       [0.19717087, 0.80282913],\n",
       "       [0.14337376, 0.85662624],\n",
       "       [0.20473277, 0.79526723],\n",
       "       [0.0954267 , 0.9045733 ],\n",
       "       [0.22578792, 0.77421208],\n",
       "       [0.06367154, 0.93632846],\n",
       "       [0.39559993, 0.60440007],\n",
       "       [0.29359874, 0.70640126],\n",
       "       [0.21829161, 0.78170839],\n",
       "       [0.11820964, 0.88179036],\n",
       "       [0.68845906, 0.31154094],\n",
       "       [0.1344587 , 0.8655413 ],\n",
       "       [0.48898877, 0.51101123],\n",
       "       [0.12697317, 0.87302683],\n",
       "       [0.18285004, 0.81714996],\n",
       "       [0.15183294, 0.84816706],\n",
       "       [0.12184163, 0.87815837],\n",
       "       [0.2179735 , 0.7820265 ],\n",
       "       [0.54653253, 0.45346747],\n",
       "       [0.513692  , 0.486308  ],\n",
       "       [0.05353002, 0.94646998],\n",
       "       [0.25486918, 0.74513082],\n",
       "       [0.62414098, 0.37585902],\n",
       "       [0.13739145, 0.86260855],\n",
       "       [0.10012817, 0.89987183],\n",
       "       [0.21039468, 0.78960532],\n",
       "       [0.57722248, 0.42277752],\n",
       "       [0.15675032, 0.84324968],\n",
       "       [0.13153937, 0.86846063],\n",
       "       [0.18151679, 0.81848321],\n",
       "       [0.65260966, 0.34739034],\n",
       "       [0.17562728, 0.82437272],\n",
       "       [0.12136692, 0.87863308],\n",
       "       [0.08809959, 0.91190041],\n",
       "       [0.16101713, 0.83898287],\n",
       "       [0.22153517, 0.77846483],\n",
       "       [0.19802214, 0.80197786],\n",
       "       [0.23236612, 0.76763388],\n",
       "       [0.16918859, 0.83081141],\n",
       "       [0.53715343, 0.46284657],\n",
       "       [0.18359564, 0.81640436],\n",
       "       [0.11855153, 0.88144847],\n",
       "       [0.14947368, 0.85052632],\n",
       "       [0.16549891, 0.83450109],\n",
       "       [0.10565352, 0.89434648],\n",
       "       [0.18159971, 0.81840029],\n",
       "       [0.22563656, 0.77436344],\n",
       "       [0.27791223, 0.72208777],\n",
       "       [0.13413028, 0.86586972],\n",
       "       [0.12031058, 0.87968942],\n",
       "       [0.17005485, 0.82994515],\n",
       "       [0.1452579 , 0.8547421 ],\n",
       "       [0.20173501, 0.79826499],\n",
       "       [0.35855835, 0.64144165],\n",
       "       [0.20692607, 0.79307393],\n",
       "       [0.2922295 , 0.7077705 ],\n",
       "       [0.19662428, 0.80337572],\n",
       "       [0.21976349, 0.78023651],\n",
       "       [0.55494951, 0.44505049],\n",
       "       [0.30625449, 0.69374551],\n",
       "       [0.14294426, 0.85705574],\n",
       "       [0.60260502, 0.39739498],\n",
       "       [0.25068571, 0.74931429],\n",
       "       [0.12352868, 0.87647132],\n",
       "       [0.48901274, 0.51098726],\n",
       "       [0.22374041, 0.77625959],\n",
       "       [0.16498814, 0.83501186],\n",
       "       [0.15908715, 0.84091285],\n",
       "       [0.14758808, 0.85241192],\n",
       "       [0.21421433, 0.78578567],\n",
       "       [0.07770625, 0.92229375],\n",
       "       [0.11503818, 0.88496182],\n",
       "       [0.5089982 , 0.4910018 ],\n",
       "       [0.64292463, 0.35707537],\n",
       "       [0.12577936, 0.87422064],\n",
       "       [0.11091572, 0.88908428],\n",
       "       [0.75178372, 0.24821628],\n",
       "       [0.15158988, 0.84841012],\n",
       "       [0.24072852, 0.75927148],\n",
       "       [0.18512004, 0.81487996],\n",
       "       [0.2051391 , 0.7948609 ],\n",
       "       [0.16069485, 0.83930515],\n",
       "       [0.19420094, 0.80579906],\n",
       "       [0.61089326, 0.38910674],\n",
       "       [0.5799697 , 0.4200303 ],\n",
       "       [0.13471497, 0.86528503],\n",
       "       [0.23924212, 0.76075788],\n",
       "       [0.64624262, 0.35375738],\n",
       "       [0.1686244 , 0.8313756 ],\n",
       "       [0.7201998 , 0.2798002 ],\n",
       "       [0.72650366, 0.27349634],\n",
       "       [0.22504094, 0.77495906],\n",
       "       [0.23683645, 0.76316355],\n",
       "       [0.11062673, 0.88937327],\n",
       "       [0.2547021 , 0.7452979 ],\n",
       "       [0.16040678, 0.83959322],\n",
       "       [0.18256361, 0.81743639],\n",
       "       [0.21620669, 0.78379331],\n",
       "       [0.18054922, 0.81945078],\n",
       "       [0.15651324, 0.84348676]])"
      ]
     },
     "execution_count": 53,
     "metadata": {},
     "output_type": "execute_result"
    }
   ],
   "source": [
    "pred_prob = cr_logreg.predict_proba(cr_test_x) # prediction in probabilities\n",
    "pred_prob  # and for each record you get 2 pred prob values (for class zero and one)"
   ]
  },
  {
   "cell_type": "code",
   "execution_count": 54,
   "id": "7b59b3c0",
   "metadata": {},
   "outputs": [
    {
     "data": {
      "text/plain": [
       "numpy.ndarray"
      ]
     },
     "execution_count": 54,
     "metadata": {},
     "output_type": "execute_result"
    }
   ],
   "source": [
    " type(pred_prob)"
   ]
  },
  {
   "cell_type": "code",
   "execution_count": 55,
   "id": "ab321ef8",
   "metadata": {},
   "outputs": [
    {
     "data": {
      "text/plain": [
       "(197, 2)"
      ]
     },
     "execution_count": 55,
     "metadata": {},
     "output_type": "execute_result"
    }
   ],
   "source": [
    "pred_prob.shape"
   ]
  },
  {
   "cell_type": "code",
   "execution_count": 56,
   "id": "4b195639",
   "metadata": {},
   "outputs": [
    {
     "data": {
      "text/plain": [
       "array([0.1322922 , 0.4895086 , 0.6609556 , 0.25992303, 0.19820103,\n",
       "       0.55981837, 0.28483818, 0.17597443, 0.12026435, 0.68337328,\n",
       "       0.20526515, 0.16057675, 0.18626694, 0.0811421 , 0.15289888,\n",
       "       0.26691299, 0.18627865, 0.68967589, 0.12187784, 0.65481594,\n",
       "       0.12786802, 0.1636912 , 0.20185402, 0.30339218, 0.10284247,\n",
       "       0.20612402, 0.51582962, 0.53163766, 0.16041932, 0.18636756,\n",
       "       0.2467385 , 0.1549084 , 0.25495884, 0.59285819, 0.27933784,\n",
       "       0.61932976, 0.17764583, 0.31023915, 0.17053742, 0.09638276,\n",
       "       0.13991028, 0.17790747, 0.21221518, 0.58170988, 0.19897245,\n",
       "       0.14492045, 0.47773418, 0.06344836, 0.26199018, 0.13314646,\n",
       "       0.65744628, 0.28681977, 0.29159524, 0.19512503, 0.34788967,\n",
       "       0.08749804, 0.25187597, 0.2642012 , 0.2345665 , 0.30098209,\n",
       "       0.24308362, 0.13514042, 0.13002937, 0.13926296, 0.21864638,\n",
       "       0.21049342, 0.12532761, 0.21529263, 0.55272026, 0.35448612,\n",
       "       0.53028278, 0.17264224, 0.13566261, 0.15931682, 0.13953429,\n",
       "       0.22668441, 0.12946942, 0.69098649, 0.10038134, 0.14130559,\n",
       "       0.6956986 , 0.18614924, 0.38341837, 0.31104292, 0.58255164,\n",
       "       0.65728989, 0.62405686, 0.21544573, 0.11502714, 0.6009539 ,\n",
       "       0.45640516, 0.13334529, 0.21958161, 0.16348348, 0.14568152,\n",
       "       0.13585925, 0.50317559, 0.19717087, 0.14337376, 0.20473277,\n",
       "       0.0954267 , 0.22578792, 0.06367154, 0.39559993, 0.29359874,\n",
       "       0.21829161, 0.11820964, 0.68845906, 0.1344587 , 0.48898877,\n",
       "       0.12697317, 0.18285004, 0.15183294, 0.12184163, 0.2179735 ,\n",
       "       0.54653253, 0.513692  , 0.05353002, 0.25486918, 0.62414098,\n",
       "       0.13739145, 0.10012817, 0.21039468, 0.57722248, 0.15675032,\n",
       "       0.13153937, 0.18151679, 0.65260966, 0.17562728, 0.12136692,\n",
       "       0.08809959, 0.16101713, 0.22153517, 0.19802214, 0.23236612,\n",
       "       0.16918859, 0.53715343, 0.18359564, 0.11855153, 0.14947368,\n",
       "       0.16549891, 0.10565352, 0.18159971, 0.22563656, 0.27791223,\n",
       "       0.13413028, 0.12031058, 0.17005485, 0.1452579 , 0.20173501,\n",
       "       0.35855835, 0.20692607, 0.2922295 , 0.19662428, 0.21976349,\n",
       "       0.55494951, 0.30625449, 0.14294426, 0.60260502, 0.25068571,\n",
       "       0.12352868, 0.48901274, 0.22374041, 0.16498814, 0.15908715,\n",
       "       0.14758808, 0.21421433, 0.07770625, 0.11503818, 0.5089982 ,\n",
       "       0.64292463, 0.12577936, 0.11091572, 0.75178372, 0.15158988,\n",
       "       0.24072852, 0.18512004, 0.2051391 , 0.16069485, 0.19420094,\n",
       "       0.61089326, 0.5799697 , 0.13471497, 0.23924212, 0.64624262,\n",
       "       0.1686244 , 0.7201998 , 0.72650366, 0.22504094, 0.23683645,\n",
       "       0.11062673, 0.2547021 , 0.16040678, 0.18256361, 0.21620669,\n",
       "       0.18054922, 0.15651324])"
      ]
     },
     "execution_count": 56,
     "metadata": {},
     "output_type": "execute_result"
    }
   ],
   "source": [
    "pred_prob[:, 0]\n",
    "\n",
    "# will display all rows but only the 1st column corresponding to class zero"
   ]
  },
  {
   "cell_type": "code",
   "execution_count": 57,
   "id": "9f1f510c",
   "metadata": {},
   "outputs": [
    {
     "data": {
      "text/plain": [
       "array([0.8677078 , 0.5104914 , 0.3390444 , 0.74007697, 0.80179897,\n",
       "       0.44018163, 0.71516182, 0.82402557, 0.87973565, 0.31662672,\n",
       "       0.79473485, 0.83942325, 0.81373306, 0.9188579 , 0.84710112,\n",
       "       0.73308701, 0.81372135, 0.31032411, 0.87812216, 0.34518406,\n",
       "       0.87213198, 0.8363088 , 0.79814598, 0.69660782, 0.89715753,\n",
       "       0.79387598, 0.48417038, 0.46836234, 0.83958068, 0.81363244,\n",
       "       0.7532615 , 0.8450916 , 0.74504116, 0.40714181, 0.72066216,\n",
       "       0.38067024, 0.82235417, 0.68976085, 0.82946258, 0.90361724,\n",
       "       0.86008972, 0.82209253, 0.78778482, 0.41829012, 0.80102755,\n",
       "       0.85507955, 0.52226582, 0.93655164, 0.73800982, 0.86685354,\n",
       "       0.34255372, 0.71318023, 0.70840476, 0.80487497, 0.65211033,\n",
       "       0.91250196, 0.74812403, 0.7357988 , 0.7654335 , 0.69901791,\n",
       "       0.75691638, 0.86485958, 0.86997063, 0.86073704, 0.78135362,\n",
       "       0.78950658, 0.87467239, 0.78470737, 0.44727974, 0.64551388,\n",
       "       0.46971722, 0.82735776, 0.86433739, 0.84068318, 0.86046571,\n",
       "       0.77331559, 0.87053058, 0.30901351, 0.89961866, 0.85869441,\n",
       "       0.3043014 , 0.81385076, 0.61658163, 0.68895708, 0.41744836,\n",
       "       0.34271011, 0.37594314, 0.78455427, 0.88497286, 0.3990461 ,\n",
       "       0.54359484, 0.86665471, 0.78041839, 0.83651652, 0.85431848,\n",
       "       0.86414075, 0.49682441, 0.80282913, 0.85662624, 0.79526723,\n",
       "       0.9045733 , 0.77421208, 0.93632846, 0.60440007, 0.70640126,\n",
       "       0.78170839, 0.88179036, 0.31154094, 0.8655413 , 0.51101123,\n",
       "       0.87302683, 0.81714996, 0.84816706, 0.87815837, 0.7820265 ,\n",
       "       0.45346747, 0.486308  , 0.94646998, 0.74513082, 0.37585902,\n",
       "       0.86260855, 0.89987183, 0.78960532, 0.42277752, 0.84324968,\n",
       "       0.86846063, 0.81848321, 0.34739034, 0.82437272, 0.87863308,\n",
       "       0.91190041, 0.83898287, 0.77846483, 0.80197786, 0.76763388,\n",
       "       0.83081141, 0.46284657, 0.81640436, 0.88144847, 0.85052632,\n",
       "       0.83450109, 0.89434648, 0.81840029, 0.77436344, 0.72208777,\n",
       "       0.86586972, 0.87968942, 0.82994515, 0.8547421 , 0.79826499,\n",
       "       0.64144165, 0.79307393, 0.7077705 , 0.80337572, 0.78023651,\n",
       "       0.44505049, 0.69374551, 0.85705574, 0.39739498, 0.74931429,\n",
       "       0.87647132, 0.51098726, 0.77625959, 0.83501186, 0.84091285,\n",
       "       0.85241192, 0.78578567, 0.92229375, 0.88496182, 0.4910018 ,\n",
       "       0.35707537, 0.87422064, 0.88908428, 0.24821628, 0.84841012,\n",
       "       0.75927148, 0.81487996, 0.7948609 , 0.83930515, 0.80579906,\n",
       "       0.38910674, 0.4200303 , 0.86528503, 0.76075788, 0.35375738,\n",
       "       0.8313756 , 0.2798002 , 0.27349634, 0.77495906, 0.76316355,\n",
       "       0.88937327, 0.7452979 , 0.83959322, 0.81743639, 0.78379331,\n",
       "       0.81945078, 0.84348676])"
      ]
     },
     "execution_count": 57,
     "metadata": {},
     "output_type": "execute_result"
    }
   ],
   "source": [
    "pred_prob[:, 1]\n",
    "\n",
    "# will display all rows but only the 2nd column corresponding to class one"
   ]
  },
  {
   "cell_type": "code",
   "execution_count": 58,
   "id": "b21af721",
   "metadata": {},
   "outputs": [],
   "source": [
    "from sklearn.metrics import roc_auc_score, roc_curve"
   ]
  },
  {
   "cell_type": "code",
   "execution_count": 59,
   "id": "285c4ba1",
   "metadata": {},
   "outputs": [
    {
     "data": {
      "text/plain": [
       "0.8136591478696743"
      ]
     },
     "execution_count": 59,
     "metadata": {},
     "output_type": "execute_result"
    }
   ],
   "source": [
    "roc_auc_score(cr_test_y, pred_prob[:,1])\n",
    "\n",
    "# actual values, pred prob for class 1\n",
    "# area under the curve"
   ]
  },
  {
   "cell_type": "code",
   "execution_count": 60,
   "id": "20e08843",
   "metadata": {},
   "outputs": [],
   "source": [
    "# AUROC (FPR, TPR) at various Threshold"
   ]
  },
  {
   "cell_type": "code",
   "execution_count": 61,
   "id": "4713bc48",
   "metadata": {},
   "outputs": [],
   "source": [
    "fpr, tpr, threshold = roc_curve(cr_test_y, pred_prob[:,1])"
   ]
  },
  {
   "cell_type": "code",
   "execution_count": 62,
   "id": "0bd544df",
   "metadata": {},
   "outputs": [
    {
     "data": {
      "text/plain": [
       "array([0.        , 0.        , 0.        , 0.01754386, 0.01754386,\n",
       "       0.05263158, 0.05263158, 0.07017544, 0.07017544, 0.0877193 ,\n",
       "       0.0877193 , 0.12280702, 0.12280702, 0.15789474, 0.15789474,\n",
       "       0.1754386 , 0.1754386 , 0.19298246, 0.19298246, 0.21052632,\n",
       "       0.21052632, 0.22807018, 0.22807018, 0.24561404, 0.24561404,\n",
       "       0.26315789, 0.26315789, 0.28070175, 0.28070175, 0.29824561,\n",
       "       0.29824561, 0.31578947, 0.31578947, 0.33333333, 0.33333333,\n",
       "       0.35087719, 0.35087719, 0.36842105, 0.36842105, 0.38596491,\n",
       "       0.38596491, 0.40350877, 0.40350877, 0.42105263, 0.42105263,\n",
       "       0.64912281, 0.64912281, 0.66666667, 0.66666667, 0.78947368,\n",
       "       0.78947368, 0.92982456, 0.92982456, 1.        ])"
      ]
     },
     "execution_count": 62,
     "metadata": {},
     "output_type": "execute_result"
    }
   ],
   "source": [
    "fpr"
   ]
  },
  {
   "cell_type": "code",
   "execution_count": 63,
   "id": "57801d74",
   "metadata": {},
   "outputs": [
    {
     "data": {
      "text/plain": [
       "array([0.        , 0.00714286, 0.08571429, 0.08571429, 0.20714286,\n",
       "       0.20714286, 0.22142857, 0.22142857, 0.4       , 0.4       ,\n",
       "       0.41428571, 0.41428571, 0.44285714, 0.44285714, 0.58571429,\n",
       "       0.58571429, 0.62142857, 0.62142857, 0.63571429, 0.63571429,\n",
       "       0.64285714, 0.64285714, 0.68571429, 0.68571429, 0.69285714,\n",
       "       0.69285714, 0.7       , 0.7       , 0.74285714, 0.74285714,\n",
       "       0.75714286, 0.75714286, 0.82142857, 0.82142857, 0.86428571,\n",
       "       0.86428571, 0.9       , 0.9       , 0.90714286, 0.90714286,\n",
       "       0.92857143, 0.92857143, 0.94285714, 0.94285714, 0.95      ,\n",
       "       0.95      , 0.97142857, 0.97142857, 0.97857143, 0.97857143,\n",
       "       0.99285714, 0.99285714, 1.        , 1.        ])"
      ]
     },
     "execution_count": 63,
     "metadata": {},
     "output_type": "execute_result"
    }
   ],
   "source": [
    "tpr"
   ]
  },
  {
   "cell_type": "code",
   "execution_count": 64,
   "id": "44c37be6",
   "metadata": {},
   "outputs": [
    {
     "data": {
      "text/plain": [
       "array([1.94646998, 0.94646998, 0.89715753, 0.89434648, 0.87053058,\n",
       "       0.86846063, 0.86685354, 0.86665471, 0.84091285, 0.84068318,\n",
       "       0.83958068, 0.83930515, 0.83501186, 0.8313756 , 0.80579906,\n",
       "       0.80487497, 0.80102755, 0.79826499, 0.79526723, 0.7948609 ,\n",
       "       0.79473485, 0.79387598, 0.78470737, 0.78455427, 0.78379331,\n",
       "       0.7820265 , 0.78170839, 0.78135362, 0.77436344, 0.77421208,\n",
       "       0.76763388, 0.7654335 , 0.74513082, 0.74504116, 0.72066216,\n",
       "       0.71516182, 0.69901791, 0.69660782, 0.69374551, 0.68976085,\n",
       "       0.64551388, 0.64144165, 0.60440007, 0.54359484, 0.52226582,\n",
       "       0.44505049, 0.4200303 , 0.41829012, 0.41744836, 0.37585902,\n",
       "       0.35375738, 0.31032411, 0.30901351, 0.24821628])"
      ]
     },
     "execution_count": 64,
     "metadata": {},
     "output_type": "execute_result"
    }
   ],
   "source": [
    "threshold"
   ]
  },
  {
   "cell_type": "code",
   "execution_count": 65,
   "id": "f7fc4a34",
   "metadata": {},
   "outputs": [],
   "source": [
    "import matplotlib.pyplot as plt"
   ]
  },
  {
   "cell_type": "code",
   "execution_count": 66,
   "id": "614dba28",
   "metadata": {},
   "outputs": [
    {
     "data": {
      "text/plain": [
       "Text(0.5, 0.5, 'Area under the curve is .6979 ')"
      ]
     },
     "execution_count": 66,
     "metadata": {},
     "output_type": "execute_result"
    },
    {
     "data": {
      "image/png": "[encoded data removed]",
      "text/plain": [
       "<Figure size 720x720 with 1 Axes>"
      ]
     },
     "metadata": {
      "needs_background": "light"
     },
     "output_type": "display_data"
    }
   ],
   "source": [
    "plt.figure(figsize=(10,10))\n",
    "plt.plot(fpr, tpr, color = 'red')\n",
    "plt.title('AUROC curve')\n",
    "plt.xlabel('FPR')\n",
    "plt.ylabel('TPR')\n",
    "plt.grid()\n",
    "plt.text(x= .5, y= .5, s='Area under the curve is .6979 ')"
   ]
  },
  {
   "cell_type": "code",
   "execution_count": 67,
   "id": "c577ce24",
   "metadata": {},
   "outputs": [],
   "source": [
    "# We created the model and model seems to be working good.\n",
    "\n",
    "# Lets use the same model for running our marketing campaign\n",
    "\n",
    "# Target those customers who are likely to be good customers and try doing upselling and cross-selling\n",
    "\n"
   ]
  },
  {
   "cell_type": "code",
   "execution_count": 68,
   "id": "ca81eee0",
   "metadata": {},
   "outputs": [],
   "source": [
    "# Do you want to target all customers??\n",
    "\n",
    "# Test, Train or Both\n",
    "\n",
    "# Answer is Both, as our model is already built and we will filter the customer based on their probability value."
   ]
  },
  {
   "cell_type": "code",
   "execution_count": 69,
   "id": "b7813181",
   "metadata": {},
   "outputs": [
    {
     "data": {
      "text/plain": [
       "numpy.ndarray"
      ]
     },
     "execution_count": 69,
     "metadata": {},
     "output_type": "execute_result"
    }
   ],
   "source": [
    "pred_prob_full = cr_logreg.predict_proba(cr.iloc[:, 0:-1])\n",
    "type(pred_prob_full)"
   ]
  },
  {
   "cell_type": "code",
   "execution_count": 70,
   "id": "8acab926",
   "metadata": {},
   "outputs": [
    {
     "data": {
      "text/html": [
       "<div>\n",
       "<style scoped>\n",
       "    .dataframe tbody tr th:only-of-type {\n",
       "        vertical-align: middle;\n",
       "    }\n",
       "\n",
       "    .dataframe tbody tr th {\n",
       "        vertical-align: top;\n",
       "    }\n",
       "\n",
       "    .dataframe thead th {\n",
       "        text-align: right;\n",
       "    }\n",
       "</style>\n",
       "<table border=\"1\" class=\"dataframe\">\n",
       "  <thead>\n",
       "    <tr style=\"text-align: right;\">\n",
       "      <th></th>\n",
       "      <th>0</th>\n",
       "      <th>1</th>\n",
       "    </tr>\n",
       "  </thead>\n",
       "  <tbody>\n",
       "    <tr>\n",
       "      <th>0</th>\n",
       "      <td>0.142180</td>\n",
       "      <td>0.857820</td>\n",
       "    </tr>\n",
       "    <tr>\n",
       "      <th>1</th>\n",
       "      <td>0.191965</td>\n",
       "      <td>0.808035</td>\n",
       "    </tr>\n",
       "    <tr>\n",
       "      <th>2</th>\n",
       "      <td>0.080107</td>\n",
       "      <td>0.919893</td>\n",
       "    </tr>\n",
       "    <tr>\n",
       "      <th>3</th>\n",
       "      <td>0.127823</td>\n",
       "      <td>0.872177</td>\n",
       "    </tr>\n",
       "    <tr>\n",
       "      <th>4</th>\n",
       "      <td>0.142068</td>\n",
       "      <td>0.857932</td>\n",
       "    </tr>\n",
       "    <tr>\n",
       "      <th>...</th>\n",
       "      <td>...</td>\n",
       "      <td>...</td>\n",
       "    </tr>\n",
       "    <tr>\n",
       "      <th>976</th>\n",
       "      <td>0.140927</td>\n",
       "      <td>0.859073</td>\n",
       "    </tr>\n",
       "    <tr>\n",
       "      <th>977</th>\n",
       "      <td>0.095427</td>\n",
       "      <td>0.904573</td>\n",
       "    </tr>\n",
       "    <tr>\n",
       "      <th>978</th>\n",
       "      <td>0.616515</td>\n",
       "      <td>0.383485</td>\n",
       "    </tr>\n",
       "    <tr>\n",
       "      <th>979</th>\n",
       "      <td>0.192293</td>\n",
       "      <td>0.807707</td>\n",
       "    </tr>\n",
       "    <tr>\n",
       "      <th>980</th>\n",
       "      <td>0.156750</td>\n",
       "      <td>0.843250</td>\n",
       "    </tr>\n",
       "  </tbody>\n",
       "</table>\n",
       "<p>981 rows × 2 columns</p>\n",
       "</div>"
      ],
      "text/plain": [
       "            0         1\n",
       "0    0.142180  0.857820\n",
       "1    0.191965  0.808035\n",
       "2    0.080107  0.919893\n",
       "3    0.127823  0.872177\n",
       "4    0.142068  0.857932\n",
       "..        ...       ...\n",
       "976  0.140927  0.859073\n",
       "977  0.095427  0.904573\n",
       "978  0.616515  0.383485\n",
       "979  0.192293  0.807707\n",
       "980  0.156750  0.843250\n",
       "\n",
       "[981 rows x 2 columns]"
      ]
     },
     "execution_count": 70,
     "metadata": {},
     "output_type": "execute_result"
    }
   ],
   "source": [
    "pred_prob_full = pd.DataFrame(pred_prob_full)\n",
    "pred_prob_full"
   ]
  },
  {
   "cell_type": "code",
   "execution_count": 71,
   "id": "cac7c753",
   "metadata": {},
   "outputs": [],
   "source": [
    "a = pred_prob_full"
   ]
  },
  {
   "cell_type": "code",
   "execution_count": 72,
   "id": "09bd983e",
   "metadata": {},
   "outputs": [],
   "source": [
    "l1 = list(a.columns)"
   ]
  },
  {
   "cell_type": "code",
   "execution_count": 73,
   "id": "d47d34ef",
   "metadata": {},
   "outputs": [
    {
     "data": {
      "text/plain": [
       "[0, 1]"
      ]
     },
     "execution_count": 73,
     "metadata": {},
     "output_type": "execute_result"
    }
   ],
   "source": [
    "l1"
   ]
  },
  {
   "cell_type": "code",
   "execution_count": 74,
   "id": "ac4dd68b",
   "metadata": {},
   "outputs": [],
   "source": [
    "l1[0] = 'Pred0'\n",
    "l1[1] = 'Pred1'"
   ]
  },
  {
   "cell_type": "code",
   "execution_count": 75,
   "id": "d542aaae",
   "metadata": {},
   "outputs": [
    {
     "data": {
      "text/plain": [
       "['Pred0', 'Pred1']"
      ]
     },
     "execution_count": 75,
     "metadata": {},
     "output_type": "execute_result"
    }
   ],
   "source": [
    "l1"
   ]
  },
  {
   "cell_type": "code",
   "execution_count": 76,
   "id": "4d353dd4",
   "metadata": {},
   "outputs": [],
   "source": [
    "a.columns = l1"
   ]
  },
  {
   "cell_type": "code",
   "execution_count": 77,
   "id": "46e3db6d",
   "metadata": {},
   "outputs": [
    {
     "data": {
      "text/html": [
       "<div>\n",
       "<style scoped>\n",
       "    .dataframe tbody tr th:only-of-type {\n",
       "        vertical-align: middle;\n",
       "    }\n",
       "\n",
       "    .dataframe tbody tr th {\n",
       "        vertical-align: top;\n",
       "    }\n",
       "\n",
       "    .dataframe thead th {\n",
       "        text-align: right;\n",
       "    }\n",
       "</style>\n",
       "<table border=\"1\" class=\"dataframe\">\n",
       "  <thead>\n",
       "    <tr style=\"text-align: right;\">\n",
       "      <th></th>\n",
       "      <th>Pred0</th>\n",
       "      <th>Pred1</th>\n",
       "    </tr>\n",
       "  </thead>\n",
       "  <tbody>\n",
       "    <tr>\n",
       "      <th>0</th>\n",
       "      <td>0.142180</td>\n",
       "      <td>0.857820</td>\n",
       "    </tr>\n",
       "    <tr>\n",
       "      <th>1</th>\n",
       "      <td>0.191965</td>\n",
       "      <td>0.808035</td>\n",
       "    </tr>\n",
       "    <tr>\n",
       "      <th>2</th>\n",
       "      <td>0.080107</td>\n",
       "      <td>0.919893</td>\n",
       "    </tr>\n",
       "    <tr>\n",
       "      <th>3</th>\n",
       "      <td>0.127823</td>\n",
       "      <td>0.872177</td>\n",
       "    </tr>\n",
       "    <tr>\n",
       "      <th>4</th>\n",
       "      <td>0.142068</td>\n",
       "      <td>0.857932</td>\n",
       "    </tr>\n",
       "    <tr>\n",
       "      <th>...</th>\n",
       "      <td>...</td>\n",
       "      <td>...</td>\n",
       "    </tr>\n",
       "    <tr>\n",
       "      <th>976</th>\n",
       "      <td>0.140927</td>\n",
       "      <td>0.859073</td>\n",
       "    </tr>\n",
       "    <tr>\n",
       "      <th>977</th>\n",
       "      <td>0.095427</td>\n",
       "      <td>0.904573</td>\n",
       "    </tr>\n",
       "    <tr>\n",
       "      <th>978</th>\n",
       "      <td>0.616515</td>\n",
       "      <td>0.383485</td>\n",
       "    </tr>\n",
       "    <tr>\n",
       "      <th>979</th>\n",
       "      <td>0.192293</td>\n",
       "      <td>0.807707</td>\n",
       "    </tr>\n",
       "    <tr>\n",
       "      <th>980</th>\n",
       "      <td>0.156750</td>\n",
       "      <td>0.843250</td>\n",
       "    </tr>\n",
       "  </tbody>\n",
       "</table>\n",
       "<p>981 rows × 2 columns</p>\n",
       "</div>"
      ],
      "text/plain": [
       "        Pred0     Pred1\n",
       "0    0.142180  0.857820\n",
       "1    0.191965  0.808035\n",
       "2    0.080107  0.919893\n",
       "3    0.127823  0.872177\n",
       "4    0.142068  0.857932\n",
       "..        ...       ...\n",
       "976  0.140927  0.859073\n",
       "977  0.095427  0.904573\n",
       "978  0.616515  0.383485\n",
       "979  0.192293  0.807707\n",
       "980  0.156750  0.843250\n",
       "\n",
       "[981 rows x 2 columns]"
      ]
     },
     "execution_count": 77,
     "metadata": {},
     "output_type": "execute_result"
    }
   ],
   "source": [
    "a"
   ]
  },
  {
   "cell_type": "code",
   "execution_count": 78,
   "id": "abeac150",
   "metadata": {},
   "outputs": [],
   "source": [
    "# or\n",
    "\n",
    "pred_prob_full = pred_prob_full.rename({'0': 'Pred0', '1': 'Pred1'})"
   ]
  },
  {
   "cell_type": "code",
   "execution_count": 79,
   "id": "3def523e",
   "metadata": {},
   "outputs": [
    {
     "data": {
      "text/html": [
       "<div>\n",
       "<style scoped>\n",
       "    .dataframe tbody tr th:only-of-type {\n",
       "        vertical-align: middle;\n",
       "    }\n",
       "\n",
       "    .dataframe tbody tr th {\n",
       "        vertical-align: top;\n",
       "    }\n",
       "\n",
       "    .dataframe thead th {\n",
       "        text-align: right;\n",
       "    }\n",
       "</style>\n",
       "<table border=\"1\" class=\"dataframe\">\n",
       "  <thead>\n",
       "    <tr style=\"text-align: right;\">\n",
       "      <th></th>\n",
       "      <th>Pred0</th>\n",
       "      <th>Pred1</th>\n",
       "    </tr>\n",
       "  </thead>\n",
       "  <tbody>\n",
       "    <tr>\n",
       "      <th>0</th>\n",
       "      <td>0.142180</td>\n",
       "      <td>0.857820</td>\n",
       "    </tr>\n",
       "    <tr>\n",
       "      <th>1</th>\n",
       "      <td>0.191965</td>\n",
       "      <td>0.808035</td>\n",
       "    </tr>\n",
       "    <tr>\n",
       "      <th>2</th>\n",
       "      <td>0.080107</td>\n",
       "      <td>0.919893</td>\n",
       "    </tr>\n",
       "    <tr>\n",
       "      <th>3</th>\n",
       "      <td>0.127823</td>\n",
       "      <td>0.872177</td>\n",
       "    </tr>\n",
       "    <tr>\n",
       "      <th>4</th>\n",
       "      <td>0.142068</td>\n",
       "      <td>0.857932</td>\n",
       "    </tr>\n",
       "    <tr>\n",
       "      <th>...</th>\n",
       "      <td>...</td>\n",
       "      <td>...</td>\n",
       "    </tr>\n",
       "    <tr>\n",
       "      <th>976</th>\n",
       "      <td>0.140927</td>\n",
       "      <td>0.859073</td>\n",
       "    </tr>\n",
       "    <tr>\n",
       "      <th>977</th>\n",
       "      <td>0.095427</td>\n",
       "      <td>0.904573</td>\n",
       "    </tr>\n",
       "    <tr>\n",
       "      <th>978</th>\n",
       "      <td>0.616515</td>\n",
       "      <td>0.383485</td>\n",
       "    </tr>\n",
       "    <tr>\n",
       "      <th>979</th>\n",
       "      <td>0.192293</td>\n",
       "      <td>0.807707</td>\n",
       "    </tr>\n",
       "    <tr>\n",
       "      <th>980</th>\n",
       "      <td>0.156750</td>\n",
       "      <td>0.843250</td>\n",
       "    </tr>\n",
       "  </tbody>\n",
       "</table>\n",
       "<p>981 rows × 2 columns</p>\n",
       "</div>"
      ],
      "text/plain": [
       "        Pred0     Pred1\n",
       "0    0.142180  0.857820\n",
       "1    0.191965  0.808035\n",
       "2    0.080107  0.919893\n",
       "3    0.127823  0.872177\n",
       "4    0.142068  0.857932\n",
       "..        ...       ...\n",
       "976  0.140927  0.859073\n",
       "977  0.095427  0.904573\n",
       "978  0.616515  0.383485\n",
       "979  0.192293  0.807707\n",
       "980  0.156750  0.843250\n",
       "\n",
       "[981 rows x 2 columns]"
      ]
     },
     "execution_count": 79,
     "metadata": {},
     "output_type": "execute_result"
    }
   ],
   "source": [
    "pred_prob_full"
   ]
  },
  {
   "cell_type": "code",
   "execution_count": 80,
   "id": "d5a8cf6c",
   "metadata": {},
   "outputs": [],
   "source": [
    "# or\n",
    "\n",
    "pred_prob_full = pred_prob_full.rename(columns={pred_prob_full.columns[0] : 'Pred0',\n",
    "                                               pred_prob_full.columns[1] : 'Pred1'})"
   ]
  },
  {
   "cell_type": "code",
   "execution_count": 81,
   "id": "e7bc1a97",
   "metadata": {},
   "outputs": [
    {
     "data": {
      "text/html": [
       "<div>\n",
       "<style scoped>\n",
       "    .dataframe tbody tr th:only-of-type {\n",
       "        vertical-align: middle;\n",
       "    }\n",
       "\n",
       "    .dataframe tbody tr th {\n",
       "        vertical-align: top;\n",
       "    }\n",
       "\n",
       "    .dataframe thead th {\n",
       "        text-align: right;\n",
       "    }\n",
       "</style>\n",
       "<table border=\"1\" class=\"dataframe\">\n",
       "  <thead>\n",
       "    <tr style=\"text-align: right;\">\n",
       "      <th></th>\n",
       "      <th>Pred0</th>\n",
       "      <th>Pred1</th>\n",
       "    </tr>\n",
       "  </thead>\n",
       "  <tbody>\n",
       "    <tr>\n",
       "      <th>0</th>\n",
       "      <td>0.142180</td>\n",
       "      <td>0.857820</td>\n",
       "    </tr>\n",
       "    <tr>\n",
       "      <th>1</th>\n",
       "      <td>0.191965</td>\n",
       "      <td>0.808035</td>\n",
       "    </tr>\n",
       "    <tr>\n",
       "      <th>2</th>\n",
       "      <td>0.080107</td>\n",
       "      <td>0.919893</td>\n",
       "    </tr>\n",
       "    <tr>\n",
       "      <th>3</th>\n",
       "      <td>0.127823</td>\n",
       "      <td>0.872177</td>\n",
       "    </tr>\n",
       "    <tr>\n",
       "      <th>4</th>\n",
       "      <td>0.142068</td>\n",
       "      <td>0.857932</td>\n",
       "    </tr>\n",
       "    <tr>\n",
       "      <th>...</th>\n",
       "      <td>...</td>\n",
       "      <td>...</td>\n",
       "    </tr>\n",
       "    <tr>\n",
       "      <th>976</th>\n",
       "      <td>0.140927</td>\n",
       "      <td>0.859073</td>\n",
       "    </tr>\n",
       "    <tr>\n",
       "      <th>977</th>\n",
       "      <td>0.095427</td>\n",
       "      <td>0.904573</td>\n",
       "    </tr>\n",
       "    <tr>\n",
       "      <th>978</th>\n",
       "      <td>0.616515</td>\n",
       "      <td>0.383485</td>\n",
       "    </tr>\n",
       "    <tr>\n",
       "      <th>979</th>\n",
       "      <td>0.192293</td>\n",
       "      <td>0.807707</td>\n",
       "    </tr>\n",
       "    <tr>\n",
       "      <th>980</th>\n",
       "      <td>0.156750</td>\n",
       "      <td>0.843250</td>\n",
       "    </tr>\n",
       "  </tbody>\n",
       "</table>\n",
       "<p>981 rows × 2 columns</p>\n",
       "</div>"
      ],
      "text/plain": [
       "        Pred0     Pred1\n",
       "0    0.142180  0.857820\n",
       "1    0.191965  0.808035\n",
       "2    0.080107  0.919893\n",
       "3    0.127823  0.872177\n",
       "4    0.142068  0.857932\n",
       "..        ...       ...\n",
       "976  0.140927  0.859073\n",
       "977  0.095427  0.904573\n",
       "978  0.616515  0.383485\n",
       "979  0.192293  0.807707\n",
       "980  0.156750  0.843250\n",
       "\n",
       "[981 rows x 2 columns]"
      ]
     },
     "execution_count": 81,
     "metadata": {},
     "output_type": "execute_result"
    }
   ],
   "source": [
    "pred_prob_full"
   ]
  },
  {
   "cell_type": "code",
   "execution_count": 82,
   "id": "dfc0d2aa",
   "metadata": {},
   "outputs": [],
   "source": [
    "pred_prob_full['Loan_Id'] = cr1.Loan_ID\n",
    "\n",
    "# We saved original data to cr1 in the start , in order to import the column in this table\n",
    "\n",
    "# We are adding Loan_Id as it is a Unique Identifier "
   ]
  },
  {
   "cell_type": "code",
   "execution_count": 83,
   "id": "e0b50a96",
   "metadata": {},
   "outputs": [
    {
     "data": {
      "text/html": [
       "<div>\n",
       "<style scoped>\n",
       "    .dataframe tbody tr th:only-of-type {\n",
       "        vertical-align: middle;\n",
       "    }\n",
       "\n",
       "    .dataframe tbody tr th {\n",
       "        vertical-align: top;\n",
       "    }\n",
       "\n",
       "    .dataframe thead th {\n",
       "        text-align: right;\n",
       "    }\n",
       "</style>\n",
       "<table border=\"1\" class=\"dataframe\">\n",
       "  <thead>\n",
       "    <tr style=\"text-align: right;\">\n",
       "      <th></th>\n",
       "      <th>Pred0</th>\n",
       "      <th>Pred1</th>\n",
       "      <th>Loan_Id</th>\n",
       "    </tr>\n",
       "  </thead>\n",
       "  <tbody>\n",
       "    <tr>\n",
       "      <th>0</th>\n",
       "      <td>0.142180</td>\n",
       "      <td>0.857820</td>\n",
       "      <td>LP001002</td>\n",
       "    </tr>\n",
       "    <tr>\n",
       "      <th>1</th>\n",
       "      <td>0.191965</td>\n",
       "      <td>0.808035</td>\n",
       "      <td>LP001003</td>\n",
       "    </tr>\n",
       "    <tr>\n",
       "      <th>2</th>\n",
       "      <td>0.080107</td>\n",
       "      <td>0.919893</td>\n",
       "      <td>LP001005</td>\n",
       "    </tr>\n",
       "    <tr>\n",
       "      <th>3</th>\n",
       "      <td>0.127823</td>\n",
       "      <td>0.872177</td>\n",
       "      <td>LP001006</td>\n",
       "    </tr>\n",
       "    <tr>\n",
       "      <th>4</th>\n",
       "      <td>0.142068</td>\n",
       "      <td>0.857932</td>\n",
       "      <td>LP001008</td>\n",
       "    </tr>\n",
       "    <tr>\n",
       "      <th>...</th>\n",
       "      <td>...</td>\n",
       "      <td>...</td>\n",
       "      <td>...</td>\n",
       "    </tr>\n",
       "    <tr>\n",
       "      <th>976</th>\n",
       "      <td>0.140927</td>\n",
       "      <td>0.859073</td>\n",
       "      <td>LP002971</td>\n",
       "    </tr>\n",
       "    <tr>\n",
       "      <th>977</th>\n",
       "      <td>0.095427</td>\n",
       "      <td>0.904573</td>\n",
       "      <td>LP002975</td>\n",
       "    </tr>\n",
       "    <tr>\n",
       "      <th>978</th>\n",
       "      <td>0.616515</td>\n",
       "      <td>0.383485</td>\n",
       "      <td>LP002980</td>\n",
       "    </tr>\n",
       "    <tr>\n",
       "      <th>979</th>\n",
       "      <td>0.192293</td>\n",
       "      <td>0.807707</td>\n",
       "      <td>LP002986</td>\n",
       "    </tr>\n",
       "    <tr>\n",
       "      <th>980</th>\n",
       "      <td>0.156750</td>\n",
       "      <td>0.843250</td>\n",
       "      <td>LP002989</td>\n",
       "    </tr>\n",
       "  </tbody>\n",
       "</table>\n",
       "<p>981 rows × 3 columns</p>\n",
       "</div>"
      ],
      "text/plain": [
       "        Pred0     Pred1   Loan_Id\n",
       "0    0.142180  0.857820  LP001002\n",
       "1    0.191965  0.808035  LP001003\n",
       "2    0.080107  0.919893  LP001005\n",
       "3    0.127823  0.872177  LP001006\n",
       "4    0.142068  0.857932  LP001008\n",
       "..        ...       ...       ...\n",
       "976  0.140927  0.859073  LP002971\n",
       "977  0.095427  0.904573  LP002975\n",
       "978  0.616515  0.383485  LP002980\n",
       "979  0.192293  0.807707  LP002986\n",
       "980  0.156750  0.843250  LP002989\n",
       "\n",
       "[981 rows x 3 columns]"
      ]
     },
     "execution_count": 83,
     "metadata": {},
     "output_type": "execute_result"
    }
   ],
   "source": [
    "pred_prob_full"
   ]
  },
  {
   "cell_type": "code",
   "execution_count": 84,
   "id": "3a2ca6ad",
   "metadata": {},
   "outputs": [],
   "source": [
    "pred_prob_full = pred_prob_full.sort_values('Pred1', ascending= False)\n",
    "\n",
    "# This will give us the highest probability on the top and the sales team will call them from Loan_Id"
   ]
  },
  {
   "cell_type": "code",
   "execution_count": 85,
   "id": "b12684aa",
   "metadata": {},
   "outputs": [
    {
     "data": {
      "text/html": [
       "<div>\n",
       "<style scoped>\n",
       "    .dataframe tbody tr th:only-of-type {\n",
       "        vertical-align: middle;\n",
       "    }\n",
       "\n",
       "    .dataframe tbody tr th {\n",
       "        vertical-align: top;\n",
       "    }\n",
       "\n",
       "    .dataframe thead th {\n",
       "        text-align: right;\n",
       "    }\n",
       "</style>\n",
       "<table border=\"1\" class=\"dataframe\">\n",
       "  <thead>\n",
       "    <tr style=\"text-align: right;\">\n",
       "      <th></th>\n",
       "      <th>Pred0</th>\n",
       "      <th>Pred1</th>\n",
       "      <th>Loan_Id</th>\n",
       "    </tr>\n",
       "  </thead>\n",
       "  <tbody>\n",
       "    <tr>\n",
       "      <th>686</th>\n",
       "      <td>0.052081</td>\n",
       "      <td>0.947919</td>\n",
       "      <td>LP001375</td>\n",
       "    </tr>\n",
       "    <tr>\n",
       "      <th>14</th>\n",
       "      <td>0.053530</td>\n",
       "      <td>0.946470</td>\n",
       "      <td>LP001030</td>\n",
       "    </tr>\n",
       "    <tr>\n",
       "      <th>575</th>\n",
       "      <td>0.054315</td>\n",
       "      <td>0.945685</td>\n",
       "      <td>LP002868</td>\n",
       "    </tr>\n",
       "    <tr>\n",
       "      <th>133</th>\n",
       "      <td>0.060489</td>\n",
       "      <td>0.939511</td>\n",
       "      <td>LP001482</td>\n",
       "    </tr>\n",
       "    <tr>\n",
       "      <th>164</th>\n",
       "      <td>0.060502</td>\n",
       "      <td>0.939498</td>\n",
       "      <td>LP001572</td>\n",
       "    </tr>\n",
       "    <tr>\n",
       "      <th>...</th>\n",
       "      <td>...</td>\n",
       "      <td>...</td>\n",
       "      <td>...</td>\n",
       "    </tr>\n",
       "    <tr>\n",
       "      <th>965</th>\n",
       "      <td>0.753668</td>\n",
       "      <td>0.246332</td>\n",
       "      <td>LP002901</td>\n",
       "    </tr>\n",
       "    <tr>\n",
       "      <th>600</th>\n",
       "      <td>0.785429</td>\n",
       "      <td>0.214571</td>\n",
       "      <td>LP002949</td>\n",
       "    </tr>\n",
       "    <tr>\n",
       "      <th>409</th>\n",
       "      <td>0.795451</td>\n",
       "      <td>0.204549</td>\n",
       "      <td>LP002317</td>\n",
       "    </tr>\n",
       "    <tr>\n",
       "      <th>925</th>\n",
       "      <td>0.795663</td>\n",
       "      <td>0.204337</td>\n",
       "      <td>LP002747</td>\n",
       "    </tr>\n",
       "    <tr>\n",
       "      <th>639</th>\n",
       "      <td>0.798056</td>\n",
       "      <td>0.201944</td>\n",
       "      <td>LP001153</td>\n",
       "    </tr>\n",
       "  </tbody>\n",
       "</table>\n",
       "<p>981 rows × 3 columns</p>\n",
       "</div>"
      ],
      "text/plain": [
       "        Pred0     Pred1   Loan_Id\n",
       "686  0.052081  0.947919  LP001375\n",
       "14   0.053530  0.946470  LP001030\n",
       "575  0.054315  0.945685  LP002868\n",
       "133  0.060489  0.939511  LP001482\n",
       "164  0.060502  0.939498  LP001572\n",
       "..        ...       ...       ...\n",
       "965  0.753668  0.246332  LP002901\n",
       "600  0.785429  0.214571  LP002949\n",
       "409  0.795451  0.204549  LP002317\n",
       "925  0.795663  0.204337  LP002747\n",
       "639  0.798056  0.201944  LP001153\n",
       "\n",
       "[981 rows x 3 columns]"
      ]
     },
     "execution_count": 85,
     "metadata": {},
     "output_type": "execute_result"
    }
   ],
   "source": [
    "pred_prob_full"
   ]
  },
  {
   "cell_type": "code",
   "execution_count": 86,
   "id": "8ad2e50e",
   "metadata": {},
   "outputs": [],
   "source": [
    "pred_prob_full.to_csv('saving_this_directory.csv')\n",
    "\n",
    "# If I want to save the dataframe pred_prob_full into csv, so that the sales team get access\n",
    "# The file will be saved by the name 'saving_this_directory' in csv format"
   ]
  },
  {
   "cell_type": "code",
   "execution_count": 91,
   "id": "629a5496",
   "metadata": {},
   "outputs": [],
   "source": [
    "import sys\n",
    "\n"
   ]
  },
  {
   "cell_type": "code",
   "execution_count": 92,
   "id": "9b56f6ba",
   "metadata": {},
   "outputs": [
    {
     "data": {
      "text/plain": [
       "'3.9.12 (main, Apr  4 2022, 05:22:27) [MSC v.1916 64 bit (AMD64)]'"
      ]
     },
     "execution_count": 92,
     "metadata": {},
     "output_type": "execute_result"
    }
   ],
   "source": [
    "sys.version"
   ]
  },
  {
   "cell_type": "code",
   "execution_count": 93,
   "id": "6671d5f8",
   "metadata": {},
   "outputs": [
    {
     "data": {
      "text/plain": [
       "'C:\\\\Users\\\\RahulK'"
      ]
     },
     "execution_count": 93,
     "metadata": {},
     "output_type": "execute_result"
    }
   ],
   "source": [
    "pwd\n",
    "\n",
    "# File location"
   ]
  },
  {
   "cell_type": "code",
   "execution_count": null,
   "id": "91b479f8",
   "metadata": {},
   "outputs": [],
   "source": []
  }
 ],
 "metadata": {
  "kernelspec": {
   "display_name": "Python 3 (ipykernel)",
   "language": "python",
   "name": "python3"
  },
  "language_info": {
   "codemirror_mode": {
    "name": "ipython",
    "version": 3
   },
   "file_extension": ".py",
   "mimetype": "text/x-python",
   "name": "python",
   "nbconvert_exporter": "python",
   "pygments_lexer": "ipython3",
   "version": "3.9.12"
  }
 },
 "nbformat": 4,
 "nbformat_minor": 5
}
