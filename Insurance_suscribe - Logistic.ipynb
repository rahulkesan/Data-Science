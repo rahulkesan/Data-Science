{
 "cells": [
  {
   "cell_type": "code",
   "execution_count": 1,
   "id": "234e17f6",
   "metadata": {},
   "outputs": [],
   "source": [
    "import pandas as pd\n",
    "import numpy as np"
   ]
  },
  {
   "cell_type": "code",
   "execution_count": 2,
   "id": "c9e82ca7",
   "metadata": {},
   "outputs": [],
   "source": [
    "from sklearn.model_selection import train_test_split\n",
    "from sklearn.linear_model import LogisticRegression\n",
    "from sklearn.metrics import confusion_matrix, precision_score, recall_score, f1_score, roc_auc_score, roc_curve\n",
    "import matplotlib.pyplot as plt\n"
   ]
  },
  {
   "cell_type": "code",
   "execution_count": 4,
   "id": "fdc13bad",
   "metadata": {},
   "outputs": [],
   "source": [
    "insub = pd.read_csv(r'C:\\Users\\RahulK\\Downloads\\Machine Learning By Pranjal Sir\\Regression\\Logistic\\Insurance_suscribe.csv')"
   ]
  },
  {
   "cell_type": "code",
   "execution_count": 5,
   "id": "f9416d1b",
   "metadata": {},
   "outputs": [
    {
     "data": {
      "text/html": [
       "<div>\n",
       "<style scoped>\n",
       "    .dataframe tbody tr th:only-of-type {\n",
       "        vertical-align: middle;\n",
       "    }\n",
       "\n",
       "    .dataframe tbody tr th {\n",
       "        vertical-align: top;\n",
       "    }\n",
       "\n",
       "    .dataframe thead th {\n",
       "        text-align: right;\n",
       "    }\n",
       "</style>\n",
       "<table border=\"1\" class=\"dataframe\">\n",
       "  <thead>\n",
       "    <tr style=\"text-align: right;\">\n",
       "      <th></th>\n",
       "      <th>ID</th>\n",
       "      <th>City_Code</th>\n",
       "      <th>Region_Code</th>\n",
       "      <th>Accomodation_Type</th>\n",
       "      <th>Reco_Insurance_Type</th>\n",
       "      <th>Upper_Age</th>\n",
       "      <th>Lower_Age</th>\n",
       "      <th>Is_Spouse</th>\n",
       "      <th>Health Indicator</th>\n",
       "      <th>Holding_Policy_Duration</th>\n",
       "      <th>Holding_Policy_Type</th>\n",
       "      <th>Reco_Policy_Cat</th>\n",
       "      <th>Reco_Policy_Premium</th>\n",
       "      <th>Response</th>\n",
       "    </tr>\n",
       "  </thead>\n",
       "  <tbody>\n",
       "    <tr>\n",
       "      <th>0</th>\n",
       "      <td>1</td>\n",
       "      <td>C3</td>\n",
       "      <td>3213</td>\n",
       "      <td>Rented</td>\n",
       "      <td>Individual</td>\n",
       "      <td>36</td>\n",
       "      <td>36</td>\n",
       "      <td>No</td>\n",
       "      <td>X1</td>\n",
       "      <td>14+</td>\n",
       "      <td>3.0</td>\n",
       "      <td>22</td>\n",
       "      <td>11628.0</td>\n",
       "      <td>0</td>\n",
       "    </tr>\n",
       "    <tr>\n",
       "      <th>1</th>\n",
       "      <td>2</td>\n",
       "      <td>C5</td>\n",
       "      <td>1117</td>\n",
       "      <td>Owned</td>\n",
       "      <td>Joint</td>\n",
       "      <td>75</td>\n",
       "      <td>22</td>\n",
       "      <td>No</td>\n",
       "      <td>X2</td>\n",
       "      <td>NaN</td>\n",
       "      <td>NaN</td>\n",
       "      <td>22</td>\n",
       "      <td>30510.0</td>\n",
       "      <td>0</td>\n",
       "    </tr>\n",
       "    <tr>\n",
       "      <th>2</th>\n",
       "      <td>3</td>\n",
       "      <td>C5</td>\n",
       "      <td>3732</td>\n",
       "      <td>Owned</td>\n",
       "      <td>Individual</td>\n",
       "      <td>32</td>\n",
       "      <td>32</td>\n",
       "      <td>No</td>\n",
       "      <td>NaN</td>\n",
       "      <td>1.0</td>\n",
       "      <td>1.0</td>\n",
       "      <td>19</td>\n",
       "      <td>7450.0</td>\n",
       "      <td>1</td>\n",
       "    </tr>\n",
       "    <tr>\n",
       "      <th>3</th>\n",
       "      <td>4</td>\n",
       "      <td>C24</td>\n",
       "      <td>4378</td>\n",
       "      <td>Owned</td>\n",
       "      <td>Joint</td>\n",
       "      <td>52</td>\n",
       "      <td>48</td>\n",
       "      <td>No</td>\n",
       "      <td>X1</td>\n",
       "      <td>14+</td>\n",
       "      <td>3.0</td>\n",
       "      <td>19</td>\n",
       "      <td>17780.0</td>\n",
       "      <td>0</td>\n",
       "    </tr>\n",
       "    <tr>\n",
       "      <th>4</th>\n",
       "      <td>5</td>\n",
       "      <td>C8</td>\n",
       "      <td>2190</td>\n",
       "      <td>Rented</td>\n",
       "      <td>Individual</td>\n",
       "      <td>44</td>\n",
       "      <td>44</td>\n",
       "      <td>No</td>\n",
       "      <td>X2</td>\n",
       "      <td>3.0</td>\n",
       "      <td>1.0</td>\n",
       "      <td>16</td>\n",
       "      <td>10404.0</td>\n",
       "      <td>0</td>\n",
       "    </tr>\n",
       "  </tbody>\n",
       "</table>\n",
       "</div>"
      ],
      "text/plain": [
       "   ID City_Code  Region_Code Accomodation_Type Reco_Insurance_Type  Upper_Age  \\\n",
       "0   1        C3         3213            Rented          Individual         36   \n",
       "1   2        C5         1117             Owned               Joint         75   \n",
       "2   3        C5         3732             Owned          Individual         32   \n",
       "3   4       C24         4378             Owned               Joint         52   \n",
       "4   5        C8         2190            Rented          Individual         44   \n",
       "\n",
       "   Lower_Age Is_Spouse Health Indicator Holding_Policy_Duration  \\\n",
       "0         36        No               X1                     14+   \n",
       "1         22        No               X2                     NaN   \n",
       "2         32        No              NaN                     1.0   \n",
       "3         48        No               X1                     14+   \n",
       "4         44        No               X2                     3.0   \n",
       "\n",
       "   Holding_Policy_Type  Reco_Policy_Cat  Reco_Policy_Premium  Response  \n",
       "0                  3.0               22              11628.0         0  \n",
       "1                  NaN               22              30510.0         0  \n",
       "2                  1.0               19               7450.0         1  \n",
       "3                  3.0               19              17780.0         0  \n",
       "4                  1.0               16              10404.0         0  "
      ]
     },
     "execution_count": 5,
     "metadata": {},
     "output_type": "execute_result"
    }
   ],
   "source": [
    "insub.head()"
   ]
  },
  {
   "cell_type": "code",
   "execution_count": 6,
   "id": "dae6f25b",
   "metadata": {},
   "outputs": [
    {
     "data": {
      "text/plain": [
       "(50882, 14)"
      ]
     },
     "execution_count": 6,
     "metadata": {},
     "output_type": "execute_result"
    }
   ],
   "source": [
    "insub.shape"
   ]
  },
  {
   "cell_type": "code",
   "execution_count": 7,
   "id": "65d7f29b",
   "metadata": {},
   "outputs": [
    {
     "name": "stdout",
     "output_type": "stream",
     "text": [
      "<class 'pandas.core.frame.DataFrame'>\n",
      "RangeIndex: 50882 entries, 0 to 50881\n",
      "Data columns (total 14 columns):\n",
      " #   Column                   Non-Null Count  Dtype  \n",
      "---  ------                   --------------  -----  \n",
      " 0   ID                       50882 non-null  int64  \n",
      " 1   City_Code                50882 non-null  object \n",
      " 2   Region_Code              50882 non-null  int64  \n",
      " 3   Accomodation_Type        50882 non-null  object \n",
      " 4   Reco_Insurance_Type      50882 non-null  object \n",
      " 5   Upper_Age                50882 non-null  int64  \n",
      " 6   Lower_Age                50882 non-null  int64  \n",
      " 7   Is_Spouse                50882 non-null  object \n",
      " 8   Health Indicator         39191 non-null  object \n",
      " 9   Holding_Policy_Duration  30631 non-null  object \n",
      " 10  Holding_Policy_Type      30631 non-null  float64\n",
      " 11  Reco_Policy_Cat          50882 non-null  int64  \n",
      " 12  Reco_Policy_Premium      50882 non-null  float64\n",
      " 13  Response                 50882 non-null  int64  \n",
      "dtypes: float64(2), int64(6), object(6)\n",
      "memory usage: 5.4+ MB\n"
     ]
    }
   ],
   "source": [
    "insub.info()"
   ]
  },
  {
   "cell_type": "code",
   "execution_count": 27,
   "id": "81c37759",
   "metadata": {},
   "outputs": [],
   "source": [
    "from sklearn.preprocessing import LabelEncoder\n",
    "le = LabelEncoder()"
   ]
  },
  {
   "cell_type": "code",
   "execution_count": 33,
   "id": "c5639e44",
   "metadata": {},
   "outputs": [],
   "source": [
    "insub = insub.drop(['Holding_Policy_Duration', 'Holding_Policy_Type', 'ID'], axis = 1)"
   ]
  },
  {
   "cell_type": "code",
   "execution_count": 29,
   "id": "088fbfb8",
   "metadata": {},
   "outputs": [],
   "source": [
    "insub['Health Indicator'].fillna('X1', inplace = True)"
   ]
  },
  {
   "cell_type": "code",
   "execution_count": 35,
   "id": "46efb5ae",
   "metadata": {},
   "outputs": [
    {
     "name": "stdout",
     "output_type": "stream",
     "text": [
      "<class 'pandas.core.frame.DataFrame'>\n",
      "RangeIndex: 50882 entries, 0 to 50881\n",
      "Data columns (total 11 columns):\n",
      " #   Column               Non-Null Count  Dtype  \n",
      "---  ------               --------------  -----  \n",
      " 0   City_Code            50882 non-null  object \n",
      " 1   Region_Code          50882 non-null  int64  \n",
      " 2   Accomodation_Type    50882 non-null  object \n",
      " 3   Reco_Insurance_Type  50882 non-null  object \n",
      " 4   Upper_Age            50882 non-null  int64  \n",
      " 5   Lower_Age            50882 non-null  int64  \n",
      " 6   Is_Spouse            50882 non-null  object \n",
      " 7   Health Indicator     50882 non-null  object \n",
      " 8   Reco_Policy_Cat      50882 non-null  int64  \n",
      " 9   Reco_Policy_Premium  50882 non-null  float64\n",
      " 10  Response             50882 non-null  int64  \n",
      "dtypes: float64(1), int64(5), object(5)\n",
      "memory usage: 4.3+ MB\n"
     ]
    }
   ],
   "source": [
    "insub.info()"
   ]
  },
  {
   "cell_type": "code",
   "execution_count": 42,
   "id": "9a9bef6b",
   "metadata": {},
   "outputs": [],
   "source": [
    "insub.City_Code = le.fit_transform(insub.City_Code)\n",
    "insub.Accomodation_Type = le.fit_transform(insub.Accomodation_Type)\n",
    "insub.Reco_Insurance_Type = le.fit_transform(insub.Reco_Insurance_Type)\n",
    "insub.Is_Spouse = le.fit_transform(insub.Is_Spouse)\n",
    "insub['Health Indicator'] = le.fit_transform(insub['Health Indicator'])"
   ]
  },
  {
   "cell_type": "code",
   "execution_count": 43,
   "id": "b4fda4e7",
   "metadata": {},
   "outputs": [
    {
     "name": "stdout",
     "output_type": "stream",
     "text": [
      "<class 'pandas.core.frame.DataFrame'>\n",
      "RangeIndex: 50882 entries, 0 to 50881\n",
      "Data columns (total 11 columns):\n",
      " #   Column               Non-Null Count  Dtype  \n",
      "---  ------               --------------  -----  \n",
      " 0   City_Code            50882 non-null  int32  \n",
      " 1   Region_Code          50882 non-null  int64  \n",
      " 2   Accomodation_Type    50882 non-null  int32  \n",
      " 3   Reco_Insurance_Type  50882 non-null  int32  \n",
      " 4   Upper_Age            50882 non-null  int64  \n",
      " 5   Lower_Age            50882 non-null  int64  \n",
      " 6   Is_Spouse            50882 non-null  int32  \n",
      " 7   Health Indicator     50882 non-null  int32  \n",
      " 8   Reco_Policy_Cat      50882 non-null  int64  \n",
      " 9   Reco_Policy_Premium  50882 non-null  float64\n",
      " 10  Response             50882 non-null  int64  \n",
      "dtypes: float64(1), int32(5), int64(5)\n",
      "memory usage: 3.3 MB\n"
     ]
    }
   ],
   "source": [
    "insub.info()"
   ]
  },
  {
   "cell_type": "code",
   "execution_count": 36,
   "id": "01d91107",
   "metadata": {},
   "outputs": [
    {
     "data": {
      "text/plain": [
       "City_Code              0\n",
       "Region_Code            0\n",
       "Accomodation_Type      0\n",
       "Reco_Insurance_Type    0\n",
       "Upper_Age              0\n",
       "Lower_Age              0\n",
       "Is_Spouse              0\n",
       "Health Indicator       0\n",
       "Reco_Policy_Cat        0\n",
       "Reco_Policy_Premium    0\n",
       "Response               0\n",
       "dtype: int64"
      ]
     },
     "execution_count": 36,
     "metadata": {},
     "output_type": "execute_result"
    }
   ],
   "source": [
    "insub.isnull().sum()"
   ]
  },
  {
   "cell_type": "code",
   "execution_count": 26,
   "id": "e708a172",
   "metadata": {},
   "outputs": [
    {
     "data": {
      "text/plain": [
       "Holding_Policy_Duration    20251\n",
       "Holding_Policy_Type        20251\n",
       "dtype: int64"
      ]
     },
     "execution_count": 26,
     "metadata": {},
     "output_type": "execute_result"
    }
   ],
   "source": [
    "insub.isnull().sum()[insub.isnull().sum()*100/insub.shape[0]  > 39]"
   ]
  },
  {
   "cell_type": "code",
   "execution_count": 44,
   "id": "0d10424f",
   "metadata": {},
   "outputs": [],
   "source": [
    "insub_train, insub_test = train_test_split(insub, test_size=.2)"
   ]
  },
  {
   "cell_type": "code",
   "execution_count": 45,
   "id": "768c46da",
   "metadata": {},
   "outputs": [],
   "source": [
    "insub_train_x = insub_train.iloc[:,0:-1]\n",
    "insub_train_y = insub_train.iloc[:, -1]\n",
    "\n",
    "insub_test_x = insub_test.iloc[:,0:-1]\n",
    "insub_test_y = insub_test.iloc[:, -1]"
   ]
  },
  {
   "cell_type": "code",
   "execution_count": 46,
   "id": "4e9f2d57",
   "metadata": {},
   "outputs": [],
   "source": [
    "logreg = LogisticRegression()"
   ]
  },
  {
   "cell_type": "code",
   "execution_count": 47,
   "id": "9bed179f",
   "metadata": {},
   "outputs": [
    {
     "data": {
      "text/plain": [
       "LogisticRegression()"
      ]
     },
     "execution_count": 47,
     "metadata": {},
     "output_type": "execute_result"
    }
   ],
   "source": [
    "logreg.fit(insub_train_x, insub_train_y)"
   ]
  },
  {
   "cell_type": "code",
   "execution_count": 48,
   "id": "b1811fb5",
   "metadata": {},
   "outputs": [],
   "source": [
    "pred_test = logreg.predict(insub_test_x)"
   ]
  },
  {
   "cell_type": "code",
   "execution_count": 49,
   "id": "ed3c837e",
   "metadata": {},
   "outputs": [
    {
     "data": {
      "text/plain": [
       "array([[7746,    0],\n",
       "       [2431,    0]], dtype=int64)"
      ]
     },
     "execution_count": 49,
     "metadata": {},
     "output_type": "execute_result"
    }
   ],
   "source": [
    "tab1 = confusion_matrix(insub_test_y, pred_test)\n",
    "tab1"
   ]
  },
  {
   "cell_type": "code",
   "execution_count": 53,
   "id": "8f8c5e4d",
   "metadata": {},
   "outputs": [
    {
     "data": {
      "text/plain": [
       "<pandas.core.groupby.generic.DataFrameGroupBy object at 0x000001C76466C4F0>"
      ]
     },
     "execution_count": 53,
     "metadata": {},
     "output_type": "execute_result"
    }
   ],
   "source": [
    "insub.groupby(['Response'])"
   ]
  },
  {
   "cell_type": "code",
   "execution_count": 58,
   "id": "7339cd56",
   "metadata": {},
   "outputs": [
    {
     "name": "stderr",
     "output_type": "stream",
     "text": [
      "C:\\Users\\RahulK\\AppData\\Local\\Temp\\ipykernel_6448\\567173557.py:1: UserWarning: Boolean Series key will be reindexed to match DataFrame index.\n",
      "  insub_test[insub.Response == 1]\n"
     ]
    },
    {
     "data": {
      "text/html": [
       "<div>\n",
       "<style scoped>\n",
       "    .dataframe tbody tr th:only-of-type {\n",
       "        vertical-align: middle;\n",
       "    }\n",
       "\n",
       "    .dataframe tbody tr th {\n",
       "        vertical-align: top;\n",
       "    }\n",
       "\n",
       "    .dataframe thead th {\n",
       "        text-align: right;\n",
       "    }\n",
       "</style>\n",
       "<table border=\"1\" class=\"dataframe\">\n",
       "  <thead>\n",
       "    <tr style=\"text-align: right;\">\n",
       "      <th></th>\n",
       "      <th>City_Code</th>\n",
       "      <th>Region_Code</th>\n",
       "      <th>Accomodation_Type</th>\n",
       "      <th>Reco_Insurance_Type</th>\n",
       "      <th>Upper_Age</th>\n",
       "      <th>Lower_Age</th>\n",
       "      <th>Is_Spouse</th>\n",
       "      <th>Health Indicator</th>\n",
       "      <th>Reco_Policy_Cat</th>\n",
       "      <th>Reco_Policy_Premium</th>\n",
       "      <th>Response</th>\n",
       "    </tr>\n",
       "  </thead>\n",
       "  <tbody>\n",
       "    <tr>\n",
       "      <th>8457</th>\n",
       "      <td>18</td>\n",
       "      <td>1720</td>\n",
       "      <td>1</td>\n",
       "      <td>0</td>\n",
       "      <td>75</td>\n",
       "      <td>75</td>\n",
       "      <td>0</td>\n",
       "      <td>5</td>\n",
       "      <td>15</td>\n",
       "      <td>19808.0</td>\n",
       "      <td>1</td>\n",
       "    </tr>\n",
       "    <tr>\n",
       "      <th>28789</th>\n",
       "      <td>0</td>\n",
       "      <td>722</td>\n",
       "      <td>0</td>\n",
       "      <td>0</td>\n",
       "      <td>52</td>\n",
       "      <td>52</td>\n",
       "      <td>0</td>\n",
       "      <td>0</td>\n",
       "      <td>16</td>\n",
       "      <td>15184.0</td>\n",
       "      <td>1</td>\n",
       "    </tr>\n",
       "    <tr>\n",
       "      <th>42925</th>\n",
       "      <td>7</td>\n",
       "      <td>1363</td>\n",
       "      <td>1</td>\n",
       "      <td>0</td>\n",
       "      <td>23</td>\n",
       "      <td>23</td>\n",
       "      <td>0</td>\n",
       "      <td>0</td>\n",
       "      <td>19</td>\n",
       "      <td>10240.0</td>\n",
       "      <td>1</td>\n",
       "    </tr>\n",
       "    <tr>\n",
       "      <th>30326</th>\n",
       "      <td>30</td>\n",
       "      <td>4381</td>\n",
       "      <td>0</td>\n",
       "      <td>1</td>\n",
       "      <td>49</td>\n",
       "      <td>48</td>\n",
       "      <td>1</td>\n",
       "      <td>1</td>\n",
       "      <td>6</td>\n",
       "      <td>13216.0</td>\n",
       "      <td>1</td>\n",
       "    </tr>\n",
       "    <tr>\n",
       "      <th>1281</th>\n",
       "      <td>22</td>\n",
       "      <td>1592</td>\n",
       "      <td>1</td>\n",
       "      <td>0</td>\n",
       "      <td>40</td>\n",
       "      <td>40</td>\n",
       "      <td>0</td>\n",
       "      <td>0</td>\n",
       "      <td>13</td>\n",
       "      <td>10008.0</td>\n",
       "      <td>1</td>\n",
       "    </tr>\n",
       "    <tr>\n",
       "      <th>...</th>\n",
       "      <td>...</td>\n",
       "      <td>...</td>\n",
       "      <td>...</td>\n",
       "      <td>...</td>\n",
       "      <td>...</td>\n",
       "      <td>...</td>\n",
       "      <td>...</td>\n",
       "      <td>...</td>\n",
       "      <td>...</td>\n",
       "      <td>...</td>\n",
       "      <td>...</td>\n",
       "    </tr>\n",
       "    <tr>\n",
       "      <th>10259</th>\n",
       "      <td>30</td>\n",
       "      <td>596</td>\n",
       "      <td>0</td>\n",
       "      <td>1</td>\n",
       "      <td>52</td>\n",
       "      <td>48</td>\n",
       "      <td>1</td>\n",
       "      <td>0</td>\n",
       "      <td>18</td>\n",
       "      <td>21824.0</td>\n",
       "      <td>1</td>\n",
       "    </tr>\n",
       "    <tr>\n",
       "      <th>734</th>\n",
       "      <td>11</td>\n",
       "      <td>3761</td>\n",
       "      <td>1</td>\n",
       "      <td>0</td>\n",
       "      <td>38</td>\n",
       "      <td>38</td>\n",
       "      <td>0</td>\n",
       "      <td>3</td>\n",
       "      <td>22</td>\n",
       "      <td>8412.0</td>\n",
       "      <td>1</td>\n",
       "    </tr>\n",
       "    <tr>\n",
       "      <th>46675</th>\n",
       "      <td>0</td>\n",
       "      <td>2178</td>\n",
       "      <td>1</td>\n",
       "      <td>1</td>\n",
       "      <td>60</td>\n",
       "      <td>25</td>\n",
       "      <td>0</td>\n",
       "      <td>3</td>\n",
       "      <td>5</td>\n",
       "      <td>25440.8</td>\n",
       "      <td>1</td>\n",
       "    </tr>\n",
       "    <tr>\n",
       "      <th>2201</th>\n",
       "      <td>22</td>\n",
       "      <td>5161</td>\n",
       "      <td>0</td>\n",
       "      <td>0</td>\n",
       "      <td>25</td>\n",
       "      <td>25</td>\n",
       "      <td>0</td>\n",
       "      <td>1</td>\n",
       "      <td>22</td>\n",
       "      <td>8568.0</td>\n",
       "      <td>1</td>\n",
       "    </tr>\n",
       "    <tr>\n",
       "      <th>9196</th>\n",
       "      <td>10</td>\n",
       "      <td>423</td>\n",
       "      <td>0</td>\n",
       "      <td>0</td>\n",
       "      <td>61</td>\n",
       "      <td>61</td>\n",
       "      <td>0</td>\n",
       "      <td>3</td>\n",
       "      <td>19</td>\n",
       "      <td>13596.0</td>\n",
       "      <td>1</td>\n",
       "    </tr>\n",
       "  </tbody>\n",
       "</table>\n",
       "<p>2431 rows × 11 columns</p>\n",
       "</div>"
      ],
      "text/plain": [
       "       City_Code  Region_Code  Accomodation_Type  Reco_Insurance_Type  \\\n",
       "8457          18         1720                  1                    0   \n",
       "28789          0          722                  0                    0   \n",
       "42925          7         1363                  1                    0   \n",
       "30326         30         4381                  0                    1   \n",
       "1281          22         1592                  1                    0   \n",
       "...          ...          ...                ...                  ...   \n",
       "10259         30          596                  0                    1   \n",
       "734           11         3761                  1                    0   \n",
       "46675          0         2178                  1                    1   \n",
       "2201          22         5161                  0                    0   \n",
       "9196          10          423                  0                    0   \n",
       "\n",
       "       Upper_Age  Lower_Age  Is_Spouse  Health Indicator  Reco_Policy_Cat  \\\n",
       "8457          75         75          0                 5               15   \n",
       "28789         52         52          0                 0               16   \n",
       "42925         23         23          0                 0               19   \n",
       "30326         49         48          1                 1                6   \n",
       "1281          40         40          0                 0               13   \n",
       "...          ...        ...        ...               ...              ...   \n",
       "10259         52         48          1                 0               18   \n",
       "734           38         38          0                 3               22   \n",
       "46675         60         25          0                 3                5   \n",
       "2201          25         25          0                 1               22   \n",
       "9196          61         61          0                 3               19   \n",
       "\n",
       "       Reco_Policy_Premium  Response  \n",
       "8457               19808.0         1  \n",
       "28789              15184.0         1  \n",
       "42925              10240.0         1  \n",
       "30326              13216.0         1  \n",
       "1281               10008.0         1  \n",
       "...                    ...       ...  \n",
       "10259              21824.0         1  \n",
       "734                 8412.0         1  \n",
       "46675              25440.8         1  \n",
       "2201                8568.0         1  \n",
       "9196               13596.0         1  \n",
       "\n",
       "[2431 rows x 11 columns]"
      ]
     },
     "execution_count": 58,
     "metadata": {},
     "output_type": "execute_result"
    }
   ],
   "source": [
    "insub_test[insub.Response == 1]"
   ]
  },
  {
   "cell_type": "code",
   "execution_count": null,
   "id": "d06fc36a",
   "metadata": {},
   "outputs": [],
   "source": []
  }
 ],
 "metadata": {
  "kernelspec": {
   "display_name": "Python 3 (ipykernel)",
   "language": "python",
   "name": "python3"
  },
  "language_info": {
   "codemirror_mode": {
    "name": "ipython",
    "version": 3
   },
   "file_extension": ".py",
   "mimetype": "text/x-python",
   "name": "python",
   "nbconvert_exporter": "python",
   "pygments_lexer": "ipython3",
   "version": "3.9.12"
  }
 },
 "nbformat": 4,
 "nbformat_minor": 5
}
